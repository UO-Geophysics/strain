{
 "cells": [
  {
   "cell_type": "code",
   "execution_count": 1,
   "id": "2c0c0af6",
   "metadata": {},
   "outputs": [],
   "source": [
    "# Currently only set up to download North American events - copy script to get Turkey ones"
   ]
  },
  {
   "cell_type": "code",
   "execution_count": 2,
   "id": "36d3e64b",
   "metadata": {},
   "outputs": [],
   "source": [
    "from obspy.core import Stream, UTCDateTime\n",
    "from obspy.clients.fdsn import Client\n",
    "import numpy as np\n",
    "import pandas as pd\n",
    "import os.path\n",
    "import os"
   ]
  },
  {
   "cell_type": "code",
   "execution_count": 3,
   "id": "e635919f",
   "metadata": {},
   "outputs": [],
   "source": [
    "# Naming the client where the data will be coming from. Googling obspy fdsn will\n",
    "# list other options.\n",
    "\n",
    "client = Client('IRIS')\n",
    "\n",
    "# Reading in my info files - earthquakes is a list of the events I want to get data for,\n",
    "# which includes locations and origin times, and then stas is the list of stations I want\n",
    "# to pull data from. Chans is then the four strainmeter channels for these instruments.\n",
    "\n",
    "earthquakes = pd.read_csv('/Users/sydneydybing/StrainProject/2024/M6_catalog_2004-2024.csv', dtype = str)\n",
    "bsm_mda = pd.read_csv('/Users/sydneydybing/StrainProject/2024/bsm_metadata.csv')\n",
    "NA_only = bsm_mda.loc[bsm_mda['LONG'] < -110]\n",
    "stas = NA_only['BNUM'].values\n",
    "chans = ['BS1', 'BS2', 'BS3', 'BS4']\n",
    "\n",
    "fix_dups = False\n",
    "if fix_dups:\n",
    "    earthquakes = earthquakes.iloc[[8,9,14,16]] # Earthquakes with same day and magnitude\n",
    "    \n",
    "old_events = False # no data for these ones available\n",
    "if old_events:\n",
    "    earthquakes = earthquakes[-4:]"
   ]
  },
  {
   "cell_type": "code",
   "execution_count": 5,
   "id": "0c7b2066",
   "metadata": {},
   "outputs": [],
   "source": [
    "# This method of reading in data from IRIS uses origin times in the UTCDateTime format.\n",
    "# To get the origin times from my earthquakes file in this format, since in the CSV each\n",
    "# time unit is a separate column, I pulled each time unit out into its own variable.\n",
    "\n",
    "origin_times = earthquakes.time.values\n",
    "mags = earthquakes.mag.values"
   ]
  },
  {
   "cell_type": "code",
   "execution_count": 6,
   "id": "e208dc9a",
   "metadata": {
    "scrolled": true
   },
   "outputs": [
    {
     "name": "stdout",
     "output_type": "stream",
     "text": [
      "Earthquake 1/4\n",
      "2005-06-17T06:21:42.590Z\n"
     ]
    },
    {
     "ename": "FDSNNoDataException",
     "evalue": "No data available for request.\nDetailed response of server:\n\n",
     "output_type": "error",
     "traceback": [
      "\u001b[0;31m---------------------------------------------------------------------------\u001b[0m",
      "\u001b[0;31mFDSNNoDataException\u001b[0m                       Traceback (most recent call last)",
      "\u001b[0;32m/var/folders/yg/s8qp7lfs59g_tbwsx_wxkdx80000gn/T/ipykernel_32614/1132392935.py\u001b[0m in \u001b[0;36m<cell line: 6>\u001b[0;34m()\u001b[0m\n\u001b[1;32m     41\u001b[0m             \u001b[0;31m# Then I wrote the stream into a miniSEED data file and saved it onto my laptop.\u001b[0m\u001b[0;34m\u001b[0m\u001b[0;34m\u001b[0m\u001b[0;34m\u001b[0m\u001b[0m\n\u001b[1;32m     42\u001b[0m \u001b[0;34m\u001b[0m\u001b[0m\n\u001b[0;32m---> 43\u001b[0;31m             \u001b[0mst\u001b[0m \u001b[0;34m=\u001b[0m \u001b[0mclient\u001b[0m\u001b[0;34m.\u001b[0m\u001b[0mget_waveforms\u001b[0m\u001b[0;34m(\u001b[0m\u001b[0mnet\u001b[0m\u001b[0;34m,\u001b[0m \u001b[0msta\u001b[0m\u001b[0;34m,\u001b[0m \u001b[0mloc\u001b[0m\u001b[0;34m,\u001b[0m \u001b[0mchan\u001b[0m\u001b[0;34m,\u001b[0m \u001b[0mstime\u001b[0m\u001b[0;34m,\u001b[0m \u001b[0metime\u001b[0m\u001b[0;34m)\u001b[0m\u001b[0;34m\u001b[0m\u001b[0;34m\u001b[0m\u001b[0m\n\u001b[0m\u001b[1;32m     44\u001b[0m \u001b[0;31m#                 st.plot()\u001b[0m\u001b[0;34m\u001b[0m\u001b[0;34m\u001b[0m\u001b[0;34m\u001b[0m\u001b[0m\n\u001b[1;32m     45\u001b[0m \u001b[0;34m\u001b[0m\u001b[0m\n",
      "\u001b[0;32m~/opt/anaconda3/lib/python3.8/site-packages/obspy/clients/fdsn/client.py\u001b[0m in \u001b[0;36mget_waveforms\u001b[0;34m(self, network, station, location, channel, starttime, endtime, quality, minimumlength, longestonly, filename, attach_response, **kwargs)\u001b[0m\n\u001b[1;32m    842\u001b[0m         \u001b[0;31m# Gzip not worth it for MiniSEED and most likely disabled for this\u001b[0m\u001b[0;34m\u001b[0m\u001b[0;34m\u001b[0m\u001b[0;34m\u001b[0m\u001b[0m\n\u001b[1;32m    843\u001b[0m         \u001b[0;31m# route in any case.\u001b[0m\u001b[0;34m\u001b[0m\u001b[0;34m\u001b[0m\u001b[0;34m\u001b[0m\u001b[0m\n\u001b[0;32m--> 844\u001b[0;31m         \u001b[0mdata_stream\u001b[0m \u001b[0;34m=\u001b[0m \u001b[0mself\u001b[0m\u001b[0;34m.\u001b[0m\u001b[0m_download\u001b[0m\u001b[0;34m(\u001b[0m\u001b[0murl\u001b[0m\u001b[0;34m,\u001b[0m \u001b[0muse_gzip\u001b[0m\u001b[0;34m=\u001b[0m\u001b[0;32mFalse\u001b[0m\u001b[0;34m)\u001b[0m\u001b[0;34m\u001b[0m\u001b[0;34m\u001b[0m\u001b[0m\n\u001b[0m\u001b[1;32m    845\u001b[0m         \u001b[0mdata_stream\u001b[0m\u001b[0;34m.\u001b[0m\u001b[0mseek\u001b[0m\u001b[0;34m(\u001b[0m\u001b[0;36m0\u001b[0m\u001b[0;34m,\u001b[0m \u001b[0;36m0\u001b[0m\u001b[0;34m)\u001b[0m\u001b[0;34m\u001b[0m\u001b[0;34m\u001b[0m\u001b[0m\n\u001b[1;32m    846\u001b[0m         \u001b[0;32mif\u001b[0m \u001b[0mfilename\u001b[0m\u001b[0;34m:\u001b[0m\u001b[0;34m\u001b[0m\u001b[0;34m\u001b[0m\u001b[0m\n",
      "\u001b[0;32m~/opt/anaconda3/lib/python3.8/site-packages/obspy/clients/fdsn/client.py\u001b[0m in \u001b[0;36m_download\u001b[0;34m(self, url, return_string, data, use_gzip)\u001b[0m\n\u001b[1;32m   1395\u001b[0m             \u001b[0mdebug\u001b[0m\u001b[0;34m=\u001b[0m\u001b[0mself\u001b[0m\u001b[0;34m.\u001b[0m\u001b[0mdebug\u001b[0m\u001b[0;34m,\u001b[0m \u001b[0mreturn_string\u001b[0m\u001b[0;34m=\u001b[0m\u001b[0mreturn_string\u001b[0m\u001b[0;34m,\u001b[0m \u001b[0mdata\u001b[0m\u001b[0;34m=\u001b[0m\u001b[0mdata\u001b[0m\u001b[0;34m,\u001b[0m\u001b[0;34m\u001b[0m\u001b[0;34m\u001b[0m\u001b[0m\n\u001b[1;32m   1396\u001b[0m             timeout=self.timeout, use_gzip=use_gzip)\n\u001b[0;32m-> 1397\u001b[0;31m         \u001b[0mraise_on_error\u001b[0m\u001b[0;34m(\u001b[0m\u001b[0mcode\u001b[0m\u001b[0;34m,\u001b[0m \u001b[0mdata\u001b[0m\u001b[0;34m)\u001b[0m\u001b[0;34m\u001b[0m\u001b[0;34m\u001b[0m\u001b[0m\n\u001b[0m\u001b[1;32m   1398\u001b[0m         \u001b[0;32mreturn\u001b[0m \u001b[0mdata\u001b[0m\u001b[0;34m\u001b[0m\u001b[0;34m\u001b[0m\u001b[0m\n\u001b[1;32m   1399\u001b[0m \u001b[0;34m\u001b[0m\u001b[0m\n",
      "\u001b[0;32m~/opt/anaconda3/lib/python3.8/site-packages/obspy/clients/fdsn/client.py\u001b[0m in \u001b[0;36mraise_on_error\u001b[0;34m(code, data)\u001b[0m\n\u001b[1;32m   1720\u001b[0m     \u001b[0;31m# No data.\u001b[0m\u001b[0;34m\u001b[0m\u001b[0;34m\u001b[0m\u001b[0;34m\u001b[0m\u001b[0m\n\u001b[1;32m   1721\u001b[0m     \u001b[0;32mif\u001b[0m \u001b[0mcode\u001b[0m \u001b[0;34m==\u001b[0m \u001b[0;36m204\u001b[0m\u001b[0;34m:\u001b[0m\u001b[0;34m\u001b[0m\u001b[0;34m\u001b[0m\u001b[0m\n\u001b[0;32m-> 1722\u001b[0;31m         raise FDSNNoDataException(\"No data available for request.\",\n\u001b[0m\u001b[1;32m   1723\u001b[0m                                   server_info)\n\u001b[1;32m   1724\u001b[0m     \u001b[0;32melif\u001b[0m \u001b[0mcode\u001b[0m \u001b[0;34m==\u001b[0m \u001b[0;36m400\u001b[0m\u001b[0;34m:\u001b[0m\u001b[0;34m\u001b[0m\u001b[0;34m\u001b[0m\u001b[0m\n",
      "\u001b[0;31mFDSNNoDataException\u001b[0m: No data available for request.\nDetailed response of server:\n\n"
     ]
    }
   ],
   "source": [
    "# I then started looping through my list of earthquakes, and putting together the origin\n",
    "# times for each one as the variable 'ot' in UTCDateTime format. stime and etime are the \n",
    "# start and end times of the data I want to pull from IRIS, so I made my stimes the origin\n",
    "# times of the earthquakes, and the etimes five minutes after the origin.\n",
    "\n",
    "for idx in range(len(earthquakes)):\n",
    "#     print('-----------------------------------------')\n",
    "    print('Earthquake ' + str(idx+1) + '/' + str(len(mags)))\n",
    "#     ot = str(ot_yr[idx]) + '-' + str(ot_mo[idx]) + '-' + str(ot_day[idx]) + 'T' + str(ot_hr[idx]) + ':' + str(ot_min[idx]) + ':' + str(ot_sec[idx])\n",
    "    ot = origin_times[idx]\n",
    "    print(ot)\n",
    "    stime = UTCDateTime(ot)\n",
    "#     print(ot)\n",
    "    etime = stime + 5.*60.\n",
    "#     print(stime)\n",
    "#     print(etime)\n",
    "    \n",
    "    # I then looped through my stations. All of the stations I want are in the 'PB' network,\n",
    "    # and the data has the location 'T0'. This information you'll probably have to look up on\n",
    "    # the IRIS Metadata Aggregator website. \n",
    "    \n",
    "    for sta in stas:\n",
    "        net = 'PB'\n",
    "        sta = sta\n",
    "        loc = 'T0'\n",
    "        \n",
    "        # My final loop was through my four channels so I could write individual miniSEED data\n",
    "        # files for each channel.\n",
    "        \n",
    "        for chan in chans:\n",
    "            chan = chan\n",
    "            \n",
    "            # I used this try-except condition so I didn't get errors if a station didn't have \n",
    "            # data for the time window I was looking at.\n",
    "            \n",
    "            try:\n",
    "                \n",
    "                # I use the function get_waveforms to get the data from the client (IRIS), and\n",
    "                # read it into an obpsy stream object using the network, stations, etc. info\n",
    "                # that I collected earlier. I printed some stats to make sure things were working.\n",
    "                # Then I wrote the stream into a miniSEED data file and saved it onto my laptop.\n",
    "                \n",
    "                st = client.get_waveforms(net, sta, loc, chan, stime, etime)\n",
    "#                 st.plot()\n",
    "                \n",
    "                # Create folder for the event\n",
    "                if fix_dups:\n",
    "                    cut_ot = ot[:13]\n",
    "                else:\n",
    "                    cut_ot = ot[:10]\n",
    "                \n",
    "                eq_sta_save_dir = '/Users/sydneydybing/StrainProject/2024/strain_data/raw/' + str(cut_ot) + '_M' + str(mags[idx]) + '/' + str(sta) + '/'\n",
    "#                 print(eq_sta_save_dir)\n",
    "                if os.path.isdir(eq_sta_save_dir):\n",
    "                    pass\n",
    "                else:\n",
    "                    os.makedirs(eq_sta_save_dir)\n",
    "                \n",
    "                st.write(eq_sta_save_dir + chan + '.mseed', format = 'MSEED')\n",
    "            \n",
    "            # If that didn't work, my code prints out the station name and the earthquake number\n",
    "            # (a piece of information in the original earthquakes CSV that just identifies the\n",
    "            # event), and the phrase \"not found\" so I could tell what didn't work.\n",
    "            \n",
    "            except:\n",
    "                pass\n",
    "#                 print(idx, sta, chan, \"not found\")"
   ]
  },
  {
   "cell_type": "code",
   "execution_count": null,
   "id": "6c6c1b27",
   "metadata": {},
   "outputs": [],
   "source": []
  }
 ],
 "metadata": {
  "kernelspec": {
   "display_name": "Python 3 (ipykernel)",
   "language": "python",
   "name": "python3"
  },
  "language_info": {
   "codemirror_mode": {
    "name": "ipython",
    "version": 3
   },
   "file_extension": ".py",
   "mimetype": "text/x-python",
   "name": "python",
   "nbconvert_exporter": "python",
   "pygments_lexer": "ipython3",
   "version": "3.8.3"
  }
 },
 "nbformat": 4,
 "nbformat_minor": 5
}
