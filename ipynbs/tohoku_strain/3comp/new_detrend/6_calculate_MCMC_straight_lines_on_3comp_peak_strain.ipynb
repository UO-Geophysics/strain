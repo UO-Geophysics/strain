{
 "cells": [
  {
   "cell_type": "code",
   "execution_count": 1,
   "id": "efd88cde",
   "metadata": {},
   "outputs": [],
   "source": [
    "from obspy.core import Stream, read\n",
    "import numpy as np\n",
    "from pytensor.compile.ops import as_op\n",
    "import pytensor\n",
    "import pytensor.tensor as pt\n",
    "import matplotlib.pyplot as plt\n",
    "import pandas as pd\n",
    "import os \n",
    "import os.path\n",
    "import pymc as pm\n",
    "import arviz as az"
   ]
  },
  {
   "cell_type": "code",
   "execution_count": 2,
   "id": "421e122f",
   "metadata": {},
   "outputs": [],
   "source": [
    "# What exactly are the colunns here? Amplitude of waves at a specific time?\n",
    "# My equivalent = peak strain at a specific time\n",
    "\n",
    "# Build the target function, misfit to this is what is being minimized\n",
    "@as_op(itypes=[pt.dvector,pt.dscalar,pt.dscalar,pt.dscalar,pt.dscalar,pt.dscalar], otypes=[pt.dvector])\n",
    "def two_straight_lines(x,m1,m2,xinter,x0,y0):\n",
    "    '''\n",
    "    input x coordiantes are in x\n",
    "    slopes are m1 and m2\n",
    "    intercept of left hand line is b1 \n",
    "    intersection of two lines is at xinter\n",
    "    \n",
    "    Note that y intercept of second straight line is dependent on b1 and xinter\n",
    "      and defined entirely by them (so that the lines touch).\n",
    "    '''\n",
    "    \n",
    "    # Output vector\n",
    "    y_out = np.ones(len(x))\n",
    "    \n",
    "    # Before building the first straight line, calculate the intercept\n",
    "    b1 = y0 - m1*x0\n",
    "    \n",
    "    # Build first straight line segment\n",
    "    y_out = m1*x + b1\n",
    "    \n",
    "    # Find points that are after the intersection and make the second segment\n",
    "    i = np.where(x>xinter)[0]\n",
    "    \n",
    "    # Define second y intercept\n",
    "    b2 = m1*xinter + b1 - m2*xinter\n",
    "    \n",
    "    # Make second straight line\n",
    "    y_out[i] = m2*x[i] + b2\n",
    "\n",
    "    return y_out\n",
    "\n",
    "# Build the target function, misfit to this is what is being minimized\n",
    "def non_pytensor_two_straight_lines(x,m1,m2,xinter,x0,y0):\n",
    "    '''\n",
    "    input x coordiantes are in x\n",
    "    slopes are m1 and m2\n",
    "    intercept of left hand line is b1 \n",
    "    intersection of two lines is at xinter\n",
    "    \n",
    "    Note that y intercept of second straight line is dependent on b1 and xinter\n",
    "      and defined entirely by them (so that the lines touch).\n",
    "    '''\n",
    "    \n",
    "    # Output vector\n",
    "    yout = np.ones(len(x))\n",
    "    \n",
    "    # Before building the first straight line, calculate the intercept\n",
    "    b1 = y0 - m1*x0\n",
    "    \n",
    "    # Build first straight line segment\n",
    "    yout = m1*x + b1\n",
    "    \n",
    "    # Find points that are after the intersection and make the second segment\n",
    "    i = np.where(x>xinter)[0]\n",
    "    \n",
    "    # Define second y intercept\n",
    "    b2 = m1*xinter + b1 - m2*xinter\n",
    "    \n",
    "    # Make second straight line\n",
    "    yout[i] = m2*x[i] + b2\n",
    "\n",
    "    return yout"
   ]
  },
  {
   "cell_type": "code",
   "execution_count": 3,
   "id": "9a249986",
   "metadata": {},
   "outputs": [
    {
     "data": {
      "text/html": [
       "<div>\n",
       "<style scoped>\n",
       "    .dataframe tbody tr th:only-of-type {\n",
       "        vertical-align: middle;\n",
       "    }\n",
       "\n",
       "    .dataframe tbody tr th {\n",
       "        vertical-align: top;\n",
       "    }\n",
       "\n",
       "    .dataframe thead th {\n",
       "        text-align: right;\n",
       "    }\n",
       "</style>\n",
       "<table border=\"1\" class=\"dataframe\">\n",
       "  <thead>\n",
       "    <tr style=\"text-align: right;\">\n",
       "      <th></th>\n",
       "      <th>Station_name</th>\n",
       "      <th>latitude</th>\n",
       "      <th>longitude</th>\n",
       "      <th>azimuth(S1)</th>\n",
       "      <th>azimuth(S2)</th>\n",
       "      <th>azimuth(S3)</th>\n",
       "      <th>azimuth(S4)</th>\n",
       "      <th>hyp_dist_km</th>\n",
       "      <th>rms_snr</th>\n",
       "    </tr>\n",
       "  </thead>\n",
       "  <tbody>\n",
       "    <tr>\n",
       "      <th>0</th>\n",
       "      <td>KST1</td>\n",
       "      <td>33.5201</td>\n",
       "      <td>135.8363</td>\n",
       "      <td>310</td>\n",
       "      <td>40</td>\n",
       "      <td>85</td>\n",
       "      <td>175</td>\n",
       "      <td>792.746765</td>\n",
       "      <td>7.466982</td>\n",
       "    </tr>\n",
       "    <tr>\n",
       "      <th>1</th>\n",
       "      <td>HGM1</td>\n",
       "      <td>33.8675</td>\n",
       "      <td>135.7318</td>\n",
       "      <td>337</td>\n",
       "      <td>67</td>\n",
       "      <td>112</td>\n",
       "      <td>202</td>\n",
       "      <td>773.809644</td>\n",
       "      <td>7.974318</td>\n",
       "    </tr>\n",
       "    <tr>\n",
       "      <th>2</th>\n",
       "      <td>ICU1</td>\n",
       "      <td>33.9001</td>\n",
       "      <td>136.1379</td>\n",
       "      <td>141</td>\n",
       "      <td>231</td>\n",
       "      <td>276</td>\n",
       "      <td>6</td>\n",
       "      <td>743.491829</td>\n",
       "      <td>9.266279</td>\n",
       "    </tr>\n",
       "    <tr>\n",
       "      <th>3</th>\n",
       "      <td>ANO1</td>\n",
       "      <td>34.7870</td>\n",
       "      <td>136.4019</td>\n",
       "      <td>38</td>\n",
       "      <td>128</td>\n",
       "      <td>173</td>\n",
       "      <td>263</td>\n",
       "      <td>661.251185</td>\n",
       "      <td>2.967841</td>\n",
       "    </tr>\n",
       "    <tr>\n",
       "      <th>4</th>\n",
       "      <td>SSK1</td>\n",
       "      <td>33.3896</td>\n",
       "      <td>133.3229</td>\n",
       "      <td>355</td>\n",
       "      <td>85</td>\n",
       "      <td>130</td>\n",
       "      <td>220</td>\n",
       "      <td>981.546244</td>\n",
       "      <td>9.261528</td>\n",
       "    </tr>\n",
       "    <tr>\n",
       "      <th>5</th>\n",
       "      <td>UWA1</td>\n",
       "      <td>33.3859</td>\n",
       "      <td>132.4823</td>\n",
       "      <td>222</td>\n",
       "      <td>312</td>\n",
       "      <td>357</td>\n",
       "      <td>87</td>\n",
       "      <td>1045.683453</td>\n",
       "      <td>5.523282</td>\n",
       "    </tr>\n",
       "    <tr>\n",
       "      <th>6</th>\n",
       "      <td>MUR1</td>\n",
       "      <td>33.2856</td>\n",
       "      <td>134.1563</td>\n",
       "      <td>147</td>\n",
       "      <td>237</td>\n",
       "      <td>282</td>\n",
       "      <td>12</td>\n",
       "      <td>927.200827</td>\n",
       "      <td>5.369215</td>\n",
       "    </tr>\n",
       "    <tr>\n",
       "      <th>7</th>\n",
       "      <td>MYM1</td>\n",
       "      <td>34.1123</td>\n",
       "      <td>136.1815</td>\n",
       "      <td>237</td>\n",
       "      <td>327</td>\n",
       "      <td>12</td>\n",
       "      <td>102</td>\n",
       "      <td>724.694237</td>\n",
       "      <td>3.109215</td>\n",
       "    </tr>\n",
       "  </tbody>\n",
       "</table>\n",
       "</div>"
      ],
      "text/plain": [
       "  Station_name  latitude  longitude  azimuth(S1)  azimuth(S2)  azimuth(S3)  \\\n",
       "0         KST1   33.5201   135.8363          310           40           85   \n",
       "1         HGM1   33.8675   135.7318          337           67          112   \n",
       "2         ICU1   33.9001   136.1379          141          231          276   \n",
       "3         ANO1   34.7870   136.4019           38          128          173   \n",
       "4         SSK1   33.3896   133.3229          355           85          130   \n",
       "5         UWA1   33.3859   132.4823          222          312          357   \n",
       "6         MUR1   33.2856   134.1563          147          237          282   \n",
       "7         MYM1   34.1123   136.1815          237          327           12   \n",
       "\n",
       "   azimuth(S4)  hyp_dist_km   rms_snr  \n",
       "0          175   792.746765  7.466982  \n",
       "1          202   773.809644  7.974318  \n",
       "2            6   743.491829  9.266279  \n",
       "3          263   661.251185  2.967841  \n",
       "4          220   981.546244  9.261528  \n",
       "5           87  1045.683453  5.523282  \n",
       "6           12   927.200827  5.369215  \n",
       "7          102   724.694237  3.109215  "
      ]
     },
     "execution_count": 3,
     "metadata": {},
     "output_type": "execute_result"
    }
   ],
   "source": [
    "path = '/Users/sydneydybing/StrainProject/2024/tohoku_strain_data/'\n",
    "snr_array = pd.read_csv(path + '3comp_stations_hypdists_snrs_newdetrend.csv')\n",
    "snr_array"
   ]
  },
  {
   "cell_type": "code",
   "execution_count": 4,
   "id": "b46576ee",
   "metadata": {
    "scrolled": true,
    "tags": []
   },
   "outputs": [
    {
     "name": "stdout",
     "output_type": "stream",
     "text": [
      "Processing KST1\n",
      "20.0\n"
     ]
    },
    {
     "data": {
      "image/png": "[encoded data removed]",
      "text/plain": [
       "<Figure size 640x480 with 1 Axes>"
      ]
     },
     "metadata": {},
     "output_type": "display_data"
    },
    {
     "name": "stderr",
     "output_type": "stream",
     "text": [
      "Sequential sampling (4 chains in 1 job)\n",
      "CompoundStep\n",
      ">Metropolis: [m1]\n",
      ">Metropolis: [m2]\n",
      ">Metropolis: [xinter]\n",
      ">Metropolis: [sigma]\n"
     ]
    },
    {
     "data": {
      "text/html": [
       "\n",
       "<style>\n",
       "    /* Turns off some styling */\n",
       "    progress {\n",
       "        /* gets rid of default border in Firefox and Opera. */\n",
       "        border: none;\n",
       "        /* Needs to be in here for Safari polyfill so background images work as expected. */\n",
       "        background-size: auto;\n",
       "    }\n",
       "    progress:not([value]), progress:not([value])::-webkit-progress-bar {\n",
       "        background: repeating-linear-gradient(45deg, #7e7e7e, #7e7e7e 10px, #5c5c5c 10px, #5c5c5c 20px);\n",
       "    }\n",
       "    .progress-bar-interrupted, .progress-bar-interrupted::-webkit-progress-bar {\n",
       "        background: #F44336;\n",
       "    }\n",
       "</style>\n"
      ],
      "text/plain": [
       "<IPython.core.display.HTML object>"
      ]
     },
     "metadata": {},
     "output_type": "display_data"
    },
    {
     "data": {
      "text/html": [
       "\n",
       "    <div>\n",
       "      <progress value='20000' class='' max='20000' style='width:300px; height:20px; vertical-align: middle;'></progress>\n",
       "      100.00% [20000/20000 00:28&lt;00:00 Sampling chain 0, 0 divergences]\n",
       "    </div>\n",
       "    "
      ],
      "text/plain": [
       "<IPython.core.display.HTML object>"
      ]
     },
     "metadata": {},
     "output_type": "display_data"
    },
    {
     "data": {
      "text/html": [
       "\n",
       "<style>\n",
       "    /* Turns off some styling */\n",
       "    progress {\n",
       "        /* gets rid of default border in Firefox and Opera. */\n",
       "        border: none;\n",
       "        /* Needs to be in here for Safari polyfill so background images work as expected. */\n",
       "        background-size: auto;\n",
       "    }\n",
       "    progress:not([value]), progress:not([value])::-webkit-progress-bar {\n",
       "        background: repeating-linear-gradient(45deg, #7e7e7e, #7e7e7e 10px, #5c5c5c 10px, #5c5c5c 20px);\n",
       "    }\n",
       "    .progress-bar-interrupted, .progress-bar-interrupted::-webkit-progress-bar {\n",
       "        background: #F44336;\n",
       "    }\n",
       "</style>\n"
      ],
      "text/plain": [
       "<IPython.core.display.HTML object>"
      ]
     },
     "metadata": {},
     "output_type": "display_data"
    },
    {
     "data": {
      "text/html": [
       "\n",
       "    <div>\n",
       "      <progress value='20000' class='' max='20000' style='width:300px; height:20px; vertical-align: middle;'></progress>\n",
       "      100.00% [20000/20000 00:28&lt;00:00 Sampling chain 1, 0 divergences]\n",
       "    </div>\n",
       "    "
      ],
      "text/plain": [
       "<IPython.core.display.HTML object>"
      ]
     },
     "metadata": {},
     "output_type": "display_data"
    },
    {
     "data": {
      "text/html": [
       "\n",
       "<style>\n",
       "    /* Turns off some styling */\n",
       "    progress {\n",
       "        /* gets rid of default border in Firefox and Opera. */\n",
       "        border: none;\n",
       "        /* Needs to be in here for Safari polyfill so background images work as expected. */\n",
       "        background-size: auto;\n",
       "    }\n",
       "    progress:not([value]), progress:not([value])::-webkit-progress-bar {\n",
       "        background: repeating-linear-gradient(45deg, #7e7e7e, #7e7e7e 10px, #5c5c5c 10px, #5c5c5c 20px);\n",
       "    }\n",
       "    .progress-bar-interrupted, .progress-bar-interrupted::-webkit-progress-bar {\n",
       "        background: #F44336;\n",
       "    }\n",
       "</style>\n"
      ],
      "text/plain": [
       "<IPython.core.display.HTML object>"
      ]
     },
     "metadata": {},
     "output_type": "display_data"
    },
    {
     "data": {
      "text/html": [
       "\n",
       "    <div>\n",
       "      <progress value='20000' class='' max='20000' style='width:300px; height:20px; vertical-align: middle;'></progress>\n",
       "      100.00% [20000/20000 00:29&lt;00:00 Sampling chain 2, 0 divergences]\n",
       "    </div>\n",
       "    "
      ],
      "text/plain": [
       "<IPython.core.display.HTML object>"
      ]
     },
     "metadata": {},
     "output_type": "display_data"
    },
    {
     "data": {
      "text/html": [
       "\n",
       "<style>\n",
       "    /* Turns off some styling */\n",
       "    progress {\n",
       "        /* gets rid of default border in Firefox and Opera. */\n",
       "        border: none;\n",
       "        /* Needs to be in here for Safari polyfill so background images work as expected. */\n",
       "        background-size: auto;\n",
       "    }\n",
       "    progress:not([value]), progress:not([value])::-webkit-progress-bar {\n",
       "        background: repeating-linear-gradient(45deg, #7e7e7e, #7e7e7e 10px, #5c5c5c 10px, #5c5c5c 20px);\n",
       "    }\n",
       "    .progress-bar-interrupted, .progress-bar-interrupted::-webkit-progress-bar {\n",
       "        background: #F44336;\n",
       "    }\n",
       "</style>\n"
      ],
      "text/plain": [
       "<IPython.core.display.HTML object>"
      ]
     },
     "metadata": {},
     "output_type": "display_data"
    },
    {
     "data": {
      "text/html": [
       "\n",
       "    <div>\n",
       "      <progress value='20000' class='' max='20000' style='width:300px; height:20px; vertical-align: middle;'></progress>\n",
       "      100.00% [20000/20000 00:28&lt;00:00 Sampling chain 3, 0 divergences]\n",
       "    </div>\n",
       "    "
      ],
      "text/plain": [
       "<IPython.core.display.HTML object>"
      ]
     },
     "metadata": {},
     "output_type": "display_data"
    },
    {
     "name": "stderr",
     "output_type": "stream",
     "text": [
      "Sampling 4 chains for 5_000 tune and 15_000 draw iterations (20_000 + 60_000 draws total) took 114 seconds.\n",
      "The rhat statistic is larger than 1.01 for some parameters. This indicates problems during sampling. See https://arxiv.org/abs/1903.08008 for details\n",
      "The effective sample size per chain is smaller than 100 for some parameters.  A higher number is needed for reliable rhat and ess computation. See https://arxiv.org/abs/1903.08008 for details\n"
     ]
    },
    {
     "data": {
      "image/png": "[encoded data removed]",
      "text/plain": [
       "<Figure size 640x480 with 1 Axes>"
      ]
     },
     "metadata": {},
     "output_type": "display_data"
    },
    {
     "name": "stdout",
     "output_type": "stream",
     "text": [
      "          mean     sd  hdi_3%  hdi_97%  mcse_mean  mcse_sd  ess_bulk  \\\n",
      "m1       0.311  0.005   0.302    0.321      0.001    0.000      60.0   \n",
      "m2       0.035  0.001   0.034    0.037      0.000    0.000     100.0   \n",
      "xinter  15.179  0.117  14.960   15.391      0.015    0.011      58.0   \n",
      "sigma    0.134  0.004   0.127    0.141      0.000    0.000   12507.0   \n",
      "\n",
      "        ess_tail  r_hat  \n",
      "m1         159.0   1.07  \n",
      "m2         160.0   1.04  \n",
      "xinter     155.0   1.07  \n",
      "sigma    12779.0   1.00  \n",
      "Processing HGM1\n",
      "20.0\n"
     ]
    },
    {
     "data": {
      "image/png": "[encoded data removed]",
      "text/plain": [
       "<Figure size 640x480 with 1 Axes>"
      ]
     },
     "metadata": {},
     "output_type": "display_data"
    },
    {
     "name": "stderr",
     "output_type": "stream",
     "text": [
      "Sequential sampling (4 chains in 1 job)\n",
      "CompoundStep\n",
      ">Metropolis: [m1]\n",
      ">Metropolis: [m2]\n",
      ">Metropolis: [xinter]\n",
      ">Metropolis: [sigma]\n"
     ]
    },
    {
     "data": {
      "text/html": [
       "\n",
       "<style>\n",
       "    /* Turns off some styling */\n",
       "    progress {\n",
       "        /* gets rid of default border in Firefox and Opera. */\n",
       "        border: none;\n",
       "        /* Needs to be in here for Safari polyfill so background images work as expected. */\n",
       "        background-size: auto;\n",
       "    }\n",
       "    progress:not([value]), progress:not([value])::-webkit-progress-bar {\n",
       "        background: repeating-linear-gradient(45deg, #7e7e7e, #7e7e7e 10px, #5c5c5c 10px, #5c5c5c 20px);\n",
       "    }\n",
       "    .progress-bar-interrupted, .progress-bar-interrupted::-webkit-progress-bar {\n",
       "        background: #F44336;\n",
       "    }\n",
       "</style>\n"
      ],
      "text/plain": [
       "<IPython.core.display.HTML object>"
      ]
     },
     "metadata": {},
     "output_type": "display_data"
    },
    {
     "data": {
      "text/html": [
       "\n",
       "    <div>\n",
       "      <progress value='20000' class='' max='20000' style='width:300px; height:20px; vertical-align: middle;'></progress>\n",
       "      100.00% [20000/20000 00:26&lt;00:00 Sampling chain 0, 0 divergences]\n",
       "    </div>\n",
       "    "
      ],
      "text/plain": [
       "<IPython.core.display.HTML object>"
      ]
     },
     "metadata": {},
     "output_type": "display_data"
    },
    {
     "data": {
      "text/html": [
       "\n",
       "<style>\n",
       "    /* Turns off some styling */\n",
       "    progress {\n",
       "        /* gets rid of default border in Firefox and Opera. */\n",
       "        border: none;\n",
       "        /* Needs to be in here for Safari polyfill so background images work as expected. */\n",
       "        background-size: auto;\n",
       "    }\n",
       "    progress:not([value]), progress:not([value])::-webkit-progress-bar {\n",
       "        background: repeating-linear-gradient(45deg, #7e7e7e, #7e7e7e 10px, #5c5c5c 10px, #5c5c5c 20px);\n",
       "    }\n",
       "    .progress-bar-interrupted, .progress-bar-interrupted::-webkit-progress-bar {\n",
       "        background: #F44336;\n",
       "    }\n",
       "</style>\n"
      ],
      "text/plain": [
       "<IPython.core.display.HTML object>"
      ]
     },
     "metadata": {},
     "output_type": "display_data"
    },
    {
     "data": {
      "text/html": [
       "\n",
       "    <div>\n",
       "      <progress value='20000' class='' max='20000' style='width:300px; height:20px; vertical-align: middle;'></progress>\n",
       "      100.00% [20000/20000 00:25&lt;00:00 Sampling chain 1, 0 divergences]\n",
       "    </div>\n",
       "    "
      ],
      "text/plain": [
       "<IPython.core.display.HTML object>"
      ]
     },
     "metadata": {},
     "output_type": "display_data"
    },
    {
     "data": {
      "text/html": [
       "\n",
       "<style>\n",
       "    /* Turns off some styling */\n",
       "    progress {\n",
       "        /* gets rid of default border in Firefox and Opera. */\n",
       "        border: none;\n",
       "        /* Needs to be in here for Safari polyfill so background images work as expected. */\n",
       "        background-size: auto;\n",
       "    }\n",
       "    progress:not([value]), progress:not([value])::-webkit-progress-bar {\n",
       "        background: repeating-linear-gradient(45deg, #7e7e7e, #7e7e7e 10px, #5c5c5c 10px, #5c5c5c 20px);\n",
       "    }\n",
       "    .progress-bar-interrupted, .progress-bar-interrupted::-webkit-progress-bar {\n",
       "        background: #F44336;\n",
       "    }\n",
       "</style>\n"
      ],
      "text/plain": [
       "<IPython.core.display.HTML object>"
      ]
     },
     "metadata": {},
     "output_type": "display_data"
    },
    {
     "data": {
      "text/html": [
       "\n",
       "    <div>\n",
       "      <progress value='20000' class='' max='20000' style='width:300px; height:20px; vertical-align: middle;'></progress>\n",
       "      100.00% [20000/20000 00:26&lt;00:00 Sampling chain 2, 0 divergences]\n",
       "    </div>\n",
       "    "
      ],
      "text/plain": [
       "<IPython.core.display.HTML object>"
      ]
     },
     "metadata": {},
     "output_type": "display_data"
    },
    {
     "data": {
      "text/html": [
       "\n",
       "<style>\n",
       "    /* Turns off some styling */\n",
       "    progress {\n",
       "        /* gets rid of default border in Firefox and Opera. */\n",
       "        border: none;\n",
       "        /* Needs to be in here for Safari polyfill so background images work as expected. */\n",
       "        background-size: auto;\n",
       "    }\n",
       "    progress:not([value]), progress:not([value])::-webkit-progress-bar {\n",
       "        background: repeating-linear-gradient(45deg, #7e7e7e, #7e7e7e 10px, #5c5c5c 10px, #5c5c5c 20px);\n",
       "    }\n",
       "    .progress-bar-interrupted, .progress-bar-interrupted::-webkit-progress-bar {\n",
       "        background: #F44336;\n",
       "    }\n",
       "</style>\n"
      ],
      "text/plain": [
       "<IPython.core.display.HTML object>"
      ]
     },
     "metadata": {},
     "output_type": "display_data"
    },
    {
     "data": {
      "text/html": [
       "\n",
       "    <div>\n",
       "      <progress value='20000' class='' max='20000' style='width:300px; height:20px; vertical-align: middle;'></progress>\n",
       "      100.00% [20000/20000 00:25&lt;00:00 Sampling chain 3, 0 divergences]\n",
       "    </div>\n",
       "    "
      ],
      "text/plain": [
       "<IPython.core.display.HTML object>"
      ]
     },
     "metadata": {},
     "output_type": "display_data"
    },
    {
     "name": "stderr",
     "output_type": "stream",
     "text": [
      "Sampling 4 chains for 5_000 tune and 15_000 draw iterations (20_000 + 60_000 draws total) took 104 seconds.\n",
      "The rhat statistic is larger than 1.01 for some parameters. This indicates problems during sampling. See https://arxiv.org/abs/1903.08008 for details\n",
      "The effective sample size per chain is smaller than 100 for some parameters.  A higher number is needed for reliable rhat and ess computation. See https://arxiv.org/abs/1903.08008 for details\n"
     ]
    },
    {
     "data": {
      "image/png": "[encoded data removed]",
      "text/plain": [
       "<Figure size 640x480 with 1 Axes>"
      ]
     },
     "metadata": {},
     "output_type": "display_data"
    },
    {
     "name": "stdout",
     "output_type": "stream",
     "text": [
      "          mean     sd  hdi_3%  hdi_97%  mcse_mean  mcse_sd  ess_bulk  \\\n",
      "m1       0.127  0.001   0.125    0.129      0.000    0.000      47.0   \n",
      "m2       0.032  0.001   0.030    0.033      0.000    0.000     142.0   \n",
      "xinter  18.749  0.135  18.517   19.009      0.013    0.009     110.0   \n",
      "sigma    0.095  0.003   0.090    0.100      0.000    0.000   12607.0   \n",
      "\n",
      "        ess_tail  r_hat  \n",
      "m1         174.0   1.08  \n",
      "m2         128.0   1.05  \n",
      "xinter     510.0   1.02  \n",
      "sigma    12897.0   1.00  \n",
      "Processing ICU1\n",
      "20.0\n"
     ]
    },
    {
     "data": {
      "image/png": "[encoded data removed]",
      "text/plain": [
       "<Figure size 640x480 with 1 Axes>"
      ]
     },
     "metadata": {},
     "output_type": "display_data"
    },
    {
     "name": "stderr",
     "output_type": "stream",
     "text": [
      "Sequential sampling (4 chains in 1 job)\n",
      "CompoundStep\n",
      ">Metropolis: [m1]\n",
      ">Metropolis: [m2]\n",
      ">Metropolis: [xinter]\n",
      ">Metropolis: [sigma]\n"
     ]
    },
    {
     "data": {
      "text/html": [
       "\n",
       "<style>\n",
       "    /* Turns off some styling */\n",
       "    progress {\n",
       "        /* gets rid of default border in Firefox and Opera. */\n",
       "        border: none;\n",
       "        /* Needs to be in here for Safari polyfill so background images work as expected. */\n",
       "        background-size: auto;\n",
       "    }\n",
       "    progress:not([value]), progress:not([value])::-webkit-progress-bar {\n",
       "        background: repeating-linear-gradient(45deg, #7e7e7e, #7e7e7e 10px, #5c5c5c 10px, #5c5c5c 20px);\n",
       "    }\n",
       "    .progress-bar-interrupted, .progress-bar-interrupted::-webkit-progress-bar {\n",
       "        background: #F44336;\n",
       "    }\n",
       "</style>\n"
      ],
      "text/plain": [
       "<IPython.core.display.HTML object>"
      ]
     },
     "metadata": {},
     "output_type": "display_data"
    },
    {
     "data": {
      "text/html": [
       "\n",
       "    <div>\n",
       "      <progress value='20000' class='' max='20000' style='width:300px; height:20px; vertical-align: middle;'></progress>\n",
       "      100.00% [20000/20000 00:25&lt;00:00 Sampling chain 0, 0 divergences]\n",
       "    </div>\n",
       "    "
      ],
      "text/plain": [
       "<IPython.core.display.HTML object>"
      ]
     },
     "metadata": {},
     "output_type": "display_data"
    },
    {
     "data": {
      "text/html": [
       "\n",
       "<style>\n",
       "    /* Turns off some styling */\n",
       "    progress {\n",
       "        /* gets rid of default border in Firefox and Opera. */\n",
       "        border: none;\n",
       "        /* Needs to be in here for Safari polyfill so background images work as expected. */\n",
       "        background-size: auto;\n",
       "    }\n",
       "    progress:not([value]), progress:not([value])::-webkit-progress-bar {\n",
       "        background: repeating-linear-gradient(45deg, #7e7e7e, #7e7e7e 10px, #5c5c5c 10px, #5c5c5c 20px);\n",
       "    }\n",
       "    .progress-bar-interrupted, .progress-bar-interrupted::-webkit-progress-bar {\n",
       "        background: #F44336;\n",
       "    }\n",
       "</style>\n"
      ],
      "text/plain": [
       "<IPython.core.display.HTML object>"
      ]
     },
     "metadata": {},
     "output_type": "display_data"
    },
    {
     "data": {
      "text/html": [
       "\n",
       "    <div>\n",
       "      <progress value='20000' class='' max='20000' style='width:300px; height:20px; vertical-align: middle;'></progress>\n",
       "      100.00% [20000/20000 00:27&lt;00:00 Sampling chain 1, 0 divergences]\n",
       "    </div>\n",
       "    "
      ],
      "text/plain": [
       "<IPython.core.display.HTML object>"
      ]
     },
     "metadata": {},
     "output_type": "display_data"
    },
    {
     "data": {
      "text/html": [
       "\n",
       "<style>\n",
       "    /* Turns off some styling */\n",
       "    progress {\n",
       "        /* gets rid of default border in Firefox and Opera. */\n",
       "        border: none;\n",
       "        /* Needs to be in here for Safari polyfill so background images work as expected. */\n",
       "        background-size: auto;\n",
       "    }\n",
       "    progress:not([value]), progress:not([value])::-webkit-progress-bar {\n",
       "        background: repeating-linear-gradient(45deg, #7e7e7e, #7e7e7e 10px, #5c5c5c 10px, #5c5c5c 20px);\n",
       "    }\n",
       "    .progress-bar-interrupted, .progress-bar-interrupted::-webkit-progress-bar {\n",
       "        background: #F44336;\n",
       "    }\n",
       "</style>\n"
      ],
      "text/plain": [
       "<IPython.core.display.HTML object>"
      ]
     },
     "metadata": {},
     "output_type": "display_data"
    },
    {
     "data": {
      "text/html": [
       "\n",
       "    <div>\n",
       "      <progress value='20000' class='' max='20000' style='width:300px; height:20px; vertical-align: middle;'></progress>\n",
       "      100.00% [20000/20000 00:31&lt;00:00 Sampling chain 2, 0 divergences]\n",
       "    </div>\n",
       "    "
      ],
      "text/plain": [
       "<IPython.core.display.HTML object>"
      ]
     },
     "metadata": {},
     "output_type": "display_data"
    },
    {
     "data": {
      "text/html": [
       "\n",
       "<style>\n",
       "    /* Turns off some styling */\n",
       "    progress {\n",
       "        /* gets rid of default border in Firefox and Opera. */\n",
       "        border: none;\n",
       "        /* Needs to be in here for Safari polyfill so background images work as expected. */\n",
       "        background-size: auto;\n",
       "    }\n",
       "    progress:not([value]), progress:not([value])::-webkit-progress-bar {\n",
       "        background: repeating-linear-gradient(45deg, #7e7e7e, #7e7e7e 10px, #5c5c5c 10px, #5c5c5c 20px);\n",
       "    }\n",
       "    .progress-bar-interrupted, .progress-bar-interrupted::-webkit-progress-bar {\n",
       "        background: #F44336;\n",
       "    }\n",
       "</style>\n"
      ],
      "text/plain": [
       "<IPython.core.display.HTML object>"
      ]
     },
     "metadata": {},
     "output_type": "display_data"
    },
    {
     "data": {
      "text/html": [
       "\n",
       "    <div>\n",
       "      <progress value='20000' class='' max='20000' style='width:300px; height:20px; vertical-align: middle;'></progress>\n",
       "      100.00% [20000/20000 00:26&lt;00:00 Sampling chain 3, 0 divergences]\n",
       "    </div>\n",
       "    "
      ],
      "text/plain": [
       "<IPython.core.display.HTML object>"
      ]
     },
     "metadata": {},
     "output_type": "display_data"
    },
    {
     "name": "stderr",
     "output_type": "stream",
     "text": [
      "Sampling 4 chains for 5_000 tune and 15_000 draw iterations (20_000 + 60_000 draws total) took 111 seconds.\n",
      "The rhat statistic is larger than 1.01 for some parameters. This indicates problems during sampling. See https://arxiv.org/abs/1903.08008 for details\n",
      "The effective sample size per chain is smaller than 100 for some parameters.  A higher number is needed for reliable rhat and ess computation. See https://arxiv.org/abs/1903.08008 for details\n"
     ]
    },
    {
     "data": {
      "image/png": "[encoded data removed]",
      "text/plain": [
       "<Figure size 640x480 with 1 Axes>"
      ]
     },
     "metadata": {},
     "output_type": "display_data"
    },
    {
     "name": "stdout",
     "output_type": "stream",
     "text": [
      "          mean     sd  hdi_3%  hdi_97%  mcse_mean  mcse_sd  ess_bulk  \\\n",
      "m1       0.343  0.005   0.334    0.353      0.001    0.001      45.0   \n",
      "m2       0.035  0.000   0.034    0.036      0.000    0.000      74.0   \n",
      "xinter  13.723  0.066  13.578   13.830      0.010    0.007      41.0   \n",
      "sigma    0.081  0.002   0.077    0.086      0.000    0.000   12785.0   \n",
      "\n",
      "        ess_tail  r_hat  \n",
      "m1          63.0   1.06  \n",
      "m2          86.0   1.10  \n",
      "xinter      57.0   1.08  \n",
      "sigma    13412.0   1.00  \n",
      "Processing ANO1\n",
      "20.0\n"
     ]
    },
    {
     "data": {
      "image/png": "[encoded data removed]",
      "text/plain": [
       "<Figure size 640x480 with 1 Axes>"
      ]
     },
     "metadata": {},
     "output_type": "display_data"
    },
    {
     "name": "stderr",
     "output_type": "stream",
     "text": [
      "Sequential sampling (4 chains in 1 job)\n",
      "CompoundStep\n",
      ">Metropolis: [m1]\n",
      ">Metropolis: [m2]\n",
      ">Metropolis: [xinter]\n",
      ">Metropolis: [sigma]\n"
     ]
    },
    {
     "data": {
      "text/html": [
       "\n",
       "<style>\n",
       "    /* Turns off some styling */\n",
       "    progress {\n",
       "        /* gets rid of default border in Firefox and Opera. */\n",
       "        border: none;\n",
       "        /* Needs to be in here for Safari polyfill so background images work as expected. */\n",
       "        background-size: auto;\n",
       "    }\n",
       "    progress:not([value]), progress:not([value])::-webkit-progress-bar {\n",
       "        background: repeating-linear-gradient(45deg, #7e7e7e, #7e7e7e 10px, #5c5c5c 10px, #5c5c5c 20px);\n",
       "    }\n",
       "    .progress-bar-interrupted, .progress-bar-interrupted::-webkit-progress-bar {\n",
       "        background: #F44336;\n",
       "    }\n",
       "</style>\n"
      ],
      "text/plain": [
       "<IPython.core.display.HTML object>"
      ]
     },
     "metadata": {},
     "output_type": "display_data"
    },
    {
     "data": {
      "text/html": [
       "\n",
       "    <div>\n",
       "      <progress value='20000' class='' max='20000' style='width:300px; height:20px; vertical-align: middle;'></progress>\n",
       "      100.00% [20000/20000 00:26&lt;00:00 Sampling chain 0, 0 divergences]\n",
       "    </div>\n",
       "    "
      ],
      "text/plain": [
       "<IPython.core.display.HTML object>"
      ]
     },
     "metadata": {},
     "output_type": "display_data"
    },
    {
     "data": {
      "text/html": [
       "\n",
       "<style>\n",
       "    /* Turns off some styling */\n",
       "    progress {\n",
       "        /* gets rid of default border in Firefox and Opera. */\n",
       "        border: none;\n",
       "        /* Needs to be in here for Safari polyfill so background images work as expected. */\n",
       "        background-size: auto;\n",
       "    }\n",
       "    progress:not([value]), progress:not([value])::-webkit-progress-bar {\n",
       "        background: repeating-linear-gradient(45deg, #7e7e7e, #7e7e7e 10px, #5c5c5c 10px, #5c5c5c 20px);\n",
       "    }\n",
       "    .progress-bar-interrupted, .progress-bar-interrupted::-webkit-progress-bar {\n",
       "        background: #F44336;\n",
       "    }\n",
       "</style>\n"
      ],
      "text/plain": [
       "<IPython.core.display.HTML object>"
      ]
     },
     "metadata": {},
     "output_type": "display_data"
    },
    {
     "data": {
      "text/html": [
       "\n",
       "    <div>\n",
       "      <progress value='20000' class='' max='20000' style='width:300px; height:20px; vertical-align: middle;'></progress>\n",
       "      100.00% [20000/20000 00:25&lt;00:00 Sampling chain 1, 0 divergences]\n",
       "    </div>\n",
       "    "
      ],
      "text/plain": [
       "<IPython.core.display.HTML object>"
      ]
     },
     "metadata": {},
     "output_type": "display_data"
    },
    {
     "data": {
      "text/html": [
       "\n",
       "<style>\n",
       "    /* Turns off some styling */\n",
       "    progress {\n",
       "        /* gets rid of default border in Firefox and Opera. */\n",
       "        border: none;\n",
       "        /* Needs to be in here for Safari polyfill so background images work as expected. */\n",
       "        background-size: auto;\n",
       "    }\n",
       "    progress:not([value]), progress:not([value])::-webkit-progress-bar {\n",
       "        background: repeating-linear-gradient(45deg, #7e7e7e, #7e7e7e 10px, #5c5c5c 10px, #5c5c5c 20px);\n",
       "    }\n",
       "    .progress-bar-interrupted, .progress-bar-interrupted::-webkit-progress-bar {\n",
       "        background: #F44336;\n",
       "    }\n",
       "</style>\n"
      ],
      "text/plain": [
       "<IPython.core.display.HTML object>"
      ]
     },
     "metadata": {},
     "output_type": "display_data"
    },
    {
     "data": {
      "text/html": [
       "\n",
       "    <div>\n",
       "      <progress value='20000' class='' max='20000' style='width:300px; height:20px; vertical-align: middle;'></progress>\n",
       "      100.00% [20000/20000 00:27&lt;00:00 Sampling chain 2, 0 divergences]\n",
       "    </div>\n",
       "    "
      ],
      "text/plain": [
       "<IPython.core.display.HTML object>"
      ]
     },
     "metadata": {},
     "output_type": "display_data"
    },
    {
     "data": {
      "text/html": [
       "\n",
       "<style>\n",
       "    /* Turns off some styling */\n",
       "    progress {\n",
       "        /* gets rid of default border in Firefox and Opera. */\n",
       "        border: none;\n",
       "        /* Needs to be in here for Safari polyfill so background images work as expected. */\n",
       "        background-size: auto;\n",
       "    }\n",
       "    progress:not([value]), progress:not([value])::-webkit-progress-bar {\n",
       "        background: repeating-linear-gradient(45deg, #7e7e7e, #7e7e7e 10px, #5c5c5c 10px, #5c5c5c 20px);\n",
       "    }\n",
       "    .progress-bar-interrupted, .progress-bar-interrupted::-webkit-progress-bar {\n",
       "        background: #F44336;\n",
       "    }\n",
       "</style>\n"
      ],
      "text/plain": [
       "<IPython.core.display.HTML object>"
      ]
     },
     "metadata": {},
     "output_type": "display_data"
    },
    {
     "data": {
      "text/html": [
       "\n",
       "    <div>\n",
       "      <progress value='20000' class='' max='20000' style='width:300px; height:20px; vertical-align: middle;'></progress>\n",
       "      100.00% [20000/20000 00:26&lt;00:00 Sampling chain 3, 0 divergences]\n",
       "    </div>\n",
       "    "
      ],
      "text/plain": [
       "<IPython.core.display.HTML object>"
      ]
     },
     "metadata": {},
     "output_type": "display_data"
    },
    {
     "name": "stderr",
     "output_type": "stream",
     "text": [
      "Sampling 4 chains for 5_000 tune and 15_000 draw iterations (20_000 + 60_000 draws total) took 106 seconds.\n",
      "The rhat statistic is larger than 1.01 for some parameters. This indicates problems during sampling. See https://arxiv.org/abs/1903.08008 for details\n",
      "The effective sample size per chain is smaller than 100 for some parameters.  A higher number is needed for reliable rhat and ess computation. See https://arxiv.org/abs/1903.08008 for details\n"
     ]
    },
    {
     "data": {
      "image/png": "[encoded data removed]",
      "text/plain": [
       "<Figure size 640x480 with 1 Axes>"
      ]
     },
     "metadata": {},
     "output_type": "display_data"
    },
    {
     "name": "stdout",
     "output_type": "stream",
     "text": [
      "          mean     sd  hdi_3%  hdi_97%  mcse_mean  mcse_sd  ess_bulk  \\\n",
      "m1       0.174  0.002   0.171    0.178      0.000    0.000      39.0   \n",
      "m2       0.036  0.001   0.034    0.037      0.000    0.000     126.0   \n",
      "xinter  16.992  0.128  16.745   17.221      0.022    0.016      32.0   \n",
      "sigma    0.085  0.002   0.080    0.090      0.000    0.000   12134.0   \n",
      "\n",
      "        ess_tail  r_hat  \n",
      "m1         143.0   1.09  \n",
      "m2         192.0   1.02  \n",
      "xinter     153.0   1.09  \n",
      "sigma    12395.0   1.00  \n",
      "Processing SSK1\n",
      "20.0\n"
     ]
    },
    {
     "data": {
      "image/png": "[encoded data removed]",
      "text/plain": [
       "<Figure size 640x480 with 1 Axes>"
      ]
     },
     "metadata": {},
     "output_type": "display_data"
    },
    {
     "name": "stderr",
     "output_type": "stream",
     "text": [
      "Sequential sampling (4 chains in 1 job)\n",
      "CompoundStep\n",
      ">Metropolis: [m1]\n",
      ">Metropolis: [m2]\n",
      ">Metropolis: [xinter]\n",
      ">Metropolis: [sigma]\n"
     ]
    },
    {
     "data": {
      "text/html": [
       "\n",
       "<style>\n",
       "    /* Turns off some styling */\n",
       "    progress {\n",
       "        /* gets rid of default border in Firefox and Opera. */\n",
       "        border: none;\n",
       "        /* Needs to be in here for Safari polyfill so background images work as expected. */\n",
       "        background-size: auto;\n",
       "    }\n",
       "    progress:not([value]), progress:not([value])::-webkit-progress-bar {\n",
       "        background: repeating-linear-gradient(45deg, #7e7e7e, #7e7e7e 10px, #5c5c5c 10px, #5c5c5c 20px);\n",
       "    }\n",
       "    .progress-bar-interrupted, .progress-bar-interrupted::-webkit-progress-bar {\n",
       "        background: #F44336;\n",
       "    }\n",
       "</style>\n"
      ],
      "text/plain": [
       "<IPython.core.display.HTML object>"
      ]
     },
     "metadata": {},
     "output_type": "display_data"
    },
    {
     "data": {
      "text/html": [
       "\n",
       "    <div>\n",
       "      <progress value='20000' class='' max='20000' style='width:300px; height:20px; vertical-align: middle;'></progress>\n",
       "      100.00% [20000/20000 00:26&lt;00:00 Sampling chain 0, 0 divergences]\n",
       "    </div>\n",
       "    "
      ],
      "text/plain": [
       "<IPython.core.display.HTML object>"
      ]
     },
     "metadata": {},
     "output_type": "display_data"
    },
    {
     "data": {
      "text/html": [
       "\n",
       "<style>\n",
       "    /* Turns off some styling */\n",
       "    progress {\n",
       "        /* gets rid of default border in Firefox and Opera. */\n",
       "        border: none;\n",
       "        /* Needs to be in here for Safari polyfill so background images work as expected. */\n",
       "        background-size: auto;\n",
       "    }\n",
       "    progress:not([value]), progress:not([value])::-webkit-progress-bar {\n",
       "        background: repeating-linear-gradient(45deg, #7e7e7e, #7e7e7e 10px, #5c5c5c 10px, #5c5c5c 20px);\n",
       "    }\n",
       "    .progress-bar-interrupted, .progress-bar-interrupted::-webkit-progress-bar {\n",
       "        background: #F44336;\n",
       "    }\n",
       "</style>\n"
      ],
      "text/plain": [
       "<IPython.core.display.HTML object>"
      ]
     },
     "metadata": {},
     "output_type": "display_data"
    },
    {
     "data": {
      "text/html": [
       "\n",
       "    <div>\n",
       "      <progress value='20000' class='' max='20000' style='width:300px; height:20px; vertical-align: middle;'></progress>\n",
       "      100.00% [20000/20000 00:26&lt;00:00 Sampling chain 1, 0 divergences]\n",
       "    </div>\n",
       "    "
      ],
      "text/plain": [
       "<IPython.core.display.HTML object>"
      ]
     },
     "metadata": {},
     "output_type": "display_data"
    },
    {
     "data": {
      "text/html": [
       "\n",
       "<style>\n",
       "    /* Turns off some styling */\n",
       "    progress {\n",
       "        /* gets rid of default border in Firefox and Opera. */\n",
       "        border: none;\n",
       "        /* Needs to be in here for Safari polyfill so background images work as expected. */\n",
       "        background-size: auto;\n",
       "    }\n",
       "    progress:not([value]), progress:not([value])::-webkit-progress-bar {\n",
       "        background: repeating-linear-gradient(45deg, #7e7e7e, #7e7e7e 10px, #5c5c5c 10px, #5c5c5c 20px);\n",
       "    }\n",
       "    .progress-bar-interrupted, .progress-bar-interrupted::-webkit-progress-bar {\n",
       "        background: #F44336;\n",
       "    }\n",
       "</style>\n"
      ],
      "text/plain": [
       "<IPython.core.display.HTML object>"
      ]
     },
     "metadata": {},
     "output_type": "display_data"
    },
    {
     "data": {
      "text/html": [
       "\n",
       "    <div>\n",
       "      <progress value='20000' class='' max='20000' style='width:300px; height:20px; vertical-align: middle;'></progress>\n",
       "      100.00% [20000/20000 00:27&lt;00:00 Sampling chain 2, 0 divergences]\n",
       "    </div>\n",
       "    "
      ],
      "text/plain": [
       "<IPython.core.display.HTML object>"
      ]
     },
     "metadata": {},
     "output_type": "display_data"
    },
    {
     "data": {
      "text/html": [
       "\n",
       "<style>\n",
       "    /* Turns off some styling */\n",
       "    progress {\n",
       "        /* gets rid of default border in Firefox and Opera. */\n",
       "        border: none;\n",
       "        /* Needs to be in here for Safari polyfill so background images work as expected. */\n",
       "        background-size: auto;\n",
       "    }\n",
       "    progress:not([value]), progress:not([value])::-webkit-progress-bar {\n",
       "        background: repeating-linear-gradient(45deg, #7e7e7e, #7e7e7e 10px, #5c5c5c 10px, #5c5c5c 20px);\n",
       "    }\n",
       "    .progress-bar-interrupted, .progress-bar-interrupted::-webkit-progress-bar {\n",
       "        background: #F44336;\n",
       "    }\n",
       "</style>\n"
      ],
      "text/plain": [
       "<IPython.core.display.HTML object>"
      ]
     },
     "metadata": {},
     "output_type": "display_data"
    },
    {
     "data": {
      "text/html": [
       "\n",
       "    <div>\n",
       "      <progress value='20000' class='' max='20000' style='width:300px; height:20px; vertical-align: middle;'></progress>\n",
       "      100.00% [20000/20000 00:26&lt;00:00 Sampling chain 3, 0 divergences]\n",
       "    </div>\n",
       "    "
      ],
      "text/plain": [
       "<IPython.core.display.HTML object>"
      ]
     },
     "metadata": {},
     "output_type": "display_data"
    },
    {
     "name": "stderr",
     "output_type": "stream",
     "text": [
      "Sampling 4 chains for 5_000 tune and 15_000 draw iterations (20_000 + 60_000 draws total) took 107 seconds.\n",
      "The rhat statistic is larger than 1.01 for some parameters. This indicates problems during sampling. See https://arxiv.org/abs/1903.08008 for details\n",
      "The effective sample size per chain is smaller than 100 for some parameters.  A higher number is needed for reliable rhat and ess computation. See https://arxiv.org/abs/1903.08008 for details\n"
     ]
    },
    {
     "data": {
      "image/png": "[encoded data removed]",
      "text/plain": [
       "<Figure size 640x480 with 1 Axes>"
      ]
     },
     "metadata": {},
     "output_type": "display_data"
    },
    {
     "name": "stdout",
     "output_type": "stream",
     "text": [
      "          mean     sd  hdi_3%  hdi_97%  mcse_mean  mcse_sd  ess_bulk  \\\n",
      "m1       0.176  0.002   0.173    0.179      0.000    0.000      25.0   \n",
      "m2       0.026  0.000   0.025    0.027      0.000    0.000      53.0   \n",
      "xinter  16.481  0.088  16.323   16.650      0.012    0.009      53.0   \n",
      "sigma    0.067  0.002   0.063    0.070      0.000    0.000   12671.0   \n",
      "\n",
      "        ess_tail  r_hat  \n",
      "m1          65.0   1.12  \n",
      "m2         111.0   1.06  \n",
      "xinter      94.0   1.07  \n",
      "sigma    13757.0   1.00  \n",
      "Processing UWA1\n",
      "20.0\n"
     ]
    },
    {
     "data": {
      "image/png": "[encoded data removed]",
      "text/plain": [
       "<Figure size 640x480 with 1 Axes>"
      ]
     },
     "metadata": {},
     "output_type": "display_data"
    },
    {
     "name": "stderr",
     "output_type": "stream",
     "text": [
      "Sequential sampling (4 chains in 1 job)\n",
      "CompoundStep\n",
      ">Metropolis: [m1]\n",
      ">Metropolis: [m2]\n",
      ">Metropolis: [xinter]\n",
      ">Metropolis: [sigma]\n"
     ]
    },
    {
     "data": {
      "text/html": [
       "\n",
       "<style>\n",
       "    /* Turns off some styling */\n",
       "    progress {\n",
       "        /* gets rid of default border in Firefox and Opera. */\n",
       "        border: none;\n",
       "        /* Needs to be in here for Safari polyfill so background images work as expected. */\n",
       "        background-size: auto;\n",
       "    }\n",
       "    progress:not([value]), progress:not([value])::-webkit-progress-bar {\n",
       "        background: repeating-linear-gradient(45deg, #7e7e7e, #7e7e7e 10px, #5c5c5c 10px, #5c5c5c 20px);\n",
       "    }\n",
       "    .progress-bar-interrupted, .progress-bar-interrupted::-webkit-progress-bar {\n",
       "        background: #F44336;\n",
       "    }\n",
       "</style>\n"
      ],
      "text/plain": [
       "<IPython.core.display.HTML object>"
      ]
     },
     "metadata": {},
     "output_type": "display_data"
    },
    {
     "data": {
      "text/html": [
       "\n",
       "    <div>\n",
       "      <progress value='20000' class='' max='20000' style='width:300px; height:20px; vertical-align: middle;'></progress>\n",
       "      100.00% [20000/20000 00:26&lt;00:00 Sampling chain 0, 0 divergences]\n",
       "    </div>\n",
       "    "
      ],
      "text/plain": [
       "<IPython.core.display.HTML object>"
      ]
     },
     "metadata": {},
     "output_type": "display_data"
    },
    {
     "data": {
      "text/html": [
       "\n",
       "<style>\n",
       "    /* Turns off some styling */\n",
       "    progress {\n",
       "        /* gets rid of default border in Firefox and Opera. */\n",
       "        border: none;\n",
       "        /* Needs to be in here for Safari polyfill so background images work as expected. */\n",
       "        background-size: auto;\n",
       "    }\n",
       "    progress:not([value]), progress:not([value])::-webkit-progress-bar {\n",
       "        background: repeating-linear-gradient(45deg, #7e7e7e, #7e7e7e 10px, #5c5c5c 10px, #5c5c5c 20px);\n",
       "    }\n",
       "    .progress-bar-interrupted, .progress-bar-interrupted::-webkit-progress-bar {\n",
       "        background: #F44336;\n",
       "    }\n",
       "</style>\n"
      ],
      "text/plain": [
       "<IPython.core.display.HTML object>"
      ]
     },
     "metadata": {},
     "output_type": "display_data"
    },
    {
     "data": {
      "text/html": [
       "\n",
       "    <div>\n",
       "      <progress value='20000' class='' max='20000' style='width:300px; height:20px; vertical-align: middle;'></progress>\n",
       "      100.00% [20000/20000 00:26&lt;00:00 Sampling chain 1, 0 divergences]\n",
       "    </div>\n",
       "    "
      ],
      "text/plain": [
       "<IPython.core.display.HTML object>"
      ]
     },
     "metadata": {},
     "output_type": "display_data"
    },
    {
     "data": {
      "text/html": [
       "\n",
       "<style>\n",
       "    /* Turns off some styling */\n",
       "    progress {\n",
       "        /* gets rid of default border in Firefox and Opera. */\n",
       "        border: none;\n",
       "        /* Needs to be in here for Safari polyfill so background images work as expected. */\n",
       "        background-size: auto;\n",
       "    }\n",
       "    progress:not([value]), progress:not([value])::-webkit-progress-bar {\n",
       "        background: repeating-linear-gradient(45deg, #7e7e7e, #7e7e7e 10px, #5c5c5c 10px, #5c5c5c 20px);\n",
       "    }\n",
       "    .progress-bar-interrupted, .progress-bar-interrupted::-webkit-progress-bar {\n",
       "        background: #F44336;\n",
       "    }\n",
       "</style>\n"
      ],
      "text/plain": [
       "<IPython.core.display.HTML object>"
      ]
     },
     "metadata": {},
     "output_type": "display_data"
    },
    {
     "data": {
      "text/html": [
       "\n",
       "    <div>\n",
       "      <progress value='20000' class='' max='20000' style='width:300px; height:20px; vertical-align: middle;'></progress>\n",
       "      100.00% [20000/20000 00:26&lt;00:00 Sampling chain 2, 0 divergences]\n",
       "    </div>\n",
       "    "
      ],
      "text/plain": [
       "<IPython.core.display.HTML object>"
      ]
     },
     "metadata": {},
     "output_type": "display_data"
    },
    {
     "data": {
      "text/html": [
       "\n",
       "<style>\n",
       "    /* Turns off some styling */\n",
       "    progress {\n",
       "        /* gets rid of default border in Firefox and Opera. */\n",
       "        border: none;\n",
       "        /* Needs to be in here for Safari polyfill so background images work as expected. */\n",
       "        background-size: auto;\n",
       "    }\n",
       "    progress:not([value]), progress:not([value])::-webkit-progress-bar {\n",
       "        background: repeating-linear-gradient(45deg, #7e7e7e, #7e7e7e 10px, #5c5c5c 10px, #5c5c5c 20px);\n",
       "    }\n",
       "    .progress-bar-interrupted, .progress-bar-interrupted::-webkit-progress-bar {\n",
       "        background: #F44336;\n",
       "    }\n",
       "</style>\n"
      ],
      "text/plain": [
       "<IPython.core.display.HTML object>"
      ]
     },
     "metadata": {},
     "output_type": "display_data"
    },
    {
     "data": {
      "text/html": [
       "\n",
       "    <div>\n",
       "      <progress value='20000' class='' max='20000' style='width:300px; height:20px; vertical-align: middle;'></progress>\n",
       "      100.00% [20000/20000 00:25&lt;00:00 Sampling chain 3, 0 divergences]\n",
       "    </div>\n",
       "    "
      ],
      "text/plain": [
       "<IPython.core.display.HTML object>"
      ]
     },
     "metadata": {},
     "output_type": "display_data"
    },
    {
     "name": "stderr",
     "output_type": "stream",
     "text": [
      "Sampling 4 chains for 5_000 tune and 15_000 draw iterations (20_000 + 60_000 draws total) took 105 seconds.\n",
      "The rhat statistic is larger than 1.01 for some parameters. This indicates problems during sampling. See https://arxiv.org/abs/1903.08008 for details\n",
      "The effective sample size per chain is smaller than 100 for some parameters.  A higher number is needed for reliable rhat and ess computation. See https://arxiv.org/abs/1903.08008 for details\n"
     ]
    },
    {
     "data": {
      "image/png": "[encoded data removed]",
      "text/plain": [
       "<Figure size 640x480 with 1 Axes>"
      ]
     },
     "metadata": {},
     "output_type": "display_data"
    },
    {
     "name": "stdout",
     "output_type": "stream",
     "text": [
      "          mean     sd  hdi_3%  hdi_97%  mcse_mean  mcse_sd  ess_bulk  \\\n",
      "m1       0.252  0.003   0.247    0.258      0.001    0.001      14.0   \n",
      "m2       0.025  0.000   0.024    0.025      0.000    0.000      50.0   \n",
      "xinter  14.913  0.075  14.769   15.053      0.021    0.015      14.0   \n",
      "sigma    0.070  0.002   0.067    0.074      0.000    0.000   11758.0   \n",
      "\n",
      "        ess_tail  r_hat  \n",
      "m1          83.0   1.22  \n",
      "m2         129.0   1.08  \n",
      "xinter      42.0   1.23  \n",
      "sigma    12848.0   1.00  \n",
      "Processing MUR1\n",
      "20.0\n"
     ]
    },
    {
     "data": {
      "image/png": "[encoded data removed]",
      "text/plain": [
       "<Figure size 640x480 with 1 Axes>"
      ]
     },
     "metadata": {},
     "output_type": "display_data"
    },
    {
     "name": "stderr",
     "output_type": "stream",
     "text": [
      "Sequential sampling (4 chains in 1 job)\n",
      "CompoundStep\n",
      ">Metropolis: [m1]\n",
      ">Metropolis: [m2]\n",
      ">Metropolis: [xinter]\n",
      ">Metropolis: [sigma]\n"
     ]
    },
    {
     "data": {
      "text/html": [
       "\n",
       "<style>\n",
       "    /* Turns off some styling */\n",
       "    progress {\n",
       "        /* gets rid of default border in Firefox and Opera. */\n",
       "        border: none;\n",
       "        /* Needs to be in here for Safari polyfill so background images work as expected. */\n",
       "        background-size: auto;\n",
       "    }\n",
       "    progress:not([value]), progress:not([value])::-webkit-progress-bar {\n",
       "        background: repeating-linear-gradient(45deg, #7e7e7e, #7e7e7e 10px, #5c5c5c 10px, #5c5c5c 20px);\n",
       "    }\n",
       "    .progress-bar-interrupted, .progress-bar-interrupted::-webkit-progress-bar {\n",
       "        background: #F44336;\n",
       "    }\n",
       "</style>\n"
      ],
      "text/plain": [
       "<IPython.core.display.HTML object>"
      ]
     },
     "metadata": {},
     "output_type": "display_data"
    },
    {
     "data": {
      "text/html": [
       "\n",
       "    <div>\n",
       "      <progress value='20000' class='' max='20000' style='width:300px; height:20px; vertical-align: middle;'></progress>\n",
       "      100.00% [20000/20000 00:25&lt;00:00 Sampling chain 0, 0 divergences]\n",
       "    </div>\n",
       "    "
      ],
      "text/plain": [
       "<IPython.core.display.HTML object>"
      ]
     },
     "metadata": {},
     "output_type": "display_data"
    },
    {
     "data": {
      "text/html": [
       "\n",
       "<style>\n",
       "    /* Turns off some styling */\n",
       "    progress {\n",
       "        /* gets rid of default border in Firefox and Opera. */\n",
       "        border: none;\n",
       "        /* Needs to be in here for Safari polyfill so background images work as expected. */\n",
       "        background-size: auto;\n",
       "    }\n",
       "    progress:not([value]), progress:not([value])::-webkit-progress-bar {\n",
       "        background: repeating-linear-gradient(45deg, #7e7e7e, #7e7e7e 10px, #5c5c5c 10px, #5c5c5c 20px);\n",
       "    }\n",
       "    .progress-bar-interrupted, .progress-bar-interrupted::-webkit-progress-bar {\n",
       "        background: #F44336;\n",
       "    }\n",
       "</style>\n"
      ],
      "text/plain": [
       "<IPython.core.display.HTML object>"
      ]
     },
     "metadata": {},
     "output_type": "display_data"
    },
    {
     "data": {
      "text/html": [
       "\n",
       "    <div>\n",
       "      <progress value='20000' class='' max='20000' style='width:300px; height:20px; vertical-align: middle;'></progress>\n",
       "      100.00% [20000/20000 00:26&lt;00:00 Sampling chain 1, 0 divergences]\n",
       "    </div>\n",
       "    "
      ],
      "text/plain": [
       "<IPython.core.display.HTML object>"
      ]
     },
     "metadata": {},
     "output_type": "display_data"
    },
    {
     "data": {
      "text/html": [
       "\n",
       "<style>\n",
       "    /* Turns off some styling */\n",
       "    progress {\n",
       "        /* gets rid of default border in Firefox and Opera. */\n",
       "        border: none;\n",
       "        /* Needs to be in here for Safari polyfill so background images work as expected. */\n",
       "        background-size: auto;\n",
       "    }\n",
       "    progress:not([value]), progress:not([value])::-webkit-progress-bar {\n",
       "        background: repeating-linear-gradient(45deg, #7e7e7e, #7e7e7e 10px, #5c5c5c 10px, #5c5c5c 20px);\n",
       "    }\n",
       "    .progress-bar-interrupted, .progress-bar-interrupted::-webkit-progress-bar {\n",
       "        background: #F44336;\n",
       "    }\n",
       "</style>\n"
      ],
      "text/plain": [
       "<IPython.core.display.HTML object>"
      ]
     },
     "metadata": {},
     "output_type": "display_data"
    },
    {
     "data": {
      "text/html": [
       "\n",
       "    <div>\n",
       "      <progress value='20000' class='' max='20000' style='width:300px; height:20px; vertical-align: middle;'></progress>\n",
       "      100.00% [20000/20000 00:26&lt;00:00 Sampling chain 2, 0 divergences]\n",
       "    </div>\n",
       "    "
      ],
      "text/plain": [
       "<IPython.core.display.HTML object>"
      ]
     },
     "metadata": {},
     "output_type": "display_data"
    },
    {
     "data": {
      "text/html": [
       "\n",
       "<style>\n",
       "    /* Turns off some styling */\n",
       "    progress {\n",
       "        /* gets rid of default border in Firefox and Opera. */\n",
       "        border: none;\n",
       "        /* Needs to be in here for Safari polyfill so background images work as expected. */\n",
       "        background-size: auto;\n",
       "    }\n",
       "    progress:not([value]), progress:not([value])::-webkit-progress-bar {\n",
       "        background: repeating-linear-gradient(45deg, #7e7e7e, #7e7e7e 10px, #5c5c5c 10px, #5c5c5c 20px);\n",
       "    }\n",
       "    .progress-bar-interrupted, .progress-bar-interrupted::-webkit-progress-bar {\n",
       "        background: #F44336;\n",
       "    }\n",
       "</style>\n"
      ],
      "text/plain": [
       "<IPython.core.display.HTML object>"
      ]
     },
     "metadata": {},
     "output_type": "display_data"
    },
    {
     "data": {
      "text/html": [
       "\n",
       "    <div>\n",
       "      <progress value='20000' class='' max='20000' style='width:300px; height:20px; vertical-align: middle;'></progress>\n",
       "      100.00% [20000/20000 00:26&lt;00:00 Sampling chain 3, 0 divergences]\n",
       "    </div>\n",
       "    "
      ],
      "text/plain": [
       "<IPython.core.display.HTML object>"
      ]
     },
     "metadata": {},
     "output_type": "display_data"
    },
    {
     "name": "stderr",
     "output_type": "stream",
     "text": [
      "Sampling 4 chains for 5_000 tune and 15_000 draw iterations (20_000 + 60_000 draws total) took 106 seconds.\n",
      "The rhat statistic is larger than 1.01 for some parameters. This indicates problems during sampling. See https://arxiv.org/abs/1903.08008 for details\n",
      "The effective sample size per chain is smaller than 100 for some parameters.  A higher number is needed for reliable rhat and ess computation. See https://arxiv.org/abs/1903.08008 for details\n"
     ]
    },
    {
     "data": {
      "image/png": "[encoded data removed]",
      "text/plain": [
       "<Figure size 640x480 with 1 Axes>"
      ]
     },
     "metadata": {},
     "output_type": "display_data"
    },
    {
     "name": "stdout",
     "output_type": "stream",
     "text": [
      "          mean     sd  hdi_3%  hdi_97%  mcse_mean  mcse_sd  ess_bulk  \\\n",
      "m1       0.398  0.010   0.379    0.416      0.002    0.002      21.0   \n",
      "m2       0.030  0.001   0.029    0.031      0.000    0.000      82.0   \n",
      "xinter  12.909  0.086  12.764   13.081      0.019    0.014      21.0   \n",
      "sigma    0.092  0.003   0.087    0.097      0.000    0.000   13013.0   \n",
      "\n",
      "        ess_tail  r_hat  \n",
      "m1          57.0   1.15  \n",
      "m2         162.0   1.06  \n",
      "xinter      43.0   1.15  \n",
      "sigma    13832.0   1.00  \n",
      "Processing MYM1\n",
      "20.0\n"
     ]
    },
    {
     "data": {
      "image/png": "[encoded data removed]",
      "text/plain": [
       "<Figure size 640x480 with 1 Axes>"
      ]
     },
     "metadata": {},
     "output_type": "display_data"
    },
    {
     "name": "stderr",
     "output_type": "stream",
     "text": [
      "Sequential sampling (4 chains in 1 job)\n",
      "CompoundStep\n",
      ">Metropolis: [m1]\n",
      ">Metropolis: [m2]\n",
      ">Metropolis: [xinter]\n",
      ">Metropolis: [sigma]\n"
     ]
    },
    {
     "data": {
      "text/html": [
       "\n",
       "<style>\n",
       "    /* Turns off some styling */\n",
       "    progress {\n",
       "        /* gets rid of default border in Firefox and Opera. */\n",
       "        border: none;\n",
       "        /* Needs to be in here for Safari polyfill so background images work as expected. */\n",
       "        background-size: auto;\n",
       "    }\n",
       "    progress:not([value]), progress:not([value])::-webkit-progress-bar {\n",
       "        background: repeating-linear-gradient(45deg, #7e7e7e, #7e7e7e 10px, #5c5c5c 10px, #5c5c5c 20px);\n",
       "    }\n",
       "    .progress-bar-interrupted, .progress-bar-interrupted::-webkit-progress-bar {\n",
       "        background: #F44336;\n",
       "    }\n",
       "</style>\n"
      ],
      "text/plain": [
       "<IPython.core.display.HTML object>"
      ]
     },
     "metadata": {},
     "output_type": "display_data"
    },
    {
     "data": {
      "text/html": [
       "\n",
       "    <div>\n",
       "      <progress value='20000' class='' max='20000' style='width:300px; height:20px; vertical-align: middle;'></progress>\n",
       "      100.00% [20000/20000 00:26&lt;00:00 Sampling chain 0, 0 divergences]\n",
       "    </div>\n",
       "    "
      ],
      "text/plain": [
       "<IPython.core.display.HTML object>"
      ]
     },
     "metadata": {},
     "output_type": "display_data"
    },
    {
     "data": {
      "text/html": [
       "\n",
       "<style>\n",
       "    /* Turns off some styling */\n",
       "    progress {\n",
       "        /* gets rid of default border in Firefox and Opera. */\n",
       "        border: none;\n",
       "        /* Needs to be in here for Safari polyfill so background images work as expected. */\n",
       "        background-size: auto;\n",
       "    }\n",
       "    progress:not([value]), progress:not([value])::-webkit-progress-bar {\n",
       "        background: repeating-linear-gradient(45deg, #7e7e7e, #7e7e7e 10px, #5c5c5c 10px, #5c5c5c 20px);\n",
       "    }\n",
       "    .progress-bar-interrupted, .progress-bar-interrupted::-webkit-progress-bar {\n",
       "        background: #F44336;\n",
       "    }\n",
       "</style>\n"
      ],
      "text/plain": [
       "<IPython.core.display.HTML object>"
      ]
     },
     "metadata": {},
     "output_type": "display_data"
    },
    {
     "data": {
      "text/html": [
       "\n",
       "    <div>\n",
       "      <progress value='20000' class='' max='20000' style='width:300px; height:20px; vertical-align: middle;'></progress>\n",
       "      100.00% [20000/20000 00:28&lt;00:00 Sampling chain 1, 0 divergences]\n",
       "    </div>\n",
       "    "
      ],
      "text/plain": [
       "<IPython.core.display.HTML object>"
      ]
     },
     "metadata": {},
     "output_type": "display_data"
    },
    {
     "data": {
      "text/html": [
       "\n",
       "<style>\n",
       "    /* Turns off some styling */\n",
       "    progress {\n",
       "        /* gets rid of default border in Firefox and Opera. */\n",
       "        border: none;\n",
       "        /* Needs to be in here for Safari polyfill so background images work as expected. */\n",
       "        background-size: auto;\n",
       "    }\n",
       "    progress:not([value]), progress:not([value])::-webkit-progress-bar {\n",
       "        background: repeating-linear-gradient(45deg, #7e7e7e, #7e7e7e 10px, #5c5c5c 10px, #5c5c5c 20px);\n",
       "    }\n",
       "    .progress-bar-interrupted, .progress-bar-interrupted::-webkit-progress-bar {\n",
       "        background: #F44336;\n",
       "    }\n",
       "</style>\n"
      ],
      "text/plain": [
       "<IPython.core.display.HTML object>"
      ]
     },
     "metadata": {},
     "output_type": "display_data"
    },
    {
     "data": {
      "text/html": [
       "\n",
       "    <div>\n",
       "      <progress value='20000' class='' max='20000' style='width:300px; height:20px; vertical-align: middle;'></progress>\n",
       "      100.00% [20000/20000 00:27&lt;00:00 Sampling chain 2, 0 divergences]\n",
       "    </div>\n",
       "    "
      ],
      "text/plain": [
       "<IPython.core.display.HTML object>"
      ]
     },
     "metadata": {},
     "output_type": "display_data"
    },
    {
     "data": {
      "text/html": [
       "\n",
       "<style>\n",
       "    /* Turns off some styling */\n",
       "    progress {\n",
       "        /* gets rid of default border in Firefox and Opera. */\n",
       "        border: none;\n",
       "        /* Needs to be in here for Safari polyfill so background images work as expected. */\n",
       "        background-size: auto;\n",
       "    }\n",
       "    progress:not([value]), progress:not([value])::-webkit-progress-bar {\n",
       "        background: repeating-linear-gradient(45deg, #7e7e7e, #7e7e7e 10px, #5c5c5c 10px, #5c5c5c 20px);\n",
       "    }\n",
       "    .progress-bar-interrupted, .progress-bar-interrupted::-webkit-progress-bar {\n",
       "        background: #F44336;\n",
       "    }\n",
       "</style>\n"
      ],
      "text/plain": [
       "<IPython.core.display.HTML object>"
      ]
     },
     "metadata": {},
     "output_type": "display_data"
    },
    {
     "data": {
      "text/html": [
       "\n",
       "    <div>\n",
       "      <progress value='20000' class='' max='20000' style='width:300px; height:20px; vertical-align: middle;'></progress>\n",
       "      100.00% [20000/20000 00:26&lt;00:00 Sampling chain 3, 0 divergences]\n",
       "    </div>\n",
       "    "
      ],
      "text/plain": [
       "<IPython.core.display.HTML object>"
      ]
     },
     "metadata": {},
     "output_type": "display_data"
    },
    {
     "name": "stderr",
     "output_type": "stream",
     "text": [
      "Sampling 4 chains for 5_000 tune and 15_000 draw iterations (20_000 + 60_000 draws total) took 109 seconds.\n",
      "The rhat statistic is larger than 1.01 for some parameters. This indicates problems during sampling. See https://arxiv.org/abs/1903.08008 for details\n",
      "The effective sample size per chain is smaller than 100 for some parameters.  A higher number is needed for reliable rhat and ess computation. See https://arxiv.org/abs/1903.08008 for details\n"
     ]
    },
    {
     "data": {
      "image/png": "[encoded data removed]",
      "text/plain": [
       "<Figure size 640x480 with 1 Axes>"
      ]
     },
     "metadata": {},
     "output_type": "display_data"
    },
    {
     "name": "stdout",
     "output_type": "stream",
     "text": [
      "          mean     sd  hdi_3%  hdi_97%  mcse_mean  mcse_sd  ess_bulk  \\\n",
      "m1       0.375  0.005   0.365    0.384      0.001    0.001      38.0   \n",
      "m2       0.030  0.001   0.029    0.031      0.000    0.000      49.0   \n",
      "xinter  14.401  0.076  14.255   14.535      0.013    0.009      36.0   \n",
      "sigma    0.102  0.003   0.096    0.107      0.000    0.000   12627.0   \n",
      "\n",
      "        ess_tail  r_hat  \n",
      "m1         142.0   1.08  \n",
      "m2         107.0   1.07  \n",
      "xinter     109.0   1.08  \n",
      "sigma    13318.0   1.00  \n"
     ]
    }
   ],
   "source": [
    "events_list = []\n",
    "mags_list = []\n",
    "stas_list = []\n",
    "hypdist_list = []\n",
    "xhighs_list = []\n",
    "m1s_list = []\n",
    "m2s_list = []\n",
    "xinters_list = []\n",
    "sigmas_list = []\n",
    "trans_time_list = []\n",
    "\n",
    "for idx in range(len(snr_array)):\n",
    "\n",
    "    sta = snr_array['Station_name'][idx]\n",
    "    # sta = 'ANO1'\n",
    "\n",
    "    # Figure out the bounds for the MCMC based on the event and hypocentral distance (rainbow plots)\n",
    "    xlow = 10\n",
    "    xhigh = 40 # change for different comp windows \n",
    "    evt_id = 'tohoku'\n",
    "    mag = '9.1'\n",
    "    hypdist = snr_array['hyp_dist_km'][idx]\n",
    "    # hypdist = 661\n",
    "    int_hypdist = int(hypdist)\n",
    "\n",
    "    try:\n",
    "        pst = read(path + '3comp_peak_post_p_newdetrend/' + sta + '.mseed')\n",
    "    except:\n",
    "        print('Skipping ' + sta + ', no data')\n",
    "        continue\n",
    "\n",
    "    print('Processing ' + str(sta))\n",
    "\n",
    "    times = pst[0].times()\n",
    "    data = pst[0].data\n",
    "    log10_data = np.log10(data)\n",
    "    samp_rate = pst[0].stats.sampling_rate\n",
    "    print(samp_rate)\n",
    "\n",
    "    vec_start = int(xlow*samp_rate)\n",
    "    vec_end = int(xhigh*samp_rate)\n",
    "\n",
    "    # Split into x and y vectors\n",
    "    xobserved = times[vec_start:vec_end]\n",
    "    yobserved = log10_data[vec_start:vec_end]\n",
    "    x0 = xobserved[0]\n",
    "    y0 = yobserved[0]\n",
    "    \n",
    "    plt.plot(xobserved, yobserved)\n",
    "    plt.show()\n",
    "\n",
    "    # in order to pass the x variable into the target function it needs to be \n",
    "    # converted to a Theano \"shared\" variable\n",
    "    pt_xobserved = pytensor.shared(xobserved)\n",
    "    pt_x0 = pytensor.shared(x0)\n",
    "    pt_y0 = pytensor.shared(y0)\n",
    "\n",
    "    # MCMC run parameters, these are good numbers for a \"production\" run. If you are\n",
    "    # fooling arund these can be lower to iterate faster\n",
    "    Nburn = 5000 # burn in samples that get discarded\n",
    "    Nmcmc = 15000 # bump to at least 5-10k\n",
    "    Nchains = 4\n",
    "    Ncores = 1\n",
    "\n",
    "    # Bounds for the prior distributions\n",
    "    m1_low = -1; m1_high = 1\n",
    "    m2_low = -1; m2_high = 1\n",
    "    xinter_low = 10 ; xinter_high = 25 # location of the line slope change. 25 for med/long, 11 for short\n",
    "\n",
    "    # Define the Bayesian model\n",
    "    with pm.Model()as model:\n",
    "\n",
    "        # Use normal distributions as priors\n",
    "        # m1 = pm.Normal('m1', mu = 0.5, sigma = 1)\n",
    "        # m2 = pm.Normal('m2', mu = -0.1, sigma = 5)\n",
    "        m1 = pm.Uniform('m1', lower = m1_low, upper = m1_high)\n",
    "        m2 = pm.Uniform('m2', lower = m2_low, upper = m2_high)\n",
    "        xinter = pm.Uniform('xinter', lower = xinter_low, upper = xinter_high)\n",
    "        sigma = pm.HalfCauchy('sigma', beta = 10, initval = 1)\n",
    "\n",
    "        # This is the model\n",
    "        likelihood = pm.Normal('y', mu = two_straight_lines(pt_xobserved,m1,m2,xinter,pt_x0,pt_y0),\n",
    "                                observed = yobserved, sigma = sigma)\n",
    "\n",
    "        # NUTS sampler (default) is gradient based and won't work, use metropolis\n",
    "        step = pm.Metropolis(scaling = 0.1)\n",
    "\n",
    "        # This runs the mcmc sampler\n",
    "        mcmc = pm.sample(Nmcmc, tune = Nburn, chains = Nchains, cores = Ncores, step = step)\n",
    "\n",
    "    # Done, now is post-processing to get the data out of the sampler\n",
    "\n",
    "    posterior = az.extract(mcmc)\n",
    "\n",
    "    # Unwrap coeficients - WRITE LINES TO SAVE THE ARRAYS!!!\n",
    "    m1_array = posterior.m1.values\n",
    "    m1 = np.mean(m1_array)\n",
    "    # print('m1 mean: ' + str(round(m1,2)))\n",
    "\n",
    "    m2_array = posterior.m2.values\n",
    "    m2 = np.mean(m2_array)\n",
    "    # print('m2 mean: ' + str(round(m2,2)))\n",
    "\n",
    "    xinter_array = posterior.xinter.values\n",
    "    xinter = np.mean(xinter_array)\n",
    "    # print('xinter Mean: ' + str(round(xinter,2)))\n",
    "\n",
    "    sigma_array = posterior.sigma.values\n",
    "    sigma = np.mean(sigma_array)\n",
    "\n",
    "    # Lines!\n",
    "    b1 = y0 - m1*x0\n",
    "    b2 = m1*xinter + b1 - m2*xinter\n",
    "\n",
    "    # Make plot to check stuff\n",
    "    xpredicted = np.arange(xobserved.min(), xobserved.max()+0.1, 0.1)\n",
    "    ypredicted = m1*xpredicted + b1\n",
    "    i = np.where(xpredicted > xinter)[0]\n",
    "    ypredicted[i] = m2*xpredicted[i] + b2\n",
    "    plt.plot(xobserved, yobserved)\n",
    "    plt.plot(xpredicted, ypredicted)\n",
    "    plt.show()\n",
    "\n",
    "    # Get one-sigma region (need to obtain a ton of forward models and get stats)\n",
    "    N = len(posterior.m1.values)\n",
    "\n",
    "    yfit = np.zeros((len(xpredicted), N))\n",
    "    for k in range(N):\n",
    "        yfit[:,k] = non_pytensor_two_straight_lines(xpredicted,m1_array[k],m2_array[k],xinter_array[k],x0,y0)\n",
    "    mu = yfit.mean(1)\n",
    "    sig = yfit.std(1) * 1.95 #for 95% confidence\n",
    "    mu_plus = mu + sig\n",
    "    mu_minus = mu - sig\n",
    "\n",
    "    # Least squares\n",
    "    mls, bls = np.polyfit(xobserved, yobserved, 1)\n",
    "\n",
    "    # Find the transition point in ypredicted\n",
    "    diff = np.round(np.diff(ypredicted), decimals = 5)\n",
    "    # print(diff)\n",
    "    first_slope = diff[0]\n",
    "    second_slope = diff[-1]\n",
    "    try:\n",
    "        trans_idx = np.where((diff != first_slope) & (diff != second_slope))[0][0] + 1\n",
    "    except:\n",
    "        trans_idx = np.where(diff == first_slope)[0][0] + 1\n",
    "\n",
    "    # Get the transition point\n",
    "    mcmc_trans_x = xpredicted[trans_idx] # Number\n",
    "    mcmc_trans_y = ypredicted[trans_idx]\n",
    "\n",
    "    # Append things\n",
    "    events_list.append(evt_id)\n",
    "    mags_list.append(mag)\n",
    "    stas_list.append(sta)\n",
    "    hypdist_list.append(int_hypdist)\n",
    "    xhighs_list.append(xhigh)\n",
    "    m1s_list.append(m1)\n",
    "    m2s_list.append(m2)\n",
    "    xinters_list.append(xinter)\n",
    "    sigmas_list.append(sigma)\n",
    "    trans_time_list.append(mcmc_trans_x)\n",
    "\n",
    "    # Create folder for the event\n",
    "    array_save_dir = path + '3comp_MED40s_newdetrend_mcmc_arrays/' + sta + '/'\n",
    "    if os.path.isdir(array_save_dir):\n",
    "        pass\n",
    "    else:\n",
    "        os.makedirs(array_save_dir)\n",
    "\n",
    "    np.save(array_save_dir + 'xobserved.npy', xobserved)\n",
    "    np.save(array_save_dir + 'yobserved.npy', yobserved)\n",
    "    np.save(array_save_dir + 'xpredicted.npy', xpredicted)\n",
    "    np.save(array_save_dir + 'ypredicted.npy', ypredicted)\n",
    "    np.save(array_save_dir + 'forward_mus.npy', mu)\n",
    "    np.save(array_save_dir + 'foward_sigs.npy', sig)\n",
    "\n",
    "    summary = az.summary(mcmc, fmt = 'wide')\n",
    "    print(summary)\n",
    "    summary.to_csv(array_save_dir + 'mcmc_summary.csv', index = False)\n",
    "\n",
    "    # Folder for figures\n",
    "    fig_save_dir = path + '3comp_MED40s_newdetrend_mcmc_plots/'\n",
    "    if os.path.isdir(fig_save_dir):\n",
    "        pass\n",
    "    else:\n",
    "        os.makedirs(fig_save_dir)\n",
    "\n",
    "    az.plot_trace(mcmc)\n",
    "    # plt.show()\n",
    "    plt.savefig(fig_save_dir + sta + '_stats_plots.png', format = 'PNG')\n",
    "    plt.close()\n",
    "\n",
    "    # Plot all solutions\n",
    "    fig = plt.figure(dpi = 100)\n",
    "    ax = fig.add_subplot(111)\n",
    "    ax.set_title(str(sta))\n",
    "\n",
    "    ax.plot(xobserved, yobserved, color = 'blue', label = 'Observed (log peak strain)')\n",
    "    ax.plot(xpredicted, ypredicted, color = 'red', label = 'Predicted (MCMC)')\n",
    "    # ax.plot(xpredicted, mu, color = 'green', linestyle = '--', label = 'yfit')\n",
    "    # ax.plot(xpredicted, xpredicted * mls + bls, color = 'orange', label = 'np.polyfit least squares')\n",
    "    ax.scatter(xpredicted[trans_idx], ypredicted[trans_idx], marker = 'o', color = 'black', label = 'Transition at ' + str(round(xpredicted[trans_idx],2)) + ' sec')\n",
    "    # ax.scatter(closest_trans_x, closest_trans_y, marker = 'o', color = 'green', label = 'Adjusted transition at ' + str(round(closest_trans_x,2)) + ' sec')\n",
    "    # ax2 = ax.twinx()\n",
    "    # ax2.plot(xobserved, pythags_arr, color = 'violet')\n",
    "    # ax2.axhline(closest_trans_x, color = 'violet', linestyle = '--')\n",
    "    ax.fill_between(xpredicted, mu_plus, mu_minus, color = 'gray', alpha = 0.2, label = '95% confidence') # 95% confidence interval\n",
    "    ax.set_xlabel('Time (s) - p-wave at 10s')\n",
    "    ax.set_ylabel('log10 of peak strain')\n",
    "    # ax.set_xlim(10,13)\n",
    "    ax.legend()\n",
    "\n",
    "    # plt.show()\n",
    "\n",
    "    plt.savefig(fig_save_dir + sta + '.png', format = 'PNG')\n",
    "    plt.close()"
   ]
  },
  {
   "cell_type": "code",
   "execution_count": 5,
   "id": "20fec9fa-b02d-4374-9fd0-64047de8c330",
   "metadata": {},
   "outputs": [],
   "source": [
    "mcmc_array = np.column_stack((np.array(events_list), np.array(mags_list), np.array(stas_list), np.array(hypdist_list),\n",
    "                             np.array(xhighs_list), np.array(m1s_list), np.array(m2s_list), np.array(xinters_list),\n",
    "                             np.array(sigmas_list), np.round(np.array(trans_time_list),2)))\n",
    "\n",
    "np.save(path + '3comp_MED40s_newdetrend_mcmc_arrays/mcmc_colstack_array.npy', mcmc_array)"
   ]
  },
  {
   "cell_type": "code",
   "execution_count": 6,
   "id": "4573f5ee-b8e6-4ec8-a7cc-621865e07aca",
   "metadata": {},
   "outputs": [
    {
     "data": {
      "text/plain": [
       "(8, 10)"
      ]
     },
     "execution_count": 6,
     "metadata": {},
     "output_type": "execute_result"
    }
   ],
   "source": [
    "mcmc_array.shape"
   ]
  },
  {
   "cell_type": "code",
   "execution_count": 7,
   "id": "8e2c46b1-87f8-4969-aeeb-3f6fb9097aaf",
   "metadata": {},
   "outputs": [],
   "source": [
    "# mcmc_array = np.column_stack((np.array(events_list), np.array(mags_list), np.array(stas_list), np.array(hypdist_list),\n",
    "#                              np.array(xhighs_list), np.array(m1s_list), np.array(m2s_list), np.array(xinters_list),\n",
    "#                              np.array(sigmas_list), np.array(trans_time_list)))\n",
    "\n",
    "pd_mcmc = pd.DataFrame(mcmc_array, columns = ['eq_id', 'mag', 'sta', 'hypdist', 'xhigh', 'm1', 'm2', 'xinter', 'sigma', 'trans_time'])\n",
    "pd_mcmc.to_csv(path + '3comp_MED40s_newdetrend_mcmc_arrays/mcmc_results_summary.csv', index = False)"
   ]
  },
  {
   "cell_type": "code",
   "execution_count": 8,
   "id": "5e8194a5-928a-4c75-aed3-a95cfc0e2d14",
   "metadata": {},
   "outputs": [
    {
     "data": {
      "text/html": [
       "<div>\n",
       "<style scoped>\n",
       "    .dataframe tbody tr th:only-of-type {\n",
       "        vertical-align: middle;\n",
       "    }\n",
       "\n",
       "    .dataframe tbody tr th {\n",
       "        vertical-align: top;\n",
       "    }\n",
       "\n",
       "    .dataframe thead th {\n",
       "        text-align: right;\n",
       "    }\n",
       "</style>\n",
       "<table border=\"1\" class=\"dataframe\">\n",
       "  <thead>\n",
       "    <tr style=\"text-align: right;\">\n",
       "      <th></th>\n",
       "      <th>eq_id</th>\n",
       "      <th>mag</th>\n",
       "      <th>sta</th>\n",
       "      <th>hypdist</th>\n",
       "      <th>xhigh</th>\n",
       "      <th>m1</th>\n",
       "      <th>m2</th>\n",
       "      <th>xinter</th>\n",
       "      <th>sigma</th>\n",
       "      <th>trans_time</th>\n",
       "    </tr>\n",
       "  </thead>\n",
       "  <tbody>\n",
       "    <tr>\n",
       "      <th>0</th>\n",
       "      <td>tohoku</td>\n",
       "      <td>9.1</td>\n",
       "      <td>KST1</td>\n",
       "      <td>792</td>\n",
       "      <td>40</td>\n",
       "      <td>0.311260</td>\n",
       "      <td>0.035247</td>\n",
       "      <td>15.178538</td>\n",
       "      <td>0.133699</td>\n",
       "      <td>15.2</td>\n",
       "    </tr>\n",
       "    <tr>\n",
       "      <th>1</th>\n",
       "      <td>tohoku</td>\n",
       "      <td>9.1</td>\n",
       "      <td>HGM1</td>\n",
       "      <td>773</td>\n",
       "      <td>40</td>\n",
       "      <td>0.126902</td>\n",
       "      <td>0.031732</td>\n",
       "      <td>18.748517</td>\n",
       "      <td>0.095010</td>\n",
       "      <td>18.8</td>\n",
       "    </tr>\n",
       "    <tr>\n",
       "      <th>2</th>\n",
       "      <td>tohoku</td>\n",
       "      <td>9.1</td>\n",
       "      <td>ICU1</td>\n",
       "      <td>743</td>\n",
       "      <td>40</td>\n",
       "      <td>0.343299</td>\n",
       "      <td>0.035118</td>\n",
       "      <td>13.723173</td>\n",
       "      <td>0.081264</td>\n",
       "      <td>13.8</td>\n",
       "    </tr>\n",
       "    <tr>\n",
       "      <th>3</th>\n",
       "      <td>tohoku</td>\n",
       "      <td>9.1</td>\n",
       "      <td>ANO1</td>\n",
       "      <td>661</td>\n",
       "      <td>40</td>\n",
       "      <td>0.174413</td>\n",
       "      <td>0.035622</td>\n",
       "      <td>16.991932</td>\n",
       "      <td>0.085103</td>\n",
       "      <td>17.0</td>\n",
       "    </tr>\n",
       "    <tr>\n",
       "      <th>4</th>\n",
       "      <td>tohoku</td>\n",
       "      <td>9.1</td>\n",
       "      <td>SSK1</td>\n",
       "      <td>981</td>\n",
       "      <td>40</td>\n",
       "      <td>0.175808</td>\n",
       "      <td>0.025793</td>\n",
       "      <td>16.481493</td>\n",
       "      <td>0.066512</td>\n",
       "      <td>16.5</td>\n",
       "    </tr>\n",
       "    <tr>\n",
       "      <th>5</th>\n",
       "      <td>tohoku</td>\n",
       "      <td>9.1</td>\n",
       "      <td>UWA1</td>\n",
       "      <td>1045</td>\n",
       "      <td>40</td>\n",
       "      <td>0.252460</td>\n",
       "      <td>0.024581</td>\n",
       "      <td>14.913380</td>\n",
       "      <td>0.070260</td>\n",
       "      <td>15.0</td>\n",
       "    </tr>\n",
       "    <tr>\n",
       "      <th>6</th>\n",
       "      <td>tohoku</td>\n",
       "      <td>9.1</td>\n",
       "      <td>MUR1</td>\n",
       "      <td>927</td>\n",
       "      <td>40</td>\n",
       "      <td>0.398463</td>\n",
       "      <td>0.030000</td>\n",
       "      <td>12.908514</td>\n",
       "      <td>0.092004</td>\n",
       "      <td>13.0</td>\n",
       "    </tr>\n",
       "    <tr>\n",
       "      <th>7</th>\n",
       "      <td>tohoku</td>\n",
       "      <td>9.1</td>\n",
       "      <td>MYM1</td>\n",
       "      <td>724</td>\n",
       "      <td>40</td>\n",
       "      <td>0.374822</td>\n",
       "      <td>0.030397</td>\n",
       "      <td>14.401120</td>\n",
       "      <td>0.101500</td>\n",
       "      <td>14.5</td>\n",
       "    </tr>\n",
       "  </tbody>\n",
       "</table>\n",
       "</div>"
      ],
      "text/plain": [
       "    eq_id  mag   sta  hypdist  xhigh        m1        m2     xinter     sigma  \\\n",
       "0  tohoku  9.1  KST1      792     40  0.311260  0.035247  15.178538  0.133699   \n",
       "1  tohoku  9.1  HGM1      773     40  0.126902  0.031732  18.748517  0.095010   \n",
       "2  tohoku  9.1  ICU1      743     40  0.343299  0.035118  13.723173  0.081264   \n",
       "3  tohoku  9.1  ANO1      661     40  0.174413  0.035622  16.991932  0.085103   \n",
       "4  tohoku  9.1  SSK1      981     40  0.175808  0.025793  16.481493  0.066512   \n",
       "5  tohoku  9.1  UWA1     1045     40  0.252460  0.024581  14.913380  0.070260   \n",
       "6  tohoku  9.1  MUR1      927     40  0.398463  0.030000  12.908514  0.092004   \n",
       "7  tohoku  9.1  MYM1      724     40  0.374822  0.030397  14.401120  0.101500   \n",
       "\n",
       "   trans_time  \n",
       "0        15.2  \n",
       "1        18.8  \n",
       "2        13.8  \n",
       "3        17.0  \n",
       "4        16.5  \n",
       "5        15.0  \n",
       "6        13.0  \n",
       "7        14.5  "
      ]
     },
     "execution_count": 8,
     "metadata": {},
     "output_type": "execute_result"
    }
   ],
   "source": [
    "# Figure out the \"good\" and \"bad\" performing waveforms using an L2 norm\n",
    "\n",
    "mcmc_results = pd.read_csv(path + '3comp_MED40s_newdetrend_mcmc_arrays/mcmc_results_summary.csv')\n",
    "mcmc_results"
   ]
  },
  {
   "cell_type": "code",
   "execution_count": null,
   "id": "b6896dfc-7223-4a4c-a0ad-1bf0e1763e2e",
   "metadata": {},
   "outputs": [],
   "source": []
  },
  {
   "cell_type": "code",
   "execution_count": null,
   "id": "65b23c5a-2058-4ff2-95ab-0964f98d1b8d",
   "metadata": {},
   "outputs": [],
   "source": []
  },
  {
   "cell_type": "code",
   "execution_count": null,
   "id": "d3d02d6e-42fe-4ce6-a536-6d7f7d53db84",
   "metadata": {},
   "outputs": [],
   "source": []
  }
 ],
 "metadata": {
  "kernelspec": {
   "display_name": "pymc_env",
   "language": "python",
   "name": "pymc_env"
  },
  "language_info": {
   "codemirror_mode": {
    "name": "ipython",
    "version": 3
   },
   "file_extension": ".py",
   "mimetype": "text/x-python",
   "name": "python",
   "nbconvert_exporter": "python",
   "pygments_lexer": "ipython3",
   "version": "3.11.8"
  }
 },
 "nbformat": 4,
 "nbformat_minor": 5
}
