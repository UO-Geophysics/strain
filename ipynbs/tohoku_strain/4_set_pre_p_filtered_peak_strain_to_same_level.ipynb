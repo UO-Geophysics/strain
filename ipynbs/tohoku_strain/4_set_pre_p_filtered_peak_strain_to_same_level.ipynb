{
 "cells": [
  {
   "cell_type": "code",
   "execution_count": 1,
   "id": "eadbc20f",
   "metadata": {},
   "outputs": [],
   "source": [
    "from obspy.core import Stream, read\n",
    "import numpy as np\n",
    "import matplotlib.pyplot as plt\n",
    "import matplotlib as mpl \n",
    "from matplotlib.colors import Normalize\n",
    "import pandas as pd\n",
    "import os \n",
    "import os.path"
   ]
  },
  {
   "cell_type": "code",
   "execution_count": 2,
   "id": "e32f87ff",
   "metadata": {},
   "outputs": [],
   "source": [
    "path_to_files = '/Users/sydneydybing/StrainProject/2024/'\n",
    "\n",
    "earthquakes = pd.read_csv(path_to_files + 'M6_catalog_2004-2024.csv', dtype = str)\n",
    "\n",
    "weird_events_only = False\n",
    "if weird_events_only:\n",
    "    earthquakes = earthquakes.iloc[[4,15]]\n",
    "\n",
    "small_test = False\n",
    "if small_test:\n",
    "    earthquakes = earthquakes[5:7]\n",
    "    \n",
    "one_at_a_time = False\n",
    "if one_at_a_time:\n",
    "    earthquakes = earthquakes[:1]\n",
    "\n",
    "origin_times = earthquakes.time.values\n",
    "mags = earthquakes.mag.values\n",
    "\n",
    "bsm_mda = pd.read_csv(path_to_files + 'bsm_metadata.csv')\n",
    "NA_only = bsm_mda.loc[bsm_mda['LONG'] < -110]\n",
    "stas = NA_only['BNUM'].values\n",
    "\n",
    "eqs_test = earthquakes[4:5]\n",
    "ots_test = origin_times[4:5]\n",
    "mags_test = mags[4:5]\n",
    "rows_for_extra_times = [8,9,14,16]\n",
    "\n",
    "snr_array = np.load(path_to_files + 'NA_evt-sta_dist_array_less500km_withdata_withrmssnrs_FILTERED.npy')\n",
    "\n",
    "# Array order:\n",
    "\n",
    "# 0. Earthquake identifier\n",
    "# 1. Earthquake origin time\n",
    "# 2. Earthquake latitude\n",
    "# 3. Earthquake longitude\n",
    "# 4. Earthquake magnitude\n",
    "# 5. Station name\n",
    "# 6. Station latitude\n",
    "# 7. Station longitude\n",
    "# 8. Hypocentral distance (km)\n",
    "# 9. RMS strain SNR"
   ]
  },
  {
   "cell_type": "code",
   "execution_count": 6,
   "id": "8a46b7f5-7090-4c42-aadb-f85e49ba25c0",
   "metadata": {},
   "outputs": [
    {
     "data": {
      "text/plain": [
       "(439, 10)"
      ]
     },
     "execution_count": 6,
     "metadata": {},
     "output_type": "execute_result"
    }
   ],
   "source": [
    "snr_array.shape"
   ]
  },
  {
   "cell_type": "code",
   "execution_count": 8,
   "id": "0cd339f4-5675-4cbe-aecc-addcb06956b4",
   "metadata": {},
   "outputs": [
    {
     "name": "stdout",
     "output_type": "stream",
     "text": [
      "211\n"
     ]
    }
   ],
   "source": [
    "filtered_snrs = snr_array[:,9].astype(float)\n",
    "# filtered_snrs.shape\n",
    "j = np.where((~np.isnan(filtered_snrs)) & (filtered_snrs > 2))[0]\n",
    "print(len(j))"
   ]
  },
  {
   "cell_type": "code",
   "execution_count": 12,
   "id": "7e345c8f",
   "metadata": {},
   "outputs": [],
   "source": [
    "for i in range(len(snr_array)):\n",
    "    \n",
    "    eq_id = snr_array[i,0]\n",
    "    sta = snr_array[i,5]\n",
    "    hypdist = float(snr_array[i,8])\n",
    "    snr = float(snr_array[i,9])\n",
    "    # print(snr_array[i,9])\n",
    "    # print(eq_id, sta, hypdist, snr)\n",
    "    \n",
    "    if snr != 'nan' and snr > 2:\n",
    "        \n",
    "        strain_waves = read(path_to_files + 'strain_data/filtered_trimmed_rms/' + str(eq_id) + '/' + str(sta) + '.mseed')\n",
    "        \n",
    "        mod_strain = strain_waves.copy()\n",
    "        \n",
    "        strain_times = strain_waves[0].times()\n",
    "        strain_data = strain_waves[0].data\n",
    "        mod_strain_times = mod_strain[0].times()\n",
    "        mod_strain_data = mod_strain[0].data\n",
    "        \n",
    "        samp_rate = strain_waves[0].stats.sampling_rate\n",
    "        \n",
    "        # Set the strain before the P-wave to the strain at the P-wave arrival\n",
    "        p_arrival_strain = strain_data[int(10*samp_rate)]\n",
    "        mod_strain_data[:int(10*samp_rate)] = p_arrival_strain\n",
    "        \n",
    "        # Calculate peak strain again on new modified RMS strain\n",
    "        \n",
    "        pst = mod_strain.copy()\n",
    "            \n",
    "        # Loop over samples\n",
    "        for k in range(0,len(mod_strain[0].data)): #avoid starting at zero\n",
    "            \n",
    "            if k == 0:\n",
    "                strain = mod_strain_data[0]\n",
    "                max_strain = strain\n",
    "            \n",
    "            else:\n",
    "                # Grab progressively longer windows and save the biggest strain\n",
    "                strain = mod_strain_data[:k+1] # Has to be k+1 because slicing doesn't include last one\n",
    "                max_strain = max(strain)\n",
    "\n",
    "            # Put peak strain back into the output stream\n",
    "            pst[0].data[k] = max_strain \n",
    "\n",
    "        pst_times = pst[0].times()\n",
    "        pst_data = pst[0].data\n",
    "        pst[0].stats.channel = 'PST' \n",
    "        \n",
    "#         # Plot how the new method looks to verify\n",
    "#         fig = plt.figure(dpi = 300, facecolor = 'white', num = 1, clear = True)\n",
    "#         ax = fig.add_subplot(111)\n",
    "#         ax.grid()\n",
    "#         ax.set_title(str(eq_id) + ', ' + str(sta) + '\\n SNR ' + str(snr) + ', hypdist ' + str(round(hypdist,1)) + ' km')\n",
    "#         ax.plot(strain_times, strain_data, color = 'blue', label = 'RMS strain')\n",
    "#         ax.plot(strain_times, mod_strain_data, color = 'green', label = 'Modified RMS strain', alpha = 0.5)\n",
    "#         ax.plot(pst_times, pst_data, color = 'red', label = 'Peak strain', linestyle = '--')\n",
    "# #         ax.axhline(y = p_arrival_strain, color = 'orange')\n",
    "#         ax.set_yscale('log')\n",
    "#     #     ax.set_ylabel('Log of peak extensional\\nmicrostrain ($10^{-6}$)', fontsize = 15)\n",
    "#         ax.set_xlabel('Time (s)')\n",
    "#         ax.set_xlim(1,20)\n",
    "#     #     ax.set_xticks([0,1,2,3,4,5,6,7,8,9,10,11,12,13,14,15,16,17,18,19,20])\n",
    "#         ax.axvline(x = 10, color = 'gray', linestyle = '--')\n",
    "#     #             ax.tick_params(labelsize = 13)\n",
    "#         ax.legend(loc = 'upper left')\n",
    "# #         plt.show()\n",
    "#         plt.savefig(path_to_files + 'figures/new_peak_strain_plots_post_p_wave_examples/' + str(eq_id) + '_' + str(sta) + '.png', format = 'PNG')\n",
    "#         plt.close();\n",
    "        \n",
    "        # Create folder for the event\n",
    "        eq_sta_save_dir = path_to_files + 'strain_data/filtered_peak_post_p/' + str(eq_id) + '/'\n",
    "#                 print(eq_sta_save_dir)\n",
    "        if os.path.isdir(eq_sta_save_dir):\n",
    "            pass\n",
    "        else:\n",
    "            os.makedirs(eq_sta_save_dir)\n",
    "\n",
    "        pst.write(eq_sta_save_dir + sta + '.mseed', format = 'MSEED')\n",
    "        \n",
    "#     else:\n",
    "#         continue"
   ]
  },
  {
   "cell_type": "code",
   "execution_count": null,
   "id": "5dae8ac4",
   "metadata": {},
   "outputs": [],
   "source": []
  }
 ],
 "metadata": {
  "kernelspec": {
   "display_name": "Python 3 (ipykernel)",
   "language": "python",
   "name": "python3"
  },
  "language_info": {
   "codemirror_mode": {
    "name": "ipython",
    "version": 3
   },
   "file_extension": ".py",
   "mimetype": "text/x-python",
   "name": "python",
   "nbconvert_exporter": "python",
   "pygments_lexer": "ipython3",
   "version": "3.8.3"
  }
 },
 "nbformat": 4,
 "nbformat_minor": 5
}
