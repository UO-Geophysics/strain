{
 "cells": [
  {
   "cell_type": "code",
   "execution_count": null,
   "id": "efd88cde",
   "metadata": {},
   "outputs": [],
   "source": [
    "from obspy.core import Stream, read\n",
    "import numpy as np\n",
    "from pytensor.compile.ops import as_op\n",
    "import pytensor\n",
    "import pytensor.tensor as pt\n",
    "import matplotlib.pyplot as plt\n",
    "import pandas as pd\n",
    "import os \n",
    "import os.path\n",
    "import pymc as pm\n",
    "import arviz as az"
   ]
  },
  {
   "cell_type": "code",
   "execution_count": null,
   "id": "421e122f",
   "metadata": {},
   "outputs": [],
   "source": [
    "# What exactly are the colunns here? Amplitude of waves at a specific time?\n",
    "# My equivalent = peak strain at a specific time\n",
    "\n",
    "# Build the target function, misfit to this is what is being minimized\n",
    "@as_op(itypes=[pt.dvector,pt.dscalar,pt.dscalar,pt.dscalar,pt.dscalar,pt.dscalar], otypes=[pt.dvector])\n",
    "def two_straight_lines(x,m1,m2,xinter,x0,y0):\n",
    "    '''\n",
    "    input x coordiantes are in x\n",
    "    slopes are m1 and m2\n",
    "    intercept of left hand line is b1 \n",
    "    intersection of two lines is at xinter\n",
    "    \n",
    "    Note that y intercept of second straight line is dependent on b1 and xinter\n",
    "      and defined entirely by them (so that the lines touch).\n",
    "    '''\n",
    "    \n",
    "    # Output vector\n",
    "    y_out = np.ones(len(x))\n",
    "    \n",
    "    # Before building the first straight line, calculate the intercept\n",
    "    b1 = y0 - m1*x0\n",
    "    \n",
    "    # Build first straight line segment\n",
    "    y_out = m1*x + b1\n",
    "    \n",
    "    # Find points that are after the intersection and make the second segment\n",
    "    i = np.where(x>xinter)[0]\n",
    "    \n",
    "    # Define second y intercept\n",
    "    b2 = m1*xinter + b1 - m2*xinter\n",
    "    \n",
    "    # Make second straight line\n",
    "    y_out[i] = m2*x[i] + b2\n",
    "\n",
    "    return y_out\n",
    "\n",
    "# Build the target function, misfit to this is what is being minimized\n",
    "def non_pytensor_two_straight_lines(x,m1,m2,xinter,x0,y0):\n",
    "    '''\n",
    "    input x coordiantes are in x\n",
    "    slopes are m1 and m2\n",
    "    intercept of left hand line is b1 \n",
    "    intersection of two lines is at xinter\n",
    "    \n",
    "    Note that y intercept of second straight line is dependent on b1 and xinter\n",
    "      and defined entirely by them (so that the lines touch).\n",
    "    '''\n",
    "    \n",
    "    # Output vector\n",
    "    yout = np.ones(len(x))\n",
    "    \n",
    "    # Before building the first straight line, calculate the intercept\n",
    "    b1 = y0 - m1*x0\n",
    "    \n",
    "    # Build first straight line segment\n",
    "    yout = m1*x + b1\n",
    "    \n",
    "    # Find points that are after the intersection and make the second segment\n",
    "    i = np.where(x>xinter)[0]\n",
    "    \n",
    "    # Define second y intercept\n",
    "    b2 = m1*xinter + b1 - m2*xinter\n",
    "    \n",
    "    # Make second straight line\n",
    "    yout[i] = m2*x[i] + b2\n",
    "\n",
    "    return yout"
   ]
  },
  {
   "cell_type": "code",
   "execution_count": null,
   "id": "9a249986",
   "metadata": {},
   "outputs": [
    {
     "data": {
      "text/html": [
       "<div>\n",
       "<style scoped>\n",
       "    .dataframe tbody tr th:only-of-type {\n",
       "        vertical-align: middle;\n",
       "    }\n",
       "\n",
       "    .dataframe tbody tr th {\n",
       "        vertical-align: top;\n",
       "    }\n",
       "\n",
       "    .dataframe thead th {\n",
       "        text-align: right;\n",
       "    }\n",
       "</style>\n",
       "<table border=\"1\" class=\"dataframe\">\n",
       "  <thead>\n",
       "    <tr style=\"text-align: right;\">\n",
       "      <th></th>\n",
       "      <th>Station_name</th>\n",
       "      <th>latitude</th>\n",
       "      <th>longitude</th>\n",
       "      <th>azimuth(S1)</th>\n",
       "      <th>azimuth(S2)</th>\n",
       "      <th>azimuth(S3)</th>\n",
       "      <th>azimuth(S4)</th>\n",
       "      <th>hyp_dist_km</th>\n",
       "      <th>rms_snr</th>\n",
       "    </tr>\n",
       "  </thead>\n",
       "  <tbody>\n",
       "    <tr>\n",
       "      <th>0</th>\n",
       "      <td>KST1</td>\n",
       "      <td>33.5201</td>\n",
       "      <td>135.8363</td>\n",
       "      <td>310</td>\n",
       "      <td>40</td>\n",
       "      <td>85</td>\n",
       "      <td>175</td>\n",
       "      <td>792.746765</td>\n",
       "      <td>1.273396</td>\n",
       "    </tr>\n",
       "    <tr>\n",
       "      <th>1</th>\n",
       "      <td>HGM1</td>\n",
       "      <td>33.8675</td>\n",
       "      <td>135.7318</td>\n",
       "      <td>337</td>\n",
       "      <td>67</td>\n",
       "      <td>112</td>\n",
       "      <td>202</td>\n",
       "      <td>773.809644</td>\n",
       "      <td>1.139778</td>\n",
       "    </tr>\n",
       "    <tr>\n",
       "      <th>2</th>\n",
       "      <td>ICU1</td>\n",
       "      <td>33.9001</td>\n",
       "      <td>136.1379</td>\n",
       "      <td>141</td>\n",
       "      <td>231</td>\n",
       "      <td>276</td>\n",
       "      <td>6</td>\n",
       "      <td>743.491829</td>\n",
       "      <td>1.203692</td>\n",
       "    </tr>\n",
       "    <tr>\n",
       "      <th>3</th>\n",
       "      <td>ANO1</td>\n",
       "      <td>34.7870</td>\n",
       "      <td>136.4019</td>\n",
       "      <td>38</td>\n",
       "      <td>128</td>\n",
       "      <td>173</td>\n",
       "      <td>263</td>\n",
       "      <td>661.251185</td>\n",
       "      <td>1.113420</td>\n",
       "    </tr>\n",
       "    <tr>\n",
       "      <th>4</th>\n",
       "      <td>SSK1</td>\n",
       "      <td>33.3896</td>\n",
       "      <td>133.3229</td>\n",
       "      <td>355</td>\n",
       "      <td>85</td>\n",
       "      <td>130</td>\n",
       "      <td>220</td>\n",
       "      <td>981.546244</td>\n",
       "      <td>1.285971</td>\n",
       "    </tr>\n",
       "    <tr>\n",
       "      <th>5</th>\n",
       "      <td>UWA1</td>\n",
       "      <td>33.3859</td>\n",
       "      <td>132.4823</td>\n",
       "      <td>222</td>\n",
       "      <td>312</td>\n",
       "      <td>357</td>\n",
       "      <td>87</td>\n",
       "      <td>1045.683453</td>\n",
       "      <td>1.282839</td>\n",
       "    </tr>\n",
       "    <tr>\n",
       "      <th>6</th>\n",
       "      <td>MUR1</td>\n",
       "      <td>33.2856</td>\n",
       "      <td>134.1563</td>\n",
       "      <td>147</td>\n",
       "      <td>237</td>\n",
       "      <td>282</td>\n",
       "      <td>12</td>\n",
       "      <td>927.200827</td>\n",
       "      <td>1.258307</td>\n",
       "    </tr>\n",
       "    <tr>\n",
       "      <th>7</th>\n",
       "      <td>MYM1</td>\n",
       "      <td>34.1123</td>\n",
       "      <td>136.1815</td>\n",
       "      <td>237</td>\n",
       "      <td>327</td>\n",
       "      <td>12</td>\n",
       "      <td>102</td>\n",
       "      <td>724.694237</td>\n",
       "      <td>1.134499</td>\n",
       "    </tr>\n",
       "  </tbody>\n",
       "</table>\n",
       "</div>"
      ],
      "text/plain": [
       "  Station_name  latitude  longitude  azimuth(S1)  azimuth(S2)  azimuth(S3)  \\\n",
       "0         KST1   33.5201   135.8363          310           40           85   \n",
       "1         HGM1   33.8675   135.7318          337           67          112   \n",
       "2         ICU1   33.9001   136.1379          141          231          276   \n",
       "3         ANO1   34.7870   136.4019           38          128          173   \n",
       "4         SSK1   33.3896   133.3229          355           85          130   \n",
       "5         UWA1   33.3859   132.4823          222          312          357   \n",
       "6         MUR1   33.2856   134.1563          147          237          282   \n",
       "7         MYM1   34.1123   136.1815          237          327           12   \n",
       "\n",
       "   azimuth(S4)  hyp_dist_km   rms_snr  \n",
       "0          175   792.746765  1.273396  \n",
       "1          202   773.809644  1.139778  \n",
       "2            6   743.491829  1.203692  \n",
       "3          263   661.251185  1.113420  \n",
       "4          220   981.546244  1.285971  \n",
       "5           87  1045.683453  1.282839  \n",
       "6           12   927.200827  1.258307  \n",
       "7          102   724.694237  1.134499  "
      ]
     },
     "execution_count": 5,
     "metadata": {},
     "output_type": "execute_result"
    }
   ],
   "source": [
    "path = '/Users/sydneydybing/StrainProject/2024/tohoku_strain_data/'\n",
    "snr_array = pd.read_csv(path + 'stations_hypdists_snrs.list')\n",
    "snr_array"
   ]
  },
  {
   "cell_type": "code",
   "execution_count": 16,
   "id": "b46576ee",
   "metadata": {
    "tags": []
   },
   "outputs": [
    {
     "name": "stdout",
     "output_type": "stream",
     "text": [
      "Processing KST1\n",
      "20.0\n"
     ]
    },
    {
     "name": "stderr",
     "output_type": "stream",
     "text": [
      "Sequential sampling (4 chains in 1 job)\n",
      "CompoundStep\n",
      ">Metropolis: [m1]\n",
      ">Metropolis: [m2]\n",
      ">Metropolis: [xinter]\n",
      ">Metropolis: [sigma]\n"
     ]
    },
    {
     "data": {
      "text/html": [
       "\n",
       "<style>\n",
       "    /* Turns off some styling */\n",
       "    progress {\n",
       "        /* gets rid of default border in Firefox and Opera. */\n",
       "        border: none;\n",
       "        /* Needs to be in here for Safari polyfill so background images work as expected. */\n",
       "        background-size: auto;\n",
       "    }\n",
       "    progress:not([value]), progress:not([value])::-webkit-progress-bar {\n",
       "        background: repeating-linear-gradient(45deg, #7e7e7e, #7e7e7e 10px, #5c5c5c 10px, #5c5c5c 20px);\n",
       "    }\n",
       "    .progress-bar-interrupted, .progress-bar-interrupted::-webkit-progress-bar {\n",
       "        background: #F44336;\n",
       "    }\n",
       "</style>\n"
      ],
      "text/plain": [
       "<IPython.core.display.HTML object>"
      ]
     },
     "metadata": {},
     "output_type": "display_data"
    },
    {
     "data": {
      "text/html": [
       "\n",
       "    <div>\n",
       "      <progress value='55000' class='' max='55000' style='width:300px; height:20px; vertical-align: middle;'></progress>\n",
       "      100.00% [55000/55000 01:18&lt;00:00 Sampling chain 0, 0 divergences]\n",
       "    </div>\n",
       "    "
      ],
      "text/plain": [
       "<IPython.core.display.HTML object>"
      ]
     },
     "metadata": {},
     "output_type": "display_data"
    },
    {
     "data": {
      "text/html": [
       "\n",
       "<style>\n",
       "    /* Turns off some styling */\n",
       "    progress {\n",
       "        /* gets rid of default border in Firefox and Opera. */\n",
       "        border: none;\n",
       "        /* Needs to be in here for Safari polyfill so background images work as expected. */\n",
       "        background-size: auto;\n",
       "    }\n",
       "    progress:not([value]), progress:not([value])::-webkit-progress-bar {\n",
       "        background: repeating-linear-gradient(45deg, #7e7e7e, #7e7e7e 10px, #5c5c5c 10px, #5c5c5c 20px);\n",
       "    }\n",
       "    .progress-bar-interrupted, .progress-bar-interrupted::-webkit-progress-bar {\n",
       "        background: #F44336;\n",
       "    }\n",
       "</style>\n"
      ],
      "text/plain": [
       "<IPython.core.display.HTML object>"
      ]
     },
     "metadata": {},
     "output_type": "display_data"
    },
    {
     "data": {
      "text/html": [
       "\n",
       "    <div>\n",
       "      <progress value='55000' class='' max='55000' style='width:300px; height:20px; vertical-align: middle;'></progress>\n",
       "      100.00% [55000/55000 01:13&lt;00:00 Sampling chain 1, 0 divergences]\n",
       "    </div>\n",
       "    "
      ],
      "text/plain": [
       "<IPython.core.display.HTML object>"
      ]
     },
     "metadata": {},
     "output_type": "display_data"
    },
    {
     "data": {
      "text/html": [
       "\n",
       "<style>\n",
       "    /* Turns off some styling */\n",
       "    progress {\n",
       "        /* gets rid of default border in Firefox and Opera. */\n",
       "        border: none;\n",
       "        /* Needs to be in here for Safari polyfill so background images work as expected. */\n",
       "        background-size: auto;\n",
       "    }\n",
       "    progress:not([value]), progress:not([value])::-webkit-progress-bar {\n",
       "        background: repeating-linear-gradient(45deg, #7e7e7e, #7e7e7e 10px, #5c5c5c 10px, #5c5c5c 20px);\n",
       "    }\n",
       "    .progress-bar-interrupted, .progress-bar-interrupted::-webkit-progress-bar {\n",
       "        background: #F44336;\n",
       "    }\n",
       "</style>\n"
      ],
      "text/plain": [
       "<IPython.core.display.HTML object>"
      ]
     },
     "metadata": {},
     "output_type": "display_data"
    },
    {
     "data": {
      "text/html": [
       "\n",
       "    <div>\n",
       "      <progress value='55000' class='' max='55000' style='width:300px; height:20px; vertical-align: middle;'></progress>\n",
       "      100.00% [55000/55000 01:24&lt;00:00 Sampling chain 2, 0 divergences]\n",
       "    </div>\n",
       "    "
      ],
      "text/plain": [
       "<IPython.core.display.HTML object>"
      ]
     },
     "metadata": {},
     "output_type": "display_data"
    },
    {
     "data": {
      "text/html": [
       "\n",
       "<style>\n",
       "    /* Turns off some styling */\n",
       "    progress {\n",
       "        /* gets rid of default border in Firefox and Opera. */\n",
       "        border: none;\n",
       "        /* Needs to be in here for Safari polyfill so background images work as expected. */\n",
       "        background-size: auto;\n",
       "    }\n",
       "    progress:not([value]), progress:not([value])::-webkit-progress-bar {\n",
       "        background: repeating-linear-gradient(45deg, #7e7e7e, #7e7e7e 10px, #5c5c5c 10px, #5c5c5c 20px);\n",
       "    }\n",
       "    .progress-bar-interrupted, .progress-bar-interrupted::-webkit-progress-bar {\n",
       "        background: #F44336;\n",
       "    }\n",
       "</style>\n"
      ],
      "text/plain": [
       "<IPython.core.display.HTML object>"
      ]
     },
     "metadata": {},
     "output_type": "display_data"
    },
    {
     "data": {
      "text/html": [
       "\n",
       "    <div>\n",
       "      <progress value='55000' class='' max='55000' style='width:300px; height:20px; vertical-align: middle;'></progress>\n",
       "      100.00% [55000/55000 01:14&lt;00:00 Sampling chain 3, 0 divergences]\n",
       "    </div>\n",
       "    "
      ],
      "text/plain": [
       "<IPython.core.display.HTML object>"
      ]
     },
     "metadata": {},
     "output_type": "display_data"
    },
    {
     "name": "stderr",
     "output_type": "stream",
     "text": [
      "Sampling 4 chains for 5_000 tune and 50_000 draw iterations (20_000 + 200_000 draws total) took 310 seconds.\n",
      "The rhat statistic is larger than 1.01 for some parameters. This indicates problems during sampling. See https://arxiv.org/abs/1903.08008 for details\n",
      "The effective sample size per chain is smaller than 100 for some parameters.  A higher number is needed for reliable rhat and ess computation. See https://arxiv.org/abs/1903.08008 for details\n"
     ]
    },
    {
     "name": "stdout",
     "output_type": "stream",
     "text": [
      "          mean     sd  hdi_3%  hdi_97%  mcse_mean  mcse_sd  ess_bulk  \\\n",
      "m1       0.489  0.212   0.171    0.910      0.012    0.008     332.0   \n",
      "m2       0.144  0.005   0.134    0.154      0.000    0.000    1682.0   \n",
      "xinter  10.162  0.121  10.010   10.373      0.007    0.005     314.0   \n",
      "sigma    0.072  0.005   0.062    0.082      0.000    0.000   31197.0   \n",
      "\n",
      "        ess_tail  r_hat  \n",
      "m1         479.0   1.01  \n",
      "m2        2198.0   1.00  \n",
      "xinter     561.0   1.01  \n",
      "sigma    40079.0   1.00  \n",
      "Processing HGM1\n",
      "20.0\n"
     ]
    },
    {
     "name": "stderr",
     "output_type": "stream",
     "text": [
      "Sequential sampling (4 chains in 1 job)\n",
      "CompoundStep\n",
      ">Metropolis: [m1]\n",
      ">Metropolis: [m2]\n",
      ">Metropolis: [xinter]\n",
      ">Metropolis: [sigma]\n"
     ]
    },
    {
     "data": {
      "text/html": [
       "\n",
       "<style>\n",
       "    /* Turns off some styling */\n",
       "    progress {\n",
       "        /* gets rid of default border in Firefox and Opera. */\n",
       "        border: none;\n",
       "        /* Needs to be in here for Safari polyfill so background images work as expected. */\n",
       "        background-size: auto;\n",
       "    }\n",
       "    progress:not([value]), progress:not([value])::-webkit-progress-bar {\n",
       "        background: repeating-linear-gradient(45deg, #7e7e7e, #7e7e7e 10px, #5c5c5c 10px, #5c5c5c 20px);\n",
       "    }\n",
       "    .progress-bar-interrupted, .progress-bar-interrupted::-webkit-progress-bar {\n",
       "        background: #F44336;\n",
       "    }\n",
       "</style>\n"
      ],
      "text/plain": [
       "<IPython.core.display.HTML object>"
      ]
     },
     "metadata": {},
     "output_type": "display_data"
    },
    {
     "data": {
      "text/html": [
       "\n",
       "    <div>\n",
       "      <progress value='55000' class='' max='55000' style='width:300px; height:20px; vertical-align: middle;'></progress>\n",
       "      100.00% [55000/55000 01:18&lt;00:00 Sampling chain 0, 0 divergences]\n",
       "    </div>\n",
       "    "
      ],
      "text/plain": [
       "<IPython.core.display.HTML object>"
      ]
     },
     "metadata": {},
     "output_type": "display_data"
    },
    {
     "data": {
      "text/html": [
       "\n",
       "<style>\n",
       "    /* Turns off some styling */\n",
       "    progress {\n",
       "        /* gets rid of default border in Firefox and Opera. */\n",
       "        border: none;\n",
       "        /* Needs to be in here for Safari polyfill so background images work as expected. */\n",
       "        background-size: auto;\n",
       "    }\n",
       "    progress:not([value]), progress:not([value])::-webkit-progress-bar {\n",
       "        background: repeating-linear-gradient(45deg, #7e7e7e, #7e7e7e 10px, #5c5c5c 10px, #5c5c5c 20px);\n",
       "    }\n",
       "    .progress-bar-interrupted, .progress-bar-interrupted::-webkit-progress-bar {\n",
       "        background: #F44336;\n",
       "    }\n",
       "</style>\n"
      ],
      "text/plain": [
       "<IPython.core.display.HTML object>"
      ]
     },
     "metadata": {},
     "output_type": "display_data"
    },
    {
     "data": {
      "text/html": [
       "\n",
       "    <div>\n",
       "      <progress value='55000' class='' max='55000' style='width:300px; height:20px; vertical-align: middle;'></progress>\n",
       "      100.00% [55000/55000 01:17&lt;00:00 Sampling chain 1, 0 divergences]\n",
       "    </div>\n",
       "    "
      ],
      "text/plain": [
       "<IPython.core.display.HTML object>"
      ]
     },
     "metadata": {},
     "output_type": "display_data"
    },
    {
     "data": {
      "text/html": [
       "\n",
       "<style>\n",
       "    /* Turns off some styling */\n",
       "    progress {\n",
       "        /* gets rid of default border in Firefox and Opera. */\n",
       "        border: none;\n",
       "        /* Needs to be in here for Safari polyfill so background images work as expected. */\n",
       "        background-size: auto;\n",
       "    }\n",
       "    progress:not([value]), progress:not([value])::-webkit-progress-bar {\n",
       "        background: repeating-linear-gradient(45deg, #7e7e7e, #7e7e7e 10px, #5c5c5c 10px, #5c5c5c 20px);\n",
       "    }\n",
       "    .progress-bar-interrupted, .progress-bar-interrupted::-webkit-progress-bar {\n",
       "        background: #F44336;\n",
       "    }\n",
       "</style>\n"
      ],
      "text/plain": [
       "<IPython.core.display.HTML object>"
      ]
     },
     "metadata": {},
     "output_type": "display_data"
    },
    {
     "data": {
      "text/html": [
       "\n",
       "    <div>\n",
       "      <progress value='55000' class='' max='55000' style='width:300px; height:20px; vertical-align: middle;'></progress>\n",
       "      100.00% [55000/55000 01:33&lt;00:00 Sampling chain 2, 0 divergences]\n",
       "    </div>\n",
       "    "
      ],
      "text/plain": [
       "<IPython.core.display.HTML object>"
      ]
     },
     "metadata": {},
     "output_type": "display_data"
    },
    {
     "data": {
      "text/html": [
       "\n",
       "<style>\n",
       "    /* Turns off some styling */\n",
       "    progress {\n",
       "        /* gets rid of default border in Firefox and Opera. */\n",
       "        border: none;\n",
       "        /* Needs to be in here for Safari polyfill so background images work as expected. */\n",
       "        background-size: auto;\n",
       "    }\n",
       "    progress:not([value]), progress:not([value])::-webkit-progress-bar {\n",
       "        background: repeating-linear-gradient(45deg, #7e7e7e, #7e7e7e 10px, #5c5c5c 10px, #5c5c5c 20px);\n",
       "    }\n",
       "    .progress-bar-interrupted, .progress-bar-interrupted::-webkit-progress-bar {\n",
       "        background: #F44336;\n",
       "    }\n",
       "</style>\n"
      ],
      "text/plain": [
       "<IPython.core.display.HTML object>"
      ]
     },
     "metadata": {},
     "output_type": "display_data"
    },
    {
     "data": {
      "text/html": [
       "\n",
       "    <div>\n",
       "      <progress value='55000' class='' max='55000' style='width:300px; height:20px; vertical-align: middle;'></progress>\n",
       "      100.00% [55000/55000 01:31&lt;00:00 Sampling chain 3, 0 divergences]\n",
       "    </div>\n",
       "    "
      ],
      "text/plain": [
       "<IPython.core.display.HTML object>"
      ]
     },
     "metadata": {},
     "output_type": "display_data"
    },
    {
     "name": "stderr",
     "output_type": "stream",
     "text": [
      "Sampling 4 chains for 5_000 tune and 50_000 draw iterations (20_000 + 200_000 draws total) took 341 seconds.\n",
      "The rhat statistic is larger than 1.01 for some parameters. This indicates problems during sampling. See https://arxiv.org/abs/1903.08008 for details\n"
     ]
    },
    {
     "name": "stdout",
     "output_type": "stream",
     "text": [
      "          mean     sd  hdi_3%  hdi_97%  mcse_mean  mcse_sd  ess_bulk  \\\n",
      "m1       0.978  0.020   0.942    1.000      0.001    0.001     490.0   \n",
      "m2       0.114  0.003   0.108    0.121      0.000    0.000    1457.0   \n",
      "xinter  10.406  0.014  10.380   10.434      0.001    0.000     769.0   \n",
      "sigma    0.042  0.003   0.037    0.048      0.000    0.000   19901.0   \n",
      "\n",
      "        ess_tail  r_hat  \n",
      "m1         619.0   1.01  \n",
      "m2        2124.0   1.00  \n",
      "xinter    1386.0   1.01  \n",
      "sigma    37648.0   1.00  \n",
      "Processing ICU1\n",
      "20.0\n"
     ]
    },
    {
     "name": "stderr",
     "output_type": "stream",
     "text": [
      "Sequential sampling (4 chains in 1 job)\n",
      "CompoundStep\n",
      ">Metropolis: [m1]\n",
      ">Metropolis: [m2]\n",
      ">Metropolis: [xinter]\n",
      ">Metropolis: [sigma]\n"
     ]
    },
    {
     "data": {
      "text/html": [
       "\n",
       "<style>\n",
       "    /* Turns off some styling */\n",
       "    progress {\n",
       "        /* gets rid of default border in Firefox and Opera. */\n",
       "        border: none;\n",
       "        /* Needs to be in here for Safari polyfill so background images work as expected. */\n",
       "        background-size: auto;\n",
       "    }\n",
       "    progress:not([value]), progress:not([value])::-webkit-progress-bar {\n",
       "        background: repeating-linear-gradient(45deg, #7e7e7e, #7e7e7e 10px, #5c5c5c 10px, #5c5c5c 20px);\n",
       "    }\n",
       "    .progress-bar-interrupted, .progress-bar-interrupted::-webkit-progress-bar {\n",
       "        background: #F44336;\n",
       "    }\n",
       "</style>\n"
      ],
      "text/plain": [
       "<IPython.core.display.HTML object>"
      ]
     },
     "metadata": {},
     "output_type": "display_data"
    },
    {
     "data": {
      "text/html": [
       "\n",
       "    <div>\n",
       "      <progress value='55000' class='' max='55000' style='width:300px; height:20px; vertical-align: middle;'></progress>\n",
       "      100.00% [55000/55000 01:32&lt;00:00 Sampling chain 0, 0 divergences]\n",
       "    </div>\n",
       "    "
      ],
      "text/plain": [
       "<IPython.core.display.HTML object>"
      ]
     },
     "metadata": {},
     "output_type": "display_data"
    },
    {
     "data": {
      "text/html": [
       "\n",
       "<style>\n",
       "    /* Turns off some styling */\n",
       "    progress {\n",
       "        /* gets rid of default border in Firefox and Opera. */\n",
       "        border: none;\n",
       "        /* Needs to be in here for Safari polyfill so background images work as expected. */\n",
       "        background-size: auto;\n",
       "    }\n",
       "    progress:not([value]), progress:not([value])::-webkit-progress-bar {\n",
       "        background: repeating-linear-gradient(45deg, #7e7e7e, #7e7e7e 10px, #5c5c5c 10px, #5c5c5c 20px);\n",
       "    }\n",
       "    .progress-bar-interrupted, .progress-bar-interrupted::-webkit-progress-bar {\n",
       "        background: #F44336;\n",
       "    }\n",
       "</style>\n"
      ],
      "text/plain": [
       "<IPython.core.display.HTML object>"
      ]
     },
     "metadata": {},
     "output_type": "display_data"
    },
    {
     "data": {
      "text/html": [
       "\n",
       "    <div>\n",
       "      <progress value='55000' class='' max='55000' style='width:300px; height:20px; vertical-align: middle;'></progress>\n",
       "      100.00% [55000/55000 01:28&lt;00:00 Sampling chain 1, 0 divergences]\n",
       "    </div>\n",
       "    "
      ],
      "text/plain": [
       "<IPython.core.display.HTML object>"
      ]
     },
     "metadata": {},
     "output_type": "display_data"
    },
    {
     "data": {
      "text/html": [
       "\n",
       "<style>\n",
       "    /* Turns off some styling */\n",
       "    progress {\n",
       "        /* gets rid of default border in Firefox and Opera. */\n",
       "        border: none;\n",
       "        /* Needs to be in here for Safari polyfill so background images work as expected. */\n",
       "        background-size: auto;\n",
       "    }\n",
       "    progress:not([value]), progress:not([value])::-webkit-progress-bar {\n",
       "        background: repeating-linear-gradient(45deg, #7e7e7e, #7e7e7e 10px, #5c5c5c 10px, #5c5c5c 20px);\n",
       "    }\n",
       "    .progress-bar-interrupted, .progress-bar-interrupted::-webkit-progress-bar {\n",
       "        background: #F44336;\n",
       "    }\n",
       "</style>\n"
      ],
      "text/plain": [
       "<IPython.core.display.HTML object>"
      ]
     },
     "metadata": {},
     "output_type": "display_data"
    },
    {
     "data": {
      "text/html": [
       "\n",
       "    <div>\n",
       "      <progress value='55000' class='' max='55000' style='width:300px; height:20px; vertical-align: middle;'></progress>\n",
       "      100.00% [55000/55000 01:27&lt;00:00 Sampling chain 2, 0 divergences]\n",
       "    </div>\n",
       "    "
      ],
      "text/plain": [
       "<IPython.core.display.HTML object>"
      ]
     },
     "metadata": {},
     "output_type": "display_data"
    },
    {
     "data": {
      "text/html": [
       "\n",
       "<style>\n",
       "    /* Turns off some styling */\n",
       "    progress {\n",
       "        /* gets rid of default border in Firefox and Opera. */\n",
       "        border: none;\n",
       "        /* Needs to be in here for Safari polyfill so background images work as expected. */\n",
       "        background-size: auto;\n",
       "    }\n",
       "    progress:not([value]), progress:not([value])::-webkit-progress-bar {\n",
       "        background: repeating-linear-gradient(45deg, #7e7e7e, #7e7e7e 10px, #5c5c5c 10px, #5c5c5c 20px);\n",
       "    }\n",
       "    .progress-bar-interrupted, .progress-bar-interrupted::-webkit-progress-bar {\n",
       "        background: #F44336;\n",
       "    }\n",
       "</style>\n"
      ],
      "text/plain": [
       "<IPython.core.display.HTML object>"
      ]
     },
     "metadata": {},
     "output_type": "display_data"
    },
    {
     "data": {
      "text/html": [
       "\n",
       "    <div>\n",
       "      <progress value='55000' class='' max='55000' style='width:300px; height:20px; vertical-align: middle;'></progress>\n",
       "      100.00% [55000/55000 01:41&lt;00:00 Sampling chain 3, 0 divergences]\n",
       "    </div>\n",
       "    "
      ],
      "text/plain": [
       "<IPython.core.display.HTML object>"
      ]
     },
     "metadata": {},
     "output_type": "display_data"
    },
    {
     "name": "stderr",
     "output_type": "stream",
     "text": [
      "Sampling 4 chains for 5_000 tune and 50_000 draw iterations (20_000 + 200_000 draws total) took 370 seconds.\n"
     ]
    },
    {
     "name": "stdout",
     "output_type": "stream",
     "text": [
      "          mean     sd  hdi_3%  hdi_97%  mcse_mean  mcse_sd  ess_bulk  \\\n",
      "m1       0.892  0.055   0.804    0.998      0.003    0.002     414.0   \n",
      "m2       0.189  0.004   0.181    0.197      0.000    0.000    2153.0   \n",
      "xinter  10.505  0.045  10.426   10.585      0.002    0.001     465.0   \n",
      "sigma    0.052  0.004   0.045    0.060      0.000    0.000   27958.0   \n",
      "\n",
      "        ess_tail  r_hat  \n",
      "m1         606.0   1.00  \n",
      "m2        4490.0   1.00  \n",
      "xinter     926.0   1.01  \n",
      "sigma    37008.0   1.00  \n",
      "Processing ANO1\n",
      "20.0\n"
     ]
    },
    {
     "name": "stderr",
     "output_type": "stream",
     "text": [
      "Sequential sampling (4 chains in 1 job)\n",
      "CompoundStep\n",
      ">Metropolis: [m1]\n",
      ">Metropolis: [m2]\n",
      ">Metropolis: [xinter]\n",
      ">Metropolis: [sigma]\n"
     ]
    },
    {
     "data": {
      "text/html": [
       "\n",
       "<style>\n",
       "    /* Turns off some styling */\n",
       "    progress {\n",
       "        /* gets rid of default border in Firefox and Opera. */\n",
       "        border: none;\n",
       "        /* Needs to be in here for Safari polyfill so background images work as expected. */\n",
       "        background-size: auto;\n",
       "    }\n",
       "    progress:not([value]), progress:not([value])::-webkit-progress-bar {\n",
       "        background: repeating-linear-gradient(45deg, #7e7e7e, #7e7e7e 10px, #5c5c5c 10px, #5c5c5c 20px);\n",
       "    }\n",
       "    .progress-bar-interrupted, .progress-bar-interrupted::-webkit-progress-bar {\n",
       "        background: #F44336;\n",
       "    }\n",
       "</style>\n"
      ],
      "text/plain": [
       "<IPython.core.display.HTML object>"
      ]
     },
     "metadata": {},
     "output_type": "display_data"
    },
    {
     "data": {
      "text/html": [
       "\n",
       "    <div>\n",
       "      <progress value='55000' class='' max='55000' style='width:300px; height:20px; vertical-align: middle;'></progress>\n",
       "      100.00% [55000/55000 01:29&lt;00:00 Sampling chain 0, 0 divergences]\n",
       "    </div>\n",
       "    "
      ],
      "text/plain": [
       "<IPython.core.display.HTML object>"
      ]
     },
     "metadata": {},
     "output_type": "display_data"
    },
    {
     "data": {
      "text/html": [
       "\n",
       "<style>\n",
       "    /* Turns off some styling */\n",
       "    progress {\n",
       "        /* gets rid of default border in Firefox and Opera. */\n",
       "        border: none;\n",
       "        /* Needs to be in here for Safari polyfill so background images work as expected. */\n",
       "        background-size: auto;\n",
       "    }\n",
       "    progress:not([value]), progress:not([value])::-webkit-progress-bar {\n",
       "        background: repeating-linear-gradient(45deg, #7e7e7e, #7e7e7e 10px, #5c5c5c 10px, #5c5c5c 20px);\n",
       "    }\n",
       "    .progress-bar-interrupted, .progress-bar-interrupted::-webkit-progress-bar {\n",
       "        background: #F44336;\n",
       "    }\n",
       "</style>\n"
      ],
      "text/plain": [
       "<IPython.core.display.HTML object>"
      ]
     },
     "metadata": {},
     "output_type": "display_data"
    },
    {
     "data": {
      "text/html": [
       "\n",
       "    <div>\n",
       "      <progress value='55000' class='' max='55000' style='width:300px; height:20px; vertical-align: middle;'></progress>\n",
       "      100.00% [55000/55000 01:32&lt;00:00 Sampling chain 1, 0 divergences]\n",
       "    </div>\n",
       "    "
      ],
      "text/plain": [
       "<IPython.core.display.HTML object>"
      ]
     },
     "metadata": {},
     "output_type": "display_data"
    },
    {
     "data": {
      "text/html": [
       "\n",
       "<style>\n",
       "    /* Turns off some styling */\n",
       "    progress {\n",
       "        /* gets rid of default border in Firefox and Opera. */\n",
       "        border: none;\n",
       "        /* Needs to be in here for Safari polyfill so background images work as expected. */\n",
       "        background-size: auto;\n",
       "    }\n",
       "    progress:not([value]), progress:not([value])::-webkit-progress-bar {\n",
       "        background: repeating-linear-gradient(45deg, #7e7e7e, #7e7e7e 10px, #5c5c5c 10px, #5c5c5c 20px);\n",
       "    }\n",
       "    .progress-bar-interrupted, .progress-bar-interrupted::-webkit-progress-bar {\n",
       "        background: #F44336;\n",
       "    }\n",
       "</style>\n"
      ],
      "text/plain": [
       "<IPython.core.display.HTML object>"
      ]
     },
     "metadata": {},
     "output_type": "display_data"
    },
    {
     "data": {
      "text/html": [
       "\n",
       "    <div>\n",
       "      <progress value='55000' class='' max='55000' style='width:300px; height:20px; vertical-align: middle;'></progress>\n",
       "      100.00% [55000/55000 01:35&lt;00:00 Sampling chain 2, 0 divergences]\n",
       "    </div>\n",
       "    "
      ],
      "text/plain": [
       "<IPython.core.display.HTML object>"
      ]
     },
     "metadata": {},
     "output_type": "display_data"
    },
    {
     "data": {
      "text/html": [
       "\n",
       "<style>\n",
       "    /* Turns off some styling */\n",
       "    progress {\n",
       "        /* gets rid of default border in Firefox and Opera. */\n",
       "        border: none;\n",
       "        /* Needs to be in here for Safari polyfill so background images work as expected. */\n",
       "        background-size: auto;\n",
       "    }\n",
       "    progress:not([value]), progress:not([value])::-webkit-progress-bar {\n",
       "        background: repeating-linear-gradient(45deg, #7e7e7e, #7e7e7e 10px, #5c5c5c 10px, #5c5c5c 20px);\n",
       "    }\n",
       "    .progress-bar-interrupted, .progress-bar-interrupted::-webkit-progress-bar {\n",
       "        background: #F44336;\n",
       "    }\n",
       "</style>\n"
      ],
      "text/plain": [
       "<IPython.core.display.HTML object>"
      ]
     },
     "metadata": {},
     "output_type": "display_data"
    },
    {
     "data": {
      "text/html": [
       "\n",
       "    <div>\n",
       "      <progress value='55000' class='' max='55000' style='width:300px; height:20px; vertical-align: middle;'></progress>\n",
       "      100.00% [55000/55000 01:25&lt;00:00 Sampling chain 3, 0 divergences]\n",
       "    </div>\n",
       "    "
      ],
      "text/plain": [
       "<IPython.core.display.HTML object>"
      ]
     },
     "metadata": {},
     "output_type": "display_data"
    },
    {
     "name": "stderr",
     "output_type": "stream",
     "text": [
      "Sampling 4 chains for 5_000 tune and 50_000 draw iterations (20_000 + 200_000 draws total) took 363 seconds.\n"
     ]
    },
    {
     "name": "stdout",
     "output_type": "stream",
     "text": [
      "          mean     sd  hdi_3%  hdi_97%  mcse_mean  mcse_sd  ess_bulk  \\\n",
      "m1       0.966  0.032   0.907    1.000      0.001    0.001     411.0   \n",
      "m2       0.118  0.005   0.108    0.127      0.000    0.000    2599.0   \n",
      "xinter  10.319  0.021  10.282   10.358      0.001    0.000    1307.0   \n",
      "sigma    0.071  0.005   0.062    0.081      0.000    0.000   21037.0   \n",
      "\n",
      "        ess_tail  r_hat  \n",
      "m1         927.0   1.01  \n",
      "m2        4365.0   1.00  \n",
      "xinter    2283.0   1.00  \n",
      "sigma    36720.0   1.00  \n",
      "Processing SSK1\n",
      "20.0\n"
     ]
    },
    {
     "name": "stderr",
     "output_type": "stream",
     "text": [
      "Sequential sampling (4 chains in 1 job)\n",
      "CompoundStep\n",
      ">Metropolis: [m1]\n",
      ">Metropolis: [m2]\n",
      ">Metropolis: [xinter]\n",
      ">Metropolis: [sigma]\n"
     ]
    },
    {
     "data": {
      "text/html": [
       "\n",
       "<style>\n",
       "    /* Turns off some styling */\n",
       "    progress {\n",
       "        /* gets rid of default border in Firefox and Opera. */\n",
       "        border: none;\n",
       "        /* Needs to be in here for Safari polyfill so background images work as expected. */\n",
       "        background-size: auto;\n",
       "    }\n",
       "    progress:not([value]), progress:not([value])::-webkit-progress-bar {\n",
       "        background: repeating-linear-gradient(45deg, #7e7e7e, #7e7e7e 10px, #5c5c5c 10px, #5c5c5c 20px);\n",
       "    }\n",
       "    .progress-bar-interrupted, .progress-bar-interrupted::-webkit-progress-bar {\n",
       "        background: #F44336;\n",
       "    }\n",
       "</style>\n"
      ],
      "text/plain": [
       "<IPython.core.display.HTML object>"
      ]
     },
     "metadata": {},
     "output_type": "display_data"
    },
    {
     "data": {
      "text/html": [
       "\n",
       "    <div>\n",
       "      <progress value='55000' class='' max='55000' style='width:300px; height:20px; vertical-align: middle;'></progress>\n",
       "      100.00% [55000/55000 01:19&lt;00:00 Sampling chain 0, 0 divergences]\n",
       "    </div>\n",
       "    "
      ],
      "text/plain": [
       "<IPython.core.display.HTML object>"
      ]
     },
     "metadata": {},
     "output_type": "display_data"
    },
    {
     "data": {
      "text/html": [
       "\n",
       "<style>\n",
       "    /* Turns off some styling */\n",
       "    progress {\n",
       "        /* gets rid of default border in Firefox and Opera. */\n",
       "        border: none;\n",
       "        /* Needs to be in here for Safari polyfill so background images work as expected. */\n",
       "        background-size: auto;\n",
       "    }\n",
       "    progress:not([value]), progress:not([value])::-webkit-progress-bar {\n",
       "        background: repeating-linear-gradient(45deg, #7e7e7e, #7e7e7e 10px, #5c5c5c 10px, #5c5c5c 20px);\n",
       "    }\n",
       "    .progress-bar-interrupted, .progress-bar-interrupted::-webkit-progress-bar {\n",
       "        background: #F44336;\n",
       "    }\n",
       "</style>\n"
      ],
      "text/plain": [
       "<IPython.core.display.HTML object>"
      ]
     },
     "metadata": {},
     "output_type": "display_data"
    },
    {
     "data": {
      "text/html": [
       "\n",
       "    <div>\n",
       "      <progress value='55000' class='' max='55000' style='width:300px; height:20px; vertical-align: middle;'></progress>\n",
       "      100.00% [55000/55000 01:19&lt;00:00 Sampling chain 1, 0 divergences]\n",
       "    </div>\n",
       "    "
      ],
      "text/plain": [
       "<IPython.core.display.HTML object>"
      ]
     },
     "metadata": {},
     "output_type": "display_data"
    },
    {
     "data": {
      "text/html": [
       "\n",
       "<style>\n",
       "    /* Turns off some styling */\n",
       "    progress {\n",
       "        /* gets rid of default border in Firefox and Opera. */\n",
       "        border: none;\n",
       "        /* Needs to be in here for Safari polyfill so background images work as expected. */\n",
       "        background-size: auto;\n",
       "    }\n",
       "    progress:not([value]), progress:not([value])::-webkit-progress-bar {\n",
       "        background: repeating-linear-gradient(45deg, #7e7e7e, #7e7e7e 10px, #5c5c5c 10px, #5c5c5c 20px);\n",
       "    }\n",
       "    .progress-bar-interrupted, .progress-bar-interrupted::-webkit-progress-bar {\n",
       "        background: #F44336;\n",
       "    }\n",
       "</style>\n"
      ],
      "text/plain": [
       "<IPython.core.display.HTML object>"
      ]
     },
     "metadata": {},
     "output_type": "display_data"
    },
    {
     "data": {
      "text/html": [
       "\n",
       "    <div>\n",
       "      <progress value='55000' class='' max='55000' style='width:300px; height:20px; vertical-align: middle;'></progress>\n",
       "      100.00% [55000/55000 01:29&lt;00:00 Sampling chain 2, 0 divergences]\n",
       "    </div>\n",
       "    "
      ],
      "text/plain": [
       "<IPython.core.display.HTML object>"
      ]
     },
     "metadata": {},
     "output_type": "display_data"
    },
    {
     "data": {
      "text/html": [
       "\n",
       "<style>\n",
       "    /* Turns off some styling */\n",
       "    progress {\n",
       "        /* gets rid of default border in Firefox and Opera. */\n",
       "        border: none;\n",
       "        /* Needs to be in here for Safari polyfill so background images work as expected. */\n",
       "        background-size: auto;\n",
       "    }\n",
       "    progress:not([value]), progress:not([value])::-webkit-progress-bar {\n",
       "        background: repeating-linear-gradient(45deg, #7e7e7e, #7e7e7e 10px, #5c5c5c 10px, #5c5c5c 20px);\n",
       "    }\n",
       "    .progress-bar-interrupted, .progress-bar-interrupted::-webkit-progress-bar {\n",
       "        background: #F44336;\n",
       "    }\n",
       "</style>\n"
      ],
      "text/plain": [
       "<IPython.core.display.HTML object>"
      ]
     },
     "metadata": {},
     "output_type": "display_data"
    },
    {
     "data": {
      "text/html": [
       "\n",
       "    <div>\n",
       "      <progress value='55000' class='' max='55000' style='width:300px; height:20px; vertical-align: middle;'></progress>\n",
       "      100.00% [55000/55000 01:20&lt;00:00 Sampling chain 3, 0 divergences]\n",
       "    </div>\n",
       "    "
      ],
      "text/plain": [
       "<IPython.core.display.HTML object>"
      ]
     },
     "metadata": {},
     "output_type": "display_data"
    },
    {
     "name": "stderr",
     "output_type": "stream",
     "text": [
      "Sampling 4 chains for 5_000 tune and 50_000 draw iterations (20_000 + 200_000 draws total) took 328 seconds.\n"
     ]
    },
    {
     "name": "stdout",
     "output_type": "stream",
     "text": [
      "          mean     sd  hdi_3%  hdi_97%  mcse_mean  mcse_sd  ess_bulk  \\\n",
      "m1       0.046  0.015   0.018    0.072      0.001    0.000     656.0   \n",
      "m2       0.292  0.003   0.285    0.298      0.000    0.000    1150.0   \n",
      "xinter  10.886  0.058  10.788   10.995      0.002    0.002     527.0   \n",
      "sigma    0.035  0.003   0.031    0.040      0.000    0.000   31027.0   \n",
      "\n",
      "        ess_tail  r_hat  \n",
      "m1        1374.0   1.01  \n",
      "m2        2461.0   1.00  \n",
      "xinter     634.0   1.01  \n",
      "sigma    42350.0   1.00  \n",
      "Processing UWA1\n",
      "20.0\n"
     ]
    },
    {
     "name": "stderr",
     "output_type": "stream",
     "text": [
      "Sequential sampling (4 chains in 1 job)\n",
      "CompoundStep\n",
      ">Metropolis: [m1]\n",
      ">Metropolis: [m2]\n",
      ">Metropolis: [xinter]\n",
      ">Metropolis: [sigma]\n"
     ]
    },
    {
     "data": {
      "text/html": [
       "\n",
       "<style>\n",
       "    /* Turns off some styling */\n",
       "    progress {\n",
       "        /* gets rid of default border in Firefox and Opera. */\n",
       "        border: none;\n",
       "        /* Needs to be in here for Safari polyfill so background images work as expected. */\n",
       "        background-size: auto;\n",
       "    }\n",
       "    progress:not([value]), progress:not([value])::-webkit-progress-bar {\n",
       "        background: repeating-linear-gradient(45deg, #7e7e7e, #7e7e7e 10px, #5c5c5c 10px, #5c5c5c 20px);\n",
       "    }\n",
       "    .progress-bar-interrupted, .progress-bar-interrupted::-webkit-progress-bar {\n",
       "        background: #F44336;\n",
       "    }\n",
       "</style>\n"
      ],
      "text/plain": [
       "<IPython.core.display.HTML object>"
      ]
     },
     "metadata": {},
     "output_type": "display_data"
    },
    {
     "data": {
      "text/html": [
       "\n",
       "    <div>\n",
       "      <progress value='55000' class='' max='55000' style='width:300px; height:20px; vertical-align: middle;'></progress>\n",
       "      100.00% [55000/55000 01:20&lt;00:00 Sampling chain 0, 0 divergences]\n",
       "    </div>\n",
       "    "
      ],
      "text/plain": [
       "<IPython.core.display.HTML object>"
      ]
     },
     "metadata": {},
     "output_type": "display_data"
    },
    {
     "data": {
      "text/html": [
       "\n",
       "<style>\n",
       "    /* Turns off some styling */\n",
       "    progress {\n",
       "        /* gets rid of default border in Firefox and Opera. */\n",
       "        border: none;\n",
       "        /* Needs to be in here for Safari polyfill so background images work as expected. */\n",
       "        background-size: auto;\n",
       "    }\n",
       "    progress:not([value]), progress:not([value])::-webkit-progress-bar {\n",
       "        background: repeating-linear-gradient(45deg, #7e7e7e, #7e7e7e 10px, #5c5c5c 10px, #5c5c5c 20px);\n",
       "    }\n",
       "    .progress-bar-interrupted, .progress-bar-interrupted::-webkit-progress-bar {\n",
       "        background: #F44336;\n",
       "    }\n",
       "</style>\n"
      ],
      "text/plain": [
       "<IPython.core.display.HTML object>"
      ]
     },
     "metadata": {},
     "output_type": "display_data"
    },
    {
     "data": {
      "text/html": [
       "\n",
       "    <div>\n",
       "      <progress value='55000' class='' max='55000' style='width:300px; height:20px; vertical-align: middle;'></progress>\n",
       "      100.00% [55000/55000 01:20&lt;00:00 Sampling chain 1, 0 divergences]\n",
       "    </div>\n",
       "    "
      ],
      "text/plain": [
       "<IPython.core.display.HTML object>"
      ]
     },
     "metadata": {},
     "output_type": "display_data"
    },
    {
     "data": {
      "text/html": [
       "\n",
       "<style>\n",
       "    /* Turns off some styling */\n",
       "    progress {\n",
       "        /* gets rid of default border in Firefox and Opera. */\n",
       "        border: none;\n",
       "        /* Needs to be in here for Safari polyfill so background images work as expected. */\n",
       "        background-size: auto;\n",
       "    }\n",
       "    progress:not([value]), progress:not([value])::-webkit-progress-bar {\n",
       "        background: repeating-linear-gradient(45deg, #7e7e7e, #7e7e7e 10px, #5c5c5c 10px, #5c5c5c 20px);\n",
       "    }\n",
       "    .progress-bar-interrupted, .progress-bar-interrupted::-webkit-progress-bar {\n",
       "        background: #F44336;\n",
       "    }\n",
       "</style>\n"
      ],
      "text/plain": [
       "<IPython.core.display.HTML object>"
      ]
     },
     "metadata": {},
     "output_type": "display_data"
    },
    {
     "data": {
      "text/html": [
       "\n",
       "    <div>\n",
       "      <progress value='55000' class='' max='55000' style='width:300px; height:20px; vertical-align: middle;'></progress>\n",
       "      100.00% [55000/55000 01:19&lt;00:00 Sampling chain 2, 0 divergences]\n",
       "    </div>\n",
       "    "
      ],
      "text/plain": [
       "<IPython.core.display.HTML object>"
      ]
     },
     "metadata": {},
     "output_type": "display_data"
    },
    {
     "data": {
      "text/html": [
       "\n",
       "<style>\n",
       "    /* Turns off some styling */\n",
       "    progress {\n",
       "        /* gets rid of default border in Firefox and Opera. */\n",
       "        border: none;\n",
       "        /* Needs to be in here for Safari polyfill so background images work as expected. */\n",
       "        background-size: auto;\n",
       "    }\n",
       "    progress:not([value]), progress:not([value])::-webkit-progress-bar {\n",
       "        background: repeating-linear-gradient(45deg, #7e7e7e, #7e7e7e 10px, #5c5c5c 10px, #5c5c5c 20px);\n",
       "    }\n",
       "    .progress-bar-interrupted, .progress-bar-interrupted::-webkit-progress-bar {\n",
       "        background: #F44336;\n",
       "    }\n",
       "</style>\n"
      ],
      "text/plain": [
       "<IPython.core.display.HTML object>"
      ]
     },
     "metadata": {},
     "output_type": "display_data"
    },
    {
     "data": {
      "text/html": [
       "\n",
       "    <div>\n",
       "      <progress value='55000' class='' max='55000' style='width:300px; height:20px; vertical-align: middle;'></progress>\n",
       "      100.00% [55000/55000 01:24&lt;00:00 Sampling chain 3, 0 divergences]\n",
       "    </div>\n",
       "    "
      ],
      "text/plain": [
       "<IPython.core.display.HTML object>"
      ]
     },
     "metadata": {},
     "output_type": "display_data"
    },
    {
     "name": "stderr",
     "output_type": "stream",
     "text": [
      "Sampling 4 chains for 5_000 tune and 50_000 draw iterations (20_000 + 200_000 draws total) took 324 seconds.\n"
     ]
    },
    {
     "name": "stdout",
     "output_type": "stream",
     "text": [
      "          mean     sd  hdi_3%  hdi_97%  mcse_mean  mcse_sd  ess_bulk  \\\n",
      "m1       0.970  0.028   0.919    1.000      0.001    0.001     547.0   \n",
      "m2       0.204  0.005   0.195    0.212      0.000    0.000    2509.0   \n",
      "xinter  10.292  0.019  10.256   10.327      0.000    0.000    1805.0   \n",
      "sigma    0.062  0.005   0.054    0.071      0.000    0.000   25643.0   \n",
      "\n",
      "        ess_tail  r_hat  \n",
      "m1         716.0   1.01  \n",
      "m2        4456.0   1.00  \n",
      "xinter    3524.0   1.00  \n",
      "sigma    42933.0   1.00  \n",
      "Processing MUR1\n",
      "20.0\n"
     ]
    },
    {
     "name": "stderr",
     "output_type": "stream",
     "text": [
      "Sequential sampling (4 chains in 1 job)\n",
      "CompoundStep\n",
      ">Metropolis: [m1]\n",
      ">Metropolis: [m2]\n",
      ">Metropolis: [xinter]\n",
      ">Metropolis: [sigma]\n"
     ]
    },
    {
     "data": {
      "text/html": [
       "\n",
       "<style>\n",
       "    /* Turns off some styling */\n",
       "    progress {\n",
       "        /* gets rid of default border in Firefox and Opera. */\n",
       "        border: none;\n",
       "        /* Needs to be in here for Safari polyfill so background images work as expected. */\n",
       "        background-size: auto;\n",
       "    }\n",
       "    progress:not([value]), progress:not([value])::-webkit-progress-bar {\n",
       "        background: repeating-linear-gradient(45deg, #7e7e7e, #7e7e7e 10px, #5c5c5c 10px, #5c5c5c 20px);\n",
       "    }\n",
       "    .progress-bar-interrupted, .progress-bar-interrupted::-webkit-progress-bar {\n",
       "        background: #F44336;\n",
       "    }\n",
       "</style>\n"
      ],
      "text/plain": [
       "<IPython.core.display.HTML object>"
      ]
     },
     "metadata": {},
     "output_type": "display_data"
    },
    {
     "data": {
      "text/html": [
       "\n",
       "    <div>\n",
       "      <progress value='55000' class='' max='55000' style='width:300px; height:20px; vertical-align: middle;'></progress>\n",
       "      100.00% [55000/55000 01:23&lt;00:00 Sampling chain 0, 0 divergences]\n",
       "    </div>\n",
       "    "
      ],
      "text/plain": [
       "<IPython.core.display.HTML object>"
      ]
     },
     "metadata": {},
     "output_type": "display_data"
    },
    {
     "data": {
      "text/html": [
       "\n",
       "<style>\n",
       "    /* Turns off some styling */\n",
       "    progress {\n",
       "        /* gets rid of default border in Firefox and Opera. */\n",
       "        border: none;\n",
       "        /* Needs to be in here for Safari polyfill so background images work as expected. */\n",
       "        background-size: auto;\n",
       "    }\n",
       "    progress:not([value]), progress:not([value])::-webkit-progress-bar {\n",
       "        background: repeating-linear-gradient(45deg, #7e7e7e, #7e7e7e 10px, #5c5c5c 10px, #5c5c5c 20px);\n",
       "    }\n",
       "    .progress-bar-interrupted, .progress-bar-interrupted::-webkit-progress-bar {\n",
       "        background: #F44336;\n",
       "    }\n",
       "</style>\n"
      ],
      "text/plain": [
       "<IPython.core.display.HTML object>"
      ]
     },
     "metadata": {},
     "output_type": "display_data"
    },
    {
     "data": {
      "text/html": [
       "\n",
       "    <div>\n",
       "      <progress value='55000' class='' max='55000' style='width:300px; height:20px; vertical-align: middle;'></progress>\n",
       "      100.00% [55000/55000 01:20&lt;00:00 Sampling chain 1, 0 divergences]\n",
       "    </div>\n",
       "    "
      ],
      "text/plain": [
       "<IPython.core.display.HTML object>"
      ]
     },
     "metadata": {},
     "output_type": "display_data"
    },
    {
     "data": {
      "text/html": [
       "\n",
       "<style>\n",
       "    /* Turns off some styling */\n",
       "    progress {\n",
       "        /* gets rid of default border in Firefox and Opera. */\n",
       "        border: none;\n",
       "        /* Needs to be in here for Safari polyfill so background images work as expected. */\n",
       "        background-size: auto;\n",
       "    }\n",
       "    progress:not([value]), progress:not([value])::-webkit-progress-bar {\n",
       "        background: repeating-linear-gradient(45deg, #7e7e7e, #7e7e7e 10px, #5c5c5c 10px, #5c5c5c 20px);\n",
       "    }\n",
       "    .progress-bar-interrupted, .progress-bar-interrupted::-webkit-progress-bar {\n",
       "        background: #F44336;\n",
       "    }\n",
       "</style>\n"
      ],
      "text/plain": [
       "<IPython.core.display.HTML object>"
      ]
     },
     "metadata": {},
     "output_type": "display_data"
    },
    {
     "data": {
      "text/html": [
       "\n",
       "    <div>\n",
       "      <progress value='55000' class='' max='55000' style='width:300px; height:20px; vertical-align: middle;'></progress>\n",
       "      100.00% [55000/55000 01:21&lt;00:00 Sampling chain 2, 0 divergences]\n",
       "    </div>\n",
       "    "
      ],
      "text/plain": [
       "<IPython.core.display.HTML object>"
      ]
     },
     "metadata": {},
     "output_type": "display_data"
    },
    {
     "data": {
      "text/html": [
       "\n",
       "<style>\n",
       "    /* Turns off some styling */\n",
       "    progress {\n",
       "        /* gets rid of default border in Firefox and Opera. */\n",
       "        border: none;\n",
       "        /* Needs to be in here for Safari polyfill so background images work as expected. */\n",
       "        background-size: auto;\n",
       "    }\n",
       "    progress:not([value]), progress:not([value])::-webkit-progress-bar {\n",
       "        background: repeating-linear-gradient(45deg, #7e7e7e, #7e7e7e 10px, #5c5c5c 10px, #5c5c5c 20px);\n",
       "    }\n",
       "    .progress-bar-interrupted, .progress-bar-interrupted::-webkit-progress-bar {\n",
       "        background: #F44336;\n",
       "    }\n",
       "</style>\n"
      ],
      "text/plain": [
       "<IPython.core.display.HTML object>"
      ]
     },
     "metadata": {},
     "output_type": "display_data"
    },
    {
     "data": {
      "text/html": [
       "\n",
       "    <div>\n",
       "      <progress value='55000' class='' max='55000' style='width:300px; height:20px; vertical-align: middle;'></progress>\n",
       "      100.00% [55000/55000 01:12&lt;00:00 Sampling chain 3, 0 divergences]\n",
       "    </div>\n",
       "    "
      ],
      "text/plain": [
       "<IPython.core.display.HTML object>"
      ]
     },
     "metadata": {},
     "output_type": "display_data"
    },
    {
     "name": "stderr",
     "output_type": "stream",
     "text": [
      "Sampling 4 chains for 5_000 tune and 50_000 draw iterations (20_000 + 200_000 draws total) took 318 seconds.\n",
      "The rhat statistic is larger than 1.01 for some parameters. This indicates problems during sampling. See https://arxiv.org/abs/1903.08008 for details\n",
      "The effective sample size per chain is smaller than 100 for some parameters.  A higher number is needed for reliable rhat and ess computation. See https://arxiv.org/abs/1903.08008 for details\n"
     ]
    },
    {
     "name": "stdout",
     "output_type": "stream",
     "text": [
      "          mean     sd  hdi_3%  hdi_97%  mcse_mean  mcse_sd  ess_bulk  \\\n",
      "m1       0.983  0.016   0.955    1.000      0.001      0.0     297.0   \n",
      "m2       0.143  0.005   0.132    0.153      0.000      0.0    2447.0   \n",
      "xinter  10.457  0.019  10.423   10.494      0.000      0.0    1563.0   \n",
      "sigma    0.068  0.005   0.059    0.077      0.000      0.0   20117.0   \n",
      "\n",
      "        ess_tail  r_hat  \n",
      "m1         295.0   1.02  \n",
      "m2        4330.0   1.00  \n",
      "xinter    3105.0   1.01  \n",
      "sigma    37447.0   1.00  \n",
      "Processing MYM1\n",
      "20.0\n"
     ]
    },
    {
     "name": "stderr",
     "output_type": "stream",
     "text": [
      "Sequential sampling (4 chains in 1 job)\n",
      "CompoundStep\n",
      ">Metropolis: [m1]\n",
      ">Metropolis: [m2]\n",
      ">Metropolis: [xinter]\n",
      ">Metropolis: [sigma]\n"
     ]
    },
    {
     "data": {
      "text/html": [
       "\n",
       "<style>\n",
       "    /* Turns off some styling */\n",
       "    progress {\n",
       "        /* gets rid of default border in Firefox and Opera. */\n",
       "        border: none;\n",
       "        /* Needs to be in here for Safari polyfill so background images work as expected. */\n",
       "        background-size: auto;\n",
       "    }\n",
       "    progress:not([value]), progress:not([value])::-webkit-progress-bar {\n",
       "        background: repeating-linear-gradient(45deg, #7e7e7e, #7e7e7e 10px, #5c5c5c 10px, #5c5c5c 20px);\n",
       "    }\n",
       "    .progress-bar-interrupted, .progress-bar-interrupted::-webkit-progress-bar {\n",
       "        background: #F44336;\n",
       "    }\n",
       "</style>\n"
      ],
      "text/plain": [
       "<IPython.core.display.HTML object>"
      ]
     },
     "metadata": {},
     "output_type": "display_data"
    },
    {
     "data": {
      "text/html": [
       "\n",
       "    <div>\n",
       "      <progress value='55000' class='' max='55000' style='width:300px; height:20px; vertical-align: middle;'></progress>\n",
       "      100.00% [55000/55000 01:21&lt;00:00 Sampling chain 0, 0 divergences]\n",
       "    </div>\n",
       "    "
      ],
      "text/plain": [
       "<IPython.core.display.HTML object>"
      ]
     },
     "metadata": {},
     "output_type": "display_data"
    },
    {
     "data": {
      "text/html": [
       "\n",
       "<style>\n",
       "    /* Turns off some styling */\n",
       "    progress {\n",
       "        /* gets rid of default border in Firefox and Opera. */\n",
       "        border: none;\n",
       "        /* Needs to be in here for Safari polyfill so background images work as expected. */\n",
       "        background-size: auto;\n",
       "    }\n",
       "    progress:not([value]), progress:not([value])::-webkit-progress-bar {\n",
       "        background: repeating-linear-gradient(45deg, #7e7e7e, #7e7e7e 10px, #5c5c5c 10px, #5c5c5c 20px);\n",
       "    }\n",
       "    .progress-bar-interrupted, .progress-bar-interrupted::-webkit-progress-bar {\n",
       "        background: #F44336;\n",
       "    }\n",
       "</style>\n"
      ],
      "text/plain": [
       "<IPython.core.display.HTML object>"
      ]
     },
     "metadata": {},
     "output_type": "display_data"
    },
    {
     "data": {
      "text/html": [
       "\n",
       "    <div>\n",
       "      <progress value='55000' class='' max='55000' style='width:300px; height:20px; vertical-align: middle;'></progress>\n",
       "      100.00% [55000/55000 01:22&lt;00:00 Sampling chain 1, 0 divergences]\n",
       "    </div>\n",
       "    "
      ],
      "text/plain": [
       "<IPython.core.display.HTML object>"
      ]
     },
     "metadata": {},
     "output_type": "display_data"
    },
    {
     "data": {
      "text/html": [
       "\n",
       "<style>\n",
       "    /* Turns off some styling */\n",
       "    progress {\n",
       "        /* gets rid of default border in Firefox and Opera. */\n",
       "        border: none;\n",
       "        /* Needs to be in here for Safari polyfill so background images work as expected. */\n",
       "        background-size: auto;\n",
       "    }\n",
       "    progress:not([value]), progress:not([value])::-webkit-progress-bar {\n",
       "        background: repeating-linear-gradient(45deg, #7e7e7e, #7e7e7e 10px, #5c5c5c 10px, #5c5c5c 20px);\n",
       "    }\n",
       "    .progress-bar-interrupted, .progress-bar-interrupted::-webkit-progress-bar {\n",
       "        background: #F44336;\n",
       "    }\n",
       "</style>\n"
      ],
      "text/plain": [
       "<IPython.core.display.HTML object>"
      ]
     },
     "metadata": {},
     "output_type": "display_data"
    },
    {
     "data": {
      "text/html": [
       "\n",
       "    <div>\n",
       "      <progress value='55000' class='' max='55000' style='width:300px; height:20px; vertical-align: middle;'></progress>\n",
       "      100.00% [55000/55000 01:19&lt;00:00 Sampling chain 2, 0 divergences]\n",
       "    </div>\n",
       "    "
      ],
      "text/plain": [
       "<IPython.core.display.HTML object>"
      ]
     },
     "metadata": {},
     "output_type": "display_data"
    },
    {
     "data": {
      "text/html": [
       "\n",
       "<style>\n",
       "    /* Turns off some styling */\n",
       "    progress {\n",
       "        /* gets rid of default border in Firefox and Opera. */\n",
       "        border: none;\n",
       "        /* Needs to be in here for Safari polyfill so background images work as expected. */\n",
       "        background-size: auto;\n",
       "    }\n",
       "    progress:not([value]), progress:not([value])::-webkit-progress-bar {\n",
       "        background: repeating-linear-gradient(45deg, #7e7e7e, #7e7e7e 10px, #5c5c5c 10px, #5c5c5c 20px);\n",
       "    }\n",
       "    .progress-bar-interrupted, .progress-bar-interrupted::-webkit-progress-bar {\n",
       "        background: #F44336;\n",
       "    }\n",
       "</style>\n"
      ],
      "text/plain": [
       "<IPython.core.display.HTML object>"
      ]
     },
     "metadata": {},
     "output_type": "display_data"
    },
    {
     "data": {
      "text/html": [
       "\n",
       "    <div>\n",
       "      <progress value='55000' class='' max='55000' style='width:300px; height:20px; vertical-align: middle;'></progress>\n",
       "      100.00% [55000/55000 01:15&lt;00:00 Sampling chain 3, 0 divergences]\n",
       "    </div>\n",
       "    "
      ],
      "text/plain": [
       "<IPython.core.display.HTML object>"
      ]
     },
     "metadata": {},
     "output_type": "display_data"
    },
    {
     "name": "stderr",
     "output_type": "stream",
     "text": [
      "Sampling 4 chains for 5_000 tune and 50_000 draw iterations (20_000 + 200_000 draws total) took 319 seconds.\n",
      "The rhat statistic is larger than 1.01 for some parameters. This indicates problems during sampling. See https://arxiv.org/abs/1903.08008 for details\n",
      "The effective sample size per chain is smaller than 100 for some parameters.  A higher number is needed for reliable rhat and ess computation. See https://arxiv.org/abs/1903.08008 for details\n"
     ]
    },
    {
     "name": "stdout",
     "output_type": "stream",
     "text": [
      "          mean     sd  hdi_3%  hdi_97%  mcse_mean  mcse_sd  ess_bulk  \\\n",
      "m1       0.614  0.039   0.551    0.687      0.002    0.002     282.0   \n",
      "m2       0.270  0.005   0.261    0.279      0.000    0.000     808.0   \n",
      "xinter  10.827  0.105  10.652   10.999      0.007    0.005     253.0   \n",
      "sigma    0.050  0.004   0.043    0.057      0.000    0.000   29186.0   \n",
      "\n",
      "        ess_tail  r_hat  \n",
      "m1         545.0   1.01  \n",
      "m2        1841.0   1.01  \n",
      "xinter     519.0   1.01  \n",
      "sigma    41808.0   1.00  \n"
     ]
    }
   ],
   "source": [
    "events_list = []\n",
    "mags_list = []\n",
    "stas_list = []\n",
    "hypdist_list = []\n",
    "xhighs_list = []\n",
    "m1s_list = []\n",
    "m2s_list = []\n",
    "xinters_list = []\n",
    "sigmas_list = []\n",
    "trans_time_list = []\n",
    "\n",
    "for idx in range(len(snr_array)):\n",
    "\n",
    "    sta = snr_array['Station_name'][idx]\n",
    "\n",
    "    # Figure out the bounds for the MCMC based on the event and hypocentral distance (rainbow plots)\n",
    "    xlow = 10\n",
    "    xhigh = 15\n",
    "    evt_id = 'tohoku'\n",
    "    mag = '9.1'\n",
    "    hypdist = snr_array['hyp_dist_km'][idx]\n",
    "    int_hypdist = int(hypdist)\n",
    "\n",
    "    try:\n",
    "        pst = read(path + 'filtered_peak_post_p/' + sta + '.mseed')\n",
    "    except:\n",
    "        print('Skipping ' + sta + ', no data')\n",
    "        continue\n",
    "\n",
    "    print('Processing ' + str(sta))\n",
    "\n",
    "    times = pst[0].times()\n",
    "    data = pst[0].data\n",
    "    log10_data = np.log10(data)\n",
    "    samp_rate = pst[0].stats.sampling_rate\n",
    "    print(samp_rate)\n",
    "\n",
    "    vec_start = int(xlow*samp_rate)\n",
    "    vec_end = int(xhigh*samp_rate)\n",
    "    \n",
    "    ####### NEW THING TRYING\n",
    "    norm_data = np.copy(data)\n",
    "    norm_level = data[0]\n",
    "#         print(norm_level)\n",
    "    norm_data = norm_data - norm_level + 1*10**-9 # Subtract the starting value, add 10^-9 to set at 10^0 on nanostrain plot\n",
    "\n",
    "    norm_log10data = np.log10(norm_data)\n",
    "    yobserved = norm_log10data[vec_start:vec_end]\n",
    "    \n",
    "    ######\n",
    "\n",
    "    # Split into x and y vectors\n",
    "    xobserved = times[vec_start:vec_end]\n",
    "    # yobserved = log10_data[vec_start:vec_end]\n",
    "    x0 = xobserved[0]\n",
    "    y0 = yobserved[0]\n",
    "\n",
    "    # in order to pass the x variable into the target function it needs to be \n",
    "    # converted to a Theano \"shared\" variable\n",
    "    pt_xobserved = pytensor.shared(xobserved)\n",
    "    pt_x0 = pytensor.shared(x0)\n",
    "    pt_y0 = pytensor.shared(y0)\n",
    "\n",
    "    # MCMC run parameters, these are good numbers for a \"production\" run. If you are\n",
    "    # fooling arund these can be lower to iterate faster\n",
    "    Nburn = 5000 # burn in samples that get discarded\n",
    "    Nmcmc = 50000 # bump to at least 5-10k\n",
    "    Nchains = 4\n",
    "    Ncores = 1\n",
    "\n",
    "    # Bounds for the prior distributions\n",
    "    m1_low = -1; m1_high = 1\n",
    "    m2_low = -1; m2_high = 1\n",
    "    xinter_low = 10 ; xinter_high = 11 # location of the line slope change\n",
    "\n",
    "    # Define the Bayesian model\n",
    "    with pm.Model()as model:\n",
    "\n",
    "        # Use normal distributions as priors\n",
    "        # m1 = pm.Normal('m1', mu = 0.5, sigma = 1)\n",
    "        # m2 = pm.Normal('m2', mu = -0.1, sigma = 5)\n",
    "        m1 = pm.Uniform('m1', lower = m1_low, upper = m1_high)\n",
    "        m2 = pm.Uniform('m2', lower = m2_low, upper = m2_high)\n",
    "        xinter = pm.Uniform('xinter', lower = xinter_low, upper = xinter_high)\n",
    "        sigma = pm.HalfCauchy('sigma', beta = 10, initval = 1)\n",
    "\n",
    "        # This is the model\n",
    "        likelihood = pm.Normal('y', mu = two_straight_lines(pt_xobserved,m1,m2,xinter,pt_x0,pt_y0),\n",
    "                                observed = yobserved, sigma = sigma)\n",
    "\n",
    "        # NUTS sampler (default) is gradient based and won't work, use metropolis\n",
    "        step = pm.Metropolis(scaling = 0.1)\n",
    "\n",
    "        # This runs the mcmc sampler\n",
    "        mcmc = pm.sample(Nmcmc, tune = Nburn, chains = Nchains, cores = Ncores, step = step)\n",
    "\n",
    "    # Done, now is post-processing to get the data out of the sampler\n",
    "\n",
    "    posterior = az.extract(mcmc)\n",
    "\n",
    "    # Unwrap coeficients - WRITE LINES TO SAVE THE ARRAYS!!!\n",
    "    m1_array = posterior.m1.values\n",
    "    m1 = np.mean(m1_array)\n",
    "    # print('m1 mean: ' + str(round(m1,2)))\n",
    "\n",
    "    m2_array = posterior.m2.values\n",
    "    m2 = np.mean(m2_array)\n",
    "    # print('m2 mean: ' + str(round(m2,2)))\n",
    "\n",
    "    xinter_array = posterior.xinter.values\n",
    "    xinter = np.mean(xinter_array)\n",
    "    # print('xinter Mean: ' + str(round(xinter,2)))\n",
    "\n",
    "    sigma_array = posterior.sigma.values\n",
    "    sigma = np.mean(sigma_array)\n",
    "\n",
    "    # Lines!\n",
    "    b1 = y0 - m1*x0\n",
    "    b2 = m1*xinter + b1 - m2*xinter\n",
    "\n",
    "    # Make plot to check stuff\n",
    "    xpredicted = np.arange(xobserved.min(), xobserved.max()+0.1, 0.1)\n",
    "    ypredicted = m1*xpredicted + b1\n",
    "    i = np.where(xpredicted > xinter)[0]\n",
    "    ypredicted[i] = m2*xpredicted[i] + b2\n",
    "\n",
    "    # Get one-sigma region (need to obtain a ton of forward models and get stats)\n",
    "    N = len(posterior.m1.values)\n",
    "\n",
    "    yfit = np.zeros((len(xpredicted), N))\n",
    "    for k in range(N):\n",
    "        yfit[:,k] = non_pytensor_two_straight_lines(xpredicted,m1_array[k],m2_array[k],xinter_array[k],x0,y0)\n",
    "    mu = yfit.mean(1)\n",
    "    sig = yfit.std(1) * 1.95 #for 95% confidence\n",
    "    mu_plus = mu + sig\n",
    "    mu_minus = mu - sig\n",
    "\n",
    "    # Least squares\n",
    "    mls, bls = np.polyfit(xobserved, yobserved, 1)\n",
    "\n",
    "    # Find the transition point in ypredicted\n",
    "    diff = np.round(np.diff(ypredicted), decimals = 5)\n",
    "    # print(diff)\n",
    "    first_slope = diff[0]\n",
    "    second_slope = diff[-1]\n",
    "    trans_idx = np.where((diff != first_slope) & (diff != second_slope))[0][0] + 1\n",
    "\n",
    "    # Get the transition point\n",
    "    mcmc_trans_x = xpredicted[trans_idx] # Number\n",
    "    mcmc_trans_y = ypredicted[trans_idx]\n",
    "\n",
    "    # Append things\n",
    "    events_list.append(evt_id)\n",
    "    mags_list.append(mag)\n",
    "    stas_list.append(sta)\n",
    "    hypdist_list.append(int_hypdist)\n",
    "    xhighs_list.append(xhigh)\n",
    "    m1s_list.append(m1)\n",
    "    m2s_list.append(m2)\n",
    "    xinters_list.append(xinter)\n",
    "    sigmas_list.append(sigma)\n",
    "    trans_time_list.append(mcmc_trans_x)\n",
    "\n",
    "    # Create folder for the event\n",
    "    array_save_dir = path + 'norm_mcmc_arrays/' + sta + '/'\n",
    "    if os.path.isdir(array_save_dir):\n",
    "        pass\n",
    "    else:\n",
    "        os.makedirs(array_save_dir)\n",
    "\n",
    "    np.save(array_save_dir + 'xobserved.npy', xobserved)\n",
    "    np.save(array_save_dir + 'yobserved.npy', yobserved)\n",
    "    np.save(array_save_dir + 'xpredicted.npy', xpredicted)\n",
    "    np.save(array_save_dir + 'ypredicted.npy', ypredicted)\n",
    "    np.save(array_save_dir + 'forward_mus.npy', mu)\n",
    "    np.save(array_save_dir + 'foward_sigs.npy', sig)\n",
    "\n",
    "    summary = az.summary(mcmc, fmt = 'wide')\n",
    "    print(summary)\n",
    "    summary.to_csv(array_save_dir + 'mcmc_summary.csv', index = False)\n",
    "\n",
    "    # Folder for figures\n",
    "    fig_save_dir = path + 'norm_mcmc_plots/'\n",
    "    if os.path.isdir(fig_save_dir):\n",
    "        pass\n",
    "    else:\n",
    "        os.makedirs(fig_save_dir)\n",
    "\n",
    "    az.plot_trace(mcmc)\n",
    "    # plt.show()\n",
    "    plt.savefig(fig_save_dir + sta + '_stats_plots.png', format = 'PNG')\n",
    "    plt.close()\n",
    "\n",
    "    # Plot all solutions\n",
    "    fig = plt.figure(dpi = 100)\n",
    "    ax = fig.add_subplot(111)\n",
    "    ax.set_title(str(sta))\n",
    "\n",
    "    ax.plot(xobserved, yobserved, color = 'blue', label = 'Observed (log peak strain)')\n",
    "    ax.plot(xpredicted, ypredicted, color = 'red', label = 'Predicted (MCMC)')\n",
    "    # ax.plot(xpredicted, mu, color = 'green', linestyle = '--', label = 'yfit')\n",
    "    # ax.plot(xpredicted, xpredicted * mls + bls, color = 'orange', label = 'np.polyfit least squares')\n",
    "    ax.scatter(xpredicted[trans_idx], ypredicted[trans_idx], marker = 'o', color = 'black', label = 'Transition at ' + str(round(xpredicted[trans_idx],2)) + ' sec')\n",
    "    # ax.scatter(closest_trans_x, closest_trans_y, marker = 'o', color = 'green', label = 'Adjusted transition at ' + str(round(closest_trans_x,2)) + ' sec')\n",
    "    # ax2 = ax.twinx()\n",
    "    # ax2.plot(xobserved, pythags_arr, color = 'violet')\n",
    "    # ax2.axhline(closest_trans_x, color = 'violet', linestyle = '--')\n",
    "    ax.fill_between(xpredicted, mu_plus, mu_minus, color = 'gray', alpha = 0.2, label = '95% confidence') # 95% confidence interval\n",
    "    ax.set_xlabel('Time (s) - p-wave at 10s')\n",
    "    ax.set_ylabel('log10 of peak strain')\n",
    "    # ax.set_xlim(10,13)\n",
    "    ax.legend()\n",
    "\n",
    "    # plt.show()\n",
    "\n",
    "    plt.savefig(fig_save_dir + sta + '.png', format = 'PNG')\n",
    "    plt.close()"
   ]
  },
  {
   "cell_type": "code",
   "execution_count": 17,
   "id": "20fec9fa-b02d-4374-9fd0-64047de8c330",
   "metadata": {},
   "outputs": [],
   "source": [
    "mcmc_array = np.column_stack((np.array(events_list), np.array(mags_list), np.array(stas_list), np.array(hypdist_list),\n",
    "                             np.array(xhighs_list), np.array(m1s_list), np.array(m2s_list), np.array(xinters_list),\n",
    "                             np.array(sigmas_list), np.round(np.array(trans_time_list),2)))\n",
    "\n",
    "np.save(path + 'norm_mcmc_arrays/mcmc_colstack_array.npy', mcmc_array)"
   ]
  },
  {
   "cell_type": "code",
   "execution_count": 18,
   "id": "4573f5ee-b8e6-4ec8-a7cc-621865e07aca",
   "metadata": {},
   "outputs": [
    {
     "data": {
      "text/plain": [
       "(8, 10)"
      ]
     },
     "execution_count": 18,
     "metadata": {},
     "output_type": "execute_result"
    }
   ],
   "source": [
    "mcmc_array.shape"
   ]
  },
  {
   "cell_type": "code",
   "execution_count": 19,
   "id": "8e2c46b1-87f8-4969-aeeb-3f6fb9097aaf",
   "metadata": {},
   "outputs": [],
   "source": [
    "# mcmc_array = np.column_stack((np.array(events_list), np.array(mags_list), np.array(stas_list), np.array(hypdist_list),\n",
    "#                              np.array(xhighs_list), np.array(m1s_list), np.array(m2s_list), np.array(xinters_list),\n",
    "#                              np.array(sigmas_list), np.array(trans_time_list)))\n",
    "\n",
    "pd_mcmc = pd.DataFrame(mcmc_array, columns = ['eq_id', 'mag', 'sta', 'hypdist', 'xhigh', 'm1', 'm2', 'xinter', 'sigma', 'trans_time'])\n",
    "pd_mcmc.to_csv(path + 'norm_mcmc_arrays/mcmc_results_summary.csv', index = False)"
   ]
  },
  {
   "cell_type": "code",
   "execution_count": 20,
   "id": "5e8194a5-928a-4c75-aed3-a95cfc0e2d14",
   "metadata": {},
   "outputs": [
    {
     "data": {
      "text/html": [
       "<div>\n",
       "<style scoped>\n",
       "    .dataframe tbody tr th:only-of-type {\n",
       "        vertical-align: middle;\n",
       "    }\n",
       "\n",
       "    .dataframe tbody tr th {\n",
       "        vertical-align: top;\n",
       "    }\n",
       "\n",
       "    .dataframe thead th {\n",
       "        text-align: right;\n",
       "    }\n",
       "</style>\n",
       "<table border=\"1\" class=\"dataframe\">\n",
       "  <thead>\n",
       "    <tr style=\"text-align: right;\">\n",
       "      <th></th>\n",
       "      <th>eq_id</th>\n",
       "      <th>mag</th>\n",
       "      <th>sta</th>\n",
       "      <th>hypdist</th>\n",
       "      <th>xhigh</th>\n",
       "      <th>m1</th>\n",
       "      <th>m2</th>\n",
       "      <th>xinter</th>\n",
       "      <th>sigma</th>\n",
       "      <th>trans_time</th>\n",
       "    </tr>\n",
       "  </thead>\n",
       "  <tbody>\n",
       "    <tr>\n",
       "      <th>0</th>\n",
       "      <td>tohoku</td>\n",
       "      <td>9.1</td>\n",
       "      <td>KST1</td>\n",
       "      <td>792</td>\n",
       "      <td>15</td>\n",
       "      <td>0.488850</td>\n",
       "      <td>0.144348</td>\n",
       "      <td>10.162036</td>\n",
       "      <td>0.071748</td>\n",
       "      <td>10.2</td>\n",
       "    </tr>\n",
       "    <tr>\n",
       "      <th>1</th>\n",
       "      <td>tohoku</td>\n",
       "      <td>9.1</td>\n",
       "      <td>HGM1</td>\n",
       "      <td>773</td>\n",
       "      <td>15</td>\n",
       "      <td>0.978132</td>\n",
       "      <td>0.114320</td>\n",
       "      <td>10.406216</td>\n",
       "      <td>0.042332</td>\n",
       "      <td>10.5</td>\n",
       "    </tr>\n",
       "    <tr>\n",
       "      <th>2</th>\n",
       "      <td>tohoku</td>\n",
       "      <td>9.1</td>\n",
       "      <td>ICU1</td>\n",
       "      <td>743</td>\n",
       "      <td>15</td>\n",
       "      <td>0.892000</td>\n",
       "      <td>0.188917</td>\n",
       "      <td>10.504978</td>\n",
       "      <td>0.052247</td>\n",
       "      <td>10.6</td>\n",
       "    </tr>\n",
       "    <tr>\n",
       "      <th>3</th>\n",
       "      <td>tohoku</td>\n",
       "      <td>9.1</td>\n",
       "      <td>ANO1</td>\n",
       "      <td>661</td>\n",
       "      <td>15</td>\n",
       "      <td>0.966036</td>\n",
       "      <td>0.117622</td>\n",
       "      <td>10.318840</td>\n",
       "      <td>0.071118</td>\n",
       "      <td>10.4</td>\n",
       "    </tr>\n",
       "    <tr>\n",
       "      <th>4</th>\n",
       "      <td>tohoku</td>\n",
       "      <td>9.1</td>\n",
       "      <td>SSK1</td>\n",
       "      <td>981</td>\n",
       "      <td>15</td>\n",
       "      <td>0.045971</td>\n",
       "      <td>0.291829</td>\n",
       "      <td>10.885585</td>\n",
       "      <td>0.035496</td>\n",
       "      <td>10.9</td>\n",
       "    </tr>\n",
       "    <tr>\n",
       "      <th>5</th>\n",
       "      <td>tohoku</td>\n",
       "      <td>9.1</td>\n",
       "      <td>UWA1</td>\n",
       "      <td>1045</td>\n",
       "      <td>15</td>\n",
       "      <td>0.969710</td>\n",
       "      <td>0.204054</td>\n",
       "      <td>10.291575</td>\n",
       "      <td>0.062184</td>\n",
       "      <td>10.3</td>\n",
       "    </tr>\n",
       "    <tr>\n",
       "      <th>6</th>\n",
       "      <td>tohoku</td>\n",
       "      <td>9.1</td>\n",
       "      <td>MUR1</td>\n",
       "      <td>927</td>\n",
       "      <td>15</td>\n",
       "      <td>0.983307</td>\n",
       "      <td>0.142776</td>\n",
       "      <td>10.456953</td>\n",
       "      <td>0.067680</td>\n",
       "      <td>10.5</td>\n",
       "    </tr>\n",
       "    <tr>\n",
       "      <th>7</th>\n",
       "      <td>tohoku</td>\n",
       "      <td>9.1</td>\n",
       "      <td>MYM1</td>\n",
       "      <td>724</td>\n",
       "      <td>15</td>\n",
       "      <td>0.613703</td>\n",
       "      <td>0.269918</td>\n",
       "      <td>10.826938</td>\n",
       "      <td>0.049677</td>\n",
       "      <td>10.9</td>\n",
       "    </tr>\n",
       "  </tbody>\n",
       "</table>\n",
       "</div>"
      ],
      "text/plain": [
       "    eq_id  mag   sta  hypdist  xhigh        m1        m2     xinter     sigma  \\\n",
       "0  tohoku  9.1  KST1      792     15  0.488850  0.144348  10.162036  0.071748   \n",
       "1  tohoku  9.1  HGM1      773     15  0.978132  0.114320  10.406216  0.042332   \n",
       "2  tohoku  9.1  ICU1      743     15  0.892000  0.188917  10.504978  0.052247   \n",
       "3  tohoku  9.1  ANO1      661     15  0.966036  0.117622  10.318840  0.071118   \n",
       "4  tohoku  9.1  SSK1      981     15  0.045971  0.291829  10.885585  0.035496   \n",
       "5  tohoku  9.1  UWA1     1045     15  0.969710  0.204054  10.291575  0.062184   \n",
       "6  tohoku  9.1  MUR1      927     15  0.983307  0.142776  10.456953  0.067680   \n",
       "7  tohoku  9.1  MYM1      724     15  0.613703  0.269918  10.826938  0.049677   \n",
       "\n",
       "   trans_time  \n",
       "0        10.2  \n",
       "1        10.5  \n",
       "2        10.6  \n",
       "3        10.4  \n",
       "4        10.9  \n",
       "5        10.3  \n",
       "6        10.5  \n",
       "7        10.9  "
      ]
     },
     "execution_count": 20,
     "metadata": {},
     "output_type": "execute_result"
    }
   ],
   "source": [
    "# Figure out the \"good\" and \"bad\" performing waveforms using an L2 norm\n",
    "\n",
    "mcmc_results = pd.read_csv(path + 'norm_mcmc_arrays/mcmc_results_summary.csv')\n",
    "mcmc_results"
   ]
  },
  {
   "cell_type": "code",
   "execution_count": null,
   "id": "b6896dfc-7223-4a4c-a0ad-1bf0e1763e2e",
   "metadata": {},
   "outputs": [],
   "source": []
  }
 ],
 "metadata": {
  "kernelspec": {
   "display_name": "pymc_env",
   "language": "python",
   "name": "pymc_env"
  },
  "language_info": {
   "codemirror_mode": {
    "name": "ipython",
    "version": 3
   },
   "file_extension": ".py",
   "mimetype": "text/x-python",
   "name": "python",
   "nbconvert_exporter": "python",
   "pygments_lexer": "ipython3",
   "version": "3.11.8"
  }
 },
 "nbformat": 4,
 "nbformat_minor": 5
}
