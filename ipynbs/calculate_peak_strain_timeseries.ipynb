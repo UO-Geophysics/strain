{
 "cells": [
  {
   "cell_type": "code",
   "execution_count": null,
   "id": "eadbc20f",
   "metadata": {},
   "outputs": [],
   "source": [
    "from obspy.core import Stream, read\n",
    "import numpy as np\n",
    "import matplotlib.pyplot as plt"
   ]
  },
  {
   "cell_type": "code",
   "execution_count": null,
   "id": "e32f87ff",
   "metadata": {},
   "outputs": [],
   "source": [
    "path_to_files = '/Users/sydneydybing/StrainProject/M6_500km_sel/StrainData_sel/Trimmed/'\n",
    "quake_folders = np.genfromtxt('/Users/sydneydybing/StrainProject/M6_500km_sel/quake_folders_sel.txt', dtype=str)\n",
    "stas = np.genfromtxt('/Users/sydneydybing/StrainProject/stations.txt', dtype=str)\n",
    "\n",
    "quake_folders_test = ['59_2008_6.3']\n",
    "stas_test = ['B035']"
   ]
  },
  {
   "cell_type": "code",
   "execution_count": null,
   "id": "b4224258",
   "metadata": {},
   "outputs": [],
   "source": [
    "for quake in quake_folders:\n",
    "    for sta in stas:        \n",
    "        \n",
    "        #print(sta)    \n",
    "        \n",
    "        try:\n",
    "        \n",
    "            # Strain data\n",
    "        \n",
    "            tRMS = read(path_to_files + quake + '/' + sta + '_tRMS.mseed')\n",
    "            \n",
    "            #print(tRMS[0].stats)\n",
    "            \n",
    "            tRMS_data = tRMS[0].data # numpy array of strain values\n",
    "            \n",
    "            #tRMS_points = range(tRMS[0].stats.npts) # range of number of points in stream\n",
    "            #print(np.asarray(tRMS_times)) # prints list of sample numbers\n",
    "            #tRMS_times = np.asarray(tRMS_points)/(tRMS[0].stats.sampling_rate)\n",
    "            #print(tRMS_times) # numpy array of time steps\n",
    "            \n",
    "            #insitalize the outut stream\n",
    "            pst = tRMS.copy()\n",
    "            \n",
    "            #loop voer samples\n",
    "            for k in range(1,len(tRMS[0].data)): #avoid starting at zero\n",
    "                \n",
    "                #grab progressively longer windows\n",
    "                strain = tRMS[0].data[0:k]\n",
    "                \n",
    "                #what is the peak value in that window?\n",
    "                max_strain = max(strain)\n",
    "                \n",
    "                #put that back into the output stream\n",
    "                pst[0].data[k] = max_strain\n",
    "                \n",
    "            pst[0].stats.channel = 'PST'    \n",
    "            pst.plot()\n",
    "            pst.write('/Users/sydneydybing/StrainProject/M6_500km_sel/StrainData_sel/Trimmed/PeakStrains/' + quake + '/' + sta + '_PST' + '.mseed', format='MSEED')\n",
    "                 \n",
    "        except:\n",
    "            \n",
    "            print(quake + \" no station \" + sta)\n"
   ]
  }
 ],
 "metadata": {
  "kernelspec": {
   "display_name": "Python 3 (ipykernel)",
   "language": "python",
   "name": "python3"
  },
  "language_info": {
   "codemirror_mode": {
    "name": "ipython",
    "version": 3
   },
   "file_extension": ".py",
   "mimetype": "text/x-python",
   "name": "python",
   "nbconvert_exporter": "python",
   "pygments_lexer": "ipython3",
   "version": "3.8.3"
  }
 },
 "nbformat": 4,
 "nbformat_minor": 5
}
