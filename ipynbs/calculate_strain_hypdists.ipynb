{
 "cells": [
  {
   "cell_type": "code",
   "execution_count": null,
   "id": "bfaa847d",
   "metadata": {},
   "outputs": [],
   "source": [
    "import numpy as np\n",
    "from obspy.clients.iris import Client\n",
    "import os\n",
    "import pandas as pd"
   ]
  },
  {
   "cell_type": "code",
   "execution_count": null,
   "id": "9214ebb4",
   "metadata": {},
   "outputs": [],
   "source": [
    "client = Client()\n",
    "\n",
    "earthquakes = pd.read_csv('/Users/sydneydybing/StrainProject/earthquakes.csv')\n",
    "sta_loc = pd.read_csv('/Users/sydneydybing/StrainProject/stations_latlong.csv')\n",
    "\n",
    "earthquakes = earthquakes.to_numpy()\n",
    "sta_loc = sta_loc.to_numpy()"
   ]
  },
  {
   "cell_type": "code",
   "execution_count": null,
   "id": "92bc37af",
   "metadata": {},
   "outputs": [],
   "source": [
    "f = open('/Users/sydneydybing/StrainProject/evt-sta_dist.csv', 'w')\n",
    "#header = ('eqnum', 'year', 'mag', 'eq_lat', 'eq_lon', 'sta_name', 'sta_lat', 'sta_lon', 'distaz_m')\n",
    "#f.write('eqnum', 'year', 'mag', 'eq_lat', 'eq_lon', 'sta_name', 'sta_lat', 'sta_lon', 'distaz_m')\n",
    "\n",
    "for k_eq in range(len(earthquakes)):\n",
    "    \n",
    "    eqnum = int(earthquakes[k_eq, 0])\n",
    "    year = int(earthquakes[k_eq, 1])\n",
    "    mag = earthquakes[k_eq, 10]\n",
    "    eq_lat = earthquakes[k_eq, 7]\n",
    "    eq_lon = earthquakes[k_eq, 8]\n",
    "    depth = earthquakes[k_eq, 9]\n",
    "    \n",
    "    for k_sta in range(len(sta_loc)):\n",
    "        \n",
    "        sta_name = sta_loc[k_sta, 0]\n",
    "        sta_lat = sta_loc[k_sta, 1]\n",
    "        sta_lon = sta_loc[k_sta, 2]\n",
    "        \n",
    "        # Only want to calculate distances for events/stations that actually have data\n",
    "\n",
    "        data_exists = os.path.isdir('/Users/sydneydybing/StrainProject/StrainData/' + str(eqnum) + '_' + str(year) + '_' + str(mag))\n",
    "        \n",
    "        if data_exists:\n",
    "            \n",
    "            station_exists = os.path.isfile('/Users/sydneydybing/StrainProject/StrainData/' + str(eqnum) + '_' + str(year) + '_' + str(mag) + '/' + str(sta_name) + '_BS1.mseed')\n",
    "            \n",
    "            if station_exists:\n",
    "                \n",
    "                distaz = client.distaz(sta_lat, sta_lon, eq_lat, eq_lon)\n",
    "                r_epi = distaz['distancemeters']\n",
    "                r_hyp = np.sqrt(r_epi**2 + depth**2)\n",
    "                \n",
    "                line = '%d\\t%d\\t%.1f\\t%.2f\\t%.2f\\t%s\\t%.6f\\t%.6f\\t%.6f\\n'%(eqnum,year,mag,eq_lat,eq_lon,sta_name,sta_lat,sta_lon,r_hyp)\n",
    "                #print(line)\n",
    "                f.write(line)\n",
    "                \n",
    "            else:\n",
    "                print(str(eqnum) + '_' + str(year) + '_' + str(mag) + ' station ' + str(sta_name) + ' does not exist')\n",
    "            \n",
    "        else:\n",
    "            print(str(eqnum) + '_' + str(year) + '_' + str(mag) + ' data does not exist')\n",
    "    \n",
    "f.close()\n"
   ]
  }
 ],
 "metadata": {
  "kernelspec": {
   "display_name": "Python 3 (ipykernel)",
   "language": "python",
   "name": "python3"
  },
  "language_info": {
   "codemirror_mode": {
    "name": "ipython",
    "version": 3
   },
   "file_extension": ".py",
   "mimetype": "text/x-python",
   "name": "python",
   "nbconvert_exporter": "python",
   "pygments_lexer": "ipython3",
   "version": "3.8.3"
  }
 },
 "nbformat": 4,
 "nbformat_minor": 5
}
