{
 "cells": [
  {
   "cell_type": "code",
   "execution_count": null,
   "id": "806f124f",
   "metadata": {},
   "outputs": [],
   "source": [
    "from obspy.core import Stream, read\n",
    "import numpy as np\n",
    "import matplotlib.pyplot as plt"
   ]
  },
  {
   "cell_type": "code",
   "execution_count": null,
   "id": "a59c0101",
   "metadata": {},
   "outputs": [],
   "source": [
    "path_to_files = '/Users/sydneydybing/StrainProject/SeismicData/'\n",
    "quake_folders = np.genfromtxt('/Users/sydneydybing/StrainProject/quake_folders.txt', dtype=str)\n",
    "stas = np.genfromtxt('/Users/sydneydybing/StrainProject/stations.txt', dtype=str)\n",
    "chans = ['EHZ']\n",
    "\n",
    "#quake_folders_test = ['112_2010_7.2', '145_2011_6.4', '185_2014_6.8']\n",
    "#stas_test = ['B007']\n",
    "\n",
    "#quake_folders_test = ['125_2010_5.4']\n",
    "#stas_test = ['B941']\n",
    "\n",
    "quake_folders_test = ['150_2012_5.8']\n",
    "stas_test = ['B006']"
   ]
  },
  {
   "cell_type": "code",
   "execution_count": null,
   "id": "08d577c5",
   "metadata": {},
   "outputs": [],
   "source": [
    "for quake in quake_folders_test:\n",
    "    for sta in stas_test:\n",
    "        for chan in chans:          \n",
    "            \n",
    "            data = Stream()\n",
    "            \n",
    "            try:\n",
    "                \n",
    "                data = read(path_to_files + quake + '/' + sta + '_' + chan + '.mseed')\n",
    "                \n",
    "                #data.plot()\n",
    "                data_array = data[0].data\n",
    "                \n",
    "                times = range(data[0].stats.npts)\n",
    "                times = np.asarray(times)/(data[0].stats.sampling_rate)\n",
    "                                                     \n",
    "                # Normalizing unfiltered data\n",
    "                \n",
    "                norm_value = data_array[0]\n",
    "                data_length = data_array[0].shape\n",
    "                normalize = np.full(data_length, norm_value)\n",
    "                \n",
    "                data_norm = np.subtract(data_array, normalize)\n",
    "                \n",
    "                # Plotting normalized fixed data\n",
    "                \n",
    "    #            plt.plot(times, data_norm)\n",
    "    #            plt.xlim(0.,300.)\n",
    "    #            plt.ylim()\n",
    "    #            plt.xlabel('Time (s) from Earthquake Origin')\n",
    "    #            plt.ylabel('Normalized Counts')\n",
    "    #            plt.title(quake + ' Earthquake at PBO Station ' + sta + '_' + chan)\n",
    "    \n",
    "                st_norm = data.copy()\n",
    "                st_norm[0].data = data_norm\n",
    "                st_norm.plot()\n",
    "                #st_norm.write(path_to_files + 'Normalized/' + quake + '/' + sta + '_' + chan + '.mseed', format='MSEED')\n",
    "    \n",
    "            except: \n",
    "            \n",
    "                print(quake + \" no station \" + sta)                        "
   ]
  }
 ],
 "metadata": {
  "kernelspec": {
   "display_name": "Python 3 (ipykernel)",
   "language": "python",
   "name": "python3"
  },
  "language_info": {
   "codemirror_mode": {
    "name": "ipython",
    "version": 3
   },
   "file_extension": ".py",
   "mimetype": "text/x-python",
   "name": "python",
   "nbconvert_exporter": "python",
   "pygments_lexer": "ipython3",
   "version": "3.8.3"
  }
 },
 "nbformat": 4,
 "nbformat_minor": 5
}
