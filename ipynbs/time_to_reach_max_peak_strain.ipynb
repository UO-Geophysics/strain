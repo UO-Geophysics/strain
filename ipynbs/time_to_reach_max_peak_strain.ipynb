{
 "cells": [
  {
   "cell_type": "code",
   "execution_count": 1,
   "id": "f7ba0bde-7933-46be-aee9-fba515994ee1",
   "metadata": {},
   "outputs": [],
   "source": [
    "import numpy as np\n",
    "from obspy.core import read, UTCDateTime\n",
    "import matplotlib.pyplot as plt"
   ]
  },
  {
   "cell_type": "code",
   "execution_count": 2,
   "id": "2d046872-6436-4b55-b540-cf3f5b872687",
   "metadata": {},
   "outputs": [],
   "source": [
    "path_to_files = '/Users/sydneydybing/StrainProject/2024/'\n",
    "\n",
    "dist_array = np.load(path_to_files + 'NA_evt-sta_dist_array_less500km_withdata_withrmssnrs_FILTERED.npy')\n"
   ]
  },
  {
   "cell_type": "code",
   "execution_count": 3,
   "id": "a008966f-8c4a-458e-beee-42b55764e5a4",
   "metadata": {},
   "outputs": [
    {
     "data": {
      "text/plain": [
       "array(['2023-04-13_M6', '2023-04-13T15:54:53.808Z', '49.215', '-129.6178',\n",
       "       '6.0', 'B001', '48.04307', '-123.13141', '495.399747368',\n",
       "       '1.2227311375'],\n",
       "      dtype='<U32')"
      ]
     },
     "execution_count": 3,
     "metadata": {},
     "output_type": "execute_result"
    }
   ],
   "source": [
    "dist_array[0]"
   ]
  },
  {
   "cell_type": "code",
   "execution_count": 44,
   "id": "19dc65e9-8e56-4bca-8ce4-dc8235463ba8",
   "metadata": {},
   "outputs": [
    {
     "data": {
      "image/png": "[encoded data removed]",
      "text/plain": [
       "<Figure size 432x288 with 1 Axes>"
      ]
     },
     "metadata": {
      "needs_background": "light"
     },
     "output_type": "display_data"
    }
   ],
   "source": [
    "count = 0\n",
    "max_peak_strain_time = []\n",
    "\n",
    "for idx in range(len(dist_array)):\n",
    "    \n",
    "    event_id = dist_array[idx,0]\n",
    "    mag = dist_array[idx,4]\n",
    "    sta = dist_array[idx,5]\n",
    "    hypdist = dist_array[idx,8]\n",
    "    \n",
    "    try:\n",
    "        pst = read(path_to_files + 'strain_data/3comp_peak_post_p/' + str(event_id) + '/' + str(sta) + '.mseed')\n",
    "    except:\n",
    "        continue\n",
    "    \n",
    "    count += 1\n",
    "    # plt.plot(pst[0].data)\n",
    "\n",
    "    i = np.where(pst[0].data == max(pst[0].data))[0]\n",
    "    # print(i)\n",
    "    \n",
    "    # plt.axvline(i[0], color = 'red')\n",
    "    # plt.xlim(i[0] - 5, i[0] + 5)\n",
    "    # plt.ylim(max(pst[0].data)*0.9, max(pst[0].data)*1.1)\n",
    "    # plt.show()\n",
    "    \n",
    "    max_pst_time = i[0] / pst[0].stats.sampling_rate\n",
    "    \n",
    "    plt.scatter(float(mag), max_pst_time, color = 'black', alpha = 0.5)\n",
    "    plt.xlabel('Magnitude')\n",
    "    plt.ylabel('Time of peak strain')\n",
    "    # plt.semilogy()\n",
    "    \n",
    "    max_peak_strain_time.append(max_pst_time)\n",
    "\n",
    "plt.show()\n",
    "    \n",
    "    \n",
    "    "
   ]
  },
  {
   "cell_type": "code",
   "execution_count": 43,
   "id": "6fdb72a5-0f11-4af5-a9b8-8d5494266568",
   "metadata": {},
   "outputs": [
    {
     "name": "stdout",
     "output_type": "stream",
     "text": [
      "216\n"
     ]
    }
   ],
   "source": [
    "print(count)"
   ]
  },
  {
   "cell_type": "code",
   "execution_count": 39,
   "id": "eeab8863-a46f-45d1-b4eb-e941916f89aa",
   "metadata": {},
   "outputs": [],
   "source": [
    "import pandas as pd"
   ]
  },
  {
   "cell_type": "code",
   "execution_count": 40,
   "id": "1fca912c-abcb-4996-aa58-95c6805d9df5",
   "metadata": {},
   "outputs": [],
   "source": [
    "na_mcmc_results = pd.read_csv(path_to_files + '3comp_mcmc_arrays/mcmc_results_summary_with_quality.csv')\n",
    "\n",
    "na_good_results = na_mcmc_results[na_mcmc_results['two_line_fit_qual'] == 'g']\n",
    "na_bad_results = na_mcmc_results[na_mcmc_results['two_line_fit_qual'] == 'b']"
   ]
  },
  {
   "cell_type": "code",
   "execution_count": 41,
   "id": "09a44652-3b83-42d6-8f94-34bc1cec5fa4",
   "metadata": {},
   "outputs": [
    {
     "data": {
      "text/html": [
       "<div>\n",
       "<style scoped>\n",
       "    .dataframe tbody tr th:only-of-type {\n",
       "        vertical-align: middle;\n",
       "    }\n",
       "\n",
       "    .dataframe tbody tr th {\n",
       "        vertical-align: top;\n",
       "    }\n",
       "\n",
       "    .dataframe thead th {\n",
       "        text-align: right;\n",
       "    }\n",
       "</style>\n",
       "<table border=\"1\" class=\"dataframe\">\n",
       "  <thead>\n",
       "    <tr style=\"text-align: right;\">\n",
       "      <th></th>\n",
       "      <th>eq_id</th>\n",
       "      <th>mag</th>\n",
       "      <th>sta</th>\n",
       "      <th>hypdist</th>\n",
       "      <th>xhigh</th>\n",
       "      <th>m1</th>\n",
       "      <th>m2</th>\n",
       "      <th>xinter</th>\n",
       "      <th>sigma</th>\n",
       "      <th>trans_time</th>\n",
       "      <th>two_line_fit_qual</th>\n",
       "    </tr>\n",
       "  </thead>\n",
       "  <tbody>\n",
       "    <tr>\n",
       "      <th>0</th>\n",
       "      <td>2023-04-13_M6</td>\n",
       "      <td>6.0</td>\n",
       "      <td>B006</td>\n",
       "      <td>468</td>\n",
       "      <td>60</td>\n",
       "      <td>0.257992</td>\n",
       "      <td>0.007761</td>\n",
       "      <td>11.985887</td>\n",
       "      <td>0.045496</td>\n",
       "      <td>12.0</td>\n",
       "      <td>g</td>\n",
       "    </tr>\n",
       "    <tr>\n",
       "      <th>1</th>\n",
       "      <td>2023-04-13_M6</td>\n",
       "      <td>6.0</td>\n",
       "      <td>B012</td>\n",
       "      <td>299</td>\n",
       "      <td>60</td>\n",
       "      <td>0.197936</td>\n",
       "      <td>0.018381</td>\n",
       "      <td>12.839701</td>\n",
       "      <td>0.083800</td>\n",
       "      <td>12.9</td>\n",
       "      <td>g</td>\n",
       "    </tr>\n",
       "    <tr>\n",
       "      <th>2</th>\n",
       "      <td>2023-04-13_M6</td>\n",
       "      <td>6.0</td>\n",
       "      <td>B927</td>\n",
       "      <td>349</td>\n",
       "      <td>60</td>\n",
       "      <td>1.232677</td>\n",
       "      <td>0.009634</td>\n",
       "      <td>11.171436</td>\n",
       "      <td>0.065695</td>\n",
       "      <td>11.2</td>\n",
       "      <td>g</td>\n",
       "    </tr>\n",
       "    <tr>\n",
       "      <th>3</th>\n",
       "      <td>2023-04-13_M6</td>\n",
       "      <td>6.0</td>\n",
       "      <td>B928</td>\n",
       "      <td>330</td>\n",
       "      <td>60</td>\n",
       "      <td>0.625950</td>\n",
       "      <td>0.012774</td>\n",
       "      <td>11.773367</td>\n",
       "      <td>0.060353</td>\n",
       "      <td>11.8</td>\n",
       "      <td>g</td>\n",
       "    </tr>\n",
       "    <tr>\n",
       "      <th>4</th>\n",
       "      <td>2022-12-20_M6.4</td>\n",
       "      <td>6.4</td>\n",
       "      <td>B030</td>\n",
       "      <td>406</td>\n",
       "      <td>40</td>\n",
       "      <td>0.159900</td>\n",
       "      <td>0.033257</td>\n",
       "      <td>14.267363</td>\n",
       "      <td>0.100500</td>\n",
       "      <td>14.3</td>\n",
       "      <td>g</td>\n",
       "    </tr>\n",
       "    <tr>\n",
       "      <th>...</th>\n",
       "      <td>...</td>\n",
       "      <td>...</td>\n",
       "      <td>...</td>\n",
       "      <td>...</td>\n",
       "      <td>...</td>\n",
       "      <td>...</td>\n",
       "      <td>...</td>\n",
       "      <td>...</td>\n",
       "      <td>...</td>\n",
       "      <td>...</td>\n",
       "      <td>...</td>\n",
       "    </tr>\n",
       "    <tr>\n",
       "      <th>211</th>\n",
       "      <td>2010-01-10_M6.5</td>\n",
       "      <td>6.5</td>\n",
       "      <td>B035</td>\n",
       "      <td>232</td>\n",
       "      <td>35</td>\n",
       "      <td>0.570517</td>\n",
       "      <td>0.027842</td>\n",
       "      <td>12.965645</td>\n",
       "      <td>0.160991</td>\n",
       "      <td>13.0</td>\n",
       "      <td>g</td>\n",
       "    </tr>\n",
       "    <tr>\n",
       "      <th>212</th>\n",
       "      <td>2010-01-10_M6.5</td>\n",
       "      <td>6.5</td>\n",
       "      <td>B036</td>\n",
       "      <td>233</td>\n",
       "      <td>35</td>\n",
       "      <td>0.579143</td>\n",
       "      <td>0.029420</td>\n",
       "      <td>12.933781</td>\n",
       "      <td>0.160575</td>\n",
       "      <td>13.0</td>\n",
       "      <td>g</td>\n",
       "    </tr>\n",
       "    <tr>\n",
       "      <th>213</th>\n",
       "      <td>2010-01-10_M6.5</td>\n",
       "      <td>6.5</td>\n",
       "      <td>B057</td>\n",
       "      <td>344</td>\n",
       "      <td>35</td>\n",
       "      <td>0.104849</td>\n",
       "      <td>0.013884</td>\n",
       "      <td>17.153798</td>\n",
       "      <td>0.055897</td>\n",
       "      <td>17.2</td>\n",
       "      <td>g</td>\n",
       "    </tr>\n",
       "    <tr>\n",
       "      <th>214</th>\n",
       "      <td>2010-01-10_M6.5</td>\n",
       "      <td>6.5</td>\n",
       "      <td>B933</td>\n",
       "      <td>89</td>\n",
       "      <td>35</td>\n",
       "      <td>0.867501</td>\n",
       "      <td>0.053952</td>\n",
       "      <td>12.495001</td>\n",
       "      <td>0.128224</td>\n",
       "      <td>12.5</td>\n",
       "      <td>g</td>\n",
       "    </tr>\n",
       "    <tr>\n",
       "      <th>215</th>\n",
       "      <td>2010-01-10_M6.5</td>\n",
       "      <td>6.5</td>\n",
       "      <td>B935</td>\n",
       "      <td>96</td>\n",
       "      <td>35</td>\n",
       "      <td>1.106663</td>\n",
       "      <td>0.025817</td>\n",
       "      <td>12.013741</td>\n",
       "      <td>0.087617</td>\n",
       "      <td>12.1</td>\n",
       "      <td>g</td>\n",
       "    </tr>\n",
       "  </tbody>\n",
       "</table>\n",
       "<p>216 rows × 11 columns</p>\n",
       "</div>"
      ],
      "text/plain": [
       "               eq_id  mag   sta  hypdist  xhigh        m1        m2  \\\n",
       "0      2023-04-13_M6  6.0  B006      468     60  0.257992  0.007761   \n",
       "1      2023-04-13_M6  6.0  B012      299     60  0.197936  0.018381   \n",
       "2      2023-04-13_M6  6.0  B927      349     60  1.232677  0.009634   \n",
       "3      2023-04-13_M6  6.0  B928      330     60  0.625950  0.012774   \n",
       "4    2022-12-20_M6.4  6.4  B030      406     40  0.159900  0.033257   \n",
       "..               ...  ...   ...      ...    ...       ...       ...   \n",
       "211  2010-01-10_M6.5  6.5  B035      232     35  0.570517  0.027842   \n",
       "212  2010-01-10_M6.5  6.5  B036      233     35  0.579143  0.029420   \n",
       "213  2010-01-10_M6.5  6.5  B057      344     35  0.104849  0.013884   \n",
       "214  2010-01-10_M6.5  6.5  B933       89     35  0.867501  0.053952   \n",
       "215  2010-01-10_M6.5  6.5  B935       96     35  1.106663  0.025817   \n",
       "\n",
       "        xinter     sigma  trans_time two_line_fit_qual  \n",
       "0    11.985887  0.045496        12.0                 g  \n",
       "1    12.839701  0.083800        12.9                 g  \n",
       "2    11.171436  0.065695        11.2                 g  \n",
       "3    11.773367  0.060353        11.8                 g  \n",
       "4    14.267363  0.100500        14.3                 g  \n",
       "..         ...       ...         ...               ...  \n",
       "211  12.965645  0.160991        13.0                 g  \n",
       "212  12.933781  0.160575        13.0                 g  \n",
       "213  17.153798  0.055897        17.2                 g  \n",
       "214  12.495001  0.128224        12.5                 g  \n",
       "215  12.013741  0.087617        12.1                 g  \n",
       "\n",
       "[216 rows x 11 columns]"
      ]
     },
     "execution_count": 41,
     "metadata": {},
     "output_type": "execute_result"
    }
   ],
   "source": [
    "na_mcmc_results"
   ]
  },
  {
   "cell_type": "code",
   "execution_count": 45,
   "id": "24eafd1f-54e6-4fce-9a65-103eeaddd15b",
   "metadata": {},
   "outputs": [],
   "source": [
    "time_to_transition = na_mcmc_results['xinter'].values - 10"
   ]
  },
  {
   "cell_type": "code",
   "execution_count": 55,
   "id": "0f1005c9-e455-44f5-95cb-a8ffbf35c168",
   "metadata": {},
   "outputs": [],
   "source": [
    "trans_max_ratio = np.array(max_peak_strain_time) / time_to_transition"
   ]
  },
  {
   "cell_type": "code",
   "execution_count": 56,
   "id": "871ed3a1-93f1-4d9d-a68b-9caaa35f92ae",
   "metadata": {},
   "outputs": [
    {
     "data": {
      "text/plain": [
       "<matplotlib.collections.PathCollection at 0x7fdfc7eb8d90>"
      ]
     },
     "execution_count": 56,
     "metadata": {},
     "output_type": "execute_result"
    },
    {
     "data": {
      "image/png": "[encoded data removed]",
      "text/plain": [
       "<Figure size 432x288 with 1 Axes>"
      ]
     },
     "metadata": {
      "needs_background": "light"
     },
     "output_type": "display_data"
    }
   ],
   "source": [
    "plt.scatter(na_mcmc_results['mag'], trans_max_ratio)\n",
    "# plt.semilogy();"
   ]
  },
  {
   "cell_type": "code",
   "execution_count": 57,
   "id": "e3bd1504-10f7-4654-8fdf-f1f538f896c6",
   "metadata": {},
   "outputs": [
    {
     "data": {
      "text/plain": [
       "<matplotlib.collections.PathCollection at 0x7fdfc6f08220>"
      ]
     },
     "execution_count": 57,
     "metadata": {},
     "output_type": "execute_result"
    },
    {
     "data": {
      "image/png": "[encoded data removed]",
      "text/plain": [
       "<Figure size 432x288 with 1 Axes>"
      ]
     },
     "metadata": {
      "needs_background": "light"
     },
     "output_type": "display_data"
    }
   ],
   "source": [
    "plt.scatter(na_mcmc_results['hypdist'], trans_max_ratio)"
   ]
  },
  {
   "cell_type": "code",
   "execution_count": 61,
   "id": "835cb4fc-bfb6-4816-bc49-076ed9c7ac29",
   "metadata": {},
   "outputs": [
    {
     "data": {
      "text/plain": [
       "<matplotlib.collections.PathCollection at 0x7fdfc7e0e190>"
      ]
     },
     "execution_count": 61,
     "metadata": {},
     "output_type": "execute_result"
    },
    {
     "data": {
      "image/png": "[encoded data removed]",
      "text/plain": [
       "<Figure size 432x288 with 1 Axes>"
      ]
     },
     "metadata": {
      "needs_background": "light"
     },
     "output_type": "display_data"
    }
   ],
   "source": [
    "plt.scatter(na_mcmc_results['hypdist'], np.array(max_peak_strain_time))\n",
    "# plt.semilogy()"
   ]
  },
  {
   "cell_type": "code",
   "execution_count": 63,
   "id": "13089b41-ed7a-4d95-ba0d-c33c24cbaa6a",
   "metadata": {},
   "outputs": [
    {
     "data": {
      "text/plain": [
       "array([['2023-04-13_M6', 6.0, 'B006', ..., 0.0454963877111, 12.0, 'g'],\n",
       "       ['2023-04-13_M6', 6.0, 'B012', ..., 0.0838002788574, 12.9, 'g'],\n",
       "       ['2023-04-13_M6', 6.0, 'B927', ..., 0.0656949651442, 11.2, 'g'],\n",
       "       ..., \n",
       "       ['2010-01-10_M6.5', 6.5, 'B057', ..., 0.0558969235535, 17.2, 'g'],\n",
       "       ['2010-01-10_M6.5', 6.5, 'B933', ..., 0.128224279858, 12.5, 'g'],\n",
       "       ['2010-01-10_M6.5', 6.5, 'B935', ..., 0.0876165719474, 12.1, 'g']], dtype=object)"
      ]
     },
     "execution_count": 63,
     "metadata": {},
     "output_type": "execute_result"
    }
   ],
   "source": [
    "mcmc_array = na_mcmc_results.values\n",
    "mcmc_array"
   ]
  },
  {
   "cell_type": "code",
   "execution_count": 76,
   "id": "7fc9516d-f087-4c47-96b8-ef5cfd997551",
   "metadata": {},
   "outputs": [],
   "source": [
    "# Get mean transition time by event\n",
    "\n",
    "mcmc_array = na_mcmc_results.values\n",
    "\n",
    "unique_eventids = np.unique(mcmc_array[:,0])\n",
    "# unique_eventids\n",
    "\n",
    "mags = []\n",
    "mean_trans_times = []\n",
    "mean_m1s = []\n",
    "mean_m2s = []\n",
    "\n",
    "for uni_id in unique_eventids:\n",
    "    \n",
    "    # print(uni_id)\n",
    "    i = np.where(uni_id == mcmc_array[:,0])[0]\n",
    "    # print(i)\n",
    "    \n",
    "    m1s = mcmc_array[i,5].astype(float)\n",
    "    m2s = mcmc_array[i,6].astype(float)\n",
    "    trans_times = mcmc_array[i,7].astype(float)-10\n",
    "    mag = mcmc_array[i,1].astype(float)[0]\n",
    "    # print(mag)\n",
    "    # print(trans_times)\n",
    "    \n",
    "    mean_trans_time = np.mean(trans_times)\n",
    "    mean_m1 = np.mean(m1s)\n",
    "    mean_m2 = np.mean(m2s)\n",
    "    \n",
    "    mags.append(mag)\n",
    "    mean_trans_times.append(mean_trans_time)\n",
    "    mean_m1s.append(mean_m1)\n",
    "    mean_m2s.append(mean_m2)\n",
    "    \n",
    "mags = np.array(mags)\n",
    "mean_trans_times = np.array(mean_trans_times)\n",
    "mean_m1s = np.array(mean_m1s)\n",
    "mean_m2s = np.array(mean_m2s)"
   ]
  },
  {
   "cell_type": "code",
   "execution_count": 86,
   "id": "d088362a-28cb-467a-af17-d341ce41bdd1",
   "metadata": {},
   "outputs": [
    {
     "data": {
      "image/png": "[encoded data removed]",
      "text/plain": [
       "<Figure size 432x288 with 1 Axes>"
      ]
     },
     "metadata": {
      "needs_background": "light"
     },
     "output_type": "display_data"
    }
   ],
   "source": [
    "m, b = np.polyfit(mags, mean_trans_times, 1)\n",
    "plt.scatter(mags, mean_trans_times);\n",
    "# plt.plot(mags, mags*m + b, color = 'red');"
   ]
  },
  {
   "cell_type": "code",
   "execution_count": 79,
   "id": "24a423d4-0f8a-42ed-9d9e-055646dd5000",
   "metadata": {},
   "outputs": [
    {
     "data": {
      "image/png": "[encoded data removed]",
      "text/plain": [
       "<Figure size 432x288 with 1 Axes>"
      ]
     },
     "metadata": {
      "needs_background": "light"
     },
     "output_type": "display_data"
    }
   ],
   "source": [
    "plt.scatter(mags, mean_m1s);"
   ]
  },
  {
   "cell_type": "code",
   "execution_count": 80,
   "id": "a3f193ca-3672-4fc7-ab7b-3d0764392671",
   "metadata": {},
   "outputs": [
    {
     "data": {
      "image/png": "[encoded data removed]",
      "text/plain": [
       "<Figure size 432x288 with 1 Axes>"
      ]
     },
     "metadata": {
      "needs_background": "light"
     },
     "output_type": "display_data"
    }
   ],
   "source": [
    "plt.scatter(mags, mean_m2s);"
   ]
  },
  {
   "cell_type": "code",
   "execution_count": null,
   "id": "8b74b4a2-4534-424a-9893-6b773be004f5",
   "metadata": {},
   "outputs": [],
   "source": []
  }
 ],
 "metadata": {
  "kernelspec": {
   "display_name": "Python 3 (ipykernel)",
   "language": "python",
   "name": "python3"
  },
  "language_info": {
   "codemirror_mode": {
    "name": "ipython",
    "version": 3
   },
   "file_extension": ".py",
   "mimetype": "text/x-python",
   "name": "python",
   "nbconvert_exporter": "python",
   "pygments_lexer": "ipython3",
   "version": "3.8.3"
  }
 },
 "nbformat": 4,
 "nbformat_minor": 5
}
