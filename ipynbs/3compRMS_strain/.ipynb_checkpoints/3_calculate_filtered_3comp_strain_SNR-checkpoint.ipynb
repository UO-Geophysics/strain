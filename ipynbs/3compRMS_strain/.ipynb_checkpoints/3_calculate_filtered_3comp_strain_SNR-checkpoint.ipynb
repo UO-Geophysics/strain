{
 "cells": [
  {
   "cell_type": "code",
   "execution_count": 1,
   "id": "eadbc20f",
   "metadata": {},
   "outputs": [],
   "source": [
    "from obspy.core import Stream, read\n",
    "import numpy as np\n",
    "import matplotlib.pyplot as plt\n",
    "import matplotlib as mpl \n",
    "from matplotlib.colors import Normalize\n",
    "import pandas as pd\n",
    "import os \n",
    "import os.path"
   ]
  },
  {
   "cell_type": "code",
   "execution_count": 2,
   "id": "e32f87ff",
   "metadata": {},
   "outputs": [],
   "source": [
    "path_to_files = '/Users/sydneydybing/StrainProject/2024/'\n",
    "\n",
    "earthquakes = pd.read_csv(path_to_files + 'M6_catalog_2004-2024.csv', dtype = str)\n",
    "\n",
    "weird_events_only = False\n",
    "if weird_events_only:\n",
    "    earthquakes = earthquakes.iloc[[4,15]]\n",
    "\n",
    "small_test = False\n",
    "if small_test:\n",
    "    earthquakes = earthquakes[5:7]\n",
    "    \n",
    "one_at_a_time = False\n",
    "if one_at_a_time:\n",
    "    earthquakes = earthquakes[:1]\n",
    "\n",
    "origin_times = earthquakes.time.values\n",
    "mags = earthquakes.mag.values\n",
    "\n",
    "bsm_mda = pd.read_csv(path_to_files + 'bsm_metadata.csv')\n",
    "NA_only = bsm_mda.loc[bsm_mda['LONG'] < -110]\n",
    "stas = NA_only['BNUM'].values\n",
    "\n",
    "eqs_test = earthquakes[4:5]\n",
    "ots_test = origin_times[4:5]\n",
    "mags_test = mags[4:5]\n",
    "rows_for_extra_times = [8,9,14,16]\n",
    "\n",
    "dist_array = np.load('/Users/sydneydybing/StrainProject/2024/NA_evt-sta_dist_array_less500km_withdata.npy')\n",
    "\n",
    "# Array order:\n",
    "\n",
    "# 0. Earthquake identifier\n",
    "# 1. Earthquake origin time\n",
    "# 2. Earthquake latitude\n",
    "# 3. Earthquake longitude\n",
    "# 4. Earthquake magnitude\n",
    "# 5. Station name\n",
    "# 6. Station latitude\n",
    "# 7. Station longitude\n",
    "# 8. Hypocentral distance (km)"
   ]
  },
  {
   "cell_type": "code",
   "execution_count": 3,
   "id": "03a463f9",
   "metadata": {},
   "outputs": [
    {
     "data": {
      "text/plain": [
       "array(['2023-04-13_M6', '2023-04-13T15:54:53.808Z', '49.215', '-129.6178',\n",
       "       '6.0', 'B001', '48.04307', '-123.13141', '495.399747368'],\n",
       "      dtype='<U32')"
      ]
     },
     "execution_count": 3,
     "metadata": {},
     "output_type": "execute_result"
    }
   ],
   "source": [
    "dist_array[0]"
   ]
  },
  {
   "cell_type": "code",
   "execution_count": 4,
   "id": "68ef436d",
   "metadata": {},
   "outputs": [
    {
     "name": "stderr",
     "output_type": "stream",
     "text": [
      "/var/folders/yg/s8qp7lfs59g_tbwsx_wxkdx80000gn/T/ipykernel_9373/3272500772.py:70: RuntimeWarning: invalid value encountered in double_scalars\n",
      "  snr = signal_rms/noise_rms\n",
      "/var/folders/yg/s8qp7lfs59g_tbwsx_wxkdx80000gn/T/ipykernel_9373/3272500772.py:90: UserWarning: Data has no positive values, and therefore cannot be log-scaled.\n",
      "  ax.set_yscale('log')\n"
     ]
    },
    {
     "name": "stdout",
     "output_type": "stream",
     "text": [
      "439\n"
     ]
    }
   ],
   "source": [
    "# k = np.where(dist_array[:,0] == '2023-04-13_M6')[0] # To just run one event\n",
    "rms_snrs = []\n",
    "\n",
    "for i in range(len(dist_array)):\n",
    "    \n",
    "    eq_id = dist_array[i,0]\n",
    "    sta = dist_array[i,5]\n",
    "    hypdist = float(dist_array[i,8])\n",
    "    \n",
    "#     print(eq_id, sta)\n",
    "    \n",
    "    try:\n",
    "        strain_waves = read(path_to_files + 'strain_data/3comp_trimmed_rms/' + str(eq_id) + '/' + str(sta) + '.mseed')\n",
    "    \n",
    "    except:\n",
    "        rms_snrs.append(np.nan)\n",
    "        continue # skips to next row in dist_array\n",
    "    \n",
    "    times = strain_waves[0].times()\n",
    "    samples = np.arange(strain_waves[0].stats.npts)\n",
    "    data = strain_waves[0].data\n",
    "    \n",
    "    samp_rate = strain_waves[0].stats.sampling_rate\n",
    "    \n",
    "    samples_to_p_pick = 10 * samp_rate\n",
    "    \n",
    "        \n",
    "    if hypdist < 100:\n",
    "#         print('Close one: ' + str(round(hypdist)) + ' km')\n",
    "#         print(eq_id, sta)\n",
    "        k = np.where(data != 0)[0]\n",
    "#         print('Data is nonzero at indices:')\n",
    "#         print(k)\n",
    "#         print('Data starts being nonzero at time:')\n",
    "#         print(times[k[0]])\n",
    "#         print('We have ' + str(9 - times[k[0]]) + ' seconds of useable noise data')\n",
    "        \n",
    "        if float(9 - times[k[0]]) >= 8:\n",
    "            noise_start = int(samples_to_p_pick - 9*samp_rate)\n",
    "        else:\n",
    "            noise_start = k[0]\n",
    "            \n",
    "#         print('First noise sample is:')\n",
    "#         print(noise_start)\n",
    "#         print('')\n",
    "    \n",
    "    else:\n",
    "        noise_start = int(samples_to_p_pick - 9*samp_rate) # 8 seconds of noise\n",
    "    \n",
    "    noise_end = int(samples_to_p_pick - 1*samp_rate)\n",
    "    \n",
    "    # Plot to check noise window positioning\n",
    "#     if hypdist < 100: \n",
    "#         plt.plot(samples, data, color = 'black')\n",
    "#         plt.semilogy()\n",
    "#         plt.axvline(x = 10*samp_rate, color = 'blue')\n",
    "#         plt.axvline(x = noise_start, color = 'green')\n",
    "#         plt.axvline(x = noise_end, color = 'red')\n",
    "#         plt.xlim(-1*samp_rate,30*samp_rate)\n",
    "#         plt.show()\n",
    "\n",
    "    signal_start = int(samples_to_p_pick)\n",
    "    signal_end = int(samples_to_p_pick + 10*samp_rate) # 30 seconds of signal\n",
    "    \n",
    "    signal = data[signal_start:signal_end]\n",
    "    noise = data[noise_start:noise_end]\n",
    "    \n",
    "    noise_rms = np.sqrt(np.mean(noise**2))\n",
    "    signal_rms = np.sqrt(np.mean(signal**2))\n",
    "    snr = signal_rms/noise_rms\n",
    "#     snr_db = 20*np.log10(snr)\n",
    "    \n",
    "    rms_snrs.append(snr)\n",
    "    \n",
    "#     print(snr_db)\n",
    "    \n",
    "    pst = read(path_to_files + 'strain_data/3comp_peak/' + str(eq_id) + '/' + str(sta) + '.mseed')\n",
    "    seis_waves = read(path_to_files + 'seismic_data/trimmed/' + str(eq_id) + '/' + str(sta) + '.mseed')\n",
    "    \n",
    "    # Plot all 3 waveforms\n",
    "    \n",
    "    fig = plt.figure(figsize = (10,6), dpi = 300, facecolor = 'white', num = 1, clear = True)\n",
    "    ax = fig.add_subplot(111)\n",
    "    ax.grid()\n",
    "    ax.set_title('Earthquake ' + str(eq_id) + ', station ' + str(sta) + '\\nRMS strain SNR: ' + str(round(snr,2)), fontsize = 14)\n",
    "    ax.plot(pst[0].times(), pst[0].data*10**9, color = 'red', label = 'Peak strain')\n",
    "    ax.plot(times, data*10**9, color = 'blue', label = 'RMS strain')\n",
    "    ax2 = ax.twinx()\n",
    "    ax2.plot(seis_waves[0].times(), seis_waves[0].data, color = 'green', alpha = 0.5, label = 'Seismic data')\n",
    "    ax.set_yscale('log')\n",
    "#     ax.set_ylabel('Log of peak extensional\\nmicrostrain ($10^{-6}$)', fontsize = 15)\n",
    "    ax.set_xlabel('Time (s)', fontsize = 15)\n",
    "    ax.set_xlim(0,40)\n",
    "#     ax.set_xticks([0,1,2,3,4,5,6,7,8,9,10,11,12,13,14,15,16,17,18,19,20])\n",
    "    ax.axvline(x = 10, color = 'gray', linestyle = '--')\n",
    "    ax.tick_params(labelsize = 13)\n",
    "    ax.legend(loc = 'upper left', fontsize = 12)\n",
    "    ax2.legend(loc = 'lower right', fontsize = 12)\n",
    "    \n",
    "#     plt.show()\n",
    "    \n",
    "    # Create folder for the event\n",
    "    eq_sta_save_dir = path_to_files + 'figures/3comp_rms_peak_seismic_overlay_plots/' + str(eq_id) + '/'\n",
    "#     print(eq_sta_save_dir)\n",
    "    if os.path.isdir(eq_sta_save_dir):\n",
    "        pass\n",
    "    else:\n",
    "        os.makedirs(eq_sta_save_dir)\n",
    "    \n",
    "    plt.savefig(eq_sta_save_dir + str(sta) + '.png', format = 'PNG')\n",
    "    plt.close();\n",
    "    \n",
    "print(len(rms_snrs))"
   ]
  },
  {
   "cell_type": "code",
   "execution_count": 5,
   "id": "20d19f7f",
   "metadata": {},
   "outputs": [],
   "source": [
    "reshape_rms = np.array(rms_snrs).reshape(len(rms_snrs),1)"
   ]
  },
  {
   "cell_type": "code",
   "execution_count": 6,
   "id": "2e3ea144",
   "metadata": {},
   "outputs": [],
   "source": [
    "new_array = np.hstack((dist_array, reshape_rms))\n",
    "\n",
    "# Array order:\n",
    "\n",
    "# 0. Earthquake identifier\n",
    "# 1. Earthquake origin time\n",
    "# 2. Earthquake latitude\n",
    "# 3. Earthquake longitude\n",
    "# 4. Earthquake magnitude\n",
    "# 5. Station name\n",
    "# 6. Station latitude\n",
    "# 7. Station longitude\n",
    "# 8. Hypocentral distance (km)\n",
    "# 9. RMS strain SNR"
   ]
  },
  {
   "cell_type": "code",
   "execution_count": 7,
   "id": "119329a4",
   "metadata": {},
   "outputs": [
    {
     "data": {
      "text/plain": [
       "array(['2023-04-13_M6', '2023-04-13T15:54:53.808Z', '49.215', '-129.6178',\n",
       "       '6.0', 'B001', '48.04307', '-123.13141', '495.399747368',\n",
       "       '1.24916559849'],\n",
       "      dtype='<U32')"
      ]
     },
     "execution_count": 7,
     "metadata": {},
     "output_type": "execute_result"
    }
   ],
   "source": [
    "new_array[0]"
   ]
  },
  {
   "cell_type": "code",
   "execution_count": 8,
   "id": "00be63a2",
   "metadata": {},
   "outputs": [],
   "source": [
    "np.save('/Users/sydneydybing/StrainProject/2024/NA_evt-sta_dist_array_less500km_withdata_withrmssnrs_3COMP.npy', new_array)"
   ]
  },
  {
   "cell_type": "code",
   "execution_count": 9,
   "id": "788878f0",
   "metadata": {},
   "outputs": [],
   "source": [
    "test = np.load('/Users/sydneydybing/StrainProject/2024/NA_evt-sta_dist_array_less500km_withdata_withrmssnrs_3COMP.npy')"
   ]
  },
  {
   "cell_type": "code",
   "execution_count": 10,
   "id": "cb310d3d",
   "metadata": {},
   "outputs": [
    {
     "data": {
      "text/plain": [
       "(439, 10)"
      ]
     },
     "execution_count": 10,
     "metadata": {},
     "output_type": "execute_result"
    }
   ],
   "source": [
    "test.shape"
   ]
  },
  {
   "cell_type": "code",
   "execution_count": null,
   "id": "567e6cbe-5ec4-4b00-b0e3-e559abce69b9",
   "metadata": {},
   "outputs": [],
   "source": []
  }
 ],
 "metadata": {
  "kernelspec": {
   "display_name": "Python 3 (ipykernel)",
   "language": "python",
   "name": "python3"
  },
  "language_info": {
   "codemirror_mode": {
    "name": "ipython",
    "version": 3
   },
   "file_extension": ".py",
   "mimetype": "text/x-python",
   "name": "python",
   "nbconvert_exporter": "python",
   "pygments_lexer": "ipython3",
   "version": "3.8.3"
  }
 },
 "nbformat": 4,
 "nbformat_minor": 5
}
