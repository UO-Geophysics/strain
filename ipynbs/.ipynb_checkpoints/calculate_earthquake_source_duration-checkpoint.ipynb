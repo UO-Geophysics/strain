{
 "cells": [
  {
   "cell_type": "code",
   "execution_count": null,
   "id": "9cad5ef2",
   "metadata": {},
   "outputs": [],
   "source": [
    "from obspy.core import read\n",
    "import numpy as np\n",
    "import matplotlib.pyplot as plt\n",
    "import pandas as pd"
   ]
  },
  {
   "cell_type": "code",
   "execution_count": null,
   "id": "52ff9bb8",
   "metadata": {},
   "outputs": [],
   "source": [
    "apref = -6.407\n",
    "bpref = 0.385"
   ]
  },
  {
   "cell_type": "code",
   "execution_count": null,
   "id": "0caeb283",
   "metadata": {},
   "outputs": [],
   "source": [
    "##### Ridgecrest #####\n",
    "\n",
    "Rcrest = pd.read_csv('/Users/sydneydybing/StrainProject/Ridgecrest/rcrest_quakes_Mo.csv')\n",
    "\n",
    "Rcrest_Mo = Rcrest.Mo.values\n",
    "print(Rcrest_Mo)\n",
    "\n",
    "Rcrest_S_list = []\n",
    "Rcrest_S_mags_list = [6.4, 5.36, 7.1, 5.5, 5.44, 5.53]\n",
    "\n",
    "for Mo in Rcrest_Mo:\n",
    "    \n",
    "    logS = apref + bpref * np.log10(Mo)\n",
    "    #print(logS)\n",
    "    \n",
    "    S = 10**logS\n",
    "    Rcrest_S = S\n",
    "    \n",
    "    print(Rcrest_S)\n",
    "    \n",
    "    Rcrest_S_list.append(Rcrest_S)\n",
    "\n",
    "print(Rcrest_S_list)\n",
    "print('-------------')"
   ]
  },
  {
   "cell_type": "code",
   "execution_count": null,
   "id": "48449c90",
   "metadata": {},
   "outputs": [],
   "source": [
    "##### Barbour #####\n",
    "\n",
    "Barbour = pd.read_csv('/Users/sydneydybing/StrainProject/Barbour_quakes_Mo.csv')\n",
    "\n",
    "Barbour_Mo = Barbour.Mo.values\n",
    "print(Barbour_Mo)\n",
    "\n",
    "Barbour_S_list = []\n",
    "Barbour_S_mags_list = [6.3, 6.5, 7.2, 6.4, 6.0, 6.1, 6.8]\n",
    "\n",
    "for Mo in Barbour_Mo:\n",
    "    \n",
    "    logS = apref + bpref * np.log10(Mo)\n",
    "    #print(logS)\n",
    "    \n",
    "    S = 10**logS\n",
    "    Barbour_S = S\n",
    "    \n",
    "    print(Barbour_S)\n",
    "    \n",
    "    Barbour_S_list.append(Barbour_S)\n",
    "\n",
    "print(Barbour_S_list)\n",
    "    \n",
    "print('-------------')"
   ]
  },
  {
   "cell_type": "code",
   "execution_count": null,
   "id": "33d35275",
   "metadata": {},
   "outputs": [],
   "source": [
    "##### Taiwan #####\n",
    "\n",
    "Taiwan_Mo = 2.195*10**18\n",
    "Taiwan_S_list = []\n",
    "Taiwan_S_mags_list = [6.2]\n",
    "\n",
    "Taiwan_logS = apref + bpref * np.log10(Taiwan_Mo)\n",
    "#print(logS)\n",
    "\n",
    "Taiwan_S = 10**Taiwan_logS\n",
    "\n",
    "print(Taiwan_S)\n",
    "Taiwan_S_list.append(Taiwan_S)\n",
    "\n",
    "print(Taiwan_S_list)\n",
    "\n",
    "print('-------------')"
   ]
  },
  {
   "cell_type": "code",
   "execution_count": null,
   "id": "711a3956",
   "metadata": {},
   "outputs": [],
   "source": [
    "Rcrest_S_array = np.asarray(Rcrest_S_list)\n",
    "Rcrest_S_mags_array = np.asarray(Rcrest_S_mags_list)\n",
    "\n",
    "Barbour_S_array = np.asarray(Barbour_S_list)\n",
    "Barbour_S_mags_array = np.asarray(Barbour_S_mags_list)\n",
    "\n",
    "Taiwan_S_array = np.asarray(Taiwan_S_list)\n",
    "Taiwan_S_mags_array = np.asarray(Taiwan_S_mags_list)\n",
    "\n",
    "plt.scatter(Rcrest_S_mags_array, Rcrest_S_array)\n",
    "plt.scatter(Barbour_S_mags_array, Barbour_S_array)\n",
    "plt.scatter(Taiwan_S_mags_array, Taiwan_S_array)"
   ]
  }
 ],
 "metadata": {
  "kernelspec": {
   "display_name": "Python 3 (ipykernel)",
   "language": "python",
   "name": "python3"
  },
  "language_info": {
   "codemirror_mode": {
    "name": "ipython",
    "version": 3
   },
   "file_extension": ".py",
   "mimetype": "text/x-python",
   "name": "python",
   "nbconvert_exporter": "python",
   "pygments_lexer": "ipython3",
   "version": "3.8.3"
  }
 },
 "nbformat": 4,
 "nbformat_minor": 5
}
