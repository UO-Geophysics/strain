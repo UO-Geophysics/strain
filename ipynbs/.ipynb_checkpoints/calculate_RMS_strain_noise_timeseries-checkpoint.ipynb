{
 "cells": [
  {
   "cell_type": "code",
   "execution_count": null,
   "id": "d1b8996d",
   "metadata": {},
   "outputs": [],
   "source": [
    "from obspy.core import Stream, read\n",
    "import numpy as np\n",
    "import matplotlib.pyplot as plt"
   ]
  },
  {
   "cell_type": "code",
   "execution_count": null,
   "id": "b5f53335",
   "metadata": {},
   "outputs": [],
   "source": [
    "path_to_files = '/Users/sydneydybing/IRIS_pbo_data/Data_noise/'\n",
    "quake_folders = np.genfromtxt(path_to_files + 'quake_folders_sel4.txt', dtype=str)\n",
    "stas = np.genfromtxt(path_to_files + 'stations_sel4.txt', dtype=str)\n",
    "chans = ['BS1', 'BS2', 'BS3', 'BS4']\n",
    "\n",
    "quake_folders_test = ['172_2012_6.2']\n",
    "stas_test = ['B007']"
   ]
  },
  {
   "cell_type": "code",
   "execution_count": null,
   "id": "f8e370d9",
   "metadata": {},
   "outputs": [],
   "source": [
    "for quake in quake_folders_test:   \n",
    "    for sta in stas_test:\n",
    "                    \n",
    "        try:\n",
    "            \n",
    "            BS1 = Stream()\n",
    "            BS2 = Stream()\n",
    "            BS3 = Stream()\n",
    "            BS4 = Stream()\n",
    "            \n",
    "            BS1 = read(path_to_files + 'Processed/' + quake + '/' + sta + '_' + 'BS1.mseed')\n",
    "            BS2 = read(path_to_files + 'Processed/' + quake + '/' + sta + '_' + 'BS2.mseed')\n",
    "            BS3 = read(path_to_files + 'Processed/' + quake + '/' + sta + '_' + 'BS3.mseed')\n",
    "            BS4 = read(path_to_files + 'Processed/' + quake + '/' + sta + '_' + 'BS4.mseed')\n",
    "            \n",
    "            BS1.plot()\n",
    "            #BS2.plot()\n",
    "            #BS3.plot()\n",
    "            #BS4.plot()\n",
    "            \n",
    "            RMS_strain = np.sqrt(((BS1[0].data)**2 + (BS2[0].data)**2 + (BS3[0].data)**2 + (BS4[0].data)**2)/4)         \n",
    "            \n",
    "            times = range(BS1[0].stats.npts)\n",
    "            times = np.asarray(times)/(BS1[0].stats.sampling_rate) \n",
    "            \n",
    "            plt.plot(times, RMS_strain*10**6, label = quake)\n",
    "            \n",
    "            timeseries = [0.,60.]\n",
    "            plt.xlim(timeseries)\n",
    "            timeseries = str(timeseries)\n",
    "            \n",
    "            plt.xlabel('Time (s)')\n",
    "            plt.ylabel('RMS Microstrain ($10^{-6}$ m/m)')\n",
    "            plt.title(quake + ' Earthquake at PBO Station ' + sta)\n",
    "            #plt.legend(loc = 1)\n",
    "            \n",
    "            #plt.show()\n",
    "            #plt.close()\n",
    "            #plt.savefig('/Users/sydneydybing/IRIS_pbo_data/Data_noise/compare_for_meeting/' + quake + '/' + sta + '.jpg', format=\"JPEG\", dpi=400)\n",
    "            \n",
    "            RMS_st = BS1.copy()\n",
    "            RMS_st[0].stats.channel = 'BSR'\n",
    "            RMS_st[0].data = RMS_strain\n",
    "            \n",
    "            #RMS_st.plot()\n",
    "            #print(RMS_st[0].stats)\n",
    "            \n",
    "            #RMS_st.write(path_to_files + 'Processed/RMS/' + quake + '/' + sta + '_RMS' + '.mseed', format='MSEED')\n",
    "                \n",
    "        except:\n",
    "            \n",
    "            print(quake + \" no station \" + sta)"
   ]
  }
 ],
 "metadata": {
  "kernelspec": {
   "display_name": "Python 3 (ipykernel)",
   "language": "python",
   "name": "python3"
  },
  "language_info": {
   "codemirror_mode": {
    "name": "ipython",
    "version": 3
   },
   "file_extension": ".py",
   "mimetype": "text/x-python",
   "name": "python",
   "nbconvert_exporter": "python",
   "pygments_lexer": "ipython3",
   "version": "3.8.3"
  }
 },
 "nbformat": 4,
 "nbformat_minor": 5
}
