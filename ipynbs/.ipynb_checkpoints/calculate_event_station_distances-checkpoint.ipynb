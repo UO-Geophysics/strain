{
 "cells": [
  {
   "cell_type": "code",
   "execution_count": 1,
   "id": "f2b51a3b",
   "metadata": {},
   "outputs": [],
   "source": [
    "import numpy as np\n",
    "import pandas as pd"
   ]
  },
  {
   "cell_type": "code",
   "execution_count": 2,
   "id": "f2f9b622",
   "metadata": {},
   "outputs": [],
   "source": [
    "earthquakes = pd.read_csv('/Users/sydneydybing/StrainProject/2024/M6_catalog_2004-2024.csv', dtype = str)\n",
    "bsm_mda = pd.read_csv('/Users/sydneydybing/StrainProject/2024/bsm_metadata.csv')\n",
    "NA_only = bsm_mda.loc[bsm_mda['LONG'] < -110]"
   ]
  },
  {
   "cell_type": "code",
   "execution_count": 3,
   "id": "09b614f8",
   "metadata": {},
   "outputs": [],
   "source": [
    "eq_times = earthquakes['time'].values\n",
    "eq_mags = earthquakes['mag'].values\n",
    "eq_lats = earthquakes['latitude'].values\n",
    "eq_lons = earthquakes['longitude'].values\n",
    "\n",
    "eq_names = []\n",
    "\n",
    "for i in range(len(eq_times)):\n",
    "    eq_date = eq_times[i][:10]\n",
    "    eq_mag = eq_mags[i]\n",
    "    eq_name = eq_date + '_M' + eq_mag\n",
    "    eq_names.append(eq_name)"
   ]
  },
  {
   "cell_type": "code",
   "execution_count": 4,
   "id": "d7fb554f",
   "metadata": {},
   "outputs": [],
   "source": [
    "stas = NA_only['BNUM'].values\n",
    "sta_lats = NA_only['LAT'].values\n",
    "sta_lons = NA_only['LONG'].values"
   ]
  },
  {
   "cell_type": "code",
   "execution_count": 15,
   "id": "42b6c1b4",
   "metadata": {},
   "outputs": [],
   "source": [
    "from obspy.geodetics import gps2dist_azimuth, kilometer2degrees\n",
    "\n",
    "full_eq_names = []\n",
    "full_eq_lats = []\n",
    "full_eq_lons = []\n",
    "full_eq_mags = []\n",
    "full_sta_names = []\n",
    "full_sta_lats = []\n",
    "full_sta_lons = []\n",
    "full_dists = []\n",
    "\n",
    "for i in range(len(eq_names)):\n",
    "    \n",
    "    eq_name = eq_names[i]\n",
    "    eq_lat = float(eq_lats[i])\n",
    "    eq_lon = float(eq_lons[i])\n",
    "    eq_mag = float(eq_mags[i])\n",
    "    \n",
    "    for j in range(len(stas)):\n",
    "        \n",
    "        sta_name = stas[j]\n",
    "        sta_lat = float(sta_lats[j])\n",
    "        sta_lon = float(sta_lons[j])\n",
    "\n",
    "        distaz = gps2dist_azimuth(eq_lat, eq_lon, sta_lat, sta_lon)\n",
    "        dist_m = distaz[0]\n",
    "        dist_km = dist_m/1000\n",
    "        \n",
    "        full_eq_names.append(eq_name)\n",
    "        full_eq_lats.append(eq_lat)\n",
    "        full_eq_lons.append(eq_lon)\n",
    "        full_eq_mags.append(eq_mag)\n",
    "        full_sta_names.append(sta_name)\n",
    "        full_sta_lats.append(sta_lat)\n",
    "        full_sta_lons.append(sta_lon)\n",
    "        full_dists.append(dist_km)"
   ]
  },
  {
   "cell_type": "code",
   "execution_count": 16,
   "id": "a5eb089f",
   "metadata": {},
   "outputs": [
    {
     "name": "stdout",
     "output_type": "stream",
     "text": [
      "2660\n",
      "2660\n",
      "2660\n",
      "2660\n",
      "2660\n",
      "2660\n",
      "2660\n",
      "2660\n"
     ]
    }
   ],
   "source": [
    "print(len(full_eq_names))\n",
    "print(len(full_eq_lats))\n",
    "print(len(full_eq_lons))\n",
    "print(len(full_eq_mags))\n",
    "print(len(full_sta_names))\n",
    "print(len(full_sta_lats))\n",
    "print(len(full_sta_lons))\n",
    "print(len(full_dists))"
   ]
  },
  {
   "cell_type": "code",
   "execution_count": 17,
   "id": "ec8263b1",
   "metadata": {},
   "outputs": [
    {
     "name": "stdout",
     "output_type": "stream",
     "text": [
      "(2660, 8)\n"
     ]
    }
   ],
   "source": [
    "hypodist_array = np.column_stack((np.array(full_eq_names),np.array(full_eq_lats),np.array(full_eq_lons),np.array(full_eq_mags),np.array(full_sta_names),np.array(full_sta_lats),np.array(full_sta_lons),np.array(full_dists)))\n",
    "print(hypodist_array.shape)\n",
    "\n",
    "np.save('/Users/sydneydybing/StrainProject/2024/NA_evt-sta_dist_array.npy', hypodist_array)"
   ]
  },
  {
   "cell_type": "code",
   "execution_count": 14,
   "id": "ae9638f7",
   "metadata": {},
   "outputs": [],
   "source": [
    "# Array order:\n",
    "\n",
    "# 0. Earthquake identifier\n",
    "# 1. Earthquake latitude\n",
    "# 2. Earthquake longitude\n",
    "# 3. Earthquake magnitude\n",
    "# 4. Station name\n",
    "# 5. Station latitude\n",
    "# 6. Station longitude\n",
    "# 7. Hypocentral distance"
   ]
  }
 ],
 "metadata": {
  "kernelspec": {
   "display_name": "Python 3 (ipykernel)",
   "language": "python",
   "name": "python3"
  },
  "language_info": {
   "codemirror_mode": {
    "name": "ipython",
    "version": 3
   },
   "file_extension": ".py",
   "mimetype": "text/x-python",
   "name": "python",
   "nbconvert_exporter": "python",
   "pygments_lexer": "ipython3",
   "version": "3.8.3"
  }
 },
 "nbformat": 4,
 "nbformat_minor": 5
}
