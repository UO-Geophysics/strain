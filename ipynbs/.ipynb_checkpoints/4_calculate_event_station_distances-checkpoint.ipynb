{
 "cells": [
  {
   "cell_type": "code",
   "execution_count": 9,
   "id": "f2b51a3b",
   "metadata": {},
   "outputs": [],
   "source": [
    "import numpy as np\n",
    "import pandas as pd"
   ]
  },
  {
   "cell_type": "code",
   "execution_count": 10,
   "id": "f2f9b622",
   "metadata": {},
   "outputs": [],
   "source": [
    "earthquakes = pd.read_csv('/Users/sydneydybing/StrainProject/2024/M6_catalog_2004-2024.csv', dtype = str)\n",
    "bsm_mda = pd.read_csv('/Users/sydneydybing/StrainProject/2024/bsm_metadata.csv')\n",
    "NA_only = bsm_mda.loc[bsm_mda['LONG'] < -110]"
   ]
  },
  {
   "cell_type": "code",
   "execution_count": 11,
   "id": "09b614f8",
   "metadata": {},
   "outputs": [],
   "source": [
    "eq_times = earthquakes['time'].values\n",
    "eq_mags = earthquakes['mag'].values\n",
    "eq_lats = earthquakes['latitude'].values\n",
    "eq_lons = earthquakes['longitude'].values\n",
    "\n",
    "eq_names = []\n",
    "eq_name_dups = ['2019-12-23_M6', '2018-10-22_M6.5']\n",
    "\n",
    "for i in range(len(eq_times)):\n",
    "    eq_date = eq_times[i][:10]\n",
    "    eq_mag = eq_mags[i]\n",
    "    eq_name = eq_date + '_M' + eq_mag\n",
    "    \n",
    "    if eq_name in eq_name_dups:\n",
    "        eq_date = eq_times[i][:13]\n",
    "        eq_name = eq_date + '_M' + eq_mag\n",
    "        \n",
    "    eq_names.append(eq_name)"
   ]
  },
  {
   "cell_type": "code",
   "execution_count": 12,
   "id": "a8d54148",
   "metadata": {},
   "outputs": [
    {
     "name": "stdout",
     "output_type": "stream",
     "text": [
      "['2023-04-13_M6', '2022-12-20_M6.4', '2022-11-22_M6.2', '2021-12-20_M6.2', '2021-07-08_M6', '2020-05-15_M6.5', '2020-03-31_M6.5', '2019-12-25_M6.3', '2019-12-23T20_M6', '2019-12-23T19_M6', '2019-08-29_M6.3', '2019-07-06_M7.1', '2019-07-04_M6.4', '2019-07-04_M6.2', '2018-10-22T06_M6.5', '2018-10-22_M6.8', '2018-10-22T05_M6.5', '2018-08-22_M6.2', '2016-12-08_M6.6', '2014-08-24_M6.02', '2014-04-24_M6.5', '2014-03-10_M6.8', '2013-09-04_M6', '2013-09-03_M6.1', '2012-12-14_M6.3', '2012-11-08_M6.1', '2012-04-11_M6', '2011-09-09_M6.4', '2010-04-04_M7.2', '2010-01-10_M6.5', '2008-01-10_M6.3', '2005-06-17_M6.6', '2005-06-15_M7.2', '2004-11-02_M6.7', '2004-07-19_M6.4']\n"
     ]
    }
   ],
   "source": [
    "print(eq_names)"
   ]
  },
  {
   "cell_type": "code",
   "execution_count": 13,
   "id": "d7fb554f",
   "metadata": {},
   "outputs": [],
   "source": [
    "stas = NA_only['BNUM'].values\n",
    "sta_lats = NA_only['LAT'].values\n",
    "sta_lons = NA_only['LONG'].values"
   ]
  },
  {
   "cell_type": "code",
   "execution_count": 14,
   "id": "42b6c1b4",
   "metadata": {},
   "outputs": [],
   "source": [
    "from obspy.geodetics import gps2dist_azimuth, kilometer2degrees\n",
    "\n",
    "full_eq_names = []\n",
    "full_eq_times = []\n",
    "full_eq_lats = []\n",
    "full_eq_lons = []\n",
    "full_eq_mags = []\n",
    "full_sta_names = []\n",
    "full_sta_lats = []\n",
    "full_sta_lons = []\n",
    "full_dists = []\n",
    "\n",
    "for i in range(len(eq_names)):\n",
    "    \n",
    "    eq_name = eq_names[i]\n",
    "    eq_time = eq_times[i]\n",
    "    eq_lat = float(eq_lats[i])\n",
    "    eq_lon = float(eq_lons[i])\n",
    "    eq_mag = float(eq_mags[i])\n",
    "    \n",
    "    for j in range(len(stas)):\n",
    "        \n",
    "        sta_name = stas[j]\n",
    "        sta_lat = float(sta_lats[j])\n",
    "        sta_lon = float(sta_lons[j])\n",
    "\n",
    "        distaz = gps2dist_azimuth(eq_lat, eq_lon, sta_lat, sta_lon)\n",
    "        dist_m = distaz[0]\n",
    "        dist_km = dist_m/1000\n",
    "        \n",
    "        full_eq_names.append(eq_name)\n",
    "        full_eq_times.append(eq_time)\n",
    "        full_eq_lats.append(eq_lat)\n",
    "        full_eq_lons.append(eq_lon)\n",
    "        full_eq_mags.append(eq_mag)\n",
    "        full_sta_names.append(sta_name)\n",
    "        full_sta_lats.append(sta_lat)\n",
    "        full_sta_lons.append(sta_lon)\n",
    "        full_dists.append(dist_km)"
   ]
  },
  {
   "cell_type": "code",
   "execution_count": 15,
   "id": "a5eb089f",
   "metadata": {},
   "outputs": [
    {
     "name": "stdout",
     "output_type": "stream",
     "text": [
      "2660\n",
      "2660\n",
      "2660\n",
      "2660\n",
      "2660\n",
      "2660\n",
      "2660\n",
      "2660\n",
      "2660\n"
     ]
    }
   ],
   "source": [
    "print(len(full_eq_names))\n",
    "print(len(full_eq_times))\n",
    "print(len(full_eq_lats))\n",
    "print(len(full_eq_lons))\n",
    "print(len(full_eq_mags))\n",
    "print(len(full_sta_names))\n",
    "print(len(full_sta_lats))\n",
    "print(len(full_sta_lons))\n",
    "print(len(full_dists))"
   ]
  },
  {
   "cell_type": "code",
   "execution_count": 16,
   "id": "ec8263b1",
   "metadata": {},
   "outputs": [
    {
     "name": "stdout",
     "output_type": "stream",
     "text": [
      "(2660, 9)\n"
     ]
    }
   ],
   "source": [
    "hypodist_array = np.column_stack((np.array(full_eq_names),np.array(full_eq_times),np.array(full_eq_lats),np.array(full_eq_lons),np.array(full_eq_mags),np.array(full_sta_names),np.array(full_sta_lats),np.array(full_sta_lons),np.array(full_dists)))\n",
    "print(hypodist_array.shape)\n",
    "\n",
    "np.save('/Users/sydneydybing/StrainProject/2024/NA_evt-sta_dist_array.npy', hypodist_array)"
   ]
  },
  {
   "cell_type": "code",
   "execution_count": 17,
   "id": "ae9638f7",
   "metadata": {},
   "outputs": [],
   "source": [
    "# Array order:\n",
    "\n",
    "# 0. Earthquake identifier\n",
    "# 1. Earthquake origin time\n",
    "# 2. Earthquake latitude\n",
    "# 3. Earthquake longitude\n",
    "# 4. Earthquake magnitude\n",
    "# 5. Station name\n",
    "# 6. Station latitude\n",
    "# 7. Station longitude\n",
    "# 8. Hypocentral distance"
   ]
  },
  {
   "cell_type": "code",
   "execution_count": null,
   "id": "582ae296",
   "metadata": {},
   "outputs": [],
   "source": []
  }
 ],
 "metadata": {
  "kernelspec": {
   "display_name": "Python 3 (ipykernel)",
   "language": "python",
   "name": "python3"
  },
  "language_info": {
   "codemirror_mode": {
    "name": "ipython",
    "version": 3
   },
   "file_extension": ".py",
   "mimetype": "text/x-python",
   "name": "python",
   "nbconvert_exporter": "python",
   "pygments_lexer": "ipython3",
   "version": "3.8.3"
  }
 },
 "nbformat": 4,
 "nbformat_minor": 5
}
