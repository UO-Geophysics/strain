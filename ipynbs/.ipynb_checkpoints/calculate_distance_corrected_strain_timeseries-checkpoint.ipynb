{
 "cells": [
  {
   "cell_type": "code",
   "execution_count": null,
   "id": "40330acf",
   "metadata": {},
   "outputs": [],
   "source": [
    "from obspy.core import read\n",
    "import numpy as np\n",
    "import pandas as pd"
   ]
  },
  {
   "cell_type": "code",
   "execution_count": null,
   "id": "e485c8a9",
   "metadata": {},
   "outputs": [],
   "source": [
    "path_to_files = '/Users/sydneydybing/StrainProject/M6_500km_sel/StrainData_sel/Trimmed/PeakStrains/'\n",
    "quake_folders = np.genfromtxt('/Users/sydneydybing/StrainProject/M6_500km_sel/StrainData_sel/Trimmed/PeakStrains/grp1_folders.txt', dtype=str)\n",
    "stas = np.genfromtxt('/Users/sydneydybing/StrainProject/stations.txt', dtype=str)\n",
    "\n",
    "earthquakes = pd.read_csv(path_to_files + 'grp1_corr.csv')\n",
    "print(earthquakes)\n",
    "\n",
    "earthquakes = earthquakes.to_numpy()\n",
    "print(earthquakes)\n",
    "\n",
    "xref = 150"
   ]
  },
  {
   "cell_type": "code",
   "execution_count": null,
   "id": "fe550129",
   "metadata": {},
   "outputs": [],
   "source": [
    "for k_eq in range(len(earthquakes)):\n",
    "    \n",
    "    print('-------NEW LOOP-------')\n",
    "    \n",
    "    dist_m = earthquakes[k_eq, 8]\n",
    "    sta = earthquakes[k_eq, 5]\n",
    "    eqnum = int(earthquakes[k_eq, 0])\n",
    "    year = int(earthquakes[k_eq, 1])\n",
    "    mag = earthquakes[k_eq, 2]\n",
    "    \n",
    "    quake = str(eqnum) + '_' + str(year) + '_' + str(mag)\n",
    "    print(quake)\n",
    "    \n",
    "    print(sta)\n",
    "    #print(dist_m)\n",
    "    dist_km = dist_m / 1000\n",
    "    #print(dist_km)\n",
    "    \n",
    "    PST = read(path_to_files + quake + '/' + sta + '_PST.mseed')\n",
    "    PST_data = PST[0].data\n",
    "    #print(PST_data)\n",
    "    \n",
    "    correction = dist_km/xref\n",
    "    correction = np.expand_dims(correction, 1)\n",
    "    correction = np.tile(correction, PST_data.shape[0])\n",
    "    correction = correction**1 # R vs R^2\n",
    "    \n",
    "    #Apply correction\n",
    "    PST_corr = PST_data * correction\n",
    "    print(PST_corr)\n",
    "    \n",
    "    PSTc = PST.copy()\n",
    "    PSTc.write('/Users/sydneydybing/StrainProject/M6_500km_sel/StrainData_sel/Trimmed/PeakStrains/Corrected/' + quake + '/' + sta + '_PSTc' + '.mseed', format='MSEED')"
   ]
  }
 ],
 "metadata": {
  "kernelspec": {
   "display_name": "Python 3 (ipykernel)",
   "language": "python",
   "name": "python3"
  },
  "language_info": {
   "codemirror_mode": {
    "name": "ipython",
    "version": 3
   },
   "file_extension": ".py",
   "mimetype": "text/x-python",
   "name": "python",
   "nbconvert_exporter": "python",
   "pygments_lexer": "ipython3",
   "version": "3.8.3"
  }
 },
 "nbformat": 4,
 "nbformat_minor": 5
}
