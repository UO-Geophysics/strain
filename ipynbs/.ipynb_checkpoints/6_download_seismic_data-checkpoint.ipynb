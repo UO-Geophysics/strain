{
 "cells": [
  {
   "cell_type": "markdown",
   "id": "c75f7358",
   "metadata": {},
   "source": [
    "### Only downloading for smaller selection of events as chosen in make_smaller_selection_to_pick.ipynb"
   ]
  },
  {
   "cell_type": "code",
   "execution_count": 2,
   "id": "17c66da3",
   "metadata": {},
   "outputs": [],
   "source": [
    "from obspy.core import Stream, UTCDateTime\n",
    "from obspy.clients.fdsn import Client\n",
    "import numpy as np\n",
    "import pandas as pd\n",
    "import os.path\n",
    "import os"
   ]
  },
  {
   "cell_type": "code",
   "execution_count": 4,
   "id": "60010e35",
   "metadata": {},
   "outputs": [],
   "source": [
    "client = Client('IRIS')\n",
    "\n",
    "selected_catalog = np.load('/Users/sydneydybing/StrainProject/2024/NA_evt-sta_dist_array_less500km_withdata.npy')\n",
    "earthquakes = selected_catalog[:,0]\n",
    "origin_times = selected_catalog[:,1]\n",
    "stas = selected_catalog[:,5]\n",
    "\n",
    "# Array order:\n",
    "\n",
    "# 0. Earthquake identifier\n",
    "# 1. Earthquake origin time\n",
    "# 2. Earthquake latitude\n",
    "# 3. Earthquake longitude\n",
    "# 4. Earthquake magnitude\n",
    "# 5. Station name\n",
    "# 6. Station latitude\n",
    "# 7. Station longitude\n",
    "# 8. Hypocentral distance"
   ]
  },
  {
   "cell_type": "code",
   "execution_count": 22,
   "id": "09e65438",
   "metadata": {},
   "outputs": [],
   "source": [
    "i = np.where((earthquakes == '2019-12-23T20_M6') | (earthquakes == '2019-12-23T19_M6') | (earthquakes == '2018-10-22T06_M6.5') | (earthquakes == '2018-10-22T05_M6.5'))[0]\n",
    "\n",
    "fix_dups = True\n",
    "if fix_dups:\n",
    "    earthquakes = earthquakes[i]\n",
    "    origin_times = origin_times[i]\n",
    "    stas = stas[i]"
   ]
  },
  {
   "cell_type": "code",
   "execution_count": 23,
   "id": "3d1d8cbf",
   "metadata": {
    "scrolled": true
   },
   "outputs": [
    {
     "name": "stdout",
     "output_type": "stream",
     "text": [
      "Row 1/36\n",
      "Row 2/36\n",
      "Row 3/36\n",
      "Row 4/36\n",
      "Row 5/36\n",
      "Row 6/36\n",
      "Row 7/36\n",
      "Row 8/36\n",
      "Row 9/36\n",
      "Row 10/36\n",
      "Row 11/36\n",
      "Row 12/36\n",
      "Row 13/36\n",
      "Row 14/36\n",
      "Row 15/36\n",
      "Row 16/36\n",
      "Row 17/36\n",
      "Row 18/36\n",
      "Row 19/36\n",
      "Row 20/36\n",
      "Row 21/36\n",
      "Row 22/36\n",
      "Row 23/36\n",
      "Row 24/36\n",
      "Row 25/36\n",
      "Row 26/36\n",
      "Row 27/36\n",
      "Row 28/36\n",
      "Row 29/36\n",
      "Row 30/36\n",
      "Row 31/36\n",
      "Row 32/36\n",
      "Row 33/36\n",
      "Row 34/36\n",
      "Row 35/36\n",
      "Row 36/36\n"
     ]
    }
   ],
   "source": [
    "for idx in range(len(earthquakes)):\n",
    "\n",
    "    print('Row ' + str(idx+1) + '/' + str(len(earthquakes)))\n",
    "\n",
    "    eq_id = earthquakes[idx] \n",
    "    sta = stas[idx]\n",
    "\n",
    "    ot = origin_times[idx]\n",
    "    stime = UTCDateTime(ot)\n",
    "    etime = stime + 5.*60.\n",
    "    \n",
    "    net = 'PB'\n",
    "    loc = '*'\n",
    "    chan = 'EHZ'\n",
    "\n",
    "    try:\n",
    "\n",
    "        st = client.get_waveforms(net, sta, loc, chan, stime, etime)\n",
    "#             st.plot()\n",
    "\n",
    "        # Create folder for the event\n",
    "        eq_sta_save_dir = '/Users/sydneydybing/StrainProject/2024/seismic_data/raw/' + str(eq_id) + '/' + str(sta) + '/'\n",
    "#         print(eq_sta_save_dir)\n",
    "        if os.path.isdir(eq_sta_save_dir):\n",
    "            pass\n",
    "        else:\n",
    "            os.makedirs(eq_sta_save_dir)\n",
    "\n",
    "        st.write(eq_sta_save_dir + chan + '.mseed', format = 'MSEED')\n",
    "\n",
    "    except:\n",
    "        pass\n",
    "#                 print(idx, sta, chan, \"not found\")"
   ]
  },
  {
   "cell_type": "code",
   "execution_count": 11,
   "id": "c4f7306a",
   "metadata": {},
   "outputs": [
    {
     "name": "stdout",
     "output_type": "stream",
     "text": [
      "['2023-04-13_M6' '2023-04-13T15:54:53.808Z' '49.215' '-129.6178' '6.0'\n",
      " 'B014' '47.5133' '-123.8125' '469.780896058']\n"
     ]
    },
    {
     "ename": "FDSNNoDataException",
     "evalue": "No data available for request.\nDetailed response of server:\n\n",
     "output_type": "error",
     "traceback": [
      "\u001b[0;31m---------------------------------------------------------------------------\u001b[0m",
      "\u001b[0;31mFDSNNoDataException\u001b[0m                       Traceback (most recent call last)",
      "\u001b[0;32m/var/folders/yg/s8qp7lfs59g_tbwsx_wxkdx80000gn/T/ipykernel_4269/664200009.py\u001b[0m in \u001b[0;36m<cell line: 15>\u001b[0;34m()\u001b[0m\n\u001b[1;32m     13\u001b[0m \u001b[0msta\u001b[0m \u001b[0;34m=\u001b[0m \u001b[0;34m'B014'\u001b[0m\u001b[0;34m\u001b[0m\u001b[0;34m\u001b[0m\u001b[0m\n\u001b[1;32m     14\u001b[0m \u001b[0;34m\u001b[0m\u001b[0m\n\u001b[0;32m---> 15\u001b[0;31m \u001b[0mst\u001b[0m \u001b[0;34m=\u001b[0m \u001b[0mclient\u001b[0m\u001b[0;34m.\u001b[0m\u001b[0mget_waveforms\u001b[0m\u001b[0;34m(\u001b[0m\u001b[0mnet\u001b[0m\u001b[0;34m,\u001b[0m \u001b[0msta\u001b[0m\u001b[0;34m,\u001b[0m \u001b[0mloc\u001b[0m\u001b[0;34m,\u001b[0m \u001b[0mchan\u001b[0m\u001b[0;34m,\u001b[0m \u001b[0mstime\u001b[0m\u001b[0;34m,\u001b[0m \u001b[0metime\u001b[0m\u001b[0;34m)\u001b[0m\u001b[0;34m\u001b[0m\u001b[0;34m\u001b[0m\u001b[0m\n\u001b[0m\u001b[1;32m     16\u001b[0m \u001b[0mst\u001b[0m\u001b[0;34m.\u001b[0m\u001b[0mplot\u001b[0m\u001b[0;34m(\u001b[0m\u001b[0;34m)\u001b[0m\u001b[0;34m\u001b[0m\u001b[0;34m\u001b[0m\u001b[0m\n",
      "\u001b[0;32m~/opt/anaconda3/lib/python3.8/site-packages/obspy/clients/fdsn/client.py\u001b[0m in \u001b[0;36mget_waveforms\u001b[0;34m(self, network, station, location, channel, starttime, endtime, quality, minimumlength, longestonly, filename, attach_response, **kwargs)\u001b[0m\n\u001b[1;32m    842\u001b[0m         \u001b[0;31m# Gzip not worth it for MiniSEED and most likely disabled for this\u001b[0m\u001b[0;34m\u001b[0m\u001b[0;34m\u001b[0m\u001b[0;34m\u001b[0m\u001b[0m\n\u001b[1;32m    843\u001b[0m         \u001b[0;31m# route in any case.\u001b[0m\u001b[0;34m\u001b[0m\u001b[0;34m\u001b[0m\u001b[0;34m\u001b[0m\u001b[0m\n\u001b[0;32m--> 844\u001b[0;31m         \u001b[0mdata_stream\u001b[0m \u001b[0;34m=\u001b[0m \u001b[0mself\u001b[0m\u001b[0;34m.\u001b[0m\u001b[0m_download\u001b[0m\u001b[0;34m(\u001b[0m\u001b[0murl\u001b[0m\u001b[0;34m,\u001b[0m \u001b[0muse_gzip\u001b[0m\u001b[0;34m=\u001b[0m\u001b[0;32mFalse\u001b[0m\u001b[0;34m)\u001b[0m\u001b[0;34m\u001b[0m\u001b[0;34m\u001b[0m\u001b[0m\n\u001b[0m\u001b[1;32m    845\u001b[0m         \u001b[0mdata_stream\u001b[0m\u001b[0;34m.\u001b[0m\u001b[0mseek\u001b[0m\u001b[0;34m(\u001b[0m\u001b[0;36m0\u001b[0m\u001b[0;34m,\u001b[0m \u001b[0;36m0\u001b[0m\u001b[0;34m)\u001b[0m\u001b[0;34m\u001b[0m\u001b[0;34m\u001b[0m\u001b[0m\n\u001b[1;32m    846\u001b[0m         \u001b[0;32mif\u001b[0m \u001b[0mfilename\u001b[0m\u001b[0;34m:\u001b[0m\u001b[0;34m\u001b[0m\u001b[0;34m\u001b[0m\u001b[0m\n",
      "\u001b[0;32m~/opt/anaconda3/lib/python3.8/site-packages/obspy/clients/fdsn/client.py\u001b[0m in \u001b[0;36m_download\u001b[0;34m(self, url, return_string, data, use_gzip)\u001b[0m\n\u001b[1;32m   1395\u001b[0m             \u001b[0mdebug\u001b[0m\u001b[0;34m=\u001b[0m\u001b[0mself\u001b[0m\u001b[0;34m.\u001b[0m\u001b[0mdebug\u001b[0m\u001b[0;34m,\u001b[0m \u001b[0mreturn_string\u001b[0m\u001b[0;34m=\u001b[0m\u001b[0mreturn_string\u001b[0m\u001b[0;34m,\u001b[0m \u001b[0mdata\u001b[0m\u001b[0;34m=\u001b[0m\u001b[0mdata\u001b[0m\u001b[0;34m,\u001b[0m\u001b[0;34m\u001b[0m\u001b[0;34m\u001b[0m\u001b[0m\n\u001b[1;32m   1396\u001b[0m             timeout=self.timeout, use_gzip=use_gzip)\n\u001b[0;32m-> 1397\u001b[0;31m         \u001b[0mraise_on_error\u001b[0m\u001b[0;34m(\u001b[0m\u001b[0mcode\u001b[0m\u001b[0;34m,\u001b[0m \u001b[0mdata\u001b[0m\u001b[0;34m)\u001b[0m\u001b[0;34m\u001b[0m\u001b[0;34m\u001b[0m\u001b[0m\n\u001b[0m\u001b[1;32m   1398\u001b[0m         \u001b[0;32mreturn\u001b[0m \u001b[0mdata\u001b[0m\u001b[0;34m\u001b[0m\u001b[0;34m\u001b[0m\u001b[0m\n\u001b[1;32m   1399\u001b[0m \u001b[0;34m\u001b[0m\u001b[0m\n",
      "\u001b[0;32m~/opt/anaconda3/lib/python3.8/site-packages/obspy/clients/fdsn/client.py\u001b[0m in \u001b[0;36mraise_on_error\u001b[0;34m(code, data)\u001b[0m\n\u001b[1;32m   1720\u001b[0m     \u001b[0;31m# No data.\u001b[0m\u001b[0;34m\u001b[0m\u001b[0;34m\u001b[0m\u001b[0;34m\u001b[0m\u001b[0m\n\u001b[1;32m   1721\u001b[0m     \u001b[0;32mif\u001b[0m \u001b[0mcode\u001b[0m \u001b[0;34m==\u001b[0m \u001b[0;36m204\u001b[0m\u001b[0;34m:\u001b[0m\u001b[0;34m\u001b[0m\u001b[0;34m\u001b[0m\u001b[0m\n\u001b[0;32m-> 1722\u001b[0;31m         raise FDSNNoDataException(\"No data available for request.\",\n\u001b[0m\u001b[1;32m   1723\u001b[0m                                   server_info)\n\u001b[1;32m   1724\u001b[0m     \u001b[0;32melif\u001b[0m \u001b[0mcode\u001b[0m \u001b[0;34m==\u001b[0m \u001b[0;36m400\u001b[0m\u001b[0;34m:\u001b[0m\u001b[0;34m\u001b[0m\u001b[0;34m\u001b[0m\u001b[0m\n",
      "\u001b[0;31mFDSNNoDataException\u001b[0m: No data available for request.\nDetailed response of server:\n\n"
     ]
    }
   ],
   "source": [
    "k = np.where(selected_catalog[:,0] == '2023-04-13_M6')[0]\n",
    "d = np.where(selected_catalog[k,5] == 'B014')[0]\n",
    "\n",
    "print(selected_catalog[d][0])\n",
    "\n",
    "ot = selected_catalog[d][0][1]\n",
    "stime = UTCDateTime(ot)\n",
    "etime = stime + 5.*60.\n",
    "\n",
    "net = 'PB'\n",
    "loc = '*'\n",
    "chan = 'EHZ'\n",
    "sta = 'B014'\n",
    "\n",
    "st = client.get_waveforms(net, sta, loc, chan, stime, etime)\n",
    "st.plot()"
   ]
  },
  {
   "cell_type": "code",
   "execution_count": null,
   "id": "72a7b65d",
   "metadata": {},
   "outputs": [],
   "source": []
  }
 ],
 "metadata": {
  "kernelspec": {
   "display_name": "Python 3 (ipykernel)",
   "language": "python",
   "name": "python3"
  },
  "language_info": {
   "codemirror_mode": {
    "name": "ipython",
    "version": 3
   },
   "file_extension": ".py",
   "mimetype": "text/x-python",
   "name": "python",
   "nbconvert_exporter": "python",
   "pygments_lexer": "ipython3",
   "version": "3.8.3"
  }
 },
 "nbformat": 4,
 "nbformat_minor": 5
}
