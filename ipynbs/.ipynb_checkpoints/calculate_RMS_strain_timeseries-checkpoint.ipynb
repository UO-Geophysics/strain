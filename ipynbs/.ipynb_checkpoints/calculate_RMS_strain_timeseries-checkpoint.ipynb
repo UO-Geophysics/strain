{
 "cells": [
  {
   "cell_type": "code",
   "execution_count": 1,
   "id": "ed01be1d",
   "metadata": {},
   "outputs": [],
   "source": [
    "from obspy.core import Stream, read\n",
    "import numpy as np\n",
    "import matplotlib.pyplot as plt\n",
    "import os \n",
    "import os.path\n",
    "import pandas as pd"
   ]
  },
  {
   "cell_type": "code",
   "execution_count": 2,
   "id": "5f85788e",
   "metadata": {},
   "outputs": [],
   "source": [
    "path_to_files = '/Users/sydneydybing/StrainProject/2024/'\n",
    "\n",
    "earthquakes = pd.read_csv(path_to_files + 'M6_catalog_2004-2024.csv', dtype = str)\n",
    "origin_times = earthquakes.time.values\n",
    "mags = earthquakes.mag.values\n",
    "\n",
    "stas = np.genfromtxt(path_to_files + 'stations.txt', dtype = str)\n",
    "chans = ['BS1', 'BS2', 'BS3', 'BS4']\n",
    "\n",
    "# small_quake_folders = np.genfromtxt('/Users/sydneydybing/StrainProject/M6_500km_sel/StrainData_sel/Trimmed/PeakStrains/grp1_folders_2.txt', dtype=str)\n",
    "\n",
    "earthquakes_test = earthquakes[:3]\n",
    "stas_test = ['B028']"
   ]
  },
  {
   "cell_type": "code",
   "execution_count": 3,
   "id": "1f7e9f01",
   "metadata": {
    "scrolled": true
   },
   "outputs": [
    {
     "name": "stdout",
     "output_type": "stream",
     "text": [
      "Earthquake 1/35\n"
     ]
    },
    {
     "name": "stderr",
     "output_type": "stream",
     "text": [
      "/Users/sydneydybing/opt/anaconda3/lib/python3.8/site-packages/obspy/io/mseed/core.py:838: UserWarning: File will be written with more than one different encodings.\n",
      "This might have a negative influence on the compatibility with other programs.\n",
      "  warnings.warn(msg % 'encodings')\n"
     ]
    },
    {
     "name": "stdout",
     "output_type": "stream",
     "text": [
      "Earthquake 2/35\n",
      "Earthquake 3/35\n",
      "Earthquake 4/35\n",
      "Earthquake 5/35\n",
      "Earthquake 6/35\n",
      "Earthquake 7/35\n",
      "Earthquake 8/35\n",
      "Earthquake 9/35\n",
      "Earthquake 10/35\n",
      "Earthquake 11/35\n",
      "Earthquake 12/35\n",
      "Earthquake 13/35\n",
      "Earthquake 14/35\n",
      "Earthquake 15/35\n",
      "Earthquake 16/35\n",
      "Earthquake 17/35\n",
      "Earthquake 18/35\n",
      "Earthquake 19/35\n",
      "Earthquake 20/35\n",
      "Earthquake 21/35\n",
      "Earthquake 22/35\n",
      "Earthquake 23/35\n",
      "Earthquake 24/35\n",
      "Earthquake 25/35\n",
      "Earthquake 26/35\n",
      "Earthquake 27/35\n",
      "Earthquake 28/35\n",
      "Earthquake 29/35\n",
      "Earthquake 30/35\n",
      "Earthquake 31/35\n",
      "Earthquake 32/35\n",
      "Earthquake 33/35\n",
      "Earthquake 34/35\n",
      "Earthquake 35/35\n"
     ]
    }
   ],
   "source": [
    "# for quake in quake_folders:\n",
    "for idx in range(len(earthquakes)):\n",
    "    \n",
    "    ot = origin_times[idx]\n",
    "    print('Earthquake ' + str(idx+1) + '/35')\n",
    "    \n",
    "    for sta in stas:\n",
    "                    \n",
    "        try:\n",
    "\n",
    "            BS1 = read(path_to_files + 'strain_data/processed/' + str(ot[:10]) + '_M' + str(mags[idx]) + '/' + str(sta) + '/BS1.mseed')\n",
    "            BS2 = read(path_to_files + 'strain_data/processed/' + str(ot[:10]) + '_M' + str(mags[idx]) + '/' + str(sta) + '/BS2.mseed')\n",
    "            BS3 = read(path_to_files + 'strain_data/processed/' + str(ot[:10]) + '_M' + str(mags[idx]) + '/' + str(sta) + '/BS3.mseed')\n",
    "            BS4 = read(path_to_files + 'strain_data/processed/' + str(ot[:10]) + '_M' + str(mags[idx]) + '/' + str(sta) + '/BS4.mseed')\n",
    "\n",
    "    #             BS1.plot()\n",
    "    #             BS2.plot()\n",
    "    #             BS3.plot()\n",
    "    #             BS4.plot()\n",
    "\n",
    "            RMS_strain = np.sqrt(((BS1[0].data)**2 + (BS2[0].data)**2 + (BS3[0].data)**2 + (BS4[0].data)**2)/4)         \n",
    "\n",
    "            times = range(BS1[0].stats.npts)\n",
    "            times = np.asarray(times)/(BS1[0].stats.sampling_rate) \n",
    "\n",
    "            #plt.plot(times, RMS_strain*10**6, label = quake)\n",
    "\n",
    "            timeseries = [0.,300.]\n",
    "            #plt.xlim(timeseries)\n",
    "            timeseries = str(timeseries)\n",
    "\n",
    "    #            plt.xlabel('Time (s)')\n",
    "    #            plt.ylabel('RMS Microstrain ($10^{-6}$ m/m)')\n",
    "    #            plt.title(quake + ' Earthquake at PBO Station ' + sta)\n",
    "    #            plt.legend(loc = 1)\n",
    "\n",
    "            RMS_st = BS1.copy()\n",
    "            RMS_st[0].stats.channel = 'BSR'\n",
    "            RMS_st[0].data = RMS_strain\n",
    "\n",
    "    #             RMS_st.plot()\n",
    "            #print(RMS_st[0].stats)\n",
    "\n",
    "            # Create folder for the event\n",
    "            eq_sta_save_dir = path_to_files + 'strain_data/rms/' + str(ot[:10]) + '_M' + str(mags[idx]) + '/'\n",
    "    #                 print(eq_sta_save_dir)\n",
    "            if os.path.isdir(eq_sta_save_dir):\n",
    "                pass\n",
    "            else:\n",
    "                os.makedirs(eq_sta_save_dir)\n",
    "\n",
    "            RMS_st.write(eq_sta_save_dir + sta + '.mseed', format = 'MSEED')\n",
    "                \n",
    "        except:\n",
    "            pass\n"
   ]
  },
  {
   "cell_type": "code",
   "execution_count": null,
   "id": "7fa3ed9d",
   "metadata": {},
   "outputs": [],
   "source": []
  }
 ],
 "metadata": {
  "kernelspec": {
   "display_name": "Python 3 (ipykernel)",
   "language": "python",
   "name": "python3"
  },
  "language_info": {
   "codemirror_mode": {
    "name": "ipython",
    "version": 3
   },
   "file_extension": ".py",
   "mimetype": "text/x-python",
   "name": "python",
   "nbconvert_exporter": "python",
   "pygments_lexer": "ipython3",
   "version": "3.8.3"
  }
 },
 "nbformat": 4,
 "nbformat_minor": 5
}
