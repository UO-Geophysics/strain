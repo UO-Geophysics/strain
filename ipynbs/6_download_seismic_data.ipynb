{
 "cells": [
  {
   "cell_type": "markdown",
   "id": "c75f7358",
   "metadata": {},
   "source": [
    "### Only downloading for smaller selection of events as chosen in make_smaller_selection_to_pick.ipynb"
   ]
  },
  {
   "cell_type": "code",
   "execution_count": 12,
   "id": "17c66da3",
   "metadata": {},
   "outputs": [],
   "source": [
    "from obspy.core import Stream, UTCDateTime\n",
    "from obspy.clients.fdsn import Client\n",
    "import numpy as np\n",
    "import pandas as pd\n",
    "import os.path\n",
    "import os"
   ]
  },
  {
   "cell_type": "code",
   "execution_count": 13,
   "id": "60010e35",
   "metadata": {},
   "outputs": [],
   "source": [
    "client = Client('IRIS')\n",
    "\n",
    "selected_catalog = np.load('/Users/sydneydybing/StrainProject/2024/NA_evt-sta_dist_array_less500km_withdata.npy')\n",
    "earthquakes = selected_catalog[:,0]\n",
    "origin_times = selected_catalog[:,1]\n",
    "stas = selected_catalog[:,5]\n",
    "\n",
    "# Array order:\n",
    "\n",
    "# 0. Earthquake identifier\n",
    "# 1. Earthquake origin time\n",
    "# 2. Earthquake latitude\n",
    "# 3. Earthquake longitude\n",
    "# 4. Earthquake magnitude\n",
    "# 5. Station name\n",
    "# 6. Station latitude\n",
    "# 7. Station longitude\n",
    "# 8. Hypocentral distance"
   ]
  },
  {
   "cell_type": "code",
   "execution_count": 22,
   "id": "09e65438",
   "metadata": {},
   "outputs": [],
   "source": [
    "i = np.where((earthquakes == '2019-12-23T20_M6') | (earthquakes == '2019-12-23T19_M6') | (earthquakes == '2018-10-22T06_M6.5') | (earthquakes == '2018-10-22T05_M6.5'))[0]\n",
    "\n",
    "fix_dups = True\n",
    "if fix_dups:\n",
    "    earthquakes = earthquakes[i]\n",
    "    origin_times = origin_times[i]\n",
    "    stas = stas[i]"
   ]
  },
  {
   "cell_type": "code",
   "execution_count": 23,
   "id": "3d1d8cbf",
   "metadata": {
    "scrolled": true
   },
   "outputs": [
    {
     "name": "stdout",
     "output_type": "stream",
     "text": [
      "Row 1/36\n",
      "Row 2/36\n",
      "Row 3/36\n",
      "Row 4/36\n",
      "Row 5/36\n",
      "Row 6/36\n",
      "Row 7/36\n",
      "Row 8/36\n",
      "Row 9/36\n",
      "Row 10/36\n",
      "Row 11/36\n",
      "Row 12/36\n",
      "Row 13/36\n",
      "Row 14/36\n",
      "Row 15/36\n",
      "Row 16/36\n",
      "Row 17/36\n",
      "Row 18/36\n",
      "Row 19/36\n",
      "Row 20/36\n",
      "Row 21/36\n",
      "Row 22/36\n",
      "Row 23/36\n",
      "Row 24/36\n",
      "Row 25/36\n",
      "Row 26/36\n",
      "Row 27/36\n",
      "Row 28/36\n",
      "Row 29/36\n",
      "Row 30/36\n",
      "Row 31/36\n",
      "Row 32/36\n",
      "Row 33/36\n",
      "Row 34/36\n",
      "Row 35/36\n",
      "Row 36/36\n"
     ]
    }
   ],
   "source": [
    "for idx in range(len(earthquakes)):\n",
    "\n",
    "    print('Row ' + str(idx+1) + '/' + str(len(earthquakes)))\n",
    "\n",
    "    eq_id = earthquakes[idx] \n",
    "    sta = stas[idx]\n",
    "\n",
    "    ot = origin_times[idx]\n",
    "    stime = UTCDateTime(ot)\n",
    "    etime = stime + 5.*60.\n",
    "    \n",
    "    net = 'PB'\n",
    "    loc = '*'\n",
    "    chan = 'EHZ'\n",
    "\n",
    "    try:\n",
    "\n",
    "        st = client.get_waveforms(net, sta, loc, chan, stime, etime)\n",
    "#             st.plot()\n",
    "\n",
    "        # Create folder for the event\n",
    "        eq_sta_save_dir = '/Users/sydneydybing/StrainProject/2024/seismic_data/raw/' + str(eq_id) + '/' + str(sta) + '/'\n",
    "#         print(eq_sta_save_dir)\n",
    "        if os.path.isdir(eq_sta_save_dir):\n",
    "            pass\n",
    "        else:\n",
    "            os.makedirs(eq_sta_save_dir)\n",
    "\n",
    "        st.write(eq_sta_save_dir + chan + '.mseed', format = 'MSEED')\n",
    "\n",
    "    except:\n",
    "        pass\n",
    "#                 print(idx, sta, chan, \"not found\")"
   ]
  },
  {
   "cell_type": "code",
   "execution_count": null,
   "id": "c4f7306a",
   "metadata": {},
   "outputs": [],
   "source": []
  }
 ],
 "metadata": {
  "kernelspec": {
   "display_name": "Python 3 (ipykernel)",
   "language": "python",
   "name": "python3"
  },
  "language_info": {
   "codemirror_mode": {
    "name": "ipython",
    "version": 3
   },
   "file_extension": ".py",
   "mimetype": "text/x-python",
   "name": "python",
   "nbconvert_exporter": "python",
   "pygments_lexer": "ipython3",
   "version": "3.8.3"
  }
 },
 "nbformat": 4,
 "nbformat_minor": 5
}
