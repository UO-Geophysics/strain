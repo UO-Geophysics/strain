{
 "cells": [
  {
   "cell_type": "code",
   "execution_count": null,
   "id": "ed01be1d",
   "metadata": {},
   "outputs": [],
   "source": [
    "from obspy.core import Stream, read\n",
    "import numpy as np\n",
    "import matplotlib.pyplot as plt"
   ]
  },
  {
   "cell_type": "code",
   "execution_count": null,
   "id": "5f85788e",
   "metadata": {},
   "outputs": [],
   "source": [
    "path_to_files = '/Users/sydneydybing/StrainProject/StrainData/Processed/'\n",
    "quake_folders = np.genfromtxt('/Users/sydneydybing/StrainProject/quake_folders.txt', dtype=str)\n",
    "small_quake_folders = np.genfromtxt('/Users/sydneydybing/StrainProject/M6_500km_sel/StrainData_sel/Trimmed/PeakStrains/grp1_folders_2.txt', dtype=str)\n",
    "stas = np.genfromtxt('/Users/sydneydybing/StrainProject/stations.txt', dtype=str)\n",
    "chans = ['BS1', 'BS2', 'BS3', 'BS4']\n",
    "\n",
    "quake_folders_test = ['112_2010_7.2', '145_2011_6.4', '185_2014_6.8']\n",
    "stas_test = ['B028']"
   ]
  },
  {
   "cell_type": "code",
   "execution_count": null,
   "id": "1f7e9f01",
   "metadata": {},
   "outputs": [],
   "source": [
    "for quake in quake_folders:   \n",
    "    for sta in stas:\n",
    "                    \n",
    "        try:\n",
    "            \n",
    "            BS1 = Stream()\n",
    "            BS2 = Stream()\n",
    "            BS3 = Stream()\n",
    "            BS4 = Stream()\n",
    "            \n",
    "            BS1 = read(path_to_files + quake + '/' + sta + '_' + 'BS1.mseed')\n",
    "            BS2 = read(path_to_files + quake + '/' + sta + '_' + 'BS2.mseed')\n",
    "            BS3 = read(path_to_files + quake + '/' + sta + '_' + 'BS3.mseed')\n",
    "            BS4 = read(path_to_files + quake + '/' + sta + '_' + 'BS4.mseed')\n",
    "            \n",
    "#            BS1.plot()\n",
    "#            BS2.plot()\n",
    "#            BS3.plot()\n",
    "#            BS4.plot()\n",
    "            \n",
    "            RMS_strain = np.sqrt(((BS1[0].data)**2 + (BS2[0].data)**2 + (BS3[0].data)**2 + (BS4[0].data)**2)/4)         \n",
    "            \n",
    "            times = range(BS1[0].stats.npts)\n",
    "            times = np.asarray(times)/(BS1[0].stats.sampling_rate) \n",
    "            \n",
    "            #plt.plot(times, RMS_strain*10**6, label = quake)\n",
    "            \n",
    "            timeseries = [0.,300.]\n",
    "            #plt.xlim(timeseries)\n",
    "            timeseries = str(timeseries)\n",
    "            \n",
    "#            plt.xlabel('Time (s)')\n",
    "#            plt.ylabel('RMS Microstrain ($10^{-6}$ m/m)')\n",
    "#            plt.title(quake + ' Earthquake at PBO Station ' + sta)\n",
    "#            plt.legend(loc = 1)\n",
    "            \n",
    "            RMS_st = BS1.copy()\n",
    "            RMS_st[0].stats.channel = 'BSR'\n",
    "            RMS_st[0].data = RMS_strain\n",
    "            \n",
    "            RMS_st.plot()\n",
    "            #print(RMS_st[0].stats)\n",
    "            \n",
    "            RMS_st.write('/Users/sydneydybing/StrainProject/StrainData/Processed/RMS/' + quake + '/' + sta + '_RMS' + '.mseed', format='MSEED')\n",
    "                \n",
    "        except:\n",
    "            \n",
    "            print(quake + \" no station \" + sta)"
   ]
  }
 ],
 "metadata": {
  "kernelspec": {
   "display_name": "Python 3 (ipykernel)",
   "language": "python",
   "name": "python3"
  },
  "language_info": {
   "codemirror_mode": {
    "name": "ipython",
    "version": 3
   },
   "file_extension": ".py",
   "mimetype": "text/x-python",
   "name": "python",
   "nbconvert_exporter": "python",
   "pygments_lexer": "ipython3",
   "version": "3.8.3"
  }
 },
 "nbformat": 4,
 "nbformat_minor": 5
}
