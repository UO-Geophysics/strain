{
 "cells": [
  {
   "cell_type": "code",
   "execution_count": 1,
   "id": "dad6282b-4ed2-42b8-ae27-35097aa5a577",
   "metadata": {},
   "outputs": [],
   "source": [
    "from numpy import genfromtxt,zeros,where\n",
    "from matplotlib import pyplot as plt\n",
    "from mpl_toolkits.mplot3d.art3d import Poly3DCollection\n",
    "from matplotlib import ticker\n",
    "from matplotlib.ticker import MultipleLocator\n",
    "from mudpy import gmttools,view\n",
    "import numpy as np"
   ]
  },
  {
   "cell_type": "code",
   "execution_count": null,
   "id": "510f15f6-7c96-41bb-8097-ab9d3de65672",
   "metadata": {},
   "outputs": [],
   "source": []
  }
 ],
 "metadata": {
  "kernelspec": {
   "display_name": "mudpy",
   "language": "python",
   "name": "mudpy"
  },
  "language_info": {
   "codemirror_mode": {
    "name": "ipython",
    "version": 3
   },
   "file_extension": ".py",
   "mimetype": "text/x-python",
   "name": "python",
   "nbconvert_exporter": "python",
   "pygments_lexer": "ipython3",
   "version": "3.11.8"
  }
 },
 "nbformat": 4,
 "nbformat_minor": 5
}
