{
 "cells": [
  {
   "cell_type": "code",
   "execution_count": 1,
   "id": "f75b6148-81fa-4e4a-bbb9-5d8b37d05477",
   "metadata": {},
   "outputs": [],
   "source": [
    "import numpy as np\n",
    "import matplotlib.pyplot as plt"
   ]
  },
  {
   "cell_type": "code",
   "execution_count": 7,
   "id": "2adf8a96-5112-4957-99c2-b368ec6dbdc6",
   "metadata": {},
   "outputs": [],
   "source": [
    "rupt_path = '/Users/sydneydybing/SW4/strain/experiments/force_hypo/homo_rupts/usgs_plane_fine_force_hypo.000001_MH2017.rupt'\n",
    "rupt = np.genfromtxt(rupt_path)\n",
    "\n",
    "# 3b: plot rupture onset on fault in 3D view\n",
    "\n",
    "lon = rupt[:,1]\n",
    "lat = rupt[:,2]\n",
    "depth = -rupt[:,3]\n",
    "onset = rupt[:,12]\n",
    "\n",
    "fig = plt.figure(figsize = (10, 6), dpi = 400)\n",
    "ax = fig.add_subplot(111, projection='3d')\n",
    "# ax.set_title('M7.1 Ridgecrest earthquake fault (3D view)')\n",
    "\n",
    "p = ax.scatter(lon, lat, depth, c=onset, cmap='viridis_r', marker='o', s=20, lw=0, label = 'Subfaults')\n",
    "\n",
    "ax.set_xlabel('Longitude', fontsize = 12)\n",
    "ax.invert_xaxis()\n",
    "ax.set_ylabel('Latitude', fontsize = 12)\n",
    "ax.invert_yaxis()\n",
    "ax.set_zlabel('Depth (km)', fontsize = 12)\n",
    "\n",
    "ax.view_init(azim = 75)\n",
    "\n",
    "cb = fig.colorbar(p)\n",
    "\n",
    "cb.set_label('Onset time (s)')\n",
    "\n",
    "plt.subplots_adjust(left=0.1, bottom=0.1, right=1.0, top=0.9, wspace=0, hspace=0)\n",
    "ax.legend()\n",
    "\n",
    "# plt.show()\n",
    "\n",
    "plt.savefig('/Users/sydneydybing/StrainProject/2024/Manuscript/Figures/Figure_4a.png', format = 'PNG')\n",
    "plt.close()"
   ]
  },
  {
   "cell_type": "code",
   "execution_count": null,
   "id": "774f0f2c-ba72-4f99-9911-c22c1c2e4262",
   "metadata": {},
   "outputs": [],
   "source": []
  }
 ],
 "metadata": {
  "kernelspec": {
   "display_name": "mudpy",
   "language": "python",
   "name": "mudpy"
  },
  "language_info": {
   "codemirror_mode": {
    "name": "ipython",
    "version": 3
   },
   "file_extension": ".py",
   "mimetype": "text/x-python",
   "name": "python",
   "nbconvert_exporter": "python",
   "pygments_lexer": "ipython3",
   "version": "3.11.8"
  }
 },
 "nbformat": 4,
 "nbformat_minor": 5
}
