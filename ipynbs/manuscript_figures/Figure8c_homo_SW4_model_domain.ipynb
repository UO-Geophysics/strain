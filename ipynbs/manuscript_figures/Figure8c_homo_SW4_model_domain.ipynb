{
 "cells": [
  {
   "cell_type": "code",
   "execution_count": 1,
   "id": "7e1d3276-c1da-4fc8-a89d-65e6fbdf2dec",
   "metadata": {},
   "outputs": [],
   "source": [
    "import numpy as np\n",
    "from obspy.geodetics.base import gps2dist_azimuth, kilometer2degrees\n",
    "import pandas as pd\n",
    "import xarray as xr\n",
    "import cartopy.crs as ccrs\n",
    "import matplotlib.pyplot as plt\n",
    "import os"
   ]
  },
  {
   "cell_type": "code",
   "execution_count": 2,
   "id": "855c1dcd-3b62-4163-acd1-c681f294308b",
   "metadata": {},
   "outputs": [],
   "source": [
    "path = '/Users/sydneydybing/SW4/strain/experiments/realistic_eq_sizes/'"
   ]
  },
  {
   "cell_type": "code",
   "execution_count": 3,
   "id": "975d50a5-7118-4ef5-8e57-d219fef1bb49",
   "metadata": {},
   "outputs": [
    {
     "name": "stdout",
     "output_type": "stream",
     "text": [
      "[[5.00000000e+00 3.38844156e+00 1.51356125e-02 3.35853594e-01]\n",
      " [6.00000000e+00 1.41253754e+01 1.20226443e-01 9.23953255e-01]\n",
      " [7.00000000e+00 5.88843655e+01 9.54992586e-01 2.54185048e+00]\n",
      " [8.00000000e+00 2.45470892e+02 7.58577575e+00 6.99278217e+00]]\n"
     ]
    }
   ],
   "source": [
    "# Ruptures\n",
    "\n",
    "rupt_params = np.load(path + 'rupture_params.npy')\n",
    "print(rupt_params)\n",
    "\n",
    "# 0. Mw\n",
    "# 1. Length (km)\n",
    "# 2. Average slip (m)\n",
    "# 3. Rise time (s)\n",
    "\n",
    "# Common hypocenter\n",
    "\n",
    "hypocenter = [-117.6204, 35.7793, 7.5]"
   ]
  },
  {
   "cell_type": "code",
   "execution_count": 4,
   "id": "d86d4c3b-6fe5-4bcf-a5b9-29facfb4a28e",
   "metadata": {},
   "outputs": [],
   "source": [
    "rupts_list = ['fq_M8.000000.rupt', 'fq_M7.000000.rupt', 'fq_M6.000000.rupt', 'fq_M5.000000.rupt']"
   ]
  },
  {
   "cell_type": "code",
   "execution_count": 6,
   "id": "8297f12a-4b96-4868-9885-25e7fe0f65c6",
   "metadata": {},
   "outputs": [
    {
     "name": "stdout",
     "output_type": "stream",
     "text": [
      "0.3358535939346415\n",
      "0.9239532554644287\n",
      "2.5418504780075373\n",
      "6.9927821719719825\n"
     ]
    }
   ],
   "source": [
    "for idx in range(len(rupt_params)):\n",
    "    length = rupt_params[idx,1]\n",
    "    slip = rupt_params[idx,2]\n",
    "    rise_time = rupt_params[idx,3]\n",
    "    \n",
    "    print(rise_time)"
   ]
  },
  {
   "cell_type": "code",
   "execution_count": 5,
   "id": "2fa5a53c-6bf5-4516-93d7-716ec2635146",
   "metadata": {},
   "outputs": [],
   "source": [
    "stas = pd.read_csv(path + 'stas.csv')\n",
    "# stas"
   ]
  },
  {
   "cell_type": "code",
   "execution_count": 6,
   "id": "f0dc0cff-15ae-4722-ae46-f9fc73b9fe52",
   "metadata": {},
   "outputs": [],
   "source": [
    "# Find fault extent for each one\n",
    "\n",
    "fig = plt.figure(figsize = (8, 8))\n",
    "ax = plt.axes(projection = ccrs.PlateCarree())\n",
    "\n",
    "plt.scatter(hypocenter[0], hypocenter[1], color = 'magenta')\n",
    "plt.scatter(stas.lon, stas.lat, marker = '+', color = 'skyblue', label = 'Extra stations')\n",
    "\n",
    "for idx in range(len(rupts_list)):\n",
    "    \n",
    "    rupt = np.genfromtxt(path + rupts_list[idx])\n",
    "    sf_lons = rupt[:,1]\n",
    "    sf_lats = rupt[:,2]\n",
    "\n",
    "    # Fault extent\n",
    "    min_lon = min(sf_lons)\n",
    "    max_lon = max(sf_lons)\n",
    "    min_lat = min(sf_lats)\n",
    "    max_lat = max(sf_lats)\n",
    "    \n",
    "    plt.plot([min_lon, max_lon], [max_lat, min_lat], color = 'C' + str(idx), label = rupts_list[idx][:5], alpha = 0.5)    \n",
    "    \n",
    "ax.legend(loc = 'lower left')\n",
    "ax.coastlines()\n",
    "gl = ax.gridlines(draw_labels = True)\n",
    "Plotlims = ax.get_extent()\n",
    "# plt.show()\n",
    "plt.close()"
   ]
  },
  {
   "cell_type": "code",
   "execution_count": 7,
   "id": "3c7c6aec-8779-4323-9d93-a8b2accb9a49",
   "metadata": {},
   "outputs": [
    {
     "data": {
      "text/plain": [
       "(-118.59235724999999, -116.60988775000011, 34.858218, 36.682942000000025)"
      ]
     },
     "execution_count": 7,
     "metadata": {},
     "output_type": "execute_result"
    }
   ],
   "source": [
    "Plotlims"
   ]
  },
  {
   "cell_type": "code",
   "execution_count": 8,
   "id": "83ad57fd-ee93-4db1-bf44-fb2b9fc05c0e",
   "metadata": {},
   "outputs": [],
   "source": [
    "# Station/event box\n",
    "# Setup points for box for domain from above with only event and stations\n",
    "x_evtsta = [Plotlims[0], Plotlims[1], Plotlims[1], Plotlims[0], Plotlims[0]]\n",
    "y_evtsta = [Plotlims[2], Plotlims[2], Plotlims[3], Plotlims[3], Plotlims[2]]\n",
    "\n",
    "# Add buffer to make it bigger, since we need the supergrid to be farther out at this max frequency\n",
    "evtsta_buffer = 0.5\n",
    "x_model_domain = [Plotlims[0]-evtsta_buffer, Plotlims[1]+evtsta_buffer, Plotlims[1]+evtsta_buffer, Plotlims[0]-evtsta_buffer, Plotlims[0]-evtsta_buffer]\n",
    "y_model_domain = [Plotlims[2]-evtsta_buffer, Plotlims[2]-evtsta_buffer, Plotlims[3]+evtsta_buffer, Plotlims[3]+evtsta_buffer, Plotlims[2]-evtsta_buffer]"
   ]
  },
  {
   "cell_type": "code",
   "execution_count": 9,
   "id": "de31105d-8f52-4ec9-9e67-2a32b6a95319",
   "metadata": {},
   "outputs": [],
   "source": [
    "stas_sub = stas.iloc[[143, 125, 107, 89, 71, 53, 35, 17]]\n",
    "colors = ['red', 'orange', 'green', 'skyblue']"
   ]
  },
  {
   "cell_type": "code",
   "execution_count": 25,
   "id": "c668ff0c-ce7a-4752-9476-d333cfb5c55f",
   "metadata": {},
   "outputs": [],
   "source": [
    "# Find fault extent for each one\n",
    "\n",
    "fig = plt.figure(figsize = (8, 8))\n",
    "ax = plt.axes(projection = ccrs.PlateCarree())\n",
    "\n",
    "for idx in range(len(rupts_list)):\n",
    "    \n",
    "    rupt = np.genfromtxt(path + rupts_list[idx])\n",
    "    sf_lons = rupt[:,1]\n",
    "    sf_lats = rupt[:,2]\n",
    "    \n",
    "    plt.scatter(sf_lons, sf_lats, s = 15, color = colors[idx], label = rupts_list[idx][3:5] + ' subfaults') \n",
    "\n",
    "plt.scatter(stas_sub.lon, stas_sub.lat, s = 50, marker = '+', color = 'blue', label = 'Receiver stations')\n",
    "[plt.text(i, j, f'{name}', va = 'top', ha = 'left', fontsize = 12) for (i, j, name) in zip(stas_sub.lon-0.28, stas_sub.lat+0.03, stas_sub.name)]\n",
    "\n",
    "plt.scatter(hypocenter[0], hypocenter[1], marker = 'x', color = 'magenta', label = 'Epicenter')\n",
    "ax.plot(x_model_domain, y_model_domain, color = 'purple', lw = 3, label = 'SW4 model domain')\n",
    "\n",
    "ax.legend(loc = 'upper right')\n",
    "ax.coastlines()\n",
    "gl = ax.gridlines(draw_labels = True)\n",
    "# Plotlims = ax.get_extent()\n",
    "\n",
    "# plt.show()\n",
    "\n",
    "plt.savefig('/Users/sydneydybing/StrainProject/2024/Manuscript/Figures/renamed_figs/subplots/Figure_8c.png', format = 'PNG')\n",
    "plt.close()"
   ]
  },
  {
   "cell_type": "code",
   "execution_count": null,
   "id": "eced6f20-bb78-4df9-b71b-a1cffcd533b0",
   "metadata": {},
   "outputs": [],
   "source": []
  }
 ],
 "metadata": {
  "kernelspec": {
   "display_name": "cartopy",
   "language": "python",
   "name": "cartopy"
  },
  "language_info": {
   "codemirror_mode": {
    "name": "ipython",
    "version": 3
   },
   "file_extension": ".py",
   "mimetype": "text/x-python",
   "name": "python",
   "nbconvert_exporter": "python",
   "pygments_lexer": "ipython3",
   "version": "3.12.2"
  }
 },
 "nbformat": 4,
 "nbformat_minor": 5
}
