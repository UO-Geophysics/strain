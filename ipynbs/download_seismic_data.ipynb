{
 "cells": [
  {
   "cell_type": "markdown",
   "id": "edc5d639",
   "metadata": {},
   "source": [
    "### Only downloading for smaller selection of events as chosen in make_smaller_selection_to_pick.ipynb"
   ]
  },
  {
   "cell_type": "code",
   "execution_count": 1,
   "id": "17c66da3",
   "metadata": {},
   "outputs": [],
   "source": [
    "from obspy.core import Stream, UTCDateTime\n",
    "from obspy.clients.fdsn import Client\n",
    "import numpy as np\n",
    "import pandas as pd\n",
    "import os.path\n",
    "import os"
   ]
  },
  {
   "cell_type": "code",
   "execution_count": 2,
   "id": "60010e35",
   "metadata": {},
   "outputs": [],
   "source": [
    "# Naming the client where the data will be coming from. Googling obspy fdsn will\n",
    "# list other options.\n",
    "\n",
    "client = Client('IRIS')\n",
    "\n",
    "# Reading in my info files - earthquakes is a list of the events I want to get data for,\n",
    "# which includes locations and origin times, and then stas is the list of stations I want\n",
    "# to pull data from. Chans is then the four strainmeter channels for these instruments.\n",
    "\n",
    "selected_catalog = np.load('/Users/sydneydybing/StrainProject/2024/NA_evt-sta_dist_array_less500km_withdata.npy')\n",
    "earthquakes = selected_catalog[:,0]\n",
    "origin_times = selected_catalog[:,1]\n",
    "stas = selected_catalog[:,5]\n",
    "\n",
    "# Array order:\n",
    "\n",
    "# 0. Earthquake identifier\n",
    "# 1. Earthquake origin time\n",
    "# 2. Earthquake latitude\n",
    "# 3. Earthquake longitude\n",
    "# 4. Earthquake magnitude\n",
    "# 5. Station name\n",
    "# 6. Station latitude\n",
    "# 7. Station longitude\n",
    "# 8. Hypocentral distance"
   ]
  },
  {
   "cell_type": "code",
   "execution_count": null,
   "id": "3d1d8cbf",
   "metadata": {
    "scrolled": true
   },
   "outputs": [
    {
     "name": "stdout",
     "output_type": "stream",
     "text": [
      "Row 1/439\n",
      "Row 2/439\n",
      "Row 3/439\n",
      "Row 4/439\n",
      "Row 5/439\n",
      "Row 6/439\n",
      "Row 7/439\n",
      "Row 8/439\n",
      "Row 9/439\n",
      "Row 10/439\n",
      "Row 11/439\n",
      "Row 12/439\n",
      "Row 13/439\n",
      "Row 14/439\n",
      "Row 15/439\n",
      "Row 16/439\n",
      "Row 17/439\n",
      "Row 18/439\n",
      "Row 19/439\n",
      "Row 20/439\n",
      "Row 21/439\n",
      "Row 22/439\n",
      "Row 23/439\n",
      "Row 24/439\n",
      "Row 25/439\n",
      "Row 26/439\n",
      "Row 27/439\n",
      "Row 28/439\n",
      "Row 29/439\n",
      "Row 30/439\n",
      "Row 31/439\n",
      "Row 32/439\n",
      "Row 33/439\n",
      "Row 34/439\n"
     ]
    }
   ],
   "source": [
    "for idx in range(len(earthquakes)):\n",
    "\n",
    "    print('Row ' + str(idx+1) + '/' + str(len(earthquakes)))\n",
    "\n",
    "    eq_id = earthquakes[idx] \n",
    "    sta = stas[idx]\n",
    "\n",
    "    ot = origin_times[idx]\n",
    "    stime = UTCDateTime(ot)\n",
    "    etime = stime + 5.*60.\n",
    "    \n",
    "    net = 'PB'\n",
    "    loc = '*'\n",
    "    chan = 'EHZ'\n",
    "\n",
    "    # I used this try-except condition so I didn't get errors if a station didn't have \n",
    "    # data for the time window I was looking at.\n",
    "\n",
    "    try:\n",
    "\n",
    "        # I use the function get_waveforms to get the data from the client (IRIS), and\n",
    "        # read it into an obpsy stream object using the network, stations, etc. info\n",
    "        # that I collected earlier. I printed some stats to make sure things were working.\n",
    "        # Then I wrote the stream into a miniSEED data file and saved it onto my laptop.\n",
    "\n",
    "        st = client.get_waveforms(net, sta, loc, chan, stime, etime)\n",
    "#             st.plot()\n",
    "\n",
    "        # Create folder for the event\n",
    "        eq_sta_save_dir = '/Users/sydneydybing/StrainProject/2024/seismic_data/raw/' + str(eq_id) + '/' + str(sta) + '/'\n",
    "#         print(eq_sta_save_dir)\n",
    "        if os.path.isdir(eq_sta_save_dir):\n",
    "            pass\n",
    "        else:\n",
    "            os.makedirs(eq_sta_save_dir)\n",
    "\n",
    "        st.write(eq_sta_save_dir + chan + '.mseed', format = 'MSEED')\n",
    "\n",
    "    # If that didn't work, my code prints out the station name and the earthquake number\n",
    "    # (a piece of information in the original earthquakes CSV that just identifies the\n",
    "    # event), and the phrase \"not found\" so I could tell what didn't work.\n",
    "\n",
    "    except:\n",
    "        pass\n",
    "#                 print(idx, sta, chan, \"not found\")"
   ]
  },
  {
   "cell_type": "code",
   "execution_count": null,
   "id": "3fb97948",
   "metadata": {},
   "outputs": [],
   "source": []
  }
 ],
 "metadata": {
  "kernelspec": {
   "display_name": "Python 3 (ipykernel)",
   "language": "python",
   "name": "python3"
  },
  "language_info": {
   "codemirror_mode": {
    "name": "ipython",
    "version": 3
   },
   "file_extension": ".py",
   "mimetype": "text/x-python",
   "name": "python",
   "nbconvert_exporter": "python",
   "pygments_lexer": "ipython3",
   "version": "3.8.3"
  }
 },
 "nbformat": 4,
 "nbformat_minor": 5
}
