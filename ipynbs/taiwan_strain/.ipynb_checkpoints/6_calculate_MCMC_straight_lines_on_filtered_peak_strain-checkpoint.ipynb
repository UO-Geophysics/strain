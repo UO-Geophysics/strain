{
 "cells": [
  {
   "cell_type": "code",
   "execution_count": 2,
   "id": "efd88cde",
   "metadata": {},
   "outputs": [],
   "source": [
    "from obspy.core import Stream, read\n",
    "import numpy as np\n",
    "from pytensor.compile.ops import as_op\n",
    "import pytensor\n",
    "import pytensor.tensor as pt\n",
    "import matplotlib.pyplot as plt\n",
    "import pandas as pd\n",
    "import os \n",
    "import os.path\n",
    "import pymc as pm\n",
    "import arviz as az"
   ]
  },
  {
   "cell_type": "code",
   "execution_count": 26,
   "id": "421e122f",
   "metadata": {},
   "outputs": [],
   "source": [
    "# What exactly are the colunns here? Amplitude of waves at a specific time?\n",
    "# My equivalent = peak strain at a specific time\n",
    "\n",
    "# Build the target function, misfit to this is what is being minimized\n",
    "@as_op(itypes=[pt.dvector,pt.dscalar,pt.dscalar,pt.dscalar,pt.dscalar,pt.dscalar], otypes=[pt.dvector]) # input variable types and output variable type(s)\n",
    "def two_straight_lines(x,m1,m2,xinter,x0,y0):\n",
    "    '''\n",
    "    input x coordiantes are in x\n",
    "    slopes are m1 and m2\n",
    "    intercept of left hand line is b1 \n",
    "    intersection of two lines is at xinter\n",
    "    \n",
    "    Note that y intercept of second straight line is dependent on b1 and xinter\n",
    "      and defined entirely by them (so that the lines touch).\n",
    "    '''\n",
    "    \n",
    "    # Output vector\n",
    "    y_out = np.ones(len(x))\n",
    "    \n",
    "    # Before building the first straight line, calculate the intercept\n",
    "    b1 = y0 - m1*x0\n",
    "    \n",
    "    # Build first straight line segment\n",
    "    y_out = m1*x + b1\n",
    "    \n",
    "    # Find points that are after the intersection and make the second segment\n",
    "    i = np.where(x>xinter)[0]\n",
    "    \n",
    "    # Define second y intercept\n",
    "    b2 = m1*xinter + b1 - m2*xinter\n",
    "    # print(b2)\n",
    "    \n",
    "    # Make second straight line\n",
    "    y_out[i] = m2*x[i] + b2\n",
    "\n",
    "    return y_out\n",
    "\n",
    "# Build the target function, misfit to this is what is being minimized\n",
    "def non_pytensor_two_straight_lines(x,m1,m2,xinter,x0,y0):\n",
    "    '''\n",
    "    input x coordiantes are in x\n",
    "    slopes are m1 and m2\n",
    "    intercept of left hand line is b1 \n",
    "    intersection of two lines is at xinter\n",
    "    \n",
    "    Note that y intercept of second straight line is dependent on b1 and xinter\n",
    "      and defined entirely by them (so that the lines touch).\n",
    "    '''\n",
    "    \n",
    "    # Output vector\n",
    "    yout = np.ones(len(x))\n",
    "    \n",
    "    # Before building the first straight line, calculate the intercept\n",
    "    b1 = y0 - m1*x0\n",
    "    \n",
    "    # Build first straight line segment\n",
    "    yout = m1*x + b1\n",
    "    \n",
    "    # Find points that are after the intersection and make the second segment\n",
    "    i = np.where(x>xinter)[0]\n",
    "    \n",
    "    # Define second y intercept\n",
    "    b2 = m1*xinter + b1 - m2*xinter\n",
    "    \n",
    "    # Make second straight line\n",
    "    yout[i] = m2*x[i] + b2\n",
    "\n",
    "    return yout"
   ]
  },
  {
   "cell_type": "code",
   "execution_count": 27,
   "id": "9a249986",
   "metadata": {},
   "outputs": [
    {
     "data": {
      "text/html": [
       "<div>\n",
       "<style scoped>\n",
       "    .dataframe tbody tr th:only-of-type {\n",
       "        vertical-align: middle;\n",
       "    }\n",
       "\n",
       "    .dataframe tbody tr th {\n",
       "        vertical-align: top;\n",
       "    }\n",
       "\n",
       "    .dataframe thead th {\n",
       "        text-align: right;\n",
       "    }\n",
       "</style>\n",
       "<table border=\"1\" class=\"dataframe\">\n",
       "  <thead>\n",
       "    <tr style=\"text-align: right;\">\n",
       "      <th></th>\n",
       "      <th>Sta</th>\n",
       "      <th>Lat</th>\n",
       "      <th>Lon</th>\n",
       "      <th>Depth(m)</th>\n",
       "      <th>2009_hyp_dist_km</th>\n",
       "      <th>2013_hyp_dist_km</th>\n",
       "      <th>2018_hyp_dist_km</th>\n",
       "      <th>snrs_2009</th>\n",
       "      <th>snrs_2013</th>\n",
       "      <th>snrs_2018</th>\n",
       "    </tr>\n",
       "  </thead>\n",
       "  <tbody>\n",
       "    <tr>\n",
       "      <th>0</th>\n",
       "      <td>BCWB</td>\n",
       "      <td>24.2184</td>\n",
       "      <td>121.6891</td>\n",
       "      <td>-192</td>\n",
       "      <td>69.496535</td>\n",
       "      <td>74.182696</td>\n",
       "      <td>7.066640</td>\n",
       "      <td>-</td>\n",
       "      <td>-</td>\n",
       "      <td>-</td>\n",
       "    </tr>\n",
       "    <tr>\n",
       "      <th>1</th>\n",
       "      <td>TRKB</td>\n",
       "      <td>24.1614</td>\n",
       "      <td>121.6127</td>\n",
       "      <td>-192</td>\n",
       "      <td>61.088805</td>\n",
       "      <td>65.767547</td>\n",
       "      <td>9.697232</td>\n",
       "      <td>-</td>\n",
       "      <td>1152.20250487</td>\n",
       "      <td>3719.0718215</td>\n",
       "    </tr>\n",
       "    <tr>\n",
       "      <th>2</th>\n",
       "      <td>NTTB</td>\n",
       "      <td>24.1728</td>\n",
       "      <td>121.5259</td>\n",
       "      <td>-175</td>\n",
       "      <td>60.587926</td>\n",
       "      <td>65.180780</td>\n",
       "      <td>18.587874</td>\n",
       "      <td>-</td>\n",
       "      <td>-</td>\n",
       "      <td>-</td>\n",
       "    </tr>\n",
       "    <tr>\n",
       "      <th>3</th>\n",
       "      <td>SJNB</td>\n",
       "      <td>24.1073</td>\n",
       "      <td>121.6006</td>\n",
       "      <td>-193</td>\n",
       "      <td>54.988063</td>\n",
       "      <td>59.668808</td>\n",
       "      <td>12.226300</td>\n",
       "      <td>-</td>\n",
       "      <td>1534.07924347</td>\n",
       "      <td>130.500478359</td>\n",
       "    </tr>\n",
       "    <tr>\n",
       "      <th>4</th>\n",
       "      <td>HGSB</td>\n",
       "      <td>23.4903</td>\n",
       "      <td>121.4237</td>\n",
       "      <td>-266</td>\n",
       "      <td>15.739505</td>\n",
       "      <td>11.125139</td>\n",
       "      <td>79.319331</td>\n",
       "      <td>-</td>\n",
       "      <td>439.289654937</td>\n",
       "      <td>372.018353576</td>\n",
       "    </tr>\n",
       "    <tr>\n",
       "      <th>5</th>\n",
       "      <td>CHMB</td>\n",
       "      <td>23.4868</td>\n",
       "      <td>121.4703</td>\n",
       "      <td>-191</td>\n",
       "      <td>15.969342</td>\n",
       "      <td>11.924641</td>\n",
       "      <td>78.079695</td>\n",
       "      <td>-</td>\n",
       "      <td>348.253341927</td>\n",
       "      <td>40.3376474275</td>\n",
       "    </tr>\n",
       "    <tr>\n",
       "      <th>6</th>\n",
       "      <td>SSNB</td>\n",
       "      <td>23.4423</td>\n",
       "      <td>121.3981</td>\n",
       "      <td>-185</td>\n",
       "      <td>21.504342</td>\n",
       "      <td>16.833483</td>\n",
       "      <td>85.224271</td>\n",
       "      <td>-</td>\n",
       "      <td>766.890947625</td>\n",
       "      <td>129.005945014</td>\n",
       "    </tr>\n",
       "    <tr>\n",
       "      <th>7</th>\n",
       "      <td>ZANB</td>\n",
       "      <td>23.3947</td>\n",
       "      <td>121.4585</td>\n",
       "      <td>-218</td>\n",
       "      <td>26.068219</td>\n",
       "      <td>21.740867</td>\n",
       "      <td>88.175343</td>\n",
       "      <td>-</td>\n",
       "      <td>3295.27964074</td>\n",
       "      <td>106.461336916</td>\n",
       "    </tr>\n",
       "    <tr>\n",
       "      <th>8</th>\n",
       "      <td>FBRB</td>\n",
       "      <td>23.1406</td>\n",
       "      <td>121.2796</td>\n",
       "      <td>-200</td>\n",
       "      <td>56.994188</td>\n",
       "      <td>52.307853</td>\n",
       "      <td>120.756809</td>\n",
       "      <td>-</td>\n",
       "      <td>410.300738921</td>\n",
       "      <td>80.3548941939</td>\n",
       "    </tr>\n",
       "    <tr>\n",
       "      <th>9</th>\n",
       "      <td>SSTB</td>\n",
       "      <td>23.1340</td>\n",
       "      <td>121.3782</td>\n",
       "      <td>-199</td>\n",
       "      <td>55.447392</td>\n",
       "      <td>50.858196</td>\n",
       "      <td>118.191393</td>\n",
       "      <td>-</td>\n",
       "      <td>359.179515365</td>\n",
       "      <td>47.0870229521</td>\n",
       "    </tr>\n",
       "    <tr>\n",
       "      <th>10</th>\n",
       "      <td>DONB</td>\n",
       "      <td>22.9920</td>\n",
       "      <td>121.3124</td>\n",
       "      <td>-181</td>\n",
       "      <td>72.085844</td>\n",
       "      <td>67.442876</td>\n",
       "      <td>135.198262</td>\n",
       "      <td>-</td>\n",
       "      <td>88.6580819182</td>\n",
       "      <td>-</td>\n",
       "    </tr>\n",
       "  </tbody>\n",
       "</table>\n",
       "</div>"
      ],
      "text/plain": [
       "     Sta      Lat       Lon  Depth(m)  2009_hyp_dist_km  2013_hyp_dist_km  \\\n",
       "0   BCWB  24.2184  121.6891      -192         69.496535         74.182696   \n",
       "1   TRKB  24.1614  121.6127      -192         61.088805         65.767547   \n",
       "2   NTTB  24.1728  121.5259      -175         60.587926         65.180780   \n",
       "3   SJNB  24.1073  121.6006      -193         54.988063         59.668808   \n",
       "4   HGSB  23.4903  121.4237      -266         15.739505         11.125139   \n",
       "5   CHMB  23.4868  121.4703      -191         15.969342         11.924641   \n",
       "6   SSNB  23.4423  121.3981      -185         21.504342         16.833483   \n",
       "7   ZANB  23.3947  121.4585      -218         26.068219         21.740867   \n",
       "8   FBRB  23.1406  121.2796      -200         56.994188         52.307853   \n",
       "9   SSTB  23.1340  121.3782      -199         55.447392         50.858196   \n",
       "10  DONB  22.9920  121.3124      -181         72.085844         67.442876   \n",
       "\n",
       "    2018_hyp_dist_km snrs_2009      snrs_2013      snrs_2018  \n",
       "0           7.066640         -              -              -  \n",
       "1           9.697232         -  1152.20250487   3719.0718215  \n",
       "2          18.587874         -              -              -  \n",
       "3          12.226300         -  1534.07924347  130.500478359  \n",
       "4          79.319331         -  439.289654937  372.018353576  \n",
       "5          78.079695         -  348.253341927  40.3376474275  \n",
       "6          85.224271         -  766.890947625  129.005945014  \n",
       "7          88.175343         -  3295.27964074  106.461336916  \n",
       "8         120.756809         -  410.300738921  80.3548941939  \n",
       "9         118.191393         -  359.179515365  47.0870229521  \n",
       "10        135.198262         -  88.6580819182              -  "
      ]
     },
     "execution_count": 27,
     "metadata": {},
     "output_type": "execute_result"
    }
   ],
   "source": [
    "path = '/Users/sydneydybing/StrainProject/2024/taiwan_strain_data/'\n",
    "events = pd.read_csv(path + 'events_csv.csv')\n",
    "snr_array = pd.read_csv(path + 'station_data_hypdists_snrs.csv')\n",
    "snr_array"
   ]
  },
  {
   "cell_type": "code",
   "execution_count": 107,
   "id": "3b71413a-471d-48e0-a16c-e77524db8e2e",
   "metadata": {},
   "outputs": [
    {
     "data": {
      "text/html": [
       "<div>\n",
       "<style scoped>\n",
       "    .dataframe tbody tr th:only-of-type {\n",
       "        vertical-align: middle;\n",
       "    }\n",
       "\n",
       "    .dataframe tbody tr th {\n",
       "        vertical-align: top;\n",
       "    }\n",
       "\n",
       "    .dataframe thead th {\n",
       "        text-align: right;\n",
       "    }\n",
       "</style>\n",
       "<table border=\"1\" class=\"dataframe\">\n",
       "  <thead>\n",
       "    <tr style=\"text-align: right;\">\n",
       "      <th></th>\n",
       "      <th>evt_id</th>\n",
       "      <th>origin_time</th>\n",
       "      <th>lat</th>\n",
       "      <th>lon</th>\n",
       "      <th>depth</th>\n",
       "    </tr>\n",
       "  </thead>\n",
       "  <tbody>\n",
       "    <tr>\n",
       "      <th>0</th>\n",
       "      <td>2009-10-03_M6.1</td>\n",
       "      <td>2009-10-03T17:36:06.120</td>\n",
       "      <td>23.630</td>\n",
       "      <td>121.452</td>\n",
       "      <td>28.0</td>\n",
       "    </tr>\n",
       "    <tr>\n",
       "      <th>1</th>\n",
       "      <td>2013-10-31_M6.3</td>\n",
       "      <td>2013-10-31T12:02:08.720</td>\n",
       "      <td>23.590</td>\n",
       "      <td>121.437</td>\n",
       "      <td>10.0</td>\n",
       "    </tr>\n",
       "    <tr>\n",
       "      <th>2</th>\n",
       "      <td>2018-02-04_M6.1</td>\n",
       "      <td>2018-02-04T13:56:41.950</td>\n",
       "      <td>24.157</td>\n",
       "      <td>121.708</td>\n",
       "      <td>12.0</td>\n",
       "    </tr>\n",
       "  </tbody>\n",
       "</table>\n",
       "</div>"
      ],
      "text/plain": [
       "            evt_id              origin_time     lat      lon  depth\n",
       "0  2009-10-03_M6.1  2009-10-03T17:36:06.120  23.630  121.452   28.0\n",
       "1  2013-10-31_M6.3  2013-10-31T12:02:08.720  23.590  121.437   10.0\n",
       "2  2018-02-04_M6.1  2018-02-04T13:56:41.950  24.157  121.708   12.0"
      ]
     },
     "execution_count": 107,
     "metadata": {},
     "output_type": "execute_result"
    }
   ],
   "source": [
    "events"
   ]
  },
  {
   "cell_type": "code",
   "execution_count": 223,
   "id": "f9bdb7db-2520-4b60-bd26-57d37adf211a",
   "metadata": {
    "tags": []
   },
   "outputs": [
    {
     "name": "stdout",
     "output_type": "stream",
     "text": [
      "2009-10-03_M6.1\n",
      "Skipping BCWB, no data\n",
      "Skipping TRKB, no data\n",
      "Skipping NTTB, no data\n",
      "Skipping SJNB, no data\n",
      "Skipping HGSB, no data\n",
      "Skipping CHMB, no data\n",
      "Skipping SSNB, no data\n",
      "Skipping ZANB, no data\n",
      "Skipping FBRB, no data\n",
      "Skipping SSTB, no data\n",
      "Skipping DONB, no data\n",
      "2013-10-31_M6.3\n",
      "2013 sta typo BCWB\n",
      "Skipping BCWB, no data\n",
      "Processing TRKB\n",
      "100.0\n"
     ]
    },
    {
     "name": "stderr",
     "output_type": "stream",
     "text": [
      "Sequential sampling (4 chains in 1 job)\n",
      "CompoundStep\n",
      ">Metropolis: [m1]\n",
      ">Metropolis: [m2]\n",
      ">Metropolis: [xinter]\n",
      ">Metropolis: [sigma]\n"
     ]
    },
    {
     "data": {
      "text/html": [
       "\n",
       "<style>\n",
       "    /* Turns off some styling */\n",
       "    progress {\n",
       "        /* gets rid of default border in Firefox and Opera. */\n",
       "        border: none;\n",
       "        /* Needs to be in here for Safari polyfill so background images work as expected. */\n",
       "        background-size: auto;\n",
       "    }\n",
       "    progress:not([value]), progress:not([value])::-webkit-progress-bar {\n",
       "        background: repeating-linear-gradient(45deg, #7e7e7e, #7e7e7e 10px, #5c5c5c 10px, #5c5c5c 20px);\n",
       "    }\n",
       "    .progress-bar-interrupted, .progress-bar-interrupted::-webkit-progress-bar {\n",
       "        background: #F44336;\n",
       "    }\n",
       "</style>\n"
      ],
      "text/plain": [
       "<IPython.core.display.HTML object>"
      ]
     },
     "metadata": {},
     "output_type": "display_data"
    },
    {
     "data": {
      "text/html": [
       "\n",
       "    <div>\n",
       "      <progress value='20000' class='' max='20000' style='width:300px; height:20px; vertical-align: middle;'></progress>\n",
       "      100.00% [20000/20000 00:32&lt;00:00 Sampling chain 0, 0 divergences]\n",
       "    </div>\n",
       "    "
      ],
      "text/plain": [
       "<IPython.core.display.HTML object>"
      ]
     },
     "metadata": {},
     "output_type": "display_data"
    },
    {
     "data": {
      "text/html": [
       "\n",
       "<style>\n",
       "    /* Turns off some styling */\n",
       "    progress {\n",
       "        /* gets rid of default border in Firefox and Opera. */\n",
       "        border: none;\n",
       "        /* Needs to be in here for Safari polyfill so background images work as expected. */\n",
       "        background-size: auto;\n",
       "    }\n",
       "    progress:not([value]), progress:not([value])::-webkit-progress-bar {\n",
       "        background: repeating-linear-gradient(45deg, #7e7e7e, #7e7e7e 10px, #5c5c5c 10px, #5c5c5c 20px);\n",
       "    }\n",
       "    .progress-bar-interrupted, .progress-bar-interrupted::-webkit-progress-bar {\n",
       "        background: #F44336;\n",
       "    }\n",
       "</style>\n"
      ],
      "text/plain": [
       "<IPython.core.display.HTML object>"
      ]
     },
     "metadata": {},
     "output_type": "display_data"
    },
    {
     "data": {
      "text/html": [
       "\n",
       "    <div>\n",
       "      <progress value='20000' class='' max='20000' style='width:300px; height:20px; vertical-align: middle;'></progress>\n",
       "      100.00% [20000/20000 00:33&lt;00:00 Sampling chain 1, 0 divergences]\n",
       "    </div>\n",
       "    "
      ],
      "text/plain": [
       "<IPython.core.display.HTML object>"
      ]
     },
     "metadata": {},
     "output_type": "display_data"
    },
    {
     "data": {
      "text/html": [
       "\n",
       "<style>\n",
       "    /* Turns off some styling */\n",
       "    progress {\n",
       "        /* gets rid of default border in Firefox and Opera. */\n",
       "        border: none;\n",
       "        /* Needs to be in here for Safari polyfill so background images work as expected. */\n",
       "        background-size: auto;\n",
       "    }\n",
       "    progress:not([value]), progress:not([value])::-webkit-progress-bar {\n",
       "        background: repeating-linear-gradient(45deg, #7e7e7e, #7e7e7e 10px, #5c5c5c 10px, #5c5c5c 20px);\n",
       "    }\n",
       "    .progress-bar-interrupted, .progress-bar-interrupted::-webkit-progress-bar {\n",
       "        background: #F44336;\n",
       "    }\n",
       "</style>\n"
      ],
      "text/plain": [
       "<IPython.core.display.HTML object>"
      ]
     },
     "metadata": {},
     "output_type": "display_data"
    },
    {
     "data": {
      "text/html": [
       "\n",
       "    <div>\n",
       "      <progress value='20000' class='' max='20000' style='width:300px; height:20px; vertical-align: middle;'></progress>\n",
       "      100.00% [20000/20000 00:33&lt;00:00 Sampling chain 2, 0 divergences]\n",
       "    </div>\n",
       "    "
      ],
      "text/plain": [
       "<IPython.core.display.HTML object>"
      ]
     },
     "metadata": {},
     "output_type": "display_data"
    },
    {
     "data": {
      "text/html": [
       "\n",
       "<style>\n",
       "    /* Turns off some styling */\n",
       "    progress {\n",
       "        /* gets rid of default border in Firefox and Opera. */\n",
       "        border: none;\n",
       "        /* Needs to be in here for Safari polyfill so background images work as expected. */\n",
       "        background-size: auto;\n",
       "    }\n",
       "    progress:not([value]), progress:not([value])::-webkit-progress-bar {\n",
       "        background: repeating-linear-gradient(45deg, #7e7e7e, #7e7e7e 10px, #5c5c5c 10px, #5c5c5c 20px);\n",
       "    }\n",
       "    .progress-bar-interrupted, .progress-bar-interrupted::-webkit-progress-bar {\n",
       "        background: #F44336;\n",
       "    }\n",
       "</style>\n"
      ],
      "text/plain": [
       "<IPython.core.display.HTML object>"
      ]
     },
     "metadata": {},
     "output_type": "display_data"
    },
    {
     "data": {
      "text/html": [
       "\n",
       "    <div>\n",
       "      <progress value='20000' class='' max='20000' style='width:300px; height:20px; vertical-align: middle;'></progress>\n",
       "      100.00% [20000/20000 00:34&lt;00:00 Sampling chain 3, 0 divergences]\n",
       "    </div>\n",
       "    "
      ],
      "text/plain": [
       "<IPython.core.display.HTML object>"
      ]
     },
     "metadata": {},
     "output_type": "display_data"
    },
    {
     "name": "stderr",
     "output_type": "stream",
     "text": [
      "Sampling 4 chains for 5_000 tune and 15_000 draw iterations (20_000 + 60_000 draws total) took 133 seconds.\n",
      "The rhat statistic is larger than 1.01 for some parameters. This indicates problems during sampling. See https://arxiv.org/abs/1903.08008 for details\n",
      "The effective sample size per chain is smaller than 100 for some parameters.  A higher number is needed for reliable rhat and ess computation. See https://arxiv.org/abs/1903.08008 for details\n"
     ]
    },
    {
     "name": "stdout",
     "output_type": "stream",
     "text": [
      "          mean     sd  hdi_3%  hdi_97%  mcse_mean  mcse_sd  ess_bulk  \\\n",
      "m1       2.037  0.075   1.894    2.143      0.032    0.024       7.0   \n",
      "m2       0.069  0.002   0.066    0.072      0.000    0.000      15.0   \n",
      "xinter  11.331  0.060  11.253   11.438      0.025    0.019       7.0   \n",
      "sigma    0.190  0.004   0.182    0.196      0.000    0.000      71.0   \n",
      "\n",
      "        ess_tail  r_hat  \n",
      "m1          11.0   1.56  \n",
      "m2          23.0   1.21  \n",
      "xinter      11.0   1.54  \n",
      "sigma      122.0   1.04  \n",
      "2013 sta typo NTTB\n",
      "Skipping NTTB, no data\n",
      "Processing SJNB\n",
      "100.0\n"
     ]
    },
    {
     "name": "stderr",
     "output_type": "stream",
     "text": [
      "Sequential sampling (4 chains in 1 job)\n",
      "CompoundStep\n",
      ">Metropolis: [m1]\n",
      ">Metropolis: [m2]\n",
      ">Metropolis: [xinter]\n",
      ">Metropolis: [sigma]\n"
     ]
    },
    {
     "data": {
      "text/html": [
       "\n",
       "<style>\n",
       "    /* Turns off some styling */\n",
       "    progress {\n",
       "        /* gets rid of default border in Firefox and Opera. */\n",
       "        border: none;\n",
       "        /* Needs to be in here for Safari polyfill so background images work as expected. */\n",
       "        background-size: auto;\n",
       "    }\n",
       "    progress:not([value]), progress:not([value])::-webkit-progress-bar {\n",
       "        background: repeating-linear-gradient(45deg, #7e7e7e, #7e7e7e 10px, #5c5c5c 10px, #5c5c5c 20px);\n",
       "    }\n",
       "    .progress-bar-interrupted, .progress-bar-interrupted::-webkit-progress-bar {\n",
       "        background: #F44336;\n",
       "    }\n",
       "</style>\n"
      ],
      "text/plain": [
       "<IPython.core.display.HTML object>"
      ]
     },
     "metadata": {},
     "output_type": "display_data"
    },
    {
     "data": {
      "text/html": [
       "\n",
       "    <div>\n",
       "      <progress value='20000' class='' max='20000' style='width:300px; height:20px; vertical-align: middle;'></progress>\n",
       "      100.00% [20000/20000 00:31&lt;00:00 Sampling chain 0, 0 divergences]\n",
       "    </div>\n",
       "    "
      ],
      "text/plain": [
       "<IPython.core.display.HTML object>"
      ]
     },
     "metadata": {},
     "output_type": "display_data"
    },
    {
     "data": {
      "text/html": [
       "\n",
       "<style>\n",
       "    /* Turns off some styling */\n",
       "    progress {\n",
       "        /* gets rid of default border in Firefox and Opera. */\n",
       "        border: none;\n",
       "        /* Needs to be in here for Safari polyfill so background images work as expected. */\n",
       "        background-size: auto;\n",
       "    }\n",
       "    progress:not([value]), progress:not([value])::-webkit-progress-bar {\n",
       "        background: repeating-linear-gradient(45deg, #7e7e7e, #7e7e7e 10px, #5c5c5c 10px, #5c5c5c 20px);\n",
       "    }\n",
       "    .progress-bar-interrupted, .progress-bar-interrupted::-webkit-progress-bar {\n",
       "        background: #F44336;\n",
       "    }\n",
       "</style>\n"
      ],
      "text/plain": [
       "<IPython.core.display.HTML object>"
      ]
     },
     "metadata": {},
     "output_type": "display_data"
    },
    {
     "data": {
      "text/html": [
       "\n",
       "    <div>\n",
       "      <progress value='20000' class='' max='20000' style='width:300px; height:20px; vertical-align: middle;'></progress>\n",
       "      100.00% [20000/20000 00:32&lt;00:00 Sampling chain 1, 0 divergences]\n",
       "    </div>\n",
       "    "
      ],
      "text/plain": [
       "<IPython.core.display.HTML object>"
      ]
     },
     "metadata": {},
     "output_type": "display_data"
    },
    {
     "data": {
      "text/html": [
       "\n",
       "<style>\n",
       "    /* Turns off some styling */\n",
       "    progress {\n",
       "        /* gets rid of default border in Firefox and Opera. */\n",
       "        border: none;\n",
       "        /* Needs to be in here for Safari polyfill so background images work as expected. */\n",
       "        background-size: auto;\n",
       "    }\n",
       "    progress:not([value]), progress:not([value])::-webkit-progress-bar {\n",
       "        background: repeating-linear-gradient(45deg, #7e7e7e, #7e7e7e 10px, #5c5c5c 10px, #5c5c5c 20px);\n",
       "    }\n",
       "    .progress-bar-interrupted, .progress-bar-interrupted::-webkit-progress-bar {\n",
       "        background: #F44336;\n",
       "    }\n",
       "</style>\n"
      ],
      "text/plain": [
       "<IPython.core.display.HTML object>"
      ]
     },
     "metadata": {},
     "output_type": "display_data"
    },
    {
     "data": {
      "text/html": [
       "\n",
       "    <div>\n",
       "      <progress value='20000' class='' max='20000' style='width:300px; height:20px; vertical-align: middle;'></progress>\n",
       "      100.00% [20000/20000 00:31&lt;00:00 Sampling chain 2, 0 divergences]\n",
       "    </div>\n",
       "    "
      ],
      "text/plain": [
       "<IPython.core.display.HTML object>"
      ]
     },
     "metadata": {},
     "output_type": "display_data"
    },
    {
     "data": {
      "text/html": [
       "\n",
       "<style>\n",
       "    /* Turns off some styling */\n",
       "    progress {\n",
       "        /* gets rid of default border in Firefox and Opera. */\n",
       "        border: none;\n",
       "        /* Needs to be in here for Safari polyfill so background images work as expected. */\n",
       "        background-size: auto;\n",
       "    }\n",
       "    progress:not([value]), progress:not([value])::-webkit-progress-bar {\n",
       "        background: repeating-linear-gradient(45deg, #7e7e7e, #7e7e7e 10px, #5c5c5c 10px, #5c5c5c 20px);\n",
       "    }\n",
       "    .progress-bar-interrupted, .progress-bar-interrupted::-webkit-progress-bar {\n",
       "        background: #F44336;\n",
       "    }\n",
       "</style>\n"
      ],
      "text/plain": [
       "<IPython.core.display.HTML object>"
      ]
     },
     "metadata": {},
     "output_type": "display_data"
    },
    {
     "data": {
      "text/html": [
       "\n",
       "    <div>\n",
       "      <progress value='20000' class='' max='20000' style='width:300px; height:20px; vertical-align: middle;'></progress>\n",
       "      100.00% [20000/20000 00:31&lt;00:00 Sampling chain 3, 0 divergences]\n",
       "    </div>\n",
       "    "
      ],
      "text/plain": [
       "<IPython.core.display.HTML object>"
      ]
     },
     "metadata": {},
     "output_type": "display_data"
    },
    {
     "name": "stderr",
     "output_type": "stream",
     "text": [
      "Sampling 4 chains for 5_000 tune and 15_000 draw iterations (20_000 + 60_000 draws total) took 127 seconds.\n",
      "The rhat statistic is larger than 1.01 for some parameters. This indicates problems during sampling. See https://arxiv.org/abs/1903.08008 for details\n",
      "The effective sample size per chain is smaller than 100 for some parameters.  A higher number is needed for reliable rhat and ess computation. See https://arxiv.org/abs/1903.08008 for details\n"
     ]
    },
    {
     "name": "stdout",
     "output_type": "stream",
     "text": [
      "          mean     sd  hdi_3%  hdi_97%  mcse_mean  mcse_sd  ess_bulk  \\\n",
      "m1       2.177  0.071   2.045    2.276      0.032    0.024       5.0   \n",
      "m2       0.085  0.001   0.082    0.087      0.000    0.000      10.0   \n",
      "xinter  11.199  0.047  11.136   11.285      0.021    0.016       5.0   \n",
      "sigma    0.149  0.003   0.144    0.154      0.000    0.000      87.0   \n",
      "\n",
      "        ess_tail  r_hat  \n",
      "m1          12.0   2.18  \n",
      "m2          28.0   1.35  \n",
      "xinter      14.0   2.23  \n",
      "sigma      135.0   1.03  \n",
      "Processing HGSB\n",
      "100.0\n"
     ]
    },
    {
     "name": "stderr",
     "output_type": "stream",
     "text": [
      "Sequential sampling (4 chains in 1 job)\n",
      "CompoundStep\n",
      ">Metropolis: [m1]\n",
      ">Metropolis: [m2]\n",
      ">Metropolis: [xinter]\n",
      ">Metropolis: [sigma]\n"
     ]
    },
    {
     "data": {
      "text/html": [
       "\n",
       "<style>\n",
       "    /* Turns off some styling */\n",
       "    progress {\n",
       "        /* gets rid of default border in Firefox and Opera. */\n",
       "        border: none;\n",
       "        /* Needs to be in here for Safari polyfill so background images work as expected. */\n",
       "        background-size: auto;\n",
       "    }\n",
       "    progress:not([value]), progress:not([value])::-webkit-progress-bar {\n",
       "        background: repeating-linear-gradient(45deg, #7e7e7e, #7e7e7e 10px, #5c5c5c 10px, #5c5c5c 20px);\n",
       "    }\n",
       "    .progress-bar-interrupted, .progress-bar-interrupted::-webkit-progress-bar {\n",
       "        background: #F44336;\n",
       "    }\n",
       "</style>\n"
      ],
      "text/plain": [
       "<IPython.core.display.HTML object>"
      ]
     },
     "metadata": {},
     "output_type": "display_data"
    },
    {
     "data": {
      "text/html": [
       "\n",
       "    <div>\n",
       "      <progress value='20000' class='' max='20000' style='width:300px; height:20px; vertical-align: middle;'></progress>\n",
       "      100.00% [20000/20000 00:31&lt;00:00 Sampling chain 0, 0 divergences]\n",
       "    </div>\n",
       "    "
      ],
      "text/plain": [
       "<IPython.core.display.HTML object>"
      ]
     },
     "metadata": {},
     "output_type": "display_data"
    },
    {
     "data": {
      "text/html": [
       "\n",
       "<style>\n",
       "    /* Turns off some styling */\n",
       "    progress {\n",
       "        /* gets rid of default border in Firefox and Opera. */\n",
       "        border: none;\n",
       "        /* Needs to be in here for Safari polyfill so background images work as expected. */\n",
       "        background-size: auto;\n",
       "    }\n",
       "    progress:not([value]), progress:not([value])::-webkit-progress-bar {\n",
       "        background: repeating-linear-gradient(45deg, #7e7e7e, #7e7e7e 10px, #5c5c5c 10px, #5c5c5c 20px);\n",
       "    }\n",
       "    .progress-bar-interrupted, .progress-bar-interrupted::-webkit-progress-bar {\n",
       "        background: #F44336;\n",
       "    }\n",
       "</style>\n"
      ],
      "text/plain": [
       "<IPython.core.display.HTML object>"
      ]
     },
     "metadata": {},
     "output_type": "display_data"
    },
    {
     "data": {
      "text/html": [
       "\n",
       "    <div>\n",
       "      <progress value='20000' class='' max='20000' style='width:300px; height:20px; vertical-align: middle;'></progress>\n",
       "      100.00% [20000/20000 00:28&lt;00:00 Sampling chain 1, 0 divergences]\n",
       "    </div>\n",
       "    "
      ],
      "text/plain": [
       "<IPython.core.display.HTML object>"
      ]
     },
     "metadata": {},
     "output_type": "display_data"
    },
    {
     "data": {
      "text/html": [
       "\n",
       "<style>\n",
       "    /* Turns off some styling */\n",
       "    progress {\n",
       "        /* gets rid of default border in Firefox and Opera. */\n",
       "        border: none;\n",
       "        /* Needs to be in here for Safari polyfill so background images work as expected. */\n",
       "        background-size: auto;\n",
       "    }\n",
       "    progress:not([value]), progress:not([value])::-webkit-progress-bar {\n",
       "        background: repeating-linear-gradient(45deg, #7e7e7e, #7e7e7e 10px, #5c5c5c 10px, #5c5c5c 20px);\n",
       "    }\n",
       "    .progress-bar-interrupted, .progress-bar-interrupted::-webkit-progress-bar {\n",
       "        background: #F44336;\n",
       "    }\n",
       "</style>\n"
      ],
      "text/plain": [
       "<IPython.core.display.HTML object>"
      ]
     },
     "metadata": {},
     "output_type": "display_data"
    },
    {
     "data": {
      "text/html": [
       "\n",
       "    <div>\n",
       "      <progress value='20000' class='' max='20000' style='width:300px; height:20px; vertical-align: middle;'></progress>\n",
       "      100.00% [20000/20000 00:29&lt;00:00 Sampling chain 2, 0 divergences]\n",
       "    </div>\n",
       "    "
      ],
      "text/plain": [
       "<IPython.core.display.HTML object>"
      ]
     },
     "metadata": {},
     "output_type": "display_data"
    },
    {
     "data": {
      "text/html": [
       "\n",
       "<style>\n",
       "    /* Turns off some styling */\n",
       "    progress {\n",
       "        /* gets rid of default border in Firefox and Opera. */\n",
       "        border: none;\n",
       "        /* Needs to be in here for Safari polyfill so background images work as expected. */\n",
       "        background-size: auto;\n",
       "    }\n",
       "    progress:not([value]), progress:not([value])::-webkit-progress-bar {\n",
       "        background: repeating-linear-gradient(45deg, #7e7e7e, #7e7e7e 10px, #5c5c5c 10px, #5c5c5c 20px);\n",
       "    }\n",
       "    .progress-bar-interrupted, .progress-bar-interrupted::-webkit-progress-bar {\n",
       "        background: #F44336;\n",
       "    }\n",
       "</style>\n"
      ],
      "text/plain": [
       "<IPython.core.display.HTML object>"
      ]
     },
     "metadata": {},
     "output_type": "display_data"
    },
    {
     "data": {
      "text/html": [
       "\n",
       "    <div>\n",
       "      <progress value='20000' class='' max='20000' style='width:300px; height:20px; vertical-align: middle;'></progress>\n",
       "      100.00% [20000/20000 00:27&lt;00:00 Sampling chain 3, 0 divergences]\n",
       "    </div>\n",
       "    "
      ],
      "text/plain": [
       "<IPython.core.display.HTML object>"
      ]
     },
     "metadata": {},
     "output_type": "display_data"
    },
    {
     "name": "stderr",
     "output_type": "stream",
     "text": [
      "Sampling 4 chains for 5_000 tune and 15_000 draw iterations (20_000 + 60_000 draws total) took 117 seconds.\n",
      "The rhat statistic is larger than 1.01 for some parameters. This indicates problems during sampling. See https://arxiv.org/abs/1903.08008 for details\n",
      "The effective sample size per chain is smaller than 100 for some parameters.  A higher number is needed for reliable rhat and ess computation. See https://arxiv.org/abs/1903.08008 for details\n"
     ]
    },
    {
     "name": "stdout",
     "output_type": "stream",
     "text": [
      "          mean     sd  hdi_3%  hdi_97%  mcse_mean  mcse_sd  ess_bulk  \\\n",
      "m1       6.051  0.833   5.033    7.824      0.400    0.305       5.0   \n",
      "m2       0.084  0.002   0.080    0.088      0.001    0.001       8.0   \n",
      "xinter  10.348  0.046  10.261   10.416      0.022    0.017       5.0   \n",
      "sigma    0.124  0.004   0.118    0.132      0.001    0.001      12.0   \n",
      "\n",
      "        ess_tail  r_hat  \n",
      "m1          24.0   2.40  \n",
      "m2          29.0   1.48  \n",
      "xinter      24.0   2.40  \n",
      "sigma       39.0   1.24  \n",
      "Processing CHMB\n",
      "100.0\n"
     ]
    },
    {
     "name": "stderr",
     "output_type": "stream",
     "text": [
      "Sequential sampling (4 chains in 1 job)\n",
      "CompoundStep\n",
      ">Metropolis: [m1]\n",
      ">Metropolis: [m2]\n",
      ">Metropolis: [xinter]\n",
      ">Metropolis: [sigma]\n"
     ]
    },
    {
     "data": {
      "text/html": [
       "\n",
       "<style>\n",
       "    /* Turns off some styling */\n",
       "    progress {\n",
       "        /* gets rid of default border in Firefox and Opera. */\n",
       "        border: none;\n",
       "        /* Needs to be in here for Safari polyfill so background images work as expected. */\n",
       "        background-size: auto;\n",
       "    }\n",
       "    progress:not([value]), progress:not([value])::-webkit-progress-bar {\n",
       "        background: repeating-linear-gradient(45deg, #7e7e7e, #7e7e7e 10px, #5c5c5c 10px, #5c5c5c 20px);\n",
       "    }\n",
       "    .progress-bar-interrupted, .progress-bar-interrupted::-webkit-progress-bar {\n",
       "        background: #F44336;\n",
       "    }\n",
       "</style>\n"
      ],
      "text/plain": [
       "<IPython.core.display.HTML object>"
      ]
     },
     "metadata": {},
     "output_type": "display_data"
    },
    {
     "data": {
      "text/html": [
       "\n",
       "    <div>\n",
       "      <progress value='20000' class='' max='20000' style='width:300px; height:20px; vertical-align: middle;'></progress>\n",
       "      100.00% [20000/20000 00:30&lt;00:00 Sampling chain 0, 0 divergences]\n",
       "    </div>\n",
       "    "
      ],
      "text/plain": [
       "<IPython.core.display.HTML object>"
      ]
     },
     "metadata": {},
     "output_type": "display_data"
    },
    {
     "data": {
      "text/html": [
       "\n",
       "<style>\n",
       "    /* Turns off some styling */\n",
       "    progress {\n",
       "        /* gets rid of default border in Firefox and Opera. */\n",
       "        border: none;\n",
       "        /* Needs to be in here for Safari polyfill so background images work as expected. */\n",
       "        background-size: auto;\n",
       "    }\n",
       "    progress:not([value]), progress:not([value])::-webkit-progress-bar {\n",
       "        background: repeating-linear-gradient(45deg, #7e7e7e, #7e7e7e 10px, #5c5c5c 10px, #5c5c5c 20px);\n",
       "    }\n",
       "    .progress-bar-interrupted, .progress-bar-interrupted::-webkit-progress-bar {\n",
       "        background: #F44336;\n",
       "    }\n",
       "</style>\n"
      ],
      "text/plain": [
       "<IPython.core.display.HTML object>"
      ]
     },
     "metadata": {},
     "output_type": "display_data"
    },
    {
     "data": {
      "text/html": [
       "\n",
       "    <div>\n",
       "      <progress value='20000' class='' max='20000' style='width:300px; height:20px; vertical-align: middle;'></progress>\n",
       "      100.00% [20000/20000 00:29&lt;00:00 Sampling chain 1, 0 divergences]\n",
       "    </div>\n",
       "    "
      ],
      "text/plain": [
       "<IPython.core.display.HTML object>"
      ]
     },
     "metadata": {},
     "output_type": "display_data"
    },
    {
     "data": {
      "text/html": [
       "\n",
       "<style>\n",
       "    /* Turns off some styling */\n",
       "    progress {\n",
       "        /* gets rid of default border in Firefox and Opera. */\n",
       "        border: none;\n",
       "        /* Needs to be in here for Safari polyfill so background images work as expected. */\n",
       "        background-size: auto;\n",
       "    }\n",
       "    progress:not([value]), progress:not([value])::-webkit-progress-bar {\n",
       "        background: repeating-linear-gradient(45deg, #7e7e7e, #7e7e7e 10px, #5c5c5c 10px, #5c5c5c 20px);\n",
       "    }\n",
       "    .progress-bar-interrupted, .progress-bar-interrupted::-webkit-progress-bar {\n",
       "        background: #F44336;\n",
       "    }\n",
       "</style>\n"
      ],
      "text/plain": [
       "<IPython.core.display.HTML object>"
      ]
     },
     "metadata": {},
     "output_type": "display_data"
    },
    {
     "data": {
      "text/html": [
       "\n",
       "    <div>\n",
       "      <progress value='20000' class='' max='20000' style='width:300px; height:20px; vertical-align: middle;'></progress>\n",
       "      100.00% [20000/20000 00:27&lt;00:00 Sampling chain 2, 0 divergences]\n",
       "    </div>\n",
       "    "
      ],
      "text/plain": [
       "<IPython.core.display.HTML object>"
      ]
     },
     "metadata": {},
     "output_type": "display_data"
    },
    {
     "data": {
      "text/html": [
       "\n",
       "<style>\n",
       "    /* Turns off some styling */\n",
       "    progress {\n",
       "        /* gets rid of default border in Firefox and Opera. */\n",
       "        border: none;\n",
       "        /* Needs to be in here for Safari polyfill so background images work as expected. */\n",
       "        background-size: auto;\n",
       "    }\n",
       "    progress:not([value]), progress:not([value])::-webkit-progress-bar {\n",
       "        background: repeating-linear-gradient(45deg, #7e7e7e, #7e7e7e 10px, #5c5c5c 10px, #5c5c5c 20px);\n",
       "    }\n",
       "    .progress-bar-interrupted, .progress-bar-interrupted::-webkit-progress-bar {\n",
       "        background: #F44336;\n",
       "    }\n",
       "</style>\n"
      ],
      "text/plain": [
       "<IPython.core.display.HTML object>"
      ]
     },
     "metadata": {},
     "output_type": "display_data"
    },
    {
     "data": {
      "text/html": [
       "\n",
       "    <div>\n",
       "      <progress value='20000' class='' max='20000' style='width:300px; height:20px; vertical-align: middle;'></progress>\n",
       "      100.00% [20000/20000 00:34&lt;00:00 Sampling chain 3, 0 divergences]\n",
       "    </div>\n",
       "    "
      ],
      "text/plain": [
       "<IPython.core.display.HTML object>"
      ]
     },
     "metadata": {},
     "output_type": "display_data"
    },
    {
     "name": "stderr",
     "output_type": "stream",
     "text": [
      "Sampling 4 chains for 5_000 tune and 15_000 draw iterations (20_000 + 60_000 draws total) took 121 seconds.\n",
      "The rhat statistic is larger than 1.01 for some parameters. This indicates problems during sampling. See https://arxiv.org/abs/1903.08008 for details\n",
      "The effective sample size per chain is smaller than 100 for some parameters.  A higher number is needed for reliable rhat and ess computation. See https://arxiv.org/abs/1903.08008 for details\n"
     ]
    },
    {
     "name": "stdout",
     "output_type": "stream",
     "text": [
      "          mean     sd  hdi_3%  hdi_97%  mcse_mean  mcse_sd  ess_bulk  \\\n",
      "m1       9.868  1.267   7.548   12.065      0.591    0.453       5.0   \n",
      "m2       0.079  0.001   0.077    0.081      0.000    0.000      19.0   \n",
      "xinter  10.199  0.027  10.157   10.253      0.012    0.009       5.0   \n",
      "sigma    0.096  0.006   0.088    0.109      0.002    0.002       7.0   \n",
      "\n",
      "        ess_tail  r_hat  \n",
      "m1          16.0   2.43  \n",
      "m2         168.0   1.16  \n",
      "xinter      16.0   2.44  \n",
      "sigma       41.0   1.61  \n",
      "Processing SSNB\n",
      "100.0\n"
     ]
    },
    {
     "name": "stderr",
     "output_type": "stream",
     "text": [
      "Sequential sampling (4 chains in 1 job)\n",
      "CompoundStep\n",
      ">Metropolis: [m1]\n",
      ">Metropolis: [m2]\n",
      ">Metropolis: [xinter]\n",
      ">Metropolis: [sigma]\n"
     ]
    },
    {
     "data": {
      "text/html": [
       "\n",
       "<style>\n",
       "    /* Turns off some styling */\n",
       "    progress {\n",
       "        /* gets rid of default border in Firefox and Opera. */\n",
       "        border: none;\n",
       "        /* Needs to be in here for Safari polyfill so background images work as expected. */\n",
       "        background-size: auto;\n",
       "    }\n",
       "    progress:not([value]), progress:not([value])::-webkit-progress-bar {\n",
       "        background: repeating-linear-gradient(45deg, #7e7e7e, #7e7e7e 10px, #5c5c5c 10px, #5c5c5c 20px);\n",
       "    }\n",
       "    .progress-bar-interrupted, .progress-bar-interrupted::-webkit-progress-bar {\n",
       "        background: #F44336;\n",
       "    }\n",
       "</style>\n"
      ],
      "text/plain": [
       "<IPython.core.display.HTML object>"
      ]
     },
     "metadata": {},
     "output_type": "display_data"
    },
    {
     "data": {
      "text/html": [
       "\n",
       "    <div>\n",
       "      <progress value='20000' class='' max='20000' style='width:300px; height:20px; vertical-align: middle;'></progress>\n",
       "      100.00% [20000/20000 00:33&lt;00:00 Sampling chain 0, 0 divergences]\n",
       "    </div>\n",
       "    "
      ],
      "text/plain": [
       "<IPython.core.display.HTML object>"
      ]
     },
     "metadata": {},
     "output_type": "display_data"
    },
    {
     "data": {
      "text/html": [
       "\n",
       "<style>\n",
       "    /* Turns off some styling */\n",
       "    progress {\n",
       "        /* gets rid of default border in Firefox and Opera. */\n",
       "        border: none;\n",
       "        /* Needs to be in here for Safari polyfill so background images work as expected. */\n",
       "        background-size: auto;\n",
       "    }\n",
       "    progress:not([value]), progress:not([value])::-webkit-progress-bar {\n",
       "        background: repeating-linear-gradient(45deg, #7e7e7e, #7e7e7e 10px, #5c5c5c 10px, #5c5c5c 20px);\n",
       "    }\n",
       "    .progress-bar-interrupted, .progress-bar-interrupted::-webkit-progress-bar {\n",
       "        background: #F44336;\n",
       "    }\n",
       "</style>\n"
      ],
      "text/plain": [
       "<IPython.core.display.HTML object>"
      ]
     },
     "metadata": {},
     "output_type": "display_data"
    },
    {
     "data": {
      "text/html": [
       "\n",
       "    <div>\n",
       "      <progress value='20000' class='' max='20000' style='width:300px; height:20px; vertical-align: middle;'></progress>\n",
       "      100.00% [20000/20000 00:28&lt;00:00 Sampling chain 1, 0 divergences]\n",
       "    </div>\n",
       "    "
      ],
      "text/plain": [
       "<IPython.core.display.HTML object>"
      ]
     },
     "metadata": {},
     "output_type": "display_data"
    },
    {
     "data": {
      "text/html": [
       "\n",
       "<style>\n",
       "    /* Turns off some styling */\n",
       "    progress {\n",
       "        /* gets rid of default border in Firefox and Opera. */\n",
       "        border: none;\n",
       "        /* Needs to be in here for Safari polyfill so background images work as expected. */\n",
       "        background-size: auto;\n",
       "    }\n",
       "    progress:not([value]), progress:not([value])::-webkit-progress-bar {\n",
       "        background: repeating-linear-gradient(45deg, #7e7e7e, #7e7e7e 10px, #5c5c5c 10px, #5c5c5c 20px);\n",
       "    }\n",
       "    .progress-bar-interrupted, .progress-bar-interrupted::-webkit-progress-bar {\n",
       "        background: #F44336;\n",
       "    }\n",
       "</style>\n"
      ],
      "text/plain": [
       "<IPython.core.display.HTML object>"
      ]
     },
     "metadata": {},
     "output_type": "display_data"
    },
    {
     "data": {
      "text/html": [
       "\n",
       "    <div>\n",
       "      <progress value='20000' class='' max='20000' style='width:300px; height:20px; vertical-align: middle;'></progress>\n",
       "      100.00% [20000/20000 00:27&lt;00:00 Sampling chain 2, 0 divergences]\n",
       "    </div>\n",
       "    "
      ],
      "text/plain": [
       "<IPython.core.display.HTML object>"
      ]
     },
     "metadata": {},
     "output_type": "display_data"
    },
    {
     "data": {
      "text/html": [
       "\n",
       "<style>\n",
       "    /* Turns off some styling */\n",
       "    progress {\n",
       "        /* gets rid of default border in Firefox and Opera. */\n",
       "        border: none;\n",
       "        /* Needs to be in here for Safari polyfill so background images work as expected. */\n",
       "        background-size: auto;\n",
       "    }\n",
       "    progress:not([value]), progress:not([value])::-webkit-progress-bar {\n",
       "        background: repeating-linear-gradient(45deg, #7e7e7e, #7e7e7e 10px, #5c5c5c 10px, #5c5c5c 20px);\n",
       "    }\n",
       "    .progress-bar-interrupted, .progress-bar-interrupted::-webkit-progress-bar {\n",
       "        background: #F44336;\n",
       "    }\n",
       "</style>\n"
      ],
      "text/plain": [
       "<IPython.core.display.HTML object>"
      ]
     },
     "metadata": {},
     "output_type": "display_data"
    },
    {
     "data": {
      "text/html": [
       "\n",
       "    <div>\n",
       "      <progress value='20000' class='' max='20000' style='width:300px; height:20px; vertical-align: middle;'></progress>\n",
       "      100.00% [20000/20000 00:27&lt;00:00 Sampling chain 3, 0 divergences]\n",
       "    </div>\n",
       "    "
      ],
      "text/plain": [
       "<IPython.core.display.HTML object>"
      ]
     },
     "metadata": {},
     "output_type": "display_data"
    },
    {
     "name": "stderr",
     "output_type": "stream",
     "text": [
      "Sampling 4 chains for 5_000 tune and 15_000 draw iterations (20_000 + 60_000 draws total) took 117 seconds.\n",
      "The rhat statistic is larger than 1.01 for some parameters. This indicates problems during sampling. See https://arxiv.org/abs/1903.08008 for details\n",
      "The effective sample size per chain is smaller than 100 for some parameters.  A higher number is needed for reliable rhat and ess computation. See https://arxiv.org/abs/1903.08008 for details\n"
     ]
    },
    {
     "name": "stdout",
     "output_type": "stream",
     "text": [
      "          mean     sd  hdi_3%  hdi_97%  mcse_mean  mcse_sd  ess_bulk  \\\n",
      "m1       8.370  0.217   7.909    8.753      0.066    0.048      11.0   \n",
      "m2       0.229  0.003   0.223    0.234      0.000    0.000     294.0   \n",
      "xinter  10.201  0.006  10.190   10.212      0.002    0.001      11.0   \n",
      "sigma    0.095  0.003   0.089    0.101      0.000    0.000    6594.0   \n",
      "\n",
      "        ess_tail  r_hat  \n",
      "m1          20.0   1.29  \n",
      "m2         471.0   1.02  \n",
      "xinter      21.0   1.29  \n",
      "sigma    12257.0   1.00  \n",
      "Processing ZANB\n",
      "100.0\n"
     ]
    },
    {
     "name": "stderr",
     "output_type": "stream",
     "text": [
      "Sequential sampling (4 chains in 1 job)\n",
      "CompoundStep\n",
      ">Metropolis: [m1]\n",
      ">Metropolis: [m2]\n",
      ">Metropolis: [xinter]\n",
      ">Metropolis: [sigma]\n"
     ]
    },
    {
     "data": {
      "text/html": [
       "\n",
       "<style>\n",
       "    /* Turns off some styling */\n",
       "    progress {\n",
       "        /* gets rid of default border in Firefox and Opera. */\n",
       "        border: none;\n",
       "        /* Needs to be in here for Safari polyfill so background images work as expected. */\n",
       "        background-size: auto;\n",
       "    }\n",
       "    progress:not([value]), progress:not([value])::-webkit-progress-bar {\n",
       "        background: repeating-linear-gradient(45deg, #7e7e7e, #7e7e7e 10px, #5c5c5c 10px, #5c5c5c 20px);\n",
       "    }\n",
       "    .progress-bar-interrupted, .progress-bar-interrupted::-webkit-progress-bar {\n",
       "        background: #F44336;\n",
       "    }\n",
       "</style>\n"
      ],
      "text/plain": [
       "<IPython.core.display.HTML object>"
      ]
     },
     "metadata": {},
     "output_type": "display_data"
    },
    {
     "data": {
      "text/html": [
       "\n",
       "    <div>\n",
       "      <progress value='20000' class='' max='20000' style='width:300px; height:20px; vertical-align: middle;'></progress>\n",
       "      100.00% [20000/20000 00:27&lt;00:00 Sampling chain 0, 0 divergences]\n",
       "    </div>\n",
       "    "
      ],
      "text/plain": [
       "<IPython.core.display.HTML object>"
      ]
     },
     "metadata": {},
     "output_type": "display_data"
    },
    {
     "data": {
      "text/html": [
       "\n",
       "<style>\n",
       "    /* Turns off some styling */\n",
       "    progress {\n",
       "        /* gets rid of default border in Firefox and Opera. */\n",
       "        border: none;\n",
       "        /* Needs to be in here for Safari polyfill so background images work as expected. */\n",
       "        background-size: auto;\n",
       "    }\n",
       "    progress:not([value]), progress:not([value])::-webkit-progress-bar {\n",
       "        background: repeating-linear-gradient(45deg, #7e7e7e, #7e7e7e 10px, #5c5c5c 10px, #5c5c5c 20px);\n",
       "    }\n",
       "    .progress-bar-interrupted, .progress-bar-interrupted::-webkit-progress-bar {\n",
       "        background: #F44336;\n",
       "    }\n",
       "</style>\n"
      ],
      "text/plain": [
       "<IPython.core.display.HTML object>"
      ]
     },
     "metadata": {},
     "output_type": "display_data"
    },
    {
     "data": {
      "text/html": [
       "\n",
       "    <div>\n",
       "      <progress value='20000' class='' max='20000' style='width:300px; height:20px; vertical-align: middle;'></progress>\n",
       "      100.00% [20000/20000 00:28&lt;00:00 Sampling chain 1, 0 divergences]\n",
       "    </div>\n",
       "    "
      ],
      "text/plain": [
       "<IPython.core.display.HTML object>"
      ]
     },
     "metadata": {},
     "output_type": "display_data"
    },
    {
     "data": {
      "text/html": [
       "\n",
       "<style>\n",
       "    /* Turns off some styling */\n",
       "    progress {\n",
       "        /* gets rid of default border in Firefox and Opera. */\n",
       "        border: none;\n",
       "        /* Needs to be in here for Safari polyfill so background images work as expected. */\n",
       "        background-size: auto;\n",
       "    }\n",
       "    progress:not([value]), progress:not([value])::-webkit-progress-bar {\n",
       "        background: repeating-linear-gradient(45deg, #7e7e7e, #7e7e7e 10px, #5c5c5c 10px, #5c5c5c 20px);\n",
       "    }\n",
       "    .progress-bar-interrupted, .progress-bar-interrupted::-webkit-progress-bar {\n",
       "        background: #F44336;\n",
       "    }\n",
       "</style>\n"
      ],
      "text/plain": [
       "<IPython.core.display.HTML object>"
      ]
     },
     "metadata": {},
     "output_type": "display_data"
    },
    {
     "data": {
      "text/html": [
       "\n",
       "    <div>\n",
       "      <progress value='20000' class='' max='20000' style='width:300px; height:20px; vertical-align: middle;'></progress>\n",
       "      100.00% [20000/20000 00:28&lt;00:00 Sampling chain 2, 0 divergences]\n",
       "    </div>\n",
       "    "
      ],
      "text/plain": [
       "<IPython.core.display.HTML object>"
      ]
     },
     "metadata": {},
     "output_type": "display_data"
    },
    {
     "data": {
      "text/html": [
       "\n",
       "<style>\n",
       "    /* Turns off some styling */\n",
       "    progress {\n",
       "        /* gets rid of default border in Firefox and Opera. */\n",
       "        border: none;\n",
       "        /* Needs to be in here for Safari polyfill so background images work as expected. */\n",
       "        background-size: auto;\n",
       "    }\n",
       "    progress:not([value]), progress:not([value])::-webkit-progress-bar {\n",
       "        background: repeating-linear-gradient(45deg, #7e7e7e, #7e7e7e 10px, #5c5c5c 10px, #5c5c5c 20px);\n",
       "    }\n",
       "    .progress-bar-interrupted, .progress-bar-interrupted::-webkit-progress-bar {\n",
       "        background: #F44336;\n",
       "    }\n",
       "</style>\n"
      ],
      "text/plain": [
       "<IPython.core.display.HTML object>"
      ]
     },
     "metadata": {},
     "output_type": "display_data"
    },
    {
     "data": {
      "text/html": [
       "\n",
       "    <div>\n",
       "      <progress value='20000' class='' max='20000' style='width:300px; height:20px; vertical-align: middle;'></progress>\n",
       "      100.00% [20000/20000 00:27&lt;00:00 Sampling chain 3, 0 divergences]\n",
       "    </div>\n",
       "    "
      ],
      "text/plain": [
       "<IPython.core.display.HTML object>"
      ]
     },
     "metadata": {},
     "output_type": "display_data"
    },
    {
     "name": "stderr",
     "output_type": "stream",
     "text": [
      "Sampling 4 chains for 5_000 tune and 15_000 draw iterations (20_000 + 60_000 draws total) took 112 seconds.\n",
      "The rhat statistic is larger than 1.01 for some parameters. This indicates problems during sampling. See https://arxiv.org/abs/1903.08008 for details\n",
      "The effective sample size per chain is smaller than 100 for some parameters.  A higher number is needed for reliable rhat and ess computation. See https://arxiv.org/abs/1903.08008 for details\n"
     ]
    },
    {
     "name": "stdout",
     "output_type": "stream",
     "text": [
      "          mean     sd  hdi_3%  hdi_97%  mcse_mean  mcse_sd  ess_bulk  \\\n",
      "m1      16.232  2.814  11.395   19.998      1.321    1.022       5.0   \n",
      "m2       0.064  0.002   0.061    0.068      0.001    0.000       9.0   \n",
      "xinter  10.178  0.034  10.138   10.246      0.015    0.012       5.0   \n",
      "sigma    0.106  0.019   0.083    0.146      0.008    0.006       5.0   \n",
      "\n",
      "        ess_tail  r_hat  \n",
      "m1          29.0   2.40  \n",
      "m2          44.0   1.38  \n",
      "xinter      31.0   2.39  \n",
      "sigma       27.0   2.31  \n",
      "Processing FBRB\n",
      "100.0\n"
     ]
    },
    {
     "name": "stderr",
     "output_type": "stream",
     "text": [
      "Sequential sampling (4 chains in 1 job)\n",
      "CompoundStep\n",
      ">Metropolis: [m1]\n",
      ">Metropolis: [m2]\n",
      ">Metropolis: [xinter]\n",
      ">Metropolis: [sigma]\n"
     ]
    },
    {
     "data": {
      "text/html": [
       "\n",
       "<style>\n",
       "    /* Turns off some styling */\n",
       "    progress {\n",
       "        /* gets rid of default border in Firefox and Opera. */\n",
       "        border: none;\n",
       "        /* Needs to be in here for Safari polyfill so background images work as expected. */\n",
       "        background-size: auto;\n",
       "    }\n",
       "    progress:not([value]), progress:not([value])::-webkit-progress-bar {\n",
       "        background: repeating-linear-gradient(45deg, #7e7e7e, #7e7e7e 10px, #5c5c5c 10px, #5c5c5c 20px);\n",
       "    }\n",
       "    .progress-bar-interrupted, .progress-bar-interrupted::-webkit-progress-bar {\n",
       "        background: #F44336;\n",
       "    }\n",
       "</style>\n"
      ],
      "text/plain": [
       "<IPython.core.display.HTML object>"
      ]
     },
     "metadata": {},
     "output_type": "display_data"
    },
    {
     "data": {
      "text/html": [
       "\n",
       "    <div>\n",
       "      <progress value='20000' class='' max='20000' style='width:300px; height:20px; vertical-align: middle;'></progress>\n",
       "      100.00% [20000/20000 00:32&lt;00:00 Sampling chain 0, 0 divergences]\n",
       "    </div>\n",
       "    "
      ],
      "text/plain": [
       "<IPython.core.display.HTML object>"
      ]
     },
     "metadata": {},
     "output_type": "display_data"
    },
    {
     "data": {
      "text/html": [
       "\n",
       "<style>\n",
       "    /* Turns off some styling */\n",
       "    progress {\n",
       "        /* gets rid of default border in Firefox and Opera. */\n",
       "        border: none;\n",
       "        /* Needs to be in here for Safari polyfill so background images work as expected. */\n",
       "        background-size: auto;\n",
       "    }\n",
       "    progress:not([value]), progress:not([value])::-webkit-progress-bar {\n",
       "        background: repeating-linear-gradient(45deg, #7e7e7e, #7e7e7e 10px, #5c5c5c 10px, #5c5c5c 20px);\n",
       "    }\n",
       "    .progress-bar-interrupted, .progress-bar-interrupted::-webkit-progress-bar {\n",
       "        background: #F44336;\n",
       "    }\n",
       "</style>\n"
      ],
      "text/plain": [
       "<IPython.core.display.HTML object>"
      ]
     },
     "metadata": {},
     "output_type": "display_data"
    },
    {
     "data": {
      "text/html": [
       "\n",
       "    <div>\n",
       "      <progress value='20000' class='' max='20000' style='width:300px; height:20px; vertical-align: middle;'></progress>\n",
       "      100.00% [20000/20000 00:29&lt;00:00 Sampling chain 1, 0 divergences]\n",
       "    </div>\n",
       "    "
      ],
      "text/plain": [
       "<IPython.core.display.HTML object>"
      ]
     },
     "metadata": {},
     "output_type": "display_data"
    },
    {
     "data": {
      "text/html": [
       "\n",
       "<style>\n",
       "    /* Turns off some styling */\n",
       "    progress {\n",
       "        /* gets rid of default border in Firefox and Opera. */\n",
       "        border: none;\n",
       "        /* Needs to be in here for Safari polyfill so background images work as expected. */\n",
       "        background-size: auto;\n",
       "    }\n",
       "    progress:not([value]), progress:not([value])::-webkit-progress-bar {\n",
       "        background: repeating-linear-gradient(45deg, #7e7e7e, #7e7e7e 10px, #5c5c5c 10px, #5c5c5c 20px);\n",
       "    }\n",
       "    .progress-bar-interrupted, .progress-bar-interrupted::-webkit-progress-bar {\n",
       "        background: #F44336;\n",
       "    }\n",
       "</style>\n"
      ],
      "text/plain": [
       "<IPython.core.display.HTML object>"
      ]
     },
     "metadata": {},
     "output_type": "display_data"
    },
    {
     "data": {
      "text/html": [
       "\n",
       "    <div>\n",
       "      <progress value='20000' class='' max='20000' style='width:300px; height:20px; vertical-align: middle;'></progress>\n",
       "      100.00% [20000/20000 00:30&lt;00:00 Sampling chain 2, 0 divergences]\n",
       "    </div>\n",
       "    "
      ],
      "text/plain": [
       "<IPython.core.display.HTML object>"
      ]
     },
     "metadata": {},
     "output_type": "display_data"
    },
    {
     "data": {
      "text/html": [
       "\n",
       "<style>\n",
       "    /* Turns off some styling */\n",
       "    progress {\n",
       "        /* gets rid of default border in Firefox and Opera. */\n",
       "        border: none;\n",
       "        /* Needs to be in here for Safari polyfill so background images work as expected. */\n",
       "        background-size: auto;\n",
       "    }\n",
       "    progress:not([value]), progress:not([value])::-webkit-progress-bar {\n",
       "        background: repeating-linear-gradient(45deg, #7e7e7e, #7e7e7e 10px, #5c5c5c 10px, #5c5c5c 20px);\n",
       "    }\n",
       "    .progress-bar-interrupted, .progress-bar-interrupted::-webkit-progress-bar {\n",
       "        background: #F44336;\n",
       "    }\n",
       "</style>\n"
      ],
      "text/plain": [
       "<IPython.core.display.HTML object>"
      ]
     },
     "metadata": {},
     "output_type": "display_data"
    },
    {
     "data": {
      "text/html": [
       "\n",
       "    <div>\n",
       "      <progress value='20000' class='' max='20000' style='width:300px; height:20px; vertical-align: middle;'></progress>\n",
       "      100.00% [20000/20000 00:29&lt;00:00 Sampling chain 3, 0 divergences]\n",
       "    </div>\n",
       "    "
      ],
      "text/plain": [
       "<IPython.core.display.HTML object>"
      ]
     },
     "metadata": {},
     "output_type": "display_data"
    },
    {
     "name": "stderr",
     "output_type": "stream",
     "text": [
      "Sampling 4 chains for 5_000 tune and 15_000 draw iterations (20_000 + 60_000 draws total) took 121 seconds.\n",
      "The rhat statistic is larger than 1.01 for some parameters. This indicates problems during sampling. See https://arxiv.org/abs/1903.08008 for details\n",
      "The effective sample size per chain is smaller than 100 for some parameters.  A higher number is needed for reliable rhat and ess computation. See https://arxiv.org/abs/1903.08008 for details\n"
     ]
    },
    {
     "name": "stdout",
     "output_type": "stream",
     "text": [
      "          mean     sd  hdi_3%  hdi_97%  mcse_mean  mcse_sd  ess_bulk  \\\n",
      "m1       1.610  0.051   1.507    1.682      0.022    0.017       5.0   \n",
      "m2       0.076  0.001   0.075    0.077      0.000    0.000      16.0   \n",
      "xinter  11.238  0.045  11.173   11.326      0.019    0.015       5.0   \n",
      "sigma    0.117  0.002   0.114    0.121      0.000    0.000      54.0   \n",
      "\n",
      "        ess_tail  r_hat  \n",
      "m1          24.0   2.14  \n",
      "m2          40.0   1.19  \n",
      "xinter      26.0   2.13  \n",
      "sigma      124.0   1.05  \n",
      "Processing SSTB\n",
      "100.0\n"
     ]
    },
    {
     "name": "stderr",
     "output_type": "stream",
     "text": [
      "Sequential sampling (4 chains in 1 job)\n",
      "CompoundStep\n",
      ">Metropolis: [m1]\n",
      ">Metropolis: [m2]\n",
      ">Metropolis: [xinter]\n",
      ">Metropolis: [sigma]\n"
     ]
    },
    {
     "data": {
      "text/html": [
       "\n",
       "<style>\n",
       "    /* Turns off some styling */\n",
       "    progress {\n",
       "        /* gets rid of default border in Firefox and Opera. */\n",
       "        border: none;\n",
       "        /* Needs to be in here for Safari polyfill so background images work as expected. */\n",
       "        background-size: auto;\n",
       "    }\n",
       "    progress:not([value]), progress:not([value])::-webkit-progress-bar {\n",
       "        background: repeating-linear-gradient(45deg, #7e7e7e, #7e7e7e 10px, #5c5c5c 10px, #5c5c5c 20px);\n",
       "    }\n",
       "    .progress-bar-interrupted, .progress-bar-interrupted::-webkit-progress-bar {\n",
       "        background: #F44336;\n",
       "    }\n",
       "</style>\n"
      ],
      "text/plain": [
       "<IPython.core.display.HTML object>"
      ]
     },
     "metadata": {},
     "output_type": "display_data"
    },
    {
     "data": {
      "text/html": [
       "\n",
       "    <div>\n",
       "      <progress value='20000' class='' max='20000' style='width:300px; height:20px; vertical-align: middle;'></progress>\n",
       "      100.00% [20000/20000 00:31&lt;00:00 Sampling chain 0, 0 divergences]\n",
       "    </div>\n",
       "    "
      ],
      "text/plain": [
       "<IPython.core.display.HTML object>"
      ]
     },
     "metadata": {},
     "output_type": "display_data"
    },
    {
     "data": {
      "text/html": [
       "\n",
       "<style>\n",
       "    /* Turns off some styling */\n",
       "    progress {\n",
       "        /* gets rid of default border in Firefox and Opera. */\n",
       "        border: none;\n",
       "        /* Needs to be in here for Safari polyfill so background images work as expected. */\n",
       "        background-size: auto;\n",
       "    }\n",
       "    progress:not([value]), progress:not([value])::-webkit-progress-bar {\n",
       "        background: repeating-linear-gradient(45deg, #7e7e7e, #7e7e7e 10px, #5c5c5c 10px, #5c5c5c 20px);\n",
       "    }\n",
       "    .progress-bar-interrupted, .progress-bar-interrupted::-webkit-progress-bar {\n",
       "        background: #F44336;\n",
       "    }\n",
       "</style>\n"
      ],
      "text/plain": [
       "<IPython.core.display.HTML object>"
      ]
     },
     "metadata": {},
     "output_type": "display_data"
    },
    {
     "data": {
      "text/html": [
       "\n",
       "    <div>\n",
       "      <progress value='20000' class='' max='20000' style='width:300px; height:20px; vertical-align: middle;'></progress>\n",
       "      100.00% [20000/20000 00:31&lt;00:00 Sampling chain 1, 0 divergences]\n",
       "    </div>\n",
       "    "
      ],
      "text/plain": [
       "<IPython.core.display.HTML object>"
      ]
     },
     "metadata": {},
     "output_type": "display_data"
    },
    {
     "data": {
      "text/html": [
       "\n",
       "<style>\n",
       "    /* Turns off some styling */\n",
       "    progress {\n",
       "        /* gets rid of default border in Firefox and Opera. */\n",
       "        border: none;\n",
       "        /* Needs to be in here for Safari polyfill so background images work as expected. */\n",
       "        background-size: auto;\n",
       "    }\n",
       "    progress:not([value]), progress:not([value])::-webkit-progress-bar {\n",
       "        background: repeating-linear-gradient(45deg, #7e7e7e, #7e7e7e 10px, #5c5c5c 10px, #5c5c5c 20px);\n",
       "    }\n",
       "    .progress-bar-interrupted, .progress-bar-interrupted::-webkit-progress-bar {\n",
       "        background: #F44336;\n",
       "    }\n",
       "</style>\n"
      ],
      "text/plain": [
       "<IPython.core.display.HTML object>"
      ]
     },
     "metadata": {},
     "output_type": "display_data"
    },
    {
     "data": {
      "text/html": [
       "\n",
       "    <div>\n",
       "      <progress value='20000' class='' max='20000' style='width:300px; height:20px; vertical-align: middle;'></progress>\n",
       "      100.00% [20000/20000 00:30&lt;00:00 Sampling chain 2, 0 divergences]\n",
       "    </div>\n",
       "    "
      ],
      "text/plain": [
       "<IPython.core.display.HTML object>"
      ]
     },
     "metadata": {},
     "output_type": "display_data"
    },
    {
     "data": {
      "text/html": [
       "\n",
       "<style>\n",
       "    /* Turns off some styling */\n",
       "    progress {\n",
       "        /* gets rid of default border in Firefox and Opera. */\n",
       "        border: none;\n",
       "        /* Needs to be in here for Safari polyfill so background images work as expected. */\n",
       "        background-size: auto;\n",
       "    }\n",
       "    progress:not([value]), progress:not([value])::-webkit-progress-bar {\n",
       "        background: repeating-linear-gradient(45deg, #7e7e7e, #7e7e7e 10px, #5c5c5c 10px, #5c5c5c 20px);\n",
       "    }\n",
       "    .progress-bar-interrupted, .progress-bar-interrupted::-webkit-progress-bar {\n",
       "        background: #F44336;\n",
       "    }\n",
       "</style>\n"
      ],
      "text/plain": [
       "<IPython.core.display.HTML object>"
      ]
     },
     "metadata": {},
     "output_type": "display_data"
    },
    {
     "data": {
      "text/html": [
       "\n",
       "    <div>\n",
       "      <progress value='20000' class='' max='20000' style='width:300px; height:20px; vertical-align: middle;'></progress>\n",
       "      100.00% [20000/20000 00:32&lt;00:00 Sampling chain 3, 0 divergences]\n",
       "    </div>\n",
       "    "
      ],
      "text/plain": [
       "<IPython.core.display.HTML object>"
      ]
     },
     "metadata": {},
     "output_type": "display_data"
    },
    {
     "name": "stderr",
     "output_type": "stream",
     "text": [
      "Sampling 4 chains for 5_000 tune and 15_000 draw iterations (20_000 + 60_000 draws total) took 126 seconds.\n",
      "The rhat statistic is larger than 1.01 for some parameters. This indicates problems during sampling. See https://arxiv.org/abs/1903.08008 for details\n",
      "The effective sample size per chain is smaller than 100 for some parameters.  A higher number is needed for reliable rhat and ess computation. See https://arxiv.org/abs/1903.08008 for details\n"
     ]
    },
    {
     "name": "stdout",
     "output_type": "stream",
     "text": [
      "          mean     sd  hdi_3%  hdi_97%  mcse_mean  mcse_sd  ess_bulk  \\\n",
      "m1       7.684  3.462   4.216   14.766      1.707    1.308       5.0   \n",
      "m2       0.075  0.001   0.074    0.076      0.000    0.000       8.0   \n",
      "xinter  10.335  0.121  10.145   10.521      0.057    0.044       5.0   \n",
      "sigma    0.125  0.023   0.091    0.162      0.011    0.008       5.0   \n",
      "\n",
      "        ess_tail  r_hat  \n",
      "m1          15.0   2.64  \n",
      "m2          28.0   1.49  \n",
      "xinter      14.0   2.64  \n",
      "sigma       21.0   2.40  \n",
      "Processing DONB\n",
      "20.0\n"
     ]
    },
    {
     "name": "stderr",
     "output_type": "stream",
     "text": [
      "Sequential sampling (4 chains in 1 job)\n",
      "CompoundStep\n",
      ">Metropolis: [m1]\n",
      ">Metropolis: [m2]\n",
      ">Metropolis: [xinter]\n",
      ">Metropolis: [sigma]\n"
     ]
    },
    {
     "data": {
      "text/html": [
       "\n",
       "<style>\n",
       "    /* Turns off some styling */\n",
       "    progress {\n",
       "        /* gets rid of default border in Firefox and Opera. */\n",
       "        border: none;\n",
       "        /* Needs to be in here for Safari polyfill so background images work as expected. */\n",
       "        background-size: auto;\n",
       "    }\n",
       "    progress:not([value]), progress:not([value])::-webkit-progress-bar {\n",
       "        background: repeating-linear-gradient(45deg, #7e7e7e, #7e7e7e 10px, #5c5c5c 10px, #5c5c5c 20px);\n",
       "    }\n",
       "    .progress-bar-interrupted, .progress-bar-interrupted::-webkit-progress-bar {\n",
       "        background: #F44336;\n",
       "    }\n",
       "</style>\n"
      ],
      "text/plain": [
       "<IPython.core.display.HTML object>"
      ]
     },
     "metadata": {},
     "output_type": "display_data"
    },
    {
     "data": {
      "text/html": [
       "\n",
       "    <div>\n",
       "      <progress value='20000' class='' max='20000' style='width:300px; height:20px; vertical-align: middle;'></progress>\n",
       "      100.00% [20000/20000 00:31&lt;00:00 Sampling chain 0, 0 divergences]\n",
       "    </div>\n",
       "    "
      ],
      "text/plain": [
       "<IPython.core.display.HTML object>"
      ]
     },
     "metadata": {},
     "output_type": "display_data"
    },
    {
     "data": {
      "text/html": [
       "\n",
       "<style>\n",
       "    /* Turns off some styling */\n",
       "    progress {\n",
       "        /* gets rid of default border in Firefox and Opera. */\n",
       "        border: none;\n",
       "        /* Needs to be in here for Safari polyfill so background images work as expected. */\n",
       "        background-size: auto;\n",
       "    }\n",
       "    progress:not([value]), progress:not([value])::-webkit-progress-bar {\n",
       "        background: repeating-linear-gradient(45deg, #7e7e7e, #7e7e7e 10px, #5c5c5c 10px, #5c5c5c 20px);\n",
       "    }\n",
       "    .progress-bar-interrupted, .progress-bar-interrupted::-webkit-progress-bar {\n",
       "        background: #F44336;\n",
       "    }\n",
       "</style>\n"
      ],
      "text/plain": [
       "<IPython.core.display.HTML object>"
      ]
     },
     "metadata": {},
     "output_type": "display_data"
    },
    {
     "data": {
      "text/html": [
       "\n",
       "    <div>\n",
       "      <progress value='20000' class='' max='20000' style='width:300px; height:20px; vertical-align: middle;'></progress>\n",
       "      100.00% [20000/20000 00:29&lt;00:00 Sampling chain 1, 0 divergences]\n",
       "    </div>\n",
       "    "
      ],
      "text/plain": [
       "<IPython.core.display.HTML object>"
      ]
     },
     "metadata": {},
     "output_type": "display_data"
    },
    {
     "data": {
      "text/html": [
       "\n",
       "<style>\n",
       "    /* Turns off some styling */\n",
       "    progress {\n",
       "        /* gets rid of default border in Firefox and Opera. */\n",
       "        border: none;\n",
       "        /* Needs to be in here for Safari polyfill so background images work as expected. */\n",
       "        background-size: auto;\n",
       "    }\n",
       "    progress:not([value]), progress:not([value])::-webkit-progress-bar {\n",
       "        background: repeating-linear-gradient(45deg, #7e7e7e, #7e7e7e 10px, #5c5c5c 10px, #5c5c5c 20px);\n",
       "    }\n",
       "    .progress-bar-interrupted, .progress-bar-interrupted::-webkit-progress-bar {\n",
       "        background: #F44336;\n",
       "    }\n",
       "</style>\n"
      ],
      "text/plain": [
       "<IPython.core.display.HTML object>"
      ]
     },
     "metadata": {},
     "output_type": "display_data"
    },
    {
     "data": {
      "text/html": [
       "\n",
       "    <div>\n",
       "      <progress value='20000' class='' max='20000' style='width:300px; height:20px; vertical-align: middle;'></progress>\n",
       "      100.00% [20000/20000 00:28&lt;00:00 Sampling chain 2, 0 divergences]\n",
       "    </div>\n",
       "    "
      ],
      "text/plain": [
       "<IPython.core.display.HTML object>"
      ]
     },
     "metadata": {},
     "output_type": "display_data"
    },
    {
     "data": {
      "text/html": [
       "\n",
       "<style>\n",
       "    /* Turns off some styling */\n",
       "    progress {\n",
       "        /* gets rid of default border in Firefox and Opera. */\n",
       "        border: none;\n",
       "        /* Needs to be in here for Safari polyfill so background images work as expected. */\n",
       "        background-size: auto;\n",
       "    }\n",
       "    progress:not([value]), progress:not([value])::-webkit-progress-bar {\n",
       "        background: repeating-linear-gradient(45deg, #7e7e7e, #7e7e7e 10px, #5c5c5c 10px, #5c5c5c 20px);\n",
       "    }\n",
       "    .progress-bar-interrupted, .progress-bar-interrupted::-webkit-progress-bar {\n",
       "        background: #F44336;\n",
       "    }\n",
       "</style>\n"
      ],
      "text/plain": [
       "<IPython.core.display.HTML object>"
      ]
     },
     "metadata": {},
     "output_type": "display_data"
    },
    {
     "data": {
      "text/html": [
       "\n",
       "    <div>\n",
       "      <progress value='20000' class='' max='20000' style='width:300px; height:20px; vertical-align: middle;'></progress>\n",
       "      100.00% [20000/20000 00:32&lt;00:00 Sampling chain 3, 0 divergences]\n",
       "    </div>\n",
       "    "
      ],
      "text/plain": [
       "<IPython.core.display.HTML object>"
      ]
     },
     "metadata": {},
     "output_type": "display_data"
    },
    {
     "name": "stderr",
     "output_type": "stream",
     "text": [
      "Sampling 4 chains for 5_000 tune and 15_000 draw iterations (20_000 + 60_000 draws total) took 122 seconds.\n",
      "The rhat statistic is larger than 1.01 for some parameters. This indicates problems during sampling. See https://arxiv.org/abs/1903.08008 for details\n",
      "The effective sample size per chain is smaller than 100 for some parameters.  A higher number is needed for reliable rhat and ess computation. See https://arxiv.org/abs/1903.08008 for details\n"
     ]
    },
    {
     "name": "stdout",
     "output_type": "stream",
     "text": [
      "          mean     sd  hdi_3%  hdi_97%  mcse_mean  mcse_sd  ess_bulk  \\\n",
      "m1       1.034  0.053   0.947    1.153      0.016    0.012      13.0   \n",
      "m2       0.077  0.002   0.074    0.080      0.000    0.000     114.0   \n",
      "xinter  11.412  0.084  11.238   11.557      0.024    0.018      13.0   \n",
      "sigma    0.162  0.006   0.151    0.173      0.000    0.000   13006.0   \n",
      "\n",
      "        ess_tail  r_hat  \n",
      "m1          20.0   1.25  \n",
      "m2         189.0   1.04  \n",
      "xinter      17.0   1.24  \n",
      "sigma    14481.0   1.00  \n",
      "2018-02-04_M6.1\n",
      "2018 sta typo BCWB\n",
      "Skipping BCWB, no data\n",
      "Processing TRKB\n",
      "20.0\n"
     ]
    },
    {
     "name": "stderr",
     "output_type": "stream",
     "text": [
      "Sequential sampling (4 chains in 1 job)\n",
      "CompoundStep\n",
      ">Metropolis: [m1]\n",
      ">Metropolis: [m2]\n",
      ">Metropolis: [xinter]\n",
      ">Metropolis: [sigma]\n"
     ]
    },
    {
     "data": {
      "text/html": [
       "\n",
       "<style>\n",
       "    /* Turns off some styling */\n",
       "    progress {\n",
       "        /* gets rid of default border in Firefox and Opera. */\n",
       "        border: none;\n",
       "        /* Needs to be in here for Safari polyfill so background images work as expected. */\n",
       "        background-size: auto;\n",
       "    }\n",
       "    progress:not([value]), progress:not([value])::-webkit-progress-bar {\n",
       "        background: repeating-linear-gradient(45deg, #7e7e7e, #7e7e7e 10px, #5c5c5c 10px, #5c5c5c 20px);\n",
       "    }\n",
       "    .progress-bar-interrupted, .progress-bar-interrupted::-webkit-progress-bar {\n",
       "        background: #F44336;\n",
       "    }\n",
       "</style>\n"
      ],
      "text/plain": [
       "<IPython.core.display.HTML object>"
      ]
     },
     "metadata": {},
     "output_type": "display_data"
    },
    {
     "data": {
      "text/html": [
       "\n",
       "    <div>\n",
       "      <progress value='20000' class='' max='20000' style='width:300px; height:20px; vertical-align: middle;'></progress>\n",
       "      100.00% [20000/20000 00:29&lt;00:00 Sampling chain 0, 0 divergences]\n",
       "    </div>\n",
       "    "
      ],
      "text/plain": [
       "<IPython.core.display.HTML object>"
      ]
     },
     "metadata": {},
     "output_type": "display_data"
    },
    {
     "data": {
      "text/html": [
       "\n",
       "<style>\n",
       "    /* Turns off some styling */\n",
       "    progress {\n",
       "        /* gets rid of default border in Firefox and Opera. */\n",
       "        border: none;\n",
       "        /* Needs to be in here for Safari polyfill so background images work as expected. */\n",
       "        background-size: auto;\n",
       "    }\n",
       "    progress:not([value]), progress:not([value])::-webkit-progress-bar {\n",
       "        background: repeating-linear-gradient(45deg, #7e7e7e, #7e7e7e 10px, #5c5c5c 10px, #5c5c5c 20px);\n",
       "    }\n",
       "    .progress-bar-interrupted, .progress-bar-interrupted::-webkit-progress-bar {\n",
       "        background: #F44336;\n",
       "    }\n",
       "</style>\n"
      ],
      "text/plain": [
       "<IPython.core.display.HTML object>"
      ]
     },
     "metadata": {},
     "output_type": "display_data"
    },
    {
     "data": {
      "text/html": [
       "\n",
       "    <div>\n",
       "      <progress value='20000' class='' max='20000' style='width:300px; height:20px; vertical-align: middle;'></progress>\n",
       "      100.00% [20000/20000 00:28&lt;00:00 Sampling chain 1, 0 divergences]\n",
       "    </div>\n",
       "    "
      ],
      "text/plain": [
       "<IPython.core.display.HTML object>"
      ]
     },
     "metadata": {},
     "output_type": "display_data"
    },
    {
     "data": {
      "text/html": [
       "\n",
       "<style>\n",
       "    /* Turns off some styling */\n",
       "    progress {\n",
       "        /* gets rid of default border in Firefox and Opera. */\n",
       "        border: none;\n",
       "        /* Needs to be in here for Safari polyfill so background images work as expected. */\n",
       "        background-size: auto;\n",
       "    }\n",
       "    progress:not([value]), progress:not([value])::-webkit-progress-bar {\n",
       "        background: repeating-linear-gradient(45deg, #7e7e7e, #7e7e7e 10px, #5c5c5c 10px, #5c5c5c 20px);\n",
       "    }\n",
       "    .progress-bar-interrupted, .progress-bar-interrupted::-webkit-progress-bar {\n",
       "        background: #F44336;\n",
       "    }\n",
       "</style>\n"
      ],
      "text/plain": [
       "<IPython.core.display.HTML object>"
      ]
     },
     "metadata": {},
     "output_type": "display_data"
    },
    {
     "data": {
      "text/html": [
       "\n",
       "    <div>\n",
       "      <progress value='20000' class='' max='20000' style='width:300px; height:20px; vertical-align: middle;'></progress>\n",
       "      100.00% [20000/20000 00:26&lt;00:00 Sampling chain 2, 0 divergences]\n",
       "    </div>\n",
       "    "
      ],
      "text/plain": [
       "<IPython.core.display.HTML object>"
      ]
     },
     "metadata": {},
     "output_type": "display_data"
    },
    {
     "data": {
      "text/html": [
       "\n",
       "<style>\n",
       "    /* Turns off some styling */\n",
       "    progress {\n",
       "        /* gets rid of default border in Firefox and Opera. */\n",
       "        border: none;\n",
       "        /* Needs to be in here for Safari polyfill so background images work as expected. */\n",
       "        background-size: auto;\n",
       "    }\n",
       "    progress:not([value]), progress:not([value])::-webkit-progress-bar {\n",
       "        background: repeating-linear-gradient(45deg, #7e7e7e, #7e7e7e 10px, #5c5c5c 10px, #5c5c5c 20px);\n",
       "    }\n",
       "    .progress-bar-interrupted, .progress-bar-interrupted::-webkit-progress-bar {\n",
       "        background: #F44336;\n",
       "    }\n",
       "</style>\n"
      ],
      "text/plain": [
       "<IPython.core.display.HTML object>"
      ]
     },
     "metadata": {},
     "output_type": "display_data"
    },
    {
     "data": {
      "text/html": [
       "\n",
       "    <div>\n",
       "      <progress value='20000' class='' max='20000' style='width:300px; height:20px; vertical-align: middle;'></progress>\n",
       "      100.00% [20000/20000 00:25&lt;00:00 Sampling chain 3, 0 divergences]\n",
       "    </div>\n",
       "    "
      ],
      "text/plain": [
       "<IPython.core.display.HTML object>"
      ]
     },
     "metadata": {},
     "output_type": "display_data"
    },
    {
     "name": "stderr",
     "output_type": "stream",
     "text": [
      "Sampling 4 chains for 5_000 tune and 15_000 draw iterations (20_000 + 60_000 draws total) took 111 seconds.\n",
      "The rhat statistic is larger than 1.01 for some parameters. This indicates problems during sampling. See https://arxiv.org/abs/1903.08008 for details\n",
      "The effective sample size per chain is smaller than 100 for some parameters.  A higher number is needed for reliable rhat and ess computation. See https://arxiv.org/abs/1903.08008 for details\n"
     ]
    },
    {
     "name": "stdout",
     "output_type": "stream",
     "text": [
      "          mean     sd  hdi_3%  hdi_97%  mcse_mean  mcse_sd  ess_bulk  \\\n",
      "m1      10.161  1.367   7.885   12.555      0.193    0.137      66.0   \n",
      "m2       0.624  0.038   0.566    0.681      0.003    0.002     408.0   \n",
      "xinter  10.176  0.071  10.126   10.214      0.012    0.008      64.0   \n",
      "sigma    0.173  0.023   0.140    0.206      0.002    0.002     360.0   \n",
      "\n",
      "        ess_tail  r_hat  \n",
      "m1          58.0   1.05  \n",
      "m2         247.0   1.01  \n",
      "xinter      57.0   1.05  \n",
      "sigma      100.0   1.01  \n",
      "2018 sta typo NTTB\n",
      "Skipping NTTB, no data\n",
      "Processing SJNB\n",
      "20.0\n"
     ]
    },
    {
     "name": "stderr",
     "output_type": "stream",
     "text": [
      "Sequential sampling (4 chains in 1 job)\n",
      "CompoundStep\n",
      ">Metropolis: [m1]\n",
      ">Metropolis: [m2]\n",
      ">Metropolis: [xinter]\n",
      ">Metropolis: [sigma]\n"
     ]
    },
    {
     "data": {
      "text/html": [
       "\n",
       "<style>\n",
       "    /* Turns off some styling */\n",
       "    progress {\n",
       "        /* gets rid of default border in Firefox and Opera. */\n",
       "        border: none;\n",
       "        /* Needs to be in here for Safari polyfill so background images work as expected. */\n",
       "        background-size: auto;\n",
       "    }\n",
       "    progress:not([value]), progress:not([value])::-webkit-progress-bar {\n",
       "        background: repeating-linear-gradient(45deg, #7e7e7e, #7e7e7e 10px, #5c5c5c 10px, #5c5c5c 20px);\n",
       "    }\n",
       "    .progress-bar-interrupted, .progress-bar-interrupted::-webkit-progress-bar {\n",
       "        background: #F44336;\n",
       "    }\n",
       "</style>\n"
      ],
      "text/plain": [
       "<IPython.core.display.HTML object>"
      ]
     },
     "metadata": {},
     "output_type": "display_data"
    },
    {
     "data": {
      "text/html": [
       "\n",
       "    <div>\n",
       "      <progress value='20000' class='' max='20000' style='width:300px; height:20px; vertical-align: middle;'></progress>\n",
       "      100.00% [20000/20000 00:26&lt;00:00 Sampling chain 0, 0 divergences]\n",
       "    </div>\n",
       "    "
      ],
      "text/plain": [
       "<IPython.core.display.HTML object>"
      ]
     },
     "metadata": {},
     "output_type": "display_data"
    },
    {
     "data": {
      "text/html": [
       "\n",
       "<style>\n",
       "    /* Turns off some styling */\n",
       "    progress {\n",
       "        /* gets rid of default border in Firefox and Opera. */\n",
       "        border: none;\n",
       "        /* Needs to be in here for Safari polyfill so background images work as expected. */\n",
       "        background-size: auto;\n",
       "    }\n",
       "    progress:not([value]), progress:not([value])::-webkit-progress-bar {\n",
       "        background: repeating-linear-gradient(45deg, #7e7e7e, #7e7e7e 10px, #5c5c5c 10px, #5c5c5c 20px);\n",
       "    }\n",
       "    .progress-bar-interrupted, .progress-bar-interrupted::-webkit-progress-bar {\n",
       "        background: #F44336;\n",
       "    }\n",
       "</style>\n"
      ],
      "text/plain": [
       "<IPython.core.display.HTML object>"
      ]
     },
     "metadata": {},
     "output_type": "display_data"
    },
    {
     "data": {
      "text/html": [
       "\n",
       "    <div>\n",
       "      <progress value='20000' class='' max='20000' style='width:300px; height:20px; vertical-align: middle;'></progress>\n",
       "      100.00% [20000/20000 00:30&lt;00:00 Sampling chain 1, 0 divergences]\n",
       "    </div>\n",
       "    "
      ],
      "text/plain": [
       "<IPython.core.display.HTML object>"
      ]
     },
     "metadata": {},
     "output_type": "display_data"
    },
    {
     "data": {
      "text/html": [
       "\n",
       "<style>\n",
       "    /* Turns off some styling */\n",
       "    progress {\n",
       "        /* gets rid of default border in Firefox and Opera. */\n",
       "        border: none;\n",
       "        /* Needs to be in here for Safari polyfill so background images work as expected. */\n",
       "        background-size: auto;\n",
       "    }\n",
       "    progress:not([value]), progress:not([value])::-webkit-progress-bar {\n",
       "        background: repeating-linear-gradient(45deg, #7e7e7e, #7e7e7e 10px, #5c5c5c 10px, #5c5c5c 20px);\n",
       "    }\n",
       "    .progress-bar-interrupted, .progress-bar-interrupted::-webkit-progress-bar {\n",
       "        background: #F44336;\n",
       "    }\n",
       "</style>\n"
      ],
      "text/plain": [
       "<IPython.core.display.HTML object>"
      ]
     },
     "metadata": {},
     "output_type": "display_data"
    },
    {
     "data": {
      "text/html": [
       "\n",
       "    <div>\n",
       "      <progress value='20000' class='' max='20000' style='width:300px; height:20px; vertical-align: middle;'></progress>\n",
       "      100.00% [20000/20000 00:32&lt;00:00 Sampling chain 2, 0 divergences]\n",
       "    </div>\n",
       "    "
      ],
      "text/plain": [
       "<IPython.core.display.HTML object>"
      ]
     },
     "metadata": {},
     "output_type": "display_data"
    },
    {
     "data": {
      "text/html": [
       "\n",
       "<style>\n",
       "    /* Turns off some styling */\n",
       "    progress {\n",
       "        /* gets rid of default border in Firefox and Opera. */\n",
       "        border: none;\n",
       "        /* Needs to be in here for Safari polyfill so background images work as expected. */\n",
       "        background-size: auto;\n",
       "    }\n",
       "    progress:not([value]), progress:not([value])::-webkit-progress-bar {\n",
       "        background: repeating-linear-gradient(45deg, #7e7e7e, #7e7e7e 10px, #5c5c5c 10px, #5c5c5c 20px);\n",
       "    }\n",
       "    .progress-bar-interrupted, .progress-bar-interrupted::-webkit-progress-bar {\n",
       "        background: #F44336;\n",
       "    }\n",
       "</style>\n"
      ],
      "text/plain": [
       "<IPython.core.display.HTML object>"
      ]
     },
     "metadata": {},
     "output_type": "display_data"
    },
    {
     "data": {
      "text/html": [
       "\n",
       "    <div>\n",
       "      <progress value='20000' class='' max='20000' style='width:300px; height:20px; vertical-align: middle;'></progress>\n",
       "      100.00% [20000/20000 00:30&lt;00:00 Sampling chain 3, 0 divergences]\n",
       "    </div>\n",
       "    "
      ],
      "text/plain": [
       "<IPython.core.display.HTML object>"
      ]
     },
     "metadata": {},
     "output_type": "display_data"
    },
    {
     "name": "stderr",
     "output_type": "stream",
     "text": [
      "Sampling 4 chains for 5_000 tune and 15_000 draw iterations (20_000 + 60_000 draws total) took 120 seconds.\n"
     ]
    },
    {
     "name": "stdout",
     "output_type": "stream",
     "text": [
      "          mean     sd  hdi_3%  hdi_97%  mcse_mean  mcse_sd  ess_bulk  \\\n",
      "m1       1.667  0.077   1.522    1.813      0.004    0.003     429.0   \n",
      "m2       0.405  0.023   0.361    0.448      0.001    0.000    1569.0   \n",
      "xinter  10.661  0.045  10.581   10.747      0.002    0.001     467.0   \n",
      "sigma    0.110  0.011   0.091    0.131      0.000    0.000    7440.0   \n",
      "\n",
      "        ess_tail  r_hat  \n",
      "m1         852.0   1.01  \n",
      "m2        2440.0   1.00  \n",
      "xinter    1048.0   1.01  \n",
      "sigma     9958.0   1.00  \n",
      "Processing HGSB\n",
      "20.0\n"
     ]
    },
    {
     "name": "stderr",
     "output_type": "stream",
     "text": [
      "Sequential sampling (4 chains in 1 job)\n",
      "CompoundStep\n",
      ">Metropolis: [m1]\n",
      ">Metropolis: [m2]\n",
      ">Metropolis: [xinter]\n",
      ">Metropolis: [sigma]\n"
     ]
    },
    {
     "data": {
      "text/html": [
       "\n",
       "<style>\n",
       "    /* Turns off some styling */\n",
       "    progress {\n",
       "        /* gets rid of default border in Firefox and Opera. */\n",
       "        border: none;\n",
       "        /* Needs to be in here for Safari polyfill so background images work as expected. */\n",
       "        background-size: auto;\n",
       "    }\n",
       "    progress:not([value]), progress:not([value])::-webkit-progress-bar {\n",
       "        background: repeating-linear-gradient(45deg, #7e7e7e, #7e7e7e 10px, #5c5c5c 10px, #5c5c5c 20px);\n",
       "    }\n",
       "    .progress-bar-interrupted, .progress-bar-interrupted::-webkit-progress-bar {\n",
       "        background: #F44336;\n",
       "    }\n",
       "</style>\n"
      ],
      "text/plain": [
       "<IPython.core.display.HTML object>"
      ]
     },
     "metadata": {},
     "output_type": "display_data"
    },
    {
     "data": {
      "text/html": [
       "\n",
       "    <div>\n",
       "      <progress value='20000' class='' max='20000' style='width:300px; height:20px; vertical-align: middle;'></progress>\n",
       "      100.00% [20000/20000 00:27&lt;00:00 Sampling chain 0, 0 divergences]\n",
       "    </div>\n",
       "    "
      ],
      "text/plain": [
       "<IPython.core.display.HTML object>"
      ]
     },
     "metadata": {},
     "output_type": "display_data"
    },
    {
     "data": {
      "text/html": [
       "\n",
       "<style>\n",
       "    /* Turns off some styling */\n",
       "    progress {\n",
       "        /* gets rid of default border in Firefox and Opera. */\n",
       "        border: none;\n",
       "        /* Needs to be in here for Safari polyfill so background images work as expected. */\n",
       "        background-size: auto;\n",
       "    }\n",
       "    progress:not([value]), progress:not([value])::-webkit-progress-bar {\n",
       "        background: repeating-linear-gradient(45deg, #7e7e7e, #7e7e7e 10px, #5c5c5c 10px, #5c5c5c 20px);\n",
       "    }\n",
       "    .progress-bar-interrupted, .progress-bar-interrupted::-webkit-progress-bar {\n",
       "        background: #F44336;\n",
       "    }\n",
       "</style>\n"
      ],
      "text/plain": [
       "<IPython.core.display.HTML object>"
      ]
     },
     "metadata": {},
     "output_type": "display_data"
    },
    {
     "data": {
      "text/html": [
       "\n",
       "    <div>\n",
       "      <progress value='20000' class='' max='20000' style='width:300px; height:20px; vertical-align: middle;'></progress>\n",
       "      100.00% [20000/20000 00:27&lt;00:00 Sampling chain 1, 0 divergences]\n",
       "    </div>\n",
       "    "
      ],
      "text/plain": [
       "<IPython.core.display.HTML object>"
      ]
     },
     "metadata": {},
     "output_type": "display_data"
    },
    {
     "data": {
      "text/html": [
       "\n",
       "<style>\n",
       "    /* Turns off some styling */\n",
       "    progress {\n",
       "        /* gets rid of default border in Firefox and Opera. */\n",
       "        border: none;\n",
       "        /* Needs to be in here for Safari polyfill so background images work as expected. */\n",
       "        background-size: auto;\n",
       "    }\n",
       "    progress:not([value]), progress:not([value])::-webkit-progress-bar {\n",
       "        background: repeating-linear-gradient(45deg, #7e7e7e, #7e7e7e 10px, #5c5c5c 10px, #5c5c5c 20px);\n",
       "    }\n",
       "    .progress-bar-interrupted, .progress-bar-interrupted::-webkit-progress-bar {\n",
       "        background: #F44336;\n",
       "    }\n",
       "</style>\n"
      ],
      "text/plain": [
       "<IPython.core.display.HTML object>"
      ]
     },
     "metadata": {},
     "output_type": "display_data"
    },
    {
     "data": {
      "text/html": [
       "\n",
       "    <div>\n",
       "      <progress value='20000' class='' max='20000' style='width:300px; height:20px; vertical-align: middle;'></progress>\n",
       "      100.00% [20000/20000 00:25&lt;00:00 Sampling chain 2, 0 divergences]\n",
       "    </div>\n",
       "    "
      ],
      "text/plain": [
       "<IPython.core.display.HTML object>"
      ]
     },
     "metadata": {},
     "output_type": "display_data"
    },
    {
     "data": {
      "text/html": [
       "\n",
       "<style>\n",
       "    /* Turns off some styling */\n",
       "    progress {\n",
       "        /* gets rid of default border in Firefox and Opera. */\n",
       "        border: none;\n",
       "        /* Needs to be in here for Safari polyfill so background images work as expected. */\n",
       "        background-size: auto;\n",
       "    }\n",
       "    progress:not([value]), progress:not([value])::-webkit-progress-bar {\n",
       "        background: repeating-linear-gradient(45deg, #7e7e7e, #7e7e7e 10px, #5c5c5c 10px, #5c5c5c 20px);\n",
       "    }\n",
       "    .progress-bar-interrupted, .progress-bar-interrupted::-webkit-progress-bar {\n",
       "        background: #F44336;\n",
       "    }\n",
       "</style>\n"
      ],
      "text/plain": [
       "<IPython.core.display.HTML object>"
      ]
     },
     "metadata": {},
     "output_type": "display_data"
    },
    {
     "data": {
      "text/html": [
       "\n",
       "    <div>\n",
       "      <progress value='20000' class='' max='20000' style='width:300px; height:20px; vertical-align: middle;'></progress>\n",
       "      100.00% [20000/20000 00:25&lt;00:00 Sampling chain 3, 0 divergences]\n",
       "    </div>\n",
       "    "
      ],
      "text/plain": [
       "<IPython.core.display.HTML object>"
      ]
     },
     "metadata": {},
     "output_type": "display_data"
    },
    {
     "name": "stderr",
     "output_type": "stream",
     "text": [
      "Sampling 4 chains for 5_000 tune and 15_000 draw iterations (20_000 + 60_000 draws total) took 107 seconds.\n",
      "The rhat statistic is larger than 1.01 for some parameters. This indicates problems during sampling. See https://arxiv.org/abs/1903.08008 for details\n",
      "The effective sample size per chain is smaller than 100 for some parameters.  A higher number is needed for reliable rhat and ess computation. See https://arxiv.org/abs/1903.08008 for details\n"
     ]
    },
    {
     "name": "stdout",
     "output_type": "stream",
     "text": [
      "          mean     sd  hdi_3%  hdi_97%  mcse_mean  mcse_sd  ess_bulk  \\\n",
      "m1       1.983  0.196   1.665    2.293      0.092    0.070       5.0   \n",
      "m2       0.043  0.002   0.040    0.046      0.001    0.000       9.0   \n",
      "xinter  11.207  0.148  11.018   11.431      0.069    0.052       5.0   \n",
      "sigma    0.183  0.006   0.172    0.196      0.001    0.001      54.0   \n",
      "\n",
      "        ess_tail  r_hat  \n",
      "m1          11.0   2.42  \n",
      "m2          18.0   1.37  \n",
      "xinter      11.0   2.45  \n",
      "sigma       82.0   1.05  \n",
      "Processing CHMB\n",
      "20.0\n"
     ]
    },
    {
     "name": "stderr",
     "output_type": "stream",
     "text": [
      "Sequential sampling (4 chains in 1 job)\n",
      "CompoundStep\n",
      ">Metropolis: [m1]\n",
      ">Metropolis: [m2]\n",
      ">Metropolis: [xinter]\n",
      ">Metropolis: [sigma]\n"
     ]
    },
    {
     "data": {
      "text/html": [
       "\n",
       "<style>\n",
       "    /* Turns off some styling */\n",
       "    progress {\n",
       "        /* gets rid of default border in Firefox and Opera. */\n",
       "        border: none;\n",
       "        /* Needs to be in here for Safari polyfill so background images work as expected. */\n",
       "        background-size: auto;\n",
       "    }\n",
       "    progress:not([value]), progress:not([value])::-webkit-progress-bar {\n",
       "        background: repeating-linear-gradient(45deg, #7e7e7e, #7e7e7e 10px, #5c5c5c 10px, #5c5c5c 20px);\n",
       "    }\n",
       "    .progress-bar-interrupted, .progress-bar-interrupted::-webkit-progress-bar {\n",
       "        background: #F44336;\n",
       "    }\n",
       "</style>\n"
      ],
      "text/plain": [
       "<IPython.core.display.HTML object>"
      ]
     },
     "metadata": {},
     "output_type": "display_data"
    },
    {
     "data": {
      "text/html": [
       "\n",
       "    <div>\n",
       "      <progress value='20000' class='' max='20000' style='width:300px; height:20px; vertical-align: middle;'></progress>\n",
       "      100.00% [20000/20000 00:25&lt;00:00 Sampling chain 0, 0 divergences]\n",
       "    </div>\n",
       "    "
      ],
      "text/plain": [
       "<IPython.core.display.HTML object>"
      ]
     },
     "metadata": {},
     "output_type": "display_data"
    },
    {
     "data": {
      "text/html": [
       "\n",
       "<style>\n",
       "    /* Turns off some styling */\n",
       "    progress {\n",
       "        /* gets rid of default border in Firefox and Opera. */\n",
       "        border: none;\n",
       "        /* Needs to be in here for Safari polyfill so background images work as expected. */\n",
       "        background-size: auto;\n",
       "    }\n",
       "    progress:not([value]), progress:not([value])::-webkit-progress-bar {\n",
       "        background: repeating-linear-gradient(45deg, #7e7e7e, #7e7e7e 10px, #5c5c5c 10px, #5c5c5c 20px);\n",
       "    }\n",
       "    .progress-bar-interrupted, .progress-bar-interrupted::-webkit-progress-bar {\n",
       "        background: #F44336;\n",
       "    }\n",
       "</style>\n"
      ],
      "text/plain": [
       "<IPython.core.display.HTML object>"
      ]
     },
     "metadata": {},
     "output_type": "display_data"
    },
    {
     "data": {
      "text/html": [
       "\n",
       "    <div>\n",
       "      <progress value='20000' class='' max='20000' style='width:300px; height:20px; vertical-align: middle;'></progress>\n",
       "      100.00% [20000/20000 00:25&lt;00:00 Sampling chain 1, 0 divergences]\n",
       "    </div>\n",
       "    "
      ],
      "text/plain": [
       "<IPython.core.display.HTML object>"
      ]
     },
     "metadata": {},
     "output_type": "display_data"
    },
    {
     "data": {
      "text/html": [
       "\n",
       "<style>\n",
       "    /* Turns off some styling */\n",
       "    progress {\n",
       "        /* gets rid of default border in Firefox and Opera. */\n",
       "        border: none;\n",
       "        /* Needs to be in here for Safari polyfill so background images work as expected. */\n",
       "        background-size: auto;\n",
       "    }\n",
       "    progress:not([value]), progress:not([value])::-webkit-progress-bar {\n",
       "        background: repeating-linear-gradient(45deg, #7e7e7e, #7e7e7e 10px, #5c5c5c 10px, #5c5c5c 20px);\n",
       "    }\n",
       "    .progress-bar-interrupted, .progress-bar-interrupted::-webkit-progress-bar {\n",
       "        background: #F44336;\n",
       "    }\n",
       "</style>\n"
      ],
      "text/plain": [
       "<IPython.core.display.HTML object>"
      ]
     },
     "metadata": {},
     "output_type": "display_data"
    },
    {
     "data": {
      "text/html": [
       "\n",
       "    <div>\n",
       "      <progress value='20000' class='' max='20000' style='width:300px; height:20px; vertical-align: middle;'></progress>\n",
       "      100.00% [20000/20000 00:25&lt;00:00 Sampling chain 2, 0 divergences]\n",
       "    </div>\n",
       "    "
      ],
      "text/plain": [
       "<IPython.core.display.HTML object>"
      ]
     },
     "metadata": {},
     "output_type": "display_data"
    },
    {
     "data": {
      "text/html": [
       "\n",
       "<style>\n",
       "    /* Turns off some styling */\n",
       "    progress {\n",
       "        /* gets rid of default border in Firefox and Opera. */\n",
       "        border: none;\n",
       "        /* Needs to be in here for Safari polyfill so background images work as expected. */\n",
       "        background-size: auto;\n",
       "    }\n",
       "    progress:not([value]), progress:not([value])::-webkit-progress-bar {\n",
       "        background: repeating-linear-gradient(45deg, #7e7e7e, #7e7e7e 10px, #5c5c5c 10px, #5c5c5c 20px);\n",
       "    }\n",
       "    .progress-bar-interrupted, .progress-bar-interrupted::-webkit-progress-bar {\n",
       "        background: #F44336;\n",
       "    }\n",
       "</style>\n"
      ],
      "text/plain": [
       "<IPython.core.display.HTML object>"
      ]
     },
     "metadata": {},
     "output_type": "display_data"
    },
    {
     "data": {
      "text/html": [
       "\n",
       "    <div>\n",
       "      <progress value='20000' class='' max='20000' style='width:300px; height:20px; vertical-align: middle;'></progress>\n",
       "      100.00% [20000/20000 00:25&lt;00:00 Sampling chain 3, 0 divergences]\n",
       "    </div>\n",
       "    "
      ],
      "text/plain": [
       "<IPython.core.display.HTML object>"
      ]
     },
     "metadata": {},
     "output_type": "display_data"
    },
    {
     "name": "stderr",
     "output_type": "stream",
     "text": [
      "Sampling 4 chains for 5_000 tune and 15_000 draw iterations (20_000 + 60_000 draws total) took 101 seconds.\n",
      "The rhat statistic is larger than 1.01 for some parameters. This indicates problems during sampling. See https://arxiv.org/abs/1903.08008 for details\n",
      "The effective sample size per chain is smaller than 100 for some parameters.  A higher number is needed for reliable rhat and ess computation. See https://arxiv.org/abs/1903.08008 for details\n"
     ]
    },
    {
     "name": "stdout",
     "output_type": "stream",
     "text": [
      "          mean     sd  hdi_3%  hdi_97%  mcse_mean  mcse_sd  ess_bulk  \\\n",
      "m1       0.672  0.015   0.647    0.704      0.005    0.004       9.0   \n",
      "m2       0.050  0.001   0.049    0.051      0.000    0.000      43.0   \n",
      "xinter  12.178  0.058  12.048   12.276      0.020    0.014       9.0   \n",
      "sigma    0.095  0.003   0.089    0.101      0.000    0.000    8955.0   \n",
      "\n",
      "        ess_tail  r_hat  \n",
      "m1          18.0   1.35  \n",
      "m2          51.0   1.08  \n",
      "xinter      17.0   1.35  \n",
      "sigma    13357.0   1.00  \n",
      "Processing SSNB\n",
      "20.0\n"
     ]
    },
    {
     "name": "stderr",
     "output_type": "stream",
     "text": [
      "Sequential sampling (4 chains in 1 job)\n",
      "CompoundStep\n",
      ">Metropolis: [m1]\n",
      ">Metropolis: [m2]\n",
      ">Metropolis: [xinter]\n",
      ">Metropolis: [sigma]\n"
     ]
    },
    {
     "data": {
      "text/html": [
       "\n",
       "<style>\n",
       "    /* Turns off some styling */\n",
       "    progress {\n",
       "        /* gets rid of default border in Firefox and Opera. */\n",
       "        border: none;\n",
       "        /* Needs to be in here for Safari polyfill so background images work as expected. */\n",
       "        background-size: auto;\n",
       "    }\n",
       "    progress:not([value]), progress:not([value])::-webkit-progress-bar {\n",
       "        background: repeating-linear-gradient(45deg, #7e7e7e, #7e7e7e 10px, #5c5c5c 10px, #5c5c5c 20px);\n",
       "    }\n",
       "    .progress-bar-interrupted, .progress-bar-interrupted::-webkit-progress-bar {\n",
       "        background: #F44336;\n",
       "    }\n",
       "</style>\n"
      ],
      "text/plain": [
       "<IPython.core.display.HTML object>"
      ]
     },
     "metadata": {},
     "output_type": "display_data"
    },
    {
     "data": {
      "text/html": [
       "\n",
       "    <div>\n",
       "      <progress value='20000' class='' max='20000' style='width:300px; height:20px; vertical-align: middle;'></progress>\n",
       "      100.00% [20000/20000 00:25&lt;00:00 Sampling chain 0, 0 divergences]\n",
       "    </div>\n",
       "    "
      ],
      "text/plain": [
       "<IPython.core.display.HTML object>"
      ]
     },
     "metadata": {},
     "output_type": "display_data"
    },
    {
     "data": {
      "text/html": [
       "\n",
       "<style>\n",
       "    /* Turns off some styling */\n",
       "    progress {\n",
       "        /* gets rid of default border in Firefox and Opera. */\n",
       "        border: none;\n",
       "        /* Needs to be in here for Safari polyfill so background images work as expected. */\n",
       "        background-size: auto;\n",
       "    }\n",
       "    progress:not([value]), progress:not([value])::-webkit-progress-bar {\n",
       "        background: repeating-linear-gradient(45deg, #7e7e7e, #7e7e7e 10px, #5c5c5c 10px, #5c5c5c 20px);\n",
       "    }\n",
       "    .progress-bar-interrupted, .progress-bar-interrupted::-webkit-progress-bar {\n",
       "        background: #F44336;\n",
       "    }\n",
       "</style>\n"
      ],
      "text/plain": [
       "<IPython.core.display.HTML object>"
      ]
     },
     "metadata": {},
     "output_type": "display_data"
    },
    {
     "data": {
      "text/html": [
       "\n",
       "    <div>\n",
       "      <progress value='20000' class='' max='20000' style='width:300px; height:20px; vertical-align: middle;'></progress>\n",
       "      100.00% [20000/20000 00:28&lt;00:00 Sampling chain 1, 0 divergences]\n",
       "    </div>\n",
       "    "
      ],
      "text/plain": [
       "<IPython.core.display.HTML object>"
      ]
     },
     "metadata": {},
     "output_type": "display_data"
    },
    {
     "data": {
      "text/html": [
       "\n",
       "<style>\n",
       "    /* Turns off some styling */\n",
       "    progress {\n",
       "        /* gets rid of default border in Firefox and Opera. */\n",
       "        border: none;\n",
       "        /* Needs to be in here for Safari polyfill so background images work as expected. */\n",
       "        background-size: auto;\n",
       "    }\n",
       "    progress:not([value]), progress:not([value])::-webkit-progress-bar {\n",
       "        background: repeating-linear-gradient(45deg, #7e7e7e, #7e7e7e 10px, #5c5c5c 10px, #5c5c5c 20px);\n",
       "    }\n",
       "    .progress-bar-interrupted, .progress-bar-interrupted::-webkit-progress-bar {\n",
       "        background: #F44336;\n",
       "    }\n",
       "</style>\n"
      ],
      "text/plain": [
       "<IPython.core.display.HTML object>"
      ]
     },
     "metadata": {},
     "output_type": "display_data"
    },
    {
     "data": {
      "text/html": [
       "\n",
       "    <div>\n",
       "      <progress value='20000' class='' max='20000' style='width:300px; height:20px; vertical-align: middle;'></progress>\n",
       "      100.00% [20000/20000 00:29&lt;00:00 Sampling chain 2, 0 divergences]\n",
       "    </div>\n",
       "    "
      ],
      "text/plain": [
       "<IPython.core.display.HTML object>"
      ]
     },
     "metadata": {},
     "output_type": "display_data"
    },
    {
     "data": {
      "text/html": [
       "\n",
       "<style>\n",
       "    /* Turns off some styling */\n",
       "    progress {\n",
       "        /* gets rid of default border in Firefox and Opera. */\n",
       "        border: none;\n",
       "        /* Needs to be in here for Safari polyfill so background images work as expected. */\n",
       "        background-size: auto;\n",
       "    }\n",
       "    progress:not([value]), progress:not([value])::-webkit-progress-bar {\n",
       "        background: repeating-linear-gradient(45deg, #7e7e7e, #7e7e7e 10px, #5c5c5c 10px, #5c5c5c 20px);\n",
       "    }\n",
       "    .progress-bar-interrupted, .progress-bar-interrupted::-webkit-progress-bar {\n",
       "        background: #F44336;\n",
       "    }\n",
       "</style>\n"
      ],
      "text/plain": [
       "<IPython.core.display.HTML object>"
      ]
     },
     "metadata": {},
     "output_type": "display_data"
    },
    {
     "data": {
      "text/html": [
       "\n",
       "    <div>\n",
       "      <progress value='20000' class='' max='20000' style='width:300px; height:20px; vertical-align: middle;'></progress>\n",
       "      100.00% [20000/20000 00:29&lt;00:00 Sampling chain 3, 0 divergences]\n",
       "    </div>\n",
       "    "
      ],
      "text/plain": [
       "<IPython.core.display.HTML object>"
      ]
     },
     "metadata": {},
     "output_type": "display_data"
    },
    {
     "name": "stderr",
     "output_type": "stream",
     "text": [
      "Sampling 4 chains for 5_000 tune and 15_000 draw iterations (20_000 + 60_000 draws total) took 113 seconds.\n",
      "The rhat statistic is larger than 1.01 for some parameters. This indicates problems during sampling. See https://arxiv.org/abs/1903.08008 for details\n",
      "The effective sample size per chain is smaller than 100 for some parameters.  A higher number is needed for reliable rhat and ess computation. See https://arxiv.org/abs/1903.08008 for details\n"
     ]
    },
    {
     "name": "stdout",
     "output_type": "stream",
     "text": [
      "          mean     sd  hdi_3%  hdi_97%  mcse_mean  mcse_sd  ess_bulk  \\\n",
      "m1       1.406  0.063   1.290    1.523      0.023    0.017       8.0   \n",
      "m2       0.055  0.001   0.053    0.057      0.000    0.000      44.0   \n",
      "xinter  11.234  0.059  11.127   11.353      0.022    0.016       7.0   \n",
      "sigma    0.147  0.005   0.139    0.157      0.000    0.000   12273.0   \n",
      "\n",
      "        ess_tail  r_hat  \n",
      "m1          28.0   1.51  \n",
      "m2         182.0   1.10  \n",
      "xinter      30.0   1.52  \n",
      "sigma    13158.0   1.00  \n",
      "Processing ZANB\n",
      "20.0\n"
     ]
    },
    {
     "name": "stderr",
     "output_type": "stream",
     "text": [
      "Sequential sampling (4 chains in 1 job)\n",
      "CompoundStep\n",
      ">Metropolis: [m1]\n",
      ">Metropolis: [m2]\n",
      ">Metropolis: [xinter]\n",
      ">Metropolis: [sigma]\n"
     ]
    },
    {
     "data": {
      "text/html": [
       "\n",
       "<style>\n",
       "    /* Turns off some styling */\n",
       "    progress {\n",
       "        /* gets rid of default border in Firefox and Opera. */\n",
       "        border: none;\n",
       "        /* Needs to be in here for Safari polyfill so background images work as expected. */\n",
       "        background-size: auto;\n",
       "    }\n",
       "    progress:not([value]), progress:not([value])::-webkit-progress-bar {\n",
       "        background: repeating-linear-gradient(45deg, #7e7e7e, #7e7e7e 10px, #5c5c5c 10px, #5c5c5c 20px);\n",
       "    }\n",
       "    .progress-bar-interrupted, .progress-bar-interrupted::-webkit-progress-bar {\n",
       "        background: #F44336;\n",
       "    }\n",
       "</style>\n"
      ],
      "text/plain": [
       "<IPython.core.display.HTML object>"
      ]
     },
     "metadata": {},
     "output_type": "display_data"
    },
    {
     "data": {
      "text/html": [
       "\n",
       "    <div>\n",
       "      <progress value='20000' class='' max='20000' style='width:300px; height:20px; vertical-align: middle;'></progress>\n",
       "      100.00% [20000/20000 00:32&lt;00:00 Sampling chain 0, 0 divergences]\n",
       "    </div>\n",
       "    "
      ],
      "text/plain": [
       "<IPython.core.display.HTML object>"
      ]
     },
     "metadata": {},
     "output_type": "display_data"
    },
    {
     "data": {
      "text/html": [
       "\n",
       "<style>\n",
       "    /* Turns off some styling */\n",
       "    progress {\n",
       "        /* gets rid of default border in Firefox and Opera. */\n",
       "        border: none;\n",
       "        /* Needs to be in here for Safari polyfill so background images work as expected. */\n",
       "        background-size: auto;\n",
       "    }\n",
       "    progress:not([value]), progress:not([value])::-webkit-progress-bar {\n",
       "        background: repeating-linear-gradient(45deg, #7e7e7e, #7e7e7e 10px, #5c5c5c 10px, #5c5c5c 20px);\n",
       "    }\n",
       "    .progress-bar-interrupted, .progress-bar-interrupted::-webkit-progress-bar {\n",
       "        background: #F44336;\n",
       "    }\n",
       "</style>\n"
      ],
      "text/plain": [
       "<IPython.core.display.HTML object>"
      ]
     },
     "metadata": {},
     "output_type": "display_data"
    },
    {
     "data": {
      "text/html": [
       "\n",
       "    <div>\n",
       "      <progress value='20000' class='' max='20000' style='width:300px; height:20px; vertical-align: middle;'></progress>\n",
       "      100.00% [20000/20000 00:30&lt;00:00 Sampling chain 1, 0 divergences]\n",
       "    </div>\n",
       "    "
      ],
      "text/plain": [
       "<IPython.core.display.HTML object>"
      ]
     },
     "metadata": {},
     "output_type": "display_data"
    },
    {
     "data": {
      "text/html": [
       "\n",
       "<style>\n",
       "    /* Turns off some styling */\n",
       "    progress {\n",
       "        /* gets rid of default border in Firefox and Opera. */\n",
       "        border: none;\n",
       "        /* Needs to be in here for Safari polyfill so background images work as expected. */\n",
       "        background-size: auto;\n",
       "    }\n",
       "    progress:not([value]), progress:not([value])::-webkit-progress-bar {\n",
       "        background: repeating-linear-gradient(45deg, #7e7e7e, #7e7e7e 10px, #5c5c5c 10px, #5c5c5c 20px);\n",
       "    }\n",
       "    .progress-bar-interrupted, .progress-bar-interrupted::-webkit-progress-bar {\n",
       "        background: #F44336;\n",
       "    }\n",
       "</style>\n"
      ],
      "text/plain": [
       "<IPython.core.display.HTML object>"
      ]
     },
     "metadata": {},
     "output_type": "display_data"
    },
    {
     "data": {
      "text/html": [
       "\n",
       "    <div>\n",
       "      <progress value='20000' class='' max='20000' style='width:300px; height:20px; vertical-align: middle;'></progress>\n",
       "      100.00% [20000/20000 00:31&lt;00:00 Sampling chain 2, 0 divergences]\n",
       "    </div>\n",
       "    "
      ],
      "text/plain": [
       "<IPython.core.display.HTML object>"
      ]
     },
     "metadata": {},
     "output_type": "display_data"
    },
    {
     "data": {
      "text/html": [
       "\n",
       "<style>\n",
       "    /* Turns off some styling */\n",
       "    progress {\n",
       "        /* gets rid of default border in Firefox and Opera. */\n",
       "        border: none;\n",
       "        /* Needs to be in here for Safari polyfill so background images work as expected. */\n",
       "        background-size: auto;\n",
       "    }\n",
       "    progress:not([value]), progress:not([value])::-webkit-progress-bar {\n",
       "        background: repeating-linear-gradient(45deg, #7e7e7e, #7e7e7e 10px, #5c5c5c 10px, #5c5c5c 20px);\n",
       "    }\n",
       "    .progress-bar-interrupted, .progress-bar-interrupted::-webkit-progress-bar {\n",
       "        background: #F44336;\n",
       "    }\n",
       "</style>\n"
      ],
      "text/plain": [
       "<IPython.core.display.HTML object>"
      ]
     },
     "metadata": {},
     "output_type": "display_data"
    },
    {
     "data": {
      "text/html": [
       "\n",
       "    <div>\n",
       "      <progress value='20000' class='' max='20000' style='width:300px; height:20px; vertical-align: middle;'></progress>\n",
       "      100.00% [20000/20000 00:29&lt;00:00 Sampling chain 3, 0 divergences]\n",
       "    </div>\n",
       "    "
      ],
      "text/plain": [
       "<IPython.core.display.HTML object>"
      ]
     },
     "metadata": {},
     "output_type": "display_data"
    },
    {
     "name": "stderr",
     "output_type": "stream",
     "text": [
      "Sampling 4 chains for 5_000 tune and 15_000 draw iterations (20_000 + 60_000 draws total) took 124 seconds.\n",
      "The rhat statistic is larger than 1.01 for some parameters. This indicates problems during sampling. See https://arxiv.org/abs/1903.08008 for details\n",
      "The effective sample size per chain is smaller than 100 for some parameters.  A higher number is needed for reliable rhat and ess computation. See https://arxiv.org/abs/1903.08008 for details\n"
     ]
    },
    {
     "name": "stdout",
     "output_type": "stream",
     "text": [
      "          mean     sd  hdi_3%  hdi_97%  mcse_mean  mcse_sd  ess_bulk  \\\n",
      "m1       1.863  0.195   1.557    2.241      0.094    0.072       5.0   \n",
      "m2       0.040  0.001   0.039    0.041      0.000    0.000      13.0   \n",
      "xinter  10.810  0.086  10.656   10.966      0.041    0.031       5.0   \n",
      "sigma    0.080  0.003   0.075    0.085      0.001    0.000      21.0   \n",
      "\n",
      "        ess_tail  r_hat  \n",
      "m1          16.0   2.73  \n",
      "m2          53.0   1.25  \n",
      "xinter      16.0   2.70  \n",
      "sigma       80.0   1.12  \n",
      "Processing FBRB\n",
      "20.0\n"
     ]
    },
    {
     "name": "stderr",
     "output_type": "stream",
     "text": [
      "Sequential sampling (4 chains in 1 job)\n",
      "CompoundStep\n",
      ">Metropolis: [m1]\n",
      ">Metropolis: [m2]\n",
      ">Metropolis: [xinter]\n",
      ">Metropolis: [sigma]\n"
     ]
    },
    {
     "data": {
      "text/html": [
       "\n",
       "<style>\n",
       "    /* Turns off some styling */\n",
       "    progress {\n",
       "        /* gets rid of default border in Firefox and Opera. */\n",
       "        border: none;\n",
       "        /* Needs to be in here for Safari polyfill so background images work as expected. */\n",
       "        background-size: auto;\n",
       "    }\n",
       "    progress:not([value]), progress:not([value])::-webkit-progress-bar {\n",
       "        background: repeating-linear-gradient(45deg, #7e7e7e, #7e7e7e 10px, #5c5c5c 10px, #5c5c5c 20px);\n",
       "    }\n",
       "    .progress-bar-interrupted, .progress-bar-interrupted::-webkit-progress-bar {\n",
       "        background: #F44336;\n",
       "    }\n",
       "</style>\n"
      ],
      "text/plain": [
       "<IPython.core.display.HTML object>"
      ]
     },
     "metadata": {},
     "output_type": "display_data"
    },
    {
     "data": {
      "text/html": [
       "\n",
       "    <div>\n",
       "      <progress value='20000' class='' max='20000' style='width:300px; height:20px; vertical-align: middle;'></progress>\n",
       "      100.00% [20000/20000 00:27&lt;00:00 Sampling chain 0, 0 divergences]\n",
       "    </div>\n",
       "    "
      ],
      "text/plain": [
       "<IPython.core.display.HTML object>"
      ]
     },
     "metadata": {},
     "output_type": "display_data"
    },
    {
     "data": {
      "text/html": [
       "\n",
       "<style>\n",
       "    /* Turns off some styling */\n",
       "    progress {\n",
       "        /* gets rid of default border in Firefox and Opera. */\n",
       "        border: none;\n",
       "        /* Needs to be in here for Safari polyfill so background images work as expected. */\n",
       "        background-size: auto;\n",
       "    }\n",
       "    progress:not([value]), progress:not([value])::-webkit-progress-bar {\n",
       "        background: repeating-linear-gradient(45deg, #7e7e7e, #7e7e7e 10px, #5c5c5c 10px, #5c5c5c 20px);\n",
       "    }\n",
       "    .progress-bar-interrupted, .progress-bar-interrupted::-webkit-progress-bar {\n",
       "        background: #F44336;\n",
       "    }\n",
       "</style>\n"
      ],
      "text/plain": [
       "<IPython.core.display.HTML object>"
      ]
     },
     "metadata": {},
     "output_type": "display_data"
    },
    {
     "data": {
      "text/html": [
       "\n",
       "    <div>\n",
       "      <progress value='20000' class='' max='20000' style='width:300px; height:20px; vertical-align: middle;'></progress>\n",
       "      100.00% [20000/20000 00:28&lt;00:00 Sampling chain 1, 0 divergences]\n",
       "    </div>\n",
       "    "
      ],
      "text/plain": [
       "<IPython.core.display.HTML object>"
      ]
     },
     "metadata": {},
     "output_type": "display_data"
    },
    {
     "data": {
      "text/html": [
       "\n",
       "<style>\n",
       "    /* Turns off some styling */\n",
       "    progress {\n",
       "        /* gets rid of default border in Firefox and Opera. */\n",
       "        border: none;\n",
       "        /* Needs to be in here for Safari polyfill so background images work as expected. */\n",
       "        background-size: auto;\n",
       "    }\n",
       "    progress:not([value]), progress:not([value])::-webkit-progress-bar {\n",
       "        background: repeating-linear-gradient(45deg, #7e7e7e, #7e7e7e 10px, #5c5c5c 10px, #5c5c5c 20px);\n",
       "    }\n",
       "    .progress-bar-interrupted, .progress-bar-interrupted::-webkit-progress-bar {\n",
       "        background: #F44336;\n",
       "    }\n",
       "</style>\n"
      ],
      "text/plain": [
       "<IPython.core.display.HTML object>"
      ]
     },
     "metadata": {},
     "output_type": "display_data"
    },
    {
     "data": {
      "text/html": [
       "\n",
       "    <div>\n",
       "      <progress value='20000' class='' max='20000' style='width:300px; height:20px; vertical-align: middle;'></progress>\n",
       "      100.00% [20000/20000 00:27&lt;00:00 Sampling chain 2, 0 divergences]\n",
       "    </div>\n",
       "    "
      ],
      "text/plain": [
       "<IPython.core.display.HTML object>"
      ]
     },
     "metadata": {},
     "output_type": "display_data"
    },
    {
     "data": {
      "text/html": [
       "\n",
       "<style>\n",
       "    /* Turns off some styling */\n",
       "    progress {\n",
       "        /* gets rid of default border in Firefox and Opera. */\n",
       "        border: none;\n",
       "        /* Needs to be in here for Safari polyfill so background images work as expected. */\n",
       "        background-size: auto;\n",
       "    }\n",
       "    progress:not([value]), progress:not([value])::-webkit-progress-bar {\n",
       "        background: repeating-linear-gradient(45deg, #7e7e7e, #7e7e7e 10px, #5c5c5c 10px, #5c5c5c 20px);\n",
       "    }\n",
       "    .progress-bar-interrupted, .progress-bar-interrupted::-webkit-progress-bar {\n",
       "        background: #F44336;\n",
       "    }\n",
       "</style>\n"
      ],
      "text/plain": [
       "<IPython.core.display.HTML object>"
      ]
     },
     "metadata": {},
     "output_type": "display_data"
    },
    {
     "data": {
      "text/html": [
       "\n",
       "    <div>\n",
       "      <progress value='20000' class='' max='20000' style='width:300px; height:20px; vertical-align: middle;'></progress>\n",
       "      100.00% [20000/20000 00:28&lt;00:00 Sampling chain 3, 0 divergences]\n",
       "    </div>\n",
       "    "
      ],
      "text/plain": [
       "<IPython.core.display.HTML object>"
      ]
     },
     "metadata": {},
     "output_type": "display_data"
    },
    {
     "name": "stderr",
     "output_type": "stream",
     "text": [
      "Sampling 4 chains for 5_000 tune and 15_000 draw iterations (20_000 + 60_000 draws total) took 112 seconds.\n",
      "The rhat statistic is larger than 1.01 for some parameters. This indicates problems during sampling. See https://arxiv.org/abs/1903.08008 for details\n",
      "The effective sample size per chain is smaller than 100 for some parameters.  A higher number is needed for reliable rhat and ess computation. See https://arxiv.org/abs/1903.08008 for details\n"
     ]
    },
    {
     "name": "stdout",
     "output_type": "stream",
     "text": [
      "          mean     sd  hdi_3%  hdi_97%  mcse_mean  mcse_sd  ess_bulk  \\\n",
      "m1       2.145  0.248   1.765    2.583      0.122    0.093       4.0   \n",
      "m2       0.027  0.001   0.026    0.028      0.000    0.000       8.0   \n",
      "xinter  11.397  0.169  11.131   11.681      0.083    0.064       4.0   \n",
      "sigma    0.160  0.004   0.153    0.168      0.001    0.001      27.0   \n",
      "\n",
      "        ess_tail  r_hat  \n",
      "m1          11.0   3.18  \n",
      "m2          37.0   1.45  \n",
      "xinter      11.0   3.13  \n",
      "sigma      135.0   1.09  \n",
      "Processing SSTB\n",
      "20.0\n"
     ]
    },
    {
     "name": "stderr",
     "output_type": "stream",
     "text": [
      "Sequential sampling (4 chains in 1 job)\n",
      "CompoundStep\n",
      ">Metropolis: [m1]\n",
      ">Metropolis: [m2]\n",
      ">Metropolis: [xinter]\n",
      ">Metropolis: [sigma]\n"
     ]
    },
    {
     "data": {
      "text/html": [
       "\n",
       "<style>\n",
       "    /* Turns off some styling */\n",
       "    progress {\n",
       "        /* gets rid of default border in Firefox and Opera. */\n",
       "        border: none;\n",
       "        /* Needs to be in here for Safari polyfill so background images work as expected. */\n",
       "        background-size: auto;\n",
       "    }\n",
       "    progress:not([value]), progress:not([value])::-webkit-progress-bar {\n",
       "        background: repeating-linear-gradient(45deg, #7e7e7e, #7e7e7e 10px, #5c5c5c 10px, #5c5c5c 20px);\n",
       "    }\n",
       "    .progress-bar-interrupted, .progress-bar-interrupted::-webkit-progress-bar {\n",
       "        background: #F44336;\n",
       "    }\n",
       "</style>\n"
      ],
      "text/plain": [
       "<IPython.core.display.HTML object>"
      ]
     },
     "metadata": {},
     "output_type": "display_data"
    },
    {
     "data": {
      "text/html": [
       "\n",
       "    <div>\n",
       "      <progress value='20000' class='' max='20000' style='width:300px; height:20px; vertical-align: middle;'></progress>\n",
       "      100.00% [20000/20000 00:27&lt;00:00 Sampling chain 0, 0 divergences]\n",
       "    </div>\n",
       "    "
      ],
      "text/plain": [
       "<IPython.core.display.HTML object>"
      ]
     },
     "metadata": {},
     "output_type": "display_data"
    },
    {
     "data": {
      "text/html": [
       "\n",
       "<style>\n",
       "    /* Turns off some styling */\n",
       "    progress {\n",
       "        /* gets rid of default border in Firefox and Opera. */\n",
       "        border: none;\n",
       "        /* Needs to be in here for Safari polyfill so background images work as expected. */\n",
       "        background-size: auto;\n",
       "    }\n",
       "    progress:not([value]), progress:not([value])::-webkit-progress-bar {\n",
       "        background: repeating-linear-gradient(45deg, #7e7e7e, #7e7e7e 10px, #5c5c5c 10px, #5c5c5c 20px);\n",
       "    }\n",
       "    .progress-bar-interrupted, .progress-bar-interrupted::-webkit-progress-bar {\n",
       "        background: #F44336;\n",
       "    }\n",
       "</style>\n"
      ],
      "text/plain": [
       "<IPython.core.display.HTML object>"
      ]
     },
     "metadata": {},
     "output_type": "display_data"
    },
    {
     "data": {
      "text/html": [
       "\n",
       "    <div>\n",
       "      <progress value='20000' class='' max='20000' style='width:300px; height:20px; vertical-align: middle;'></progress>\n",
       "      100.00% [20000/20000 00:28&lt;00:00 Sampling chain 1, 0 divergences]\n",
       "    </div>\n",
       "    "
      ],
      "text/plain": [
       "<IPython.core.display.HTML object>"
      ]
     },
     "metadata": {},
     "output_type": "display_data"
    },
    {
     "data": {
      "text/html": [
       "\n",
       "<style>\n",
       "    /* Turns off some styling */\n",
       "    progress {\n",
       "        /* gets rid of default border in Firefox and Opera. */\n",
       "        border: none;\n",
       "        /* Needs to be in here for Safari polyfill so background images work as expected. */\n",
       "        background-size: auto;\n",
       "    }\n",
       "    progress:not([value]), progress:not([value])::-webkit-progress-bar {\n",
       "        background: repeating-linear-gradient(45deg, #7e7e7e, #7e7e7e 10px, #5c5c5c 10px, #5c5c5c 20px);\n",
       "    }\n",
       "    .progress-bar-interrupted, .progress-bar-interrupted::-webkit-progress-bar {\n",
       "        background: #F44336;\n",
       "    }\n",
       "</style>\n"
      ],
      "text/plain": [
       "<IPython.core.display.HTML object>"
      ]
     },
     "metadata": {},
     "output_type": "display_data"
    },
    {
     "data": {
      "text/html": [
       "\n",
       "    <div>\n",
       "      <progress value='20000' class='' max='20000' style='width:300px; height:20px; vertical-align: middle;'></progress>\n",
       "      100.00% [20000/20000 00:27&lt;00:00 Sampling chain 2, 0 divergences]\n",
       "    </div>\n",
       "    "
      ],
      "text/plain": [
       "<IPython.core.display.HTML object>"
      ]
     },
     "metadata": {},
     "output_type": "display_data"
    },
    {
     "data": {
      "text/html": [
       "\n",
       "<style>\n",
       "    /* Turns off some styling */\n",
       "    progress {\n",
       "        /* gets rid of default border in Firefox and Opera. */\n",
       "        border: none;\n",
       "        /* Needs to be in here for Safari polyfill so background images work as expected. */\n",
       "        background-size: auto;\n",
       "    }\n",
       "    progress:not([value]), progress:not([value])::-webkit-progress-bar {\n",
       "        background: repeating-linear-gradient(45deg, #7e7e7e, #7e7e7e 10px, #5c5c5c 10px, #5c5c5c 20px);\n",
       "    }\n",
       "    .progress-bar-interrupted, .progress-bar-interrupted::-webkit-progress-bar {\n",
       "        background: #F44336;\n",
       "    }\n",
       "</style>\n"
      ],
      "text/plain": [
       "<IPython.core.display.HTML object>"
      ]
     },
     "metadata": {},
     "output_type": "display_data"
    },
    {
     "data": {
      "text/html": [
       "\n",
       "    <div>\n",
       "      <progress value='20000' class='' max='20000' style='width:300px; height:20px; vertical-align: middle;'></progress>\n",
       "      100.00% [20000/20000 00:30&lt;00:00 Sampling chain 3, 0 divergences]\n",
       "    </div>\n",
       "    "
      ],
      "text/plain": [
       "<IPython.core.display.HTML object>"
      ]
     },
     "metadata": {},
     "output_type": "display_data"
    },
    {
     "name": "stderr",
     "output_type": "stream",
     "text": [
      "Sampling 4 chains for 5_000 tune and 15_000 draw iterations (20_000 + 60_000 draws total) took 114 seconds.\n",
      "The rhat statistic is larger than 1.01 for some parameters. This indicates problems during sampling. See https://arxiv.org/abs/1903.08008 for details\n",
      "The effective sample size per chain is smaller than 100 for some parameters.  A higher number is needed for reliable rhat and ess computation. See https://arxiv.org/abs/1903.08008 for details\n"
     ]
    },
    {
     "name": "stdout",
     "output_type": "stream",
     "text": [
      "          mean     sd  hdi_3%  hdi_97%  mcse_mean  mcse_sd  ess_bulk  \\\n",
      "m1       1.023  0.194   0.819    1.459      0.093    0.071       5.0   \n",
      "m2       0.019  0.000   0.019    0.020      0.000    0.000       6.0   \n",
      "xinter  11.667  0.263  11.074   12.000      0.128    0.098       5.0   \n",
      "sigma    0.104  0.006   0.096    0.119      0.003    0.002       7.0   \n",
      "\n",
      "        ess_tail  r_hat  \n",
      "m1          11.0   2.53  \n",
      "m2          17.0   1.74  \n",
      "xinter      11.0   2.53  \n",
      "sigma       11.0   1.50  \n",
      "2018 sta typo DONB\n",
      "Skipping DONB, no data\n"
     ]
    }
   ],
   "source": [
    "events_list = []\n",
    "mags_list = []\n",
    "stas_list = []\n",
    "hypdist_list = []\n",
    "xhighs_list = []\n",
    "m1s_list = []\n",
    "m2s_list = []\n",
    "xinters_list = []\n",
    "sigmas_list = []\n",
    "trans_time_list = []\n",
    "\n",
    "for ii in range(len(events)):\n",
    "    \n",
    "    evt_id = events['evt_id'][ii]\n",
    "    print(evt_id)\n",
    "\n",
    "    for idx in range(len(snr_array)):\n",
    "\n",
    "        sta = snr_array['Sta'][idx]\n",
    "        \n",
    "        # Figure out the bounds for the MCMC based on the event and hypocentral distance (rainbow plots)\n",
    "        xlow = 10\n",
    "        \n",
    "        if evt_id == '2009-10-03_M6.1':\n",
    "            mag = '6.1'\n",
    "            hypdist = snr_array['2009_hyp_dist_km'][idx]\n",
    "        elif evt_id == '2013-10-31_M6.3':\n",
    "            mag = '6.3'\n",
    "            hypdist = snr_array['2013_hyp_dist_km'][idx]\n",
    "            if sta == 'FBRB' or sta == 'SSTB' or sta == 'DONB':\n",
    "                xhigh = 30\n",
    "            elif sta == 'HGSB' or sta == 'CHMB' or sta == 'ZANB':\n",
    "                xhigh = 20\n",
    "            elif sta == 'TRKB' or sta == 'SJNB':\n",
    "                xhigh = 25\n",
    "            elif sta == 'SSNB':\n",
    "                xhigh = 15\n",
    "            else:\n",
    "                print('2013 sta typo ' + str(sta))\n",
    "        elif evt_id == '2018-02-04_M6.1':\n",
    "            mag = '6.1'\n",
    "            hypdist = snr_array['2018_hyp_dist_km'][idx]\n",
    "            if sta == 'TRKB' or sta == 'SJNB':\n",
    "                xhigh = 13\n",
    "            elif sta == 'HGSB' or sta == 'CHMB' or sta == 'SSNB' or sta == 'ZANB':\n",
    "                xhigh = 35\n",
    "            elif sta == 'FBRB' or sta == 'SSTB':\n",
    "                xhigh = 55\n",
    "            else:\n",
    "                print('2018 sta typo ' + str (sta))\n",
    "        \n",
    "        int_hypdist = int(hypdist)\n",
    "        \n",
    "        # if evt_id == '2013-10-31_M6.3' and sta == 'SSNB' or sta == 'SSTB':\n",
    "        #     pass\n",
    "        # elif evt_id == '2018-02-04_M6.1' and sta == 'TRKB':\n",
    "        #     pass\n",
    "        # else:\n",
    "        #     continue\n",
    "        \n",
    "        try:\n",
    "            pst = read(path + 'filtered_abs_peak_post_p/' + evt_id + '/' + sta + '.mseed')\n",
    "        except:\n",
    "            print('Skipping ' + sta + ', no data')\n",
    "            continue\n",
    "\n",
    "        print('Processing ' + str(sta))\n",
    "        \n",
    "        times = pst[0].times()\n",
    "        data = pst[0].data\n",
    "        log10_data = np.log10(data)\n",
    "        samp_rate = pst[0].stats.sampling_rate\n",
    "        print(samp_rate)\n",
    "        \n",
    "        vec_start = int(xlow*samp_rate)\n",
    "        vec_end = int(xhigh*samp_rate)\n",
    "\n",
    "        # Split into x and y vectors\n",
    "        xobserved = times[vec_start:vec_end]\n",
    "        yobserved = log10_data[vec_start:vec_end]\n",
    "        x0 = xobserved[0]\n",
    "        y0 = yobserved[0]\n",
    "        \n",
    "        # in order to pass the x variable into the target function it needs to be \n",
    "        # converted to a Theano \"shared\" variable\n",
    "        pt_xobserved = pytensor.shared(xobserved)\n",
    "        pt_x0 = pytensor.shared(x0)\n",
    "        pt_y0 = pytensor.shared(y0)\n",
    "            \n",
    "        # MCMC run parameters, these are good numbers for a \"production\" run. If you are\n",
    "        # fooling arund these can be lower to iterate faster\n",
    "        Nburn = 5000 # burn in samples that get discarded\n",
    "        Nmcmc = 15000 # bump to at least 5-10k\n",
    "        Nchains = 4\n",
    "        Ncores = 1\n",
    "        \n",
    "        # Bounds for the prior distributions\n",
    "        m1_low = -1; m1_high = 20\n",
    "        m2_low = -1; m2_high = 3\n",
    "        xinter_low = 10 ; xinter_high = 25 # location of the line slope change\n",
    "        \n",
    "        # Define the Bayesian model\n",
    "        with pm.Model()as model:\n",
    "            \n",
    "            # Use normal distributions as priors\n",
    "            m1 = pm.Uniform('m1', lower = m1_low, upper = m1_high)\n",
    "            m2 = pm.Uniform('m2', lower = m2_low, upper = m2_high)\n",
    "            # m1 = pm.Normal('m1', mu = 0.5, sigma = 1)\n",
    "            # m2 = pm.Normal('m2', mu = -0.1, sigma = 5)\n",
    "            xinter = pm.Uniform('xinter', lower = xinter_low, upper = xinter_high)\n",
    "            sigma = pm.HalfCauchy('sigma', beta = 10, initval = 1)\n",
    "        \n",
    "            # This is the model\n",
    "            likelihood = pm.Normal('y', mu = two_straight_lines(pt_xobserved,m1,m2,xinter,pt_x0,pt_y0),\n",
    "                                    observed = yobserved, sigma = sigma)\n",
    "\n",
    "            # NUTS sampler (default) is gradient based and won't work, use metropolis\n",
    "            step = pm.Metropolis(scaling = 0.1)\n",
    "            \n",
    "            # This runs the mcmc sampler\n",
    "            mcmc = pm.sample(Nmcmc, tune = Nburn, chains = Nchains, cores = Ncores, step = step)\n",
    "        \n",
    "        # Done, now is post-processing to get the data out of the sampler\n",
    "\n",
    "        posterior = az.extract(mcmc)\n",
    "        \n",
    "        # Unwrap coeficients - WRITE LINES TO SAVE THE ARRAYS!!!\n",
    "        m1_array = posterior.m1.values\n",
    "        m1 = np.mean(m1_array)\n",
    "        # print('m1 mean: ' + str(round(m1,2)))\n",
    "        \n",
    "        m2_array = posterior.m2.values\n",
    "        m2 = np.mean(m2_array)\n",
    "        # print('m2 mean: ' + str(round(m2,2)))\n",
    "        \n",
    "        xinter_array = posterior.xinter.values\n",
    "        xinter = np.mean(xinter_array)\n",
    "        # print('xinter Mean: ' + str(round(xinter,2)))\n",
    "        \n",
    "        sigma_array = posterior.sigma.values\n",
    "        sigma = np.mean(sigma_array)\n",
    "\n",
    "        # Lines!\n",
    "        b1 = y0 - m1*x0\n",
    "        b2 = m1*xinter + b1 - m2*xinter\n",
    "        \n",
    "        # Make plot to check stuff\n",
    "        xpredicted = np.arange(xobserved.min(), xobserved.max()+0.1, 0.1)\n",
    "        ypredicted = m1*xpredicted + b1\n",
    "        i = np.where(xpredicted > xinter)[0]\n",
    "        ypredicted[i] = m2*xpredicted[i] + b2\n",
    "        \n",
    "        # Get one-sigma region (need to obtain a ton of forward models and get stats)\n",
    "        N = len(posterior.m1.values)\n",
    "        \n",
    "        yfit = np.zeros((len(xpredicted), N))\n",
    "        for k in range(N):\n",
    "            yfit[:,k] = non_pytensor_two_straight_lines(xpredicted,m1_array[k],m2_array[k],xinter_array[k],x0,y0)\n",
    "        mu = yfit.mean(1)\n",
    "        sig = yfit.std(1) * 1.95 #for 95% confidence\n",
    "        mu_plus = mu + sig\n",
    "        mu_minus = mu - sig\n",
    "        \n",
    "        # Least squares\n",
    "        mls, bls = np.polyfit(xobserved, yobserved, 1)\n",
    "        \n",
    "        # Find the transition point in ypredicted\n",
    "        diff = np.round(np.diff(ypredicted), decimals = 5)\n",
    "        # print(diff)\n",
    "        first_slope = diff[0]\n",
    "        second_slope = diff[-1]\n",
    "        trans_idx = np.where((diff != first_slope) & (diff != second_slope))[0][0] + 1\n",
    "        \n",
    "        # Get the transition point\n",
    "        mcmc_trans_x = xpredicted[trans_idx] # Number\n",
    "        mcmc_trans_y = ypredicted[trans_idx]\n",
    "        \n",
    "        # Append things\n",
    "        events_list.append(evt_id)\n",
    "        mags_list.append(mag)\n",
    "        stas_list.append(sta)\n",
    "        hypdist_list.append(int_hypdist)\n",
    "        xhighs_list.append(xhigh)\n",
    "        m1s_list.append(m1)\n",
    "        m2s_list.append(m2)\n",
    "        xinters_list.append(xinter)\n",
    "        sigmas_list.append(sigma)\n",
    "        trans_time_list.append(mcmc_trans_x)\n",
    "        \n",
    "        # Create folder for the event\n",
    "        array_save_dir = path + 'mcmc_arrays/' + evt_id + '/' + sta + '/'\n",
    "        if os.path.isdir(array_save_dir):\n",
    "            pass\n",
    "        else:\n",
    "            os.makedirs(array_save_dir)\n",
    "\n",
    "        np.save(array_save_dir + 'xobserved.npy', xobserved)\n",
    "        np.save(array_save_dir + 'yobserved.npy', yobserved)\n",
    "        np.save(array_save_dir + 'xpredicted.npy', xpredicted)\n",
    "        np.save(array_save_dir + 'ypredicted.npy', ypredicted)\n",
    "        np.save(array_save_dir + 'forward_mus.npy', mu)\n",
    "        np.save(array_save_dir + 'foward_sigs.npy', sig)\n",
    "        \n",
    "        summary = az.summary(mcmc, fmt = 'wide')\n",
    "        print(summary)\n",
    "        summary.to_csv(array_save_dir + 'mcmc_summary.csv', index = False)\n",
    "        \n",
    "        # Folder for figures\n",
    "        fig_save_dir = path + 'mcmc_plots/' + evt_id + '/'\n",
    "        if os.path.isdir(fig_save_dir):\n",
    "            pass\n",
    "        else:\n",
    "            os.makedirs(fig_save_dir)\n",
    "        \n",
    "        az.plot_trace(mcmc)\n",
    "        # plt.show()\n",
    "        plt.savefig(fig_save_dir + sta + '_stats_plots.png', format = 'PNG')\n",
    "        plt.close()\n",
    "\n",
    "        # Plot all solutions\n",
    "        fig = plt.figure(dpi = 100)\n",
    "        ax = fig.add_subplot(111)\n",
    "        ax.set_title(str(sta))\n",
    "        \n",
    "        ax.plot(xobserved, yobserved, color = 'blue', label = 'Observed (log peak strain)')\n",
    "        ax.plot(xpredicted, ypredicted, color = 'red', label = 'Predicted (MCMC)')\n",
    "        # ax.plot(xpredicted, mu, color = 'green', linestyle = '--', label = 'yfit')\n",
    "        # ax.plot(xpredicted, xpredicted * mls + bls, color = 'orange', label = 'np.polyfit least squares')\n",
    "        ax.scatter(xpredicted[trans_idx], ypredicted[trans_idx], marker = 'o', color = 'black', label = 'Transition at ' + str(round(xpredicted[trans_idx],2)) + ' sec')\n",
    "        # ax.scatter(closest_trans_x, closest_trans_y, marker = 'o', color = 'green', label = 'Adjusted transition at ' + str(round(closest_trans_x,2)) + ' sec')\n",
    "        # ax2 = ax.twinx()\n",
    "        # ax2.plot(xobserved, pythags_arr, color = 'violet')\n",
    "        # ax2.axhline(closest_trans_x, color = 'violet', linestyle = '--')\n",
    "        ax.fill_between(xpredicted, mu_plus, mu_minus, color = 'gray', alpha = 0.2, label = '95% confidence') # 95% confidence interval\n",
    "        ax.set_xlabel('Time (s) - p-wave at 10s')\n",
    "        ax.set_ylabel('log10 of peak strain')\n",
    "        # ax.set_xlim(10,13)\n",
    "        ax.legend()\n",
    "        \n",
    "        # plt.show()\n",
    "            \n",
    "        plt.savefig(fig_save_dir + sta + '.png', format = 'PNG')\n",
    "        plt.close()"
   ]
  },
  {
   "cell_type": "code",
   "execution_count": 224,
   "id": "6f1f5160-8219-4de7-b1a2-9db7ce022f07",
   "metadata": {},
   "outputs": [
    {
     "data": {
      "text/plain": [
       "array([['2013-10-31_M6.3', '6.3', 'TRKB', '65', '25',\n",
       "        '2.0370297273159603', '0.06869364991700001',\n",
       "        '11.330833499623667', '0.18954197352353427', '11.4'],\n",
       "       ['2013-10-31_M6.3', '6.3', 'SJNB', '59', '25',\n",
       "        '2.1771010131754918', '0.08494730721858243',\n",
       "        '11.198908289707564', '0.14908622354335138', '11.2'],\n",
       "       ['2013-10-31_M6.3', '6.3', 'HGSB', '11', '20',\n",
       "        '6.050762387683414', '0.0835544969547252', '10.348306949264224',\n",
       "        '0.12436234690303598', '10.4'],\n",
       "       ['2013-10-31_M6.3', '6.3', 'CHMB', '11', '20',\n",
       "        '9.867625735021957', '0.07887950279331654', '10.198882520995648',\n",
       "        '0.09625171512239407', '10.2'],\n",
       "       ['2013-10-31_M6.3', '6.3', 'SSNB', '16', '15',\n",
       "        '8.369876868358093', '0.2289248086081107', '10.200698216112476',\n",
       "        '0.09463543206833475', '10.3'],\n",
       "       ['2013-10-31_M6.3', '6.3', 'ZANB', '21', '20',\n",
       "        '16.23209771484494', '0.06410197052237042', '10.177930482931844',\n",
       "        '0.10590535114602595', '10.2'],\n",
       "       ['2013-10-31_M6.3', '6.3', 'FBRB', '52', '30',\n",
       "        '1.6096543040168265', '0.07603610895858191',\n",
       "        '11.237796130020525', '0.11744401588425972', '11.3'],\n",
       "       ['2013-10-31_M6.3', '6.3', 'SSTB', '50', '30',\n",
       "        '7.683660778958919', '0.0748689818519869', '10.334602832210662',\n",
       "        '0.12544603077918534', '10.4'],\n",
       "       ['2013-10-31_M6.3', '6.3', 'DONB', '67', '30',\n",
       "        '1.0340436310023553', '0.0767507834637365', '11.411516849043386',\n",
       "        '0.1615959263376686', '11.5'],\n",
       "       ['2018-02-04_M6.1', '6.1', 'TRKB', '9', '13',\n",
       "        '10.160985942535882', '0.6240359009459776', '10.175735857633654',\n",
       "        '0.17331576342443858', '10.2'],\n",
       "       ['2018-02-04_M6.1', '6.1', 'SJNB', '12', '13',\n",
       "        '1.6667570152108482', '0.4052840919495868', '10.660626895042295',\n",
       "        '0.11039280253247812', '10.7'],\n",
       "       ['2018-02-04_M6.1', '6.1', 'HGSB', '79', '35',\n",
       "        '1.9826105117987975', '0.04286307058404387',\n",
       "        '11.207192552097371', '0.18346455173484671', '11.3'],\n",
       "       ['2018-02-04_M6.1', '6.1', 'CHMB', '78', '35',\n",
       "        '0.6718343176300184', '0.050242530103295796',\n",
       "        '12.178176150261747', '0.09502191380443296', '12.2'],\n",
       "       ['2018-02-04_M6.1', '6.1', 'SSNB', '85', '35',\n",
       "        '1.4059787493419404', '0.054954776935322094',\n",
       "        '11.23350032631176', '0.14744802347461367', '11.3'],\n",
       "       ['2018-02-04_M6.1', '6.1', 'ZANB', '88', '35',\n",
       "        '1.8632122835572702', '0.03986977265252364',\n",
       "        '10.809972253335172', '0.07978243707094346', '10.9'],\n",
       "       ['2018-02-04_M6.1', '6.1', 'FBRB', '120', '55',\n",
       "        '2.145184362016932', '0.026651175883674383',\n",
       "        '11.397278839416694', '0.1601903265070676', '11.4'],\n",
       "       ['2018-02-04_M6.1', '6.1', 'SSTB', '118', '55',\n",
       "        '1.02310994630209', '0.019247507093629535', '11.667452293608045',\n",
       "        '0.10417407964000831', '11.7']], dtype='<U32')"
      ]
     },
     "execution_count": 224,
     "metadata": {},
     "output_type": "execute_result"
    }
   ],
   "source": [
    "mcmc_array = np.column_stack((np.array(events_list), np.array(mags_list), np.array(stas_list), np.array(hypdist_list),\n",
    "                             np.array(xhighs_list), np.array(m1s_list), np.array(m2s_list), np.array(xinters_list),\n",
    "                             np.array(sigmas_list), np.round(np.array(trans_time_list),2)))\n",
    "\n",
    "mcmc_array"
   ]
  },
  {
   "cell_type": "code",
   "execution_count": 225,
   "id": "7c8696ab-7d33-4f3d-aa44-758c82cb97e0",
   "metadata": {},
   "outputs": [],
   "source": [
    "# # Insert the re-run stations into the results array\n",
    "\n",
    "# old_mcmc_array = np.load(path + 'mcmc_arrays/mcmc_colstack_array.npy')\n",
    "# print(old_mcmc_array.shape)\n",
    "\n",
    "# ssnb13 = np.where((old_mcmc_array[:,0] == '2013-10-31_M6.3') & (old_mcmc_array[:,2] == 'SSNB'))[0]\n",
    "# # print(old_mcmc_array[ssnb13])\n",
    "# sstb13 = np.where((old_mcmc_array[:,0] == '2013-10-31_M6.3') & (old_mcmc_array[:,2] == 'SSTB'))[0]\n",
    "# # print(old_mcmc_array[sstb13])\n",
    "# trkb18 = np.where((old_mcmc_array[:,0] == '2018-02-04_M6.1') & (old_mcmc_array[:,2] == 'TRKB'))[0]\n",
    "# # print(old_mcmc_array[trkb18])\n",
    "\n",
    "# del_array = np.delete(old_mcmc_array, [ssnb13, sstb13, trkb18], axis = 0)\n",
    "# print(del_array.shape)\n",
    "\n",
    "# ins_array = np.insert(del_array, ssnb13, mcmc_array[0], axis = 0)\n",
    "# ins_array = np.insert(ins_array, sstb13, mcmc_array[1], axis = 0)\n",
    "# ins_array = np.insert(ins_array, trkb18, mcmc_array[2], axis = 0)\n",
    "# print(ins_array.shape)\n",
    "\n",
    "# # pd_old = pd.DataFrame(old_mcmc_array)\n",
    "# # pd_ins = pd.DataFrame(ins_array)\n",
    "\n",
    "# np.save(path + 'mcmc_arrays/mcmc_colstack_array.npy', ins_array)"
   ]
  },
  {
   "cell_type": "code",
   "execution_count": 226,
   "id": "20fec9fa-b02d-4374-9fd0-64047de8c330",
   "metadata": {},
   "outputs": [],
   "source": [
    "mcmc_array = np.column_stack((np.array(events_list), np.array(mags_list), np.array(stas_list), np.array(hypdist_list),\n",
    "                             np.array(xhighs_list), np.array(m1s_list), np.array(m2s_list), np.array(xinters_list),\n",
    "                             np.array(sigmas_list), np.round(np.array(trans_time_list),2)))\n",
    "\n",
    "np.save(path + 'mcmc_arrays/mcmc_colstack_array.npy', mcmc_array)"
   ]
  },
  {
   "cell_type": "code",
   "execution_count": 227,
   "id": "e34872c0-e0c1-43df-a8a9-165af87583f9",
   "metadata": {},
   "outputs": [
    {
     "data": {
      "text/plain": [
       "(17, 10)"
      ]
     },
     "execution_count": 227,
     "metadata": {},
     "output_type": "execute_result"
    }
   ],
   "source": [
    "taiwan_mcmc_array = np.load(path + 'mcmc_arrays/mcmc_colstack_array.npy')\n",
    "taiwan_mcmc_array.shape\n",
    "\n",
    "# Columns:\n",
    "# 0. Event name\n",
    "# 1. Magnitude\n",
    "# 2. Station name\n",
    "# 3. Hypocentral distance (km)\n",
    "# 4. xhigh\n",
    "# 5. m1 slope\n",
    "# 6. m2 slope\n",
    "# 7. intersection point\n",
    "# 8. sigma\n",
    "# 9. transition time"
   ]
  },
  {
   "cell_type": "code",
   "execution_count": 228,
   "id": "8d63d493-4580-4150-a292-894c61a53f99",
   "metadata": {},
   "outputs": [
    {
     "data": {
      "text/plain": [
       "(211, 10)"
      ]
     },
     "execution_count": 228,
     "metadata": {},
     "output_type": "execute_result"
    }
   ],
   "source": [
    "na_mcmc_array = np.load('/Users/sydneydybing/StrainProject/2024/filtered_mcmc_arrays/summary_array.npy')\n",
    "na_mcmc_array.shape"
   ]
  },
  {
   "cell_type": "code",
   "execution_count": 229,
   "id": "e1d1fd42-104d-4d7f-a61b-bc9f667494e5",
   "metadata": {},
   "outputs": [
    {
     "data": {
      "text/plain": [
       "(8, 10)"
      ]
     },
     "execution_count": 229,
     "metadata": {},
     "output_type": "execute_result"
    }
   ],
   "source": [
    "tohoku = pd.read_csv('/Users/sydneydybing/StrainProject/2024/tohoku_strain_data/stations_hypdists_snrs_flatsecs.list')\n",
    "# tohoku\n",
    "tohoku_mcmc_array = np.load('/Users/sydneydybing/StrainProject/2024/tohoku_strain_data/mcmc_arrays/mcmc_colstack_array.npy')\n",
    "tohoku_mcmc_array.shape"
   ]
  },
  {
   "cell_type": "code",
   "execution_count": 230,
   "id": "70999ad6-7de3-4ac6-98d4-56172879aff0",
   "metadata": {},
   "outputs": [],
   "source": [
    "# Calculate earthquake source durations\n",
    "\n",
    "# Get M0 from Mw, then use relation in Melgar and Hayes, 2017 to get duration\n",
    "\n",
    "mags_for_relation = np.arange(6,9.25,0.25)\n",
    "# print(mags_for_dur)\n",
    "\n",
    "# Preferred params for source duration\n",
    "apref_sd = -6.407\n",
    "bpref_sd = 0.385\n",
    "\n",
    "apref_rt = -5.323\n",
    "bpref_rt = 0.293\n",
    "\n",
    "source_durs = []\n",
    "rise_times = []\n",
    "\n",
    "for Mw in mags_for_relation:\n",
    "    \n",
    "    M0 = 10**(1.5*Mw + 9.05)\n",
    "    # print(M0)\n",
    "    \n",
    "    log_sd = apref_sd + bpref_sd * np.log10(M0)\n",
    "    source_dur = 10**log_sd\n",
    "    source_durs.append(source_dur)\n",
    "    \n",
    "    log_rt = apref_rt + bpref_rt * np.log10(M0)\n",
    "    rise_time = 10**log_rt\n",
    "    rise_times.append(rise_time)\n",
    "    "
   ]
  },
  {
   "cell_type": "code",
   "execution_count": 231,
   "id": "49808b84-5893-49b8-b245-3dfa81a97f03",
   "metadata": {},
   "outputs": [
    {
     "data": {
      "image/png": "[encoded data removed]",
      "text/plain": [
       "<Figure size 640x480 with 1 Axes>"
      ]
     },
     "metadata": {},
     "output_type": "display_data"
    }
   ],
   "source": [
    "plt.scatter(na_mcmc_array[:,1].astype(float), np.log10(na_mcmc_array[:,9].astype(float)-10), label = 'North America')\n",
    "plt.scatter(taiwan_mcmc_array[:,1].astype(float), np.log10(taiwan_mcmc_array[:,9].astype(float)-10), label = 'Taiwan (dilatometers)')\n",
    "plt.scatter(tohoku_mcmc_array[:,1].astype(float), np.log10(tohoku_mcmc_array[:,9].astype(float)-10), label = 'Tohoku')\n",
    "plt.plot(mags_for_relation, np.log10(source_durs), color = 'lime', label = 'Source duration scaling')\n",
    "plt.plot(mags_for_relation, np.log10(rise_times), color = 'turquoise', label = 'Rise time scaling')\n",
    "plt.xlabel('Earthquake magnitude')\n",
    "plt.ylabel('Log10 of transition time (s)')\n",
    "plt.legend(loc = 'upper left');"
   ]
  },
  {
   "cell_type": "code",
   "execution_count": 232,
   "id": "9af2bbbd-e506-47ca-b3e3-aab004675b66",
   "metadata": {
    "tags": []
   },
   "outputs": [
    {
     "name": "stdout",
     "output_type": "stream",
     "text": [
      "2010-01-10_M6.5\n",
      "[9.  3.6 3.  3.1 6.8 2.5 2.1]\n",
      "2010-04-04_M7.2\n",
      "[7.1]\n",
      "2011-09-09_M6.4\n",
      "[4.2 1.7 1.7 1.5 1.7 1.2 0.8 0.9 1.1 0.6 2.1 2.6 2.  2.6 0.9 1.3 5.8 1.4\n",
      " 1.2]\n",
      "2012-04-11_M6\n",
      "[1.8 2.9 2.6 3.2 2.7 3.1 3.  2.4 2.  2.1 3.  2.9 0.7 3.1]\n",
      "2012-11-08_M6.1\n",
      "[2.4 3.  1.5 1.  2.  2.4 3.7 1.7 1.5 2.6]\n",
      "2012-12-14_M6.3\n",
      "[4.2 2.6 5.6 1.  3.4]\n",
      "2013-09-03_M6.1\n",
      "[3.6]\n",
      "2014-03-10_M6.8\n",
      "[4.  3.5 3.4 3.7 2.4 2.5 3.7 7.8 1.2 1.5 3.6 2.4]\n",
      "2014-04-24_M6.5\n",
      "[3.6 4.  3.9 2.9 3.4 2.3 3.3 3.  2.9 3.1 4. ]\n",
      "2014-08-24_M6.02\n",
      "[ 0.9  1.6  1.4  2.6  2.3  4.3  5.5 10.9]\n",
      "2016-12-08_M6.6\n",
      "[4.  2.8 5.1 4.3 3.4 6.4 3.6 5.5 4.8]\n",
      "2018-08-22_M6.2\n",
      "[3.5 2.4 2.7 3.2 3.6 2.6 2.4 3.2 1.8 2.2 4.1 2.7]\n",
      "2018-10-22T05_M6.5\n",
      "[8.2 5.6 7.9 5.8 6.3 6.4]\n",
      "2018-10-22_M6.8\n",
      "[13.8 14.9]\n",
      "2019-07-04_M6.2\n",
      "[4.4 4.1]\n",
      "2019-07-04_M6.4\n",
      "[ 0.2  9.6  5.8 10.4  9.3  7.  10.2  8.2  9.4 11.3  8.3  6.   7.6  1.1\n",
      "  1.1  0.7  1.3]\n",
      "2019-07-06_M7.1\n",
      "[ 7.8  7.4  8.7 11.9  6.2  8.9 12.7  3.2 10.  10.3  9.5  9.4  6.5  8.8\n",
      "  9.7  4.3  7.3  4.3  9.3]\n",
      "2019-08-29_M6.3\n",
      "[4.3 3.7 2.5 3.8 2.4 6.3 2.8 2.4 3.1]\n",
      "2019-12-25_M6.3\n",
      "[5.4 3.4]\n",
      "2020-03-31_M6.5\n",
      "[13.5]\n",
      "2020-05-15_M6.5\n",
      "[12.1  3.3  5.5 14.4]\n",
      "2021-07-08_M6\n",
      "[ 7.2  4.1  5.5  6.7  2.6  9.8 13.4  8.2 13.1 15.  15.  12. ]\n",
      "2021-12-20_M6.2\n",
      "[12.  12.3  1.9  2.4  8.3  1.4  1.5 11.8  1.2  0.8  0.8]\n",
      "2022-11-22_M6.2\n",
      "[ 5.1  3.5  8.9 11.2]\n",
      "2022-12-20_M6.4\n",
      "[4.4 5.5 4.1 1.4 1.8 3.1 2.  0.8 0.7 0.5]\n",
      "2023-04-13_M6\n",
      "[3.8 1.3 1.8]\n",
      "2013-10-31_M6.3\n",
      "[1.4 1.2 0.4 0.2 0.3 0.2 1.3 0.4 1.5]\n",
      "2018-02-04_M6.1\n",
      "[0.2 0.7 1.3 2.2 1.3 0.9 1.4 1.7]\n"
     ]
    }
   ],
   "source": [
    "# Get mean transition time by event\n",
    "\n",
    "# North America\n",
    "\n",
    "na_unique_eventids = np.unique(na_mcmc_array[:,0])\n",
    "\n",
    "na_mags = []\n",
    "na_mean_trans_times = []\n",
    "\n",
    "for uni_id in na_unique_eventids:\n",
    "    \n",
    "    print(uni_id)\n",
    "    i = np.where(uni_id == na_mcmc_array[:,0])[0]\n",
    "    # print(i)\n",
    "    \n",
    "    trans_times = na_mcmc_array[i,9].astype(float)-10\n",
    "    mag = na_mcmc_array[i,1].astype(float)[0]\n",
    "    # print(mags)\n",
    "    print(trans_times)\n",
    "    \n",
    "    mean_trans_time = np.mean(trans_times)\n",
    "    # print(mean_trans_time)\n",
    "    \n",
    "    na_mags.append(mag)\n",
    "    na_mean_trans_times.append(mean_trans_time)\n",
    "    \n",
    "na_mags = np.array(na_mags)\n",
    "na_mean_trans_times = np.array(na_mean_trans_times)\n",
    "\n",
    "# Taiwan\n",
    "\n",
    "taiwan_unique_eventids = np.unique(taiwan_mcmc_array[:,0])\n",
    "\n",
    "taiwan_mags = []\n",
    "taiwan_mean_trans_times = []\n",
    "\n",
    "for uni_id in taiwan_unique_eventids:\n",
    "    \n",
    "    print(uni_id)\n",
    "    i = np.where(uni_id == taiwan_mcmc_array[:,0])[0]\n",
    "    # print(i)\n",
    "    \n",
    "    trans_times = taiwan_mcmc_array[i,9].astype(float)-10\n",
    "    mag = taiwan_mcmc_array[i,1].astype(float)[0]\n",
    "    # print(mags)\n",
    "    print(trans_times)\n",
    "    \n",
    "    mean_trans_time = np.mean(trans_times)\n",
    "    # print(mean_trans_time)\n",
    "    \n",
    "    taiwan_mags.append(mag)\n",
    "    taiwan_mean_trans_times.append(mean_trans_time)\n",
    "    \n",
    "taiwan_mags = np.array(taiwan_mags)\n",
    "taiwan_mean_trans_times = np.array(taiwan_mean_trans_times)\n",
    "\n",
    "# Tohoku\n",
    "\n",
    "tohoku_mags = 9.1\n",
    "tohoku_mean_trans_times = np.mean(taiwan_mcmc_array[:,9].astype(float)-10)"
   ]
  },
  {
   "cell_type": "code",
   "execution_count": null,
   "id": "6662ba45-1a52-4a19-8962-60c8ee56a261",
   "metadata": {},
   "outputs": [
    {
     "ename": "NameError",
     "evalue": "name 'mags' is not defined",
     "output_type": "error",
     "traceback": [
      "\u001b[0;31m---------------------------------------------------------------------------\u001b[0m",
      "\u001b[0;31mNameError\u001b[0m                                 Traceback (most recent call last)",
      "Cell \u001b[0;32mIn[171], line 1\u001b[0m\n\u001b[0;32m----> 1\u001b[0m m, b \u001b[38;5;241m=\u001b[39m np\u001b[38;5;241m.\u001b[39mpolyfit(\u001b[43mmags\u001b[49m, np\u001b[38;5;241m.\u001b[39mlog10(mean_trans_times), \u001b[38;5;241m1\u001b[39m)\n\u001b[1;32m      2\u001b[0m ma, ba \u001b[38;5;241m=\u001b[39m np\u001b[38;5;241m.\u001b[39mpolyfit(mcmc_array[:,\u001b[38;5;241m1\u001b[39m]\u001b[38;5;241m.\u001b[39mastype(\u001b[38;5;28mfloat\u001b[39m), np\u001b[38;5;241m.\u001b[39mlog10(mcmc_array[:,\u001b[38;5;241m9\u001b[39m]\u001b[38;5;241m.\u001b[39mastype(\u001b[38;5;28mfloat\u001b[39m)\u001b[38;5;241m-\u001b[39m\u001b[38;5;241m10\u001b[39m), \u001b[38;5;241m1\u001b[39m)\n",
      "\u001b[0;31mNameError\u001b[0m: name 'mags' is not defined"
     ]
    }
   ],
   "source": [
    "m, b = np.polyfit(mags, np.log10(mean_trans_times), 1)\n",
    "ma, ba = np.polyfit(mcmc_array[:,1].astype(float), np.log10(mcmc_array[:,9].astype(float)-10), 1)"
   ]
  },
  {
   "cell_type": "code",
   "execution_count": 174,
   "id": "1d5cc45d-e087-4d73-9182-14909aa58022",
   "metadata": {},
   "outputs": [
    {
     "data": {
      "text/plain": [
       "Text(0, 0.5, 'Log10 of transition time (s)')"
      ]
     },
     "execution_count": 174,
     "metadata": {},
     "output_type": "execute_result"
    },
    {
     "data": {
      "image/png": "[encoded data removed]",
      "text/plain": [
       "<Figure size 640x480 with 1 Axes>"
      ]
     },
     "metadata": {},
     "output_type": "display_data"
    }
   ],
   "source": [
    "# plt.scatter(mcmc_array[:,3].astype(float), mcmc_array[:,9].astype(float)-10)\n",
    "# plt.xlabel('Hypocentral distance (km)')\n",
    "# plt.ylabel('Transition time (s)')\n",
    "# plt.show()\n",
    "\n",
    "plt.scatter(na_mcmc_array[:,1].astype(float), np.log10(na_mcmc_array[:,9].astype(float)-10), label = 'North America')\n",
    "plt.scatter(taiwan_mcmc_array[:,1].astype(float), np.log10(taiwan_mcmc_array[:,9].astype(float)-10), label = 'Taiwan (dilatometers)')\n",
    "plt.scatter(tohoku_mcmc_array[:,1].astype(float), np.log10(tohoku_mcmc_array[:,9].astype(float)-10), label = 'Tohoku')\n",
    "plt.scatter(na_mags, np.log10(na_mean_trans_times), marker = '+', color = 'red', label = 'Mean transition time by event')\n",
    "plt.scatter(taiwan_mags, np.log10(taiwan_mean_trans_times), marker = '+', color = 'red')\n",
    "plt.scatter(tohoku_mags, np.log10(tohoku_mean_trans_times), marker = '+', color = 'red')\n",
    "# plt.plot(mags_for_relation, np.log10(source_durs), color = 'lime', label = 'Source duration scaling')\n",
    "# plt.plot(mags_for_relation, np.log10(rise_times), color = 'turquoise', label = 'Rise time scaling')\n",
    "plt.xlabel('Earthquake magnitude')\n",
    "plt.ylabel('Log10 of transition time (s)')\n",
    "# plt.legend(loc = 'upper left');\n",
    "\n",
    "# plt.scatter(na_mcmc_array[:,1].astype(float), np.log10(na_mcmc_array[:,9].astype(float)-10))\n",
    "# plt.scatter(mags, np.log10(mean_trans_times), marker = '+', color = 'red', label = 'Mean transition time by event')\n",
    "# # plt.plot(mags, mags * m + b, color = 'red', lw = 1)\n",
    "# plt.plot(mcmc_array[:,1].astype(float), mcmc_array[:,1].astype(float) * ma + ba, color = 'C0', lw = 1)\n",
    "# plt.plot(mags_for_relation, np.log10(source_durs), color = 'lime', label = 'Source duration scaling')\n",
    "# plt.plot(mags_for_relation, np.log10(rise_times), color = 'turquoise', label = 'Rise time scaling')\n",
    "# plt.xlabel('Earthquake magnitude')\n",
    "# plt.ylabel('Log10 of transition time (s)')\n",
    "# # plt.semilogy()\n",
    "# plt.legend()\n",
    "# plt.show()\n",
    "\n",
    "# plt.scatter(mcmc_array[:,1].astype(float), mcmc_array[:,5].astype(float))\n",
    "# plt.xlabel('Earthquake magnitude')\n",
    "# plt.ylabel('Line 1 slope')\n",
    "# plt.show()\n",
    "\n",
    "# plt.scatter(mcmc_array[:,1].astype(float), mcmc_array[:,6].astype(float))\n",
    "# plt.xlabel('Earthquake magnitude')\n",
    "# plt.ylabel('Line 2 slope')\n",
    "# plt.show()"
   ]
  },
  {
   "cell_type": "code",
   "execution_count": 216,
   "id": "8e2c46b1-87f8-4969-aeeb-3f6fb9097aaf",
   "metadata": {},
   "outputs": [],
   "source": [
    "pd_mcmc = pd.DataFrame(taiwan_mcmc_array, columns = ['eq_id', 'mag', 'sta', 'hypdist', 'xhigh', 'm1', 'm2', 'xinter', 'sigma', 'trans_time'])\n",
    "pd_mcmc.to_csv(path + 'mcmc_arrays/mcmc_results_summary.csv', index = False)"
   ]
  },
  {
   "cell_type": "code",
   "execution_count": 217,
   "id": "5e8194a5-928a-4c75-aed3-a95cfc0e2d14",
   "metadata": {},
   "outputs": [
    {
     "data": {
      "text/html": [
       "<div>\n",
       "<style scoped>\n",
       "    .dataframe tbody tr th:only-of-type {\n",
       "        vertical-align: middle;\n",
       "    }\n",
       "\n",
       "    .dataframe tbody tr th {\n",
       "        vertical-align: top;\n",
       "    }\n",
       "\n",
       "    .dataframe thead th {\n",
       "        text-align: right;\n",
       "    }\n",
       "</style>\n",
       "<table border=\"1\" class=\"dataframe\">\n",
       "  <thead>\n",
       "    <tr style=\"text-align: right;\">\n",
       "      <th></th>\n",
       "      <th>eq_id</th>\n",
       "      <th>mag</th>\n",
       "      <th>sta</th>\n",
       "      <th>hypdist</th>\n",
       "      <th>xhigh</th>\n",
       "      <th>m1</th>\n",
       "      <th>m2</th>\n",
       "      <th>xinter</th>\n",
       "      <th>sigma</th>\n",
       "      <th>trans_time</th>\n",
       "    </tr>\n",
       "  </thead>\n",
       "  <tbody>\n",
       "    <tr>\n",
       "      <th>0</th>\n",
       "      <td>2013-10-31_M6.3</td>\n",
       "      <td>6.3</td>\n",
       "      <td>TRKB</td>\n",
       "      <td>65</td>\n",
       "      <td>25</td>\n",
       "      <td>2.046405</td>\n",
       "      <td>0.068480</td>\n",
       "      <td>11.324532</td>\n",
       "      <td>0.189321</td>\n",
       "      <td>11.4</td>\n",
       "    </tr>\n",
       "    <tr>\n",
       "      <th>1</th>\n",
       "      <td>2013-10-31_M6.3</td>\n",
       "      <td>6.3</td>\n",
       "      <td>SJNB</td>\n",
       "      <td>59</td>\n",
       "      <td>25</td>\n",
       "      <td>2.202715</td>\n",
       "      <td>0.085420</td>\n",
       "      <td>11.181835</td>\n",
       "      <td>0.148766</td>\n",
       "      <td>11.2</td>\n",
       "    </tr>\n",
       "    <tr>\n",
       "      <th>2</th>\n",
       "      <td>2013-10-31_M6.3</td>\n",
       "      <td>6.3</td>\n",
       "      <td>HGSB</td>\n",
       "      <td>11</td>\n",
       "      <td>20</td>\n",
       "      <td>6.258803</td>\n",
       "      <td>0.084021</td>\n",
       "      <td>10.333483</td>\n",
       "      <td>0.123332</td>\n",
       "      <td>10.4</td>\n",
       "    </tr>\n",
       "    <tr>\n",
       "      <th>3</th>\n",
       "      <td>2013-10-31_M6.3</td>\n",
       "      <td>6.3</td>\n",
       "      <td>CHMB</td>\n",
       "      <td>11</td>\n",
       "      <td>20</td>\n",
       "      <td>10.064910</td>\n",
       "      <td>0.078963</td>\n",
       "      <td>10.193163</td>\n",
       "      <td>0.094482</td>\n",
       "      <td>10.2</td>\n",
       "    </tr>\n",
       "    <tr>\n",
       "      <th>4</th>\n",
       "      <td>2013-10-31_M6.3</td>\n",
       "      <td>6.3</td>\n",
       "      <td>SSNB</td>\n",
       "      <td>16</td>\n",
       "      <td>15</td>\n",
       "      <td>8.211341</td>\n",
       "      <td>0.228966</td>\n",
       "      <td>10.204646</td>\n",
       "      <td>0.094793</td>\n",
       "      <td>10.3</td>\n",
       "    </tr>\n",
       "    <tr>\n",
       "      <th>5</th>\n",
       "      <td>2013-10-31_M6.3</td>\n",
       "      <td>6.3</td>\n",
       "      <td>ZANB</td>\n",
       "      <td>21</td>\n",
       "      <td>20</td>\n",
       "      <td>16.394358</td>\n",
       "      <td>0.064127</td>\n",
       "      <td>10.174274</td>\n",
       "      <td>0.103334</td>\n",
       "      <td>10.2</td>\n",
       "    </tr>\n",
       "    <tr>\n",
       "      <th>6</th>\n",
       "      <td>2013-10-31_M6.3</td>\n",
       "      <td>6.3</td>\n",
       "      <td>FBRB</td>\n",
       "      <td>52</td>\n",
       "      <td>30</td>\n",
       "      <td>1.611918</td>\n",
       "      <td>0.075873</td>\n",
       "      <td>11.237477</td>\n",
       "      <td>0.117523</td>\n",
       "      <td>11.3</td>\n",
       "    </tr>\n",
       "    <tr>\n",
       "      <th>7</th>\n",
       "      <td>2013-10-31_M6.3</td>\n",
       "      <td>6.3</td>\n",
       "      <td>SSTB</td>\n",
       "      <td>50</td>\n",
       "      <td>30</td>\n",
       "      <td>7.943502</td>\n",
       "      <td>0.074450</td>\n",
       "      <td>10.310023</td>\n",
       "      <td>0.119879</td>\n",
       "      <td>10.4</td>\n",
       "    </tr>\n",
       "    <tr>\n",
       "      <th>8</th>\n",
       "      <td>2013-10-31_M6.3</td>\n",
       "      <td>6.3</td>\n",
       "      <td>DONB</td>\n",
       "      <td>67</td>\n",
       "      <td>30</td>\n",
       "      <td>1.015153</td>\n",
       "      <td>0.076568</td>\n",
       "      <td>11.443177</td>\n",
       "      <td>0.161560</td>\n",
       "      <td>11.5</td>\n",
       "    </tr>\n",
       "    <tr>\n",
       "      <th>9</th>\n",
       "      <td>2018-02-04_M6.1</td>\n",
       "      <td>6.1</td>\n",
       "      <td>TRKB</td>\n",
       "      <td>9</td>\n",
       "      <td>13</td>\n",
       "      <td>5.747254</td>\n",
       "      <td>0.593115</td>\n",
       "      <td>10.512826</td>\n",
       "      <td>0.223463</td>\n",
       "      <td>10.6</td>\n",
       "    </tr>\n",
       "    <tr>\n",
       "      <th>10</th>\n",
       "      <td>2018-02-04_M6.1</td>\n",
       "      <td>6.1</td>\n",
       "      <td>SJNB</td>\n",
       "      <td>12</td>\n",
       "      <td>13</td>\n",
       "      <td>1.470276</td>\n",
       "      <td>1.705200</td>\n",
       "      <td>12.615853</td>\n",
       "      <td>0.155867</td>\n",
       "      <td>12.7</td>\n",
       "    </tr>\n",
       "    <tr>\n",
       "      <th>11</th>\n",
       "      <td>2018-02-04_M6.1</td>\n",
       "      <td>6.1</td>\n",
       "      <td>HGSB</td>\n",
       "      <td>79</td>\n",
       "      <td>35</td>\n",
       "      <td>1.926129</td>\n",
       "      <td>0.042369</td>\n",
       "      <td>11.244977</td>\n",
       "      <td>0.183663</td>\n",
       "      <td>11.3</td>\n",
       "    </tr>\n",
       "    <tr>\n",
       "      <th>12</th>\n",
       "      <td>2018-02-04_M6.1</td>\n",
       "      <td>6.1</td>\n",
       "      <td>CHMB</td>\n",
       "      <td>78</td>\n",
       "      <td>35</td>\n",
       "      <td>0.666284</td>\n",
       "      <td>0.049983</td>\n",
       "      <td>12.202014</td>\n",
       "      <td>0.094885</td>\n",
       "      <td>12.3</td>\n",
       "    </tr>\n",
       "    <tr>\n",
       "      <th>13</th>\n",
       "      <td>2018-02-04_M6.1</td>\n",
       "      <td>6.1</td>\n",
       "      <td>SSNB</td>\n",
       "      <td>85</td>\n",
       "      <td>35</td>\n",
       "      <td>1.352420</td>\n",
       "      <td>0.054642</td>\n",
       "      <td>11.291293</td>\n",
       "      <td>0.147746</td>\n",
       "      <td>11.3</td>\n",
       "    </tr>\n",
       "    <tr>\n",
       "      <th>14</th>\n",
       "      <td>2018-02-04_M6.1</td>\n",
       "      <td>6.1</td>\n",
       "      <td>ZANB</td>\n",
       "      <td>88</td>\n",
       "      <td>35</td>\n",
       "      <td>1.845109</td>\n",
       "      <td>0.039821</td>\n",
       "      <td>10.821521</td>\n",
       "      <td>0.080206</td>\n",
       "      <td>10.9</td>\n",
       "    </tr>\n",
       "    <tr>\n",
       "      <th>15</th>\n",
       "      <td>2018-02-04_M6.1</td>\n",
       "      <td>6.1</td>\n",
       "      <td>FBRB</td>\n",
       "      <td>120</td>\n",
       "      <td>55</td>\n",
       "      <td>1.702380</td>\n",
       "      <td>0.025431</td>\n",
       "      <td>11.820353</td>\n",
       "      <td>0.168340</td>\n",
       "      <td>11.9</td>\n",
       "    </tr>\n",
       "    <tr>\n",
       "      <th>16</th>\n",
       "      <td>2018-02-04_M6.1</td>\n",
       "      <td>6.1</td>\n",
       "      <td>SSTB</td>\n",
       "      <td>118</td>\n",
       "      <td>55</td>\n",
       "      <td>0.714568</td>\n",
       "      <td>0.018129</td>\n",
       "      <td>12.440643</td>\n",
       "      <td>0.105523</td>\n",
       "      <td>12.5</td>\n",
       "    </tr>\n",
       "  </tbody>\n",
       "</table>\n",
       "</div>"
      ],
      "text/plain": [
       "              eq_id  mag   sta  hypdist  xhigh         m1        m2  \\\n",
       "0   2013-10-31_M6.3  6.3  TRKB       65     25   2.046405  0.068480   \n",
       "1   2013-10-31_M6.3  6.3  SJNB       59     25   2.202715  0.085420   \n",
       "2   2013-10-31_M6.3  6.3  HGSB       11     20   6.258803  0.084021   \n",
       "3   2013-10-31_M6.3  6.3  CHMB       11     20  10.064910  0.078963   \n",
       "4   2013-10-31_M6.3  6.3  SSNB       16     15   8.211341  0.228966   \n",
       "5   2013-10-31_M6.3  6.3  ZANB       21     20  16.394358  0.064127   \n",
       "6   2013-10-31_M6.3  6.3  FBRB       52     30   1.611918  0.075873   \n",
       "7   2013-10-31_M6.3  6.3  SSTB       50     30   7.943502  0.074450   \n",
       "8   2013-10-31_M6.3  6.3  DONB       67     30   1.015153  0.076568   \n",
       "9   2018-02-04_M6.1  6.1  TRKB        9     13   5.747254  0.593115   \n",
       "10  2018-02-04_M6.1  6.1  SJNB       12     13   1.470276  1.705200   \n",
       "11  2018-02-04_M6.1  6.1  HGSB       79     35   1.926129  0.042369   \n",
       "12  2018-02-04_M6.1  6.1  CHMB       78     35   0.666284  0.049983   \n",
       "13  2018-02-04_M6.1  6.1  SSNB       85     35   1.352420  0.054642   \n",
       "14  2018-02-04_M6.1  6.1  ZANB       88     35   1.845109  0.039821   \n",
       "15  2018-02-04_M6.1  6.1  FBRB      120     55   1.702380  0.025431   \n",
       "16  2018-02-04_M6.1  6.1  SSTB      118     55   0.714568  0.018129   \n",
       "\n",
       "       xinter     sigma  trans_time  \n",
       "0   11.324532  0.189321        11.4  \n",
       "1   11.181835  0.148766        11.2  \n",
       "2   10.333483  0.123332        10.4  \n",
       "3   10.193163  0.094482        10.2  \n",
       "4   10.204646  0.094793        10.3  \n",
       "5   10.174274  0.103334        10.2  \n",
       "6   11.237477  0.117523        11.3  \n",
       "7   10.310023  0.119879        10.4  \n",
       "8   11.443177  0.161560        11.5  \n",
       "9   10.512826  0.223463        10.6  \n",
       "10  12.615853  0.155867        12.7  \n",
       "11  11.244977  0.183663        11.3  \n",
       "12  12.202014  0.094885        12.3  \n",
       "13  11.291293  0.147746        11.3  \n",
       "14  10.821521  0.080206        10.9  \n",
       "15  11.820353  0.168340        11.9  \n",
       "16  12.440643  0.105523        12.5  "
      ]
     },
     "execution_count": 217,
     "metadata": {},
     "output_type": "execute_result"
    }
   ],
   "source": [
    "# Figure out the \"good\" and \"bad\" performing waveforms using an L2 norm\n",
    "\n",
    "mcmc_results = pd.read_csv(path + 'mcmc_arrays/mcmc_results_summary.csv')\n",
    "mcmc_results"
   ]
  },
  {
   "cell_type": "code",
   "execution_count": 219,
   "id": "b2107563-e7aa-4719-8b65-2c01de1f2204",
   "metadata": {},
   "outputs": [
    {
     "name": "stdout",
     "output_type": "stream",
     "text": [
      "4.186678063621151\n",
      "0.19797401584579233\n",
      "11.138358150396227\n",
      "1.9261293527104637\n",
      "0.0744499778801072\n",
      "11.237477401005512\n"
     ]
    }
   ],
   "source": [
    "print(np.mean(mcmc_results['m1'].values))\n",
    "print(np.mean(mcmc_results['m2'].values))\n",
    "print(np.mean(mcmc_results['xinter'].values))\n",
    "\n",
    "print(np.median(mcmc_results['m1'].values))\n",
    "print(np.median(mcmc_results['m2'].values))\n",
    "print(np.median(mcmc_results['xinter'].values))"
   ]
  },
  {
   "cell_type": "code",
   "execution_count": null,
   "id": "8d476898-6903-4f1c-9a5d-6b6aa9cdc8b1",
   "metadata": {},
   "outputs": [],
   "source": []
  }
 ],
 "metadata": {
  "kernelspec": {
   "display_name": "pymc_env",
   "language": "python",
   "name": "pymc_env"
  },
  "language_info": {
   "codemirror_mode": {
    "name": "ipython",
    "version": 3
   },
   "file_extension": ".py",
   "mimetype": "text/x-python",
   "name": "python",
   "nbconvert_exporter": "python",
   "pygments_lexer": "ipython3",
   "version": "3.11.8"
  }
 },
 "nbformat": 4,
 "nbformat_minor": 5
}
