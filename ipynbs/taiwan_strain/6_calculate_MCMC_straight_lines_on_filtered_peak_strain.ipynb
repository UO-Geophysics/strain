{
 "cells": [
  {
   "cell_type": "code",
   "execution_count": 2,
   "id": "efd88cde",
   "metadata": {},
   "outputs": [],
   "source": [
    "from obspy.core import Stream, read\n",
    "import numpy as np\n",
    "from pytensor.compile.ops import as_op\n",
    "import pytensor\n",
    "import pytensor.tensor as pt\n",
    "import matplotlib.pyplot as plt\n",
    "import pandas as pd\n",
    "import os \n",
    "import os.path\n",
    "import pymc as pm\n",
    "import arviz as az"
   ]
  },
  {
   "cell_type": "code",
   "execution_count": 3,
   "id": "421e122f",
   "metadata": {},
   "outputs": [],
   "source": [
    "# What exactly are the colunns here? Amplitude of waves at a specific time?\n",
    "# My equivalent = peak strain at a specific time\n",
    "\n",
    "# Build the target function, misfit to this is what is being minimized\n",
    "@as_op(itypes=[pt.dvector,pt.dscalar,pt.dscalar,pt.dscalar,pt.dscalar,pt.dscalar], otypes=[pt.dvector])\n",
    "def two_straight_lines(x,m1,m2,xinter,x0,y0):\n",
    "    '''\n",
    "    input x coordiantes are in x\n",
    "    slopes are m1 and m2\n",
    "    intercept of left hand line is b1 \n",
    "    intersection of two lines is at xinter\n",
    "    \n",
    "    Note that y intercept of second straight line is dependent on b1 and xinter\n",
    "      and defined entirely by them (so that the lines touch).\n",
    "    '''\n",
    "    \n",
    "    # Output vector\n",
    "    y_out = np.ones(len(x))\n",
    "    \n",
    "    # Before building the first straight line, calculate the intercept\n",
    "    b1 = y0 - m1*x0\n",
    "    \n",
    "    # Build first straight line segment\n",
    "    y_out = m1*x + b1\n",
    "    \n",
    "    # Find points that are after the intersection and make the second segment\n",
    "    i = np.where(x>xinter)[0]\n",
    "    \n",
    "    # Define second y intercept\n",
    "    b2 = m1*xinter + b1 - m2*xinter\n",
    "    \n",
    "    # Make second straight line\n",
    "    y_out[i] = m2*x[i] + b2\n",
    "\n",
    "    return y_out\n",
    "\n",
    "# Build the target function, misfit to this is what is being minimized\n",
    "def non_pytensor_two_straight_lines(x,m1,m2,xinter,x0,y0):\n",
    "    '''\n",
    "    input x coordiantes are in x\n",
    "    slopes are m1 and m2\n",
    "    intercept of left hand line is b1 \n",
    "    intersection of two lines is at xinter\n",
    "    \n",
    "    Note that y intercept of second straight line is dependent on b1 and xinter\n",
    "      and defined entirely by them (so that the lines touch).\n",
    "    '''\n",
    "    \n",
    "    # Output vector\n",
    "    yout = np.ones(len(x))\n",
    "    \n",
    "    # Before building the first straight line, calculate the intercept\n",
    "    b1 = y0 - m1*x0\n",
    "    \n",
    "    # Build first straight line segment\n",
    "    yout = m1*x + b1\n",
    "    \n",
    "    # Find points that are after the intersection and make the second segment\n",
    "    i = np.where(x>xinter)[0]\n",
    "    \n",
    "    # Define second y intercept\n",
    "    b2 = m1*xinter + b1 - m2*xinter\n",
    "    \n",
    "    # Make second straight line\n",
    "    yout[i] = m2*x[i] + b2\n",
    "\n",
    "    return yout"
   ]
  },
  {
   "cell_type": "code",
   "execution_count": 4,
   "id": "9a249986",
   "metadata": {},
   "outputs": [
    {
     "data": {
      "text/html": [
       "<div>\n",
       "<style scoped>\n",
       "    .dataframe tbody tr th:only-of-type {\n",
       "        vertical-align: middle;\n",
       "    }\n",
       "\n",
       "    .dataframe tbody tr th {\n",
       "        vertical-align: top;\n",
       "    }\n",
       "\n",
       "    .dataframe thead th {\n",
       "        text-align: right;\n",
       "    }\n",
       "</style>\n",
       "<table border=\"1\" class=\"dataframe\">\n",
       "  <thead>\n",
       "    <tr style=\"text-align: right;\">\n",
       "      <th></th>\n",
       "      <th>Station_name</th>\n",
       "      <th>latitude</th>\n",
       "      <th>longitude</th>\n",
       "      <th>azimuth(S1)</th>\n",
       "      <th>azimuth(S2)</th>\n",
       "      <th>azimuth(S3)</th>\n",
       "      <th>azimuth(S4)</th>\n",
       "      <th>hyp_dist_km</th>\n",
       "      <th>rms_snr</th>\n",
       "    </tr>\n",
       "  </thead>\n",
       "  <tbody>\n",
       "    <tr>\n",
       "      <th>0</th>\n",
       "      <td>KST1</td>\n",
       "      <td>33.5201</td>\n",
       "      <td>135.8363</td>\n",
       "      <td>310</td>\n",
       "      <td>40</td>\n",
       "      <td>85</td>\n",
       "      <td>175</td>\n",
       "      <td>792.746765</td>\n",
       "      <td>1.273396</td>\n",
       "    </tr>\n",
       "    <tr>\n",
       "      <th>1</th>\n",
       "      <td>HGM1</td>\n",
       "      <td>33.8675</td>\n",
       "      <td>135.7318</td>\n",
       "      <td>337</td>\n",
       "      <td>67</td>\n",
       "      <td>112</td>\n",
       "      <td>202</td>\n",
       "      <td>773.809644</td>\n",
       "      <td>1.139778</td>\n",
       "    </tr>\n",
       "    <tr>\n",
       "      <th>2</th>\n",
       "      <td>ICU1</td>\n",
       "      <td>33.9001</td>\n",
       "      <td>136.1379</td>\n",
       "      <td>141</td>\n",
       "      <td>231</td>\n",
       "      <td>276</td>\n",
       "      <td>6</td>\n",
       "      <td>743.491829</td>\n",
       "      <td>1.203692</td>\n",
       "    </tr>\n",
       "    <tr>\n",
       "      <th>3</th>\n",
       "      <td>ANO1</td>\n",
       "      <td>34.7870</td>\n",
       "      <td>136.4019</td>\n",
       "      <td>38</td>\n",
       "      <td>128</td>\n",
       "      <td>173</td>\n",
       "      <td>263</td>\n",
       "      <td>661.251185</td>\n",
       "      <td>1.113420</td>\n",
       "    </tr>\n",
       "    <tr>\n",
       "      <th>4</th>\n",
       "      <td>SSK1</td>\n",
       "      <td>33.3896</td>\n",
       "      <td>133.3229</td>\n",
       "      <td>355</td>\n",
       "      <td>85</td>\n",
       "      <td>130</td>\n",
       "      <td>220</td>\n",
       "      <td>981.546244</td>\n",
       "      <td>1.285971</td>\n",
       "    </tr>\n",
       "    <tr>\n",
       "      <th>5</th>\n",
       "      <td>UWA1</td>\n",
       "      <td>33.3859</td>\n",
       "      <td>132.4823</td>\n",
       "      <td>222</td>\n",
       "      <td>312</td>\n",
       "      <td>357</td>\n",
       "      <td>87</td>\n",
       "      <td>1045.683453</td>\n",
       "      <td>1.282839</td>\n",
       "    </tr>\n",
       "    <tr>\n",
       "      <th>6</th>\n",
       "      <td>MUR1</td>\n",
       "      <td>33.2856</td>\n",
       "      <td>134.1563</td>\n",
       "      <td>147</td>\n",
       "      <td>237</td>\n",
       "      <td>282</td>\n",
       "      <td>12</td>\n",
       "      <td>927.200827</td>\n",
       "      <td>1.258307</td>\n",
       "    </tr>\n",
       "    <tr>\n",
       "      <th>7</th>\n",
       "      <td>MYM1</td>\n",
       "      <td>34.1123</td>\n",
       "      <td>136.1815</td>\n",
       "      <td>237</td>\n",
       "      <td>327</td>\n",
       "      <td>12</td>\n",
       "      <td>102</td>\n",
       "      <td>724.694237</td>\n",
       "      <td>1.134499</td>\n",
       "    </tr>\n",
       "  </tbody>\n",
       "</table>\n",
       "</div>"
      ],
      "text/plain": [
       "  Station_name  latitude  longitude  azimuth(S1)  azimuth(S2)  azimuth(S3)  \\\n",
       "0         KST1   33.5201   135.8363          310           40           85   \n",
       "1         HGM1   33.8675   135.7318          337           67          112   \n",
       "2         ICU1   33.9001   136.1379          141          231          276   \n",
       "3         ANO1   34.7870   136.4019           38          128          173   \n",
       "4         SSK1   33.3896   133.3229          355           85          130   \n",
       "5         UWA1   33.3859   132.4823          222          312          357   \n",
       "6         MUR1   33.2856   134.1563          147          237          282   \n",
       "7         MYM1   34.1123   136.1815          237          327           12   \n",
       "\n",
       "   azimuth(S4)  hyp_dist_km   rms_snr  \n",
       "0          175   792.746765  1.273396  \n",
       "1          202   773.809644  1.139778  \n",
       "2            6   743.491829  1.203692  \n",
       "3          263   661.251185  1.113420  \n",
       "4          220   981.546244  1.285971  \n",
       "5           87  1045.683453  1.282839  \n",
       "6           12   927.200827  1.258307  \n",
       "7          102   724.694237  1.134499  "
      ]
     },
     "execution_count": 4,
     "metadata": {},
     "output_type": "execute_result"
    }
   ],
   "source": [
    "path = '/Users/sydneydybing/StrainProject/2024/tohoku_strain_data/'\n",
    "snr_array = pd.read_csv(path + 'stations_hypdists_snrs.list')\n",
    "snr_array"
   ]
  },
  {
   "cell_type": "code",
   "execution_count": 11,
   "id": "b46576ee",
   "metadata": {
    "tags": []
   },
   "outputs": [
    {
     "name": "stdout",
     "output_type": "stream",
     "text": [
      "Processing KST1\n"
     ]
    },
    {
     "name": "stderr",
     "output_type": "stream",
     "text": [
      "Sequential sampling (4 chains in 1 job)\n",
      "CompoundStep\n",
      ">Metropolis: [m1]\n",
      ">Metropolis: [m2]\n",
      ">Metropolis: [xinter]\n",
      ">Metropolis: [sigma]\n"
     ]
    },
    {
     "data": {
      "text/html": [
       "\n",
       "<style>\n",
       "    /* Turns off some styling */\n",
       "    progress {\n",
       "        /* gets rid of default border in Firefox and Opera. */\n",
       "        border: none;\n",
       "        /* Needs to be in here for Safari polyfill so background images work as expected. */\n",
       "        background-size: auto;\n",
       "    }\n",
       "    progress:not([value]), progress:not([value])::-webkit-progress-bar {\n",
       "        background: repeating-linear-gradient(45deg, #7e7e7e, #7e7e7e 10px, #5c5c5c 10px, #5c5c5c 20px);\n",
       "    }\n",
       "    .progress-bar-interrupted, .progress-bar-interrupted::-webkit-progress-bar {\n",
       "        background: #F44336;\n",
       "    }\n",
       "</style>\n"
      ],
      "text/plain": [
       "<IPython.core.display.HTML object>"
      ]
     },
     "metadata": {},
     "output_type": "display_data"
    },
    {
     "data": {
      "text/html": [
       "\n",
       "    <div>\n",
       "      <progress value='18000' class='' max='18000' style='width:300px; height:20px; vertical-align: middle;'></progress>\n",
       "      100.00% [18000/18000 00:25&lt;00:00 Sampling chain 0, 0 divergences]\n",
       "    </div>\n",
       "    "
      ],
      "text/plain": [
       "<IPython.core.display.HTML object>"
      ]
     },
     "metadata": {},
     "output_type": "display_data"
    },
    {
     "name": "stderr",
     "output_type": "stream",
     "text": [
      "/Users/sydneydybing/opt/anaconda3/envs/pymc_env/lib/python3.11/site-packages/pymc/step_methods/metropolis.py:285: RuntimeWarning: overflow encountered in exp\n",
      "  \"accept\": np.mean(np.exp(self.accept_rate_iter)),\n"
     ]
    },
    {
     "data": {
      "text/html": [
       "\n",
       "<style>\n",
       "    /* Turns off some styling */\n",
       "    progress {\n",
       "        /* gets rid of default border in Firefox and Opera. */\n",
       "        border: none;\n",
       "        /* Needs to be in here for Safari polyfill so background images work as expected. */\n",
       "        background-size: auto;\n",
       "    }\n",
       "    progress:not([value]), progress:not([value])::-webkit-progress-bar {\n",
       "        background: repeating-linear-gradient(45deg, #7e7e7e, #7e7e7e 10px, #5c5c5c 10px, #5c5c5c 20px);\n",
       "    }\n",
       "    .progress-bar-interrupted, .progress-bar-interrupted::-webkit-progress-bar {\n",
       "        background: #F44336;\n",
       "    }\n",
       "</style>\n"
      ],
      "text/plain": [
       "<IPython.core.display.HTML object>"
      ]
     },
     "metadata": {},
     "output_type": "display_data"
    },
    {
     "data": {
      "text/html": [
       "\n",
       "    <div>\n",
       "      <progress value='18000' class='' max='18000' style='width:300px; height:20px; vertical-align: middle;'></progress>\n",
       "      100.00% [18000/18000 00:42&lt;00:00 Sampling chain 1, 0 divergences]\n",
       "    </div>\n",
       "    "
      ],
      "text/plain": [
       "<IPython.core.display.HTML object>"
      ]
     },
     "metadata": {},
     "output_type": "display_data"
    },
    {
     "data": {
      "text/html": [
       "\n",
       "<style>\n",
       "    /* Turns off some styling */\n",
       "    progress {\n",
       "        /* gets rid of default border in Firefox and Opera. */\n",
       "        border: none;\n",
       "        /* Needs to be in here for Safari polyfill so background images work as expected. */\n",
       "        background-size: auto;\n",
       "    }\n",
       "    progress:not([value]), progress:not([value])::-webkit-progress-bar {\n",
       "        background: repeating-linear-gradient(45deg, #7e7e7e, #7e7e7e 10px, #5c5c5c 10px, #5c5c5c 20px);\n",
       "    }\n",
       "    .progress-bar-interrupted, .progress-bar-interrupted::-webkit-progress-bar {\n",
       "        background: #F44336;\n",
       "    }\n",
       "</style>\n"
      ],
      "text/plain": [
       "<IPython.core.display.HTML object>"
      ]
     },
     "metadata": {},
     "output_type": "display_data"
    },
    {
     "data": {
      "text/html": [
       "\n",
       "    <div>\n",
       "      <progress value='18000' class='' max='18000' style='width:300px; height:20px; vertical-align: middle;'></progress>\n",
       "      100.00% [18000/18000 24:24&lt;00:00 Sampling chain 2, 0 divergences]\n",
       "    </div>\n",
       "    "
      ],
      "text/plain": [
       "<IPython.core.display.HTML object>"
      ]
     },
     "metadata": {},
     "output_type": "display_data"
    },
    {
     "data": {
      "text/html": [
       "\n",
       "<style>\n",
       "    /* Turns off some styling */\n",
       "    progress {\n",
       "        /* gets rid of default border in Firefox and Opera. */\n",
       "        border: none;\n",
       "        /* Needs to be in here for Safari polyfill so background images work as expected. */\n",
       "        background-size: auto;\n",
       "    }\n",
       "    progress:not([value]), progress:not([value])::-webkit-progress-bar {\n",
       "        background: repeating-linear-gradient(45deg, #7e7e7e, #7e7e7e 10px, #5c5c5c 10px, #5c5c5c 20px);\n",
       "    }\n",
       "    .progress-bar-interrupted, .progress-bar-interrupted::-webkit-progress-bar {\n",
       "        background: #F44336;\n",
       "    }\n",
       "</style>\n"
      ],
      "text/plain": [
       "<IPython.core.display.HTML object>"
      ]
     },
     "metadata": {},
     "output_type": "display_data"
    },
    {
     "data": {
      "text/html": [
       "\n",
       "    <div>\n",
       "      <progress value='18000' class='' max='18000' style='width:300px; height:20px; vertical-align: middle;'></progress>\n",
       "      100.00% [18000/18000 00:36&lt;00:00 Sampling chain 3, 0 divergences]\n",
       "    </div>\n",
       "    "
      ],
      "text/plain": [
       "<IPython.core.display.HTML object>"
      ]
     },
     "metadata": {},
     "output_type": "display_data"
    },
    {
     "name": "stderr",
     "output_type": "stream",
     "text": [
      "Sampling 4 chains for 3_000 tune and 15_000 draw iterations (12_000 + 60_000 draws total) took 1568 seconds.\n",
      "The rhat statistic is larger than 1.01 for some parameters. This indicates problems during sampling. See https://arxiv.org/abs/1903.08008 for details\n",
      "The effective sample size per chain is smaller than 100 for some parameters.  A higher number is needed for reliable rhat and ess computation. See https://arxiv.org/abs/1903.08008 for details\n"
     ]
    },
    {
     "data": {
      "image/png": "[encoded data removed]",
      "text/plain": [
       "<Figure size 640x480 with 1 Axes>"
      ]
     },
     "metadata": {},
     "output_type": "display_data"
    },
    {
     "name": "stdout",
     "output_type": "stream",
     "text": [
      "KST1 done\n",
      "Processing HGM1\n"
     ]
    },
    {
     "name": "stderr",
     "output_type": "stream",
     "text": [
      "Sequential sampling (4 chains in 1 job)\n",
      "CompoundStep\n",
      ">Metropolis: [m1]\n",
      ">Metropolis: [m2]\n",
      ">Metropolis: [xinter]\n",
      ">Metropolis: [sigma]\n"
     ]
    },
    {
     "data": {
      "text/html": [
       "\n",
       "<style>\n",
       "    /* Turns off some styling */\n",
       "    progress {\n",
       "        /* gets rid of default border in Firefox and Opera. */\n",
       "        border: none;\n",
       "        /* Needs to be in here for Safari polyfill so background images work as expected. */\n",
       "        background-size: auto;\n",
       "    }\n",
       "    progress:not([value]), progress:not([value])::-webkit-progress-bar {\n",
       "        background: repeating-linear-gradient(45deg, #7e7e7e, #7e7e7e 10px, #5c5c5c 10px, #5c5c5c 20px);\n",
       "    }\n",
       "    .progress-bar-interrupted, .progress-bar-interrupted::-webkit-progress-bar {\n",
       "        background: #F44336;\n",
       "    }\n",
       "</style>\n"
      ],
      "text/plain": [
       "<IPython.core.display.HTML object>"
      ]
     },
     "metadata": {},
     "output_type": "display_data"
    },
    {
     "data": {
      "text/html": [
       "\n",
       "    <div>\n",
       "      <progress value='18000' class='' max='18000' style='width:300px; height:20px; vertical-align: middle;'></progress>\n",
       "      100.00% [18000/18000 00:31&lt;00:00 Sampling chain 0, 0 divergences]\n",
       "    </div>\n",
       "    "
      ],
      "text/plain": [
       "<IPython.core.display.HTML object>"
      ]
     },
     "metadata": {},
     "output_type": "display_data"
    },
    {
     "name": "stderr",
     "output_type": "stream",
     "text": [
      "/Users/sydneydybing/opt/anaconda3/envs/pymc_env/lib/python3.11/site-packages/pymc/step_methods/metropolis.py:285: RuntimeWarning: overflow encountered in exp\n",
      "  \"accept\": np.mean(np.exp(self.accept_rate_iter)),\n"
     ]
    },
    {
     "data": {
      "text/html": [
       "\n",
       "<style>\n",
       "    /* Turns off some styling */\n",
       "    progress {\n",
       "        /* gets rid of default border in Firefox and Opera. */\n",
       "        border: none;\n",
       "        /* Needs to be in here for Safari polyfill so background images work as expected. */\n",
       "        background-size: auto;\n",
       "    }\n",
       "    progress:not([value]), progress:not([value])::-webkit-progress-bar {\n",
       "        background: repeating-linear-gradient(45deg, #7e7e7e, #7e7e7e 10px, #5c5c5c 10px, #5c5c5c 20px);\n",
       "    }\n",
       "    .progress-bar-interrupted, .progress-bar-interrupted::-webkit-progress-bar {\n",
       "        background: #F44336;\n",
       "    }\n",
       "</style>\n"
      ],
      "text/plain": [
       "<IPython.core.display.HTML object>"
      ]
     },
     "metadata": {},
     "output_type": "display_data"
    },
    {
     "data": {
      "text/html": [
       "\n",
       "    <div>\n",
       "      <progress value='18000' class='' max='18000' style='width:300px; height:20px; vertical-align: middle;'></progress>\n",
       "      100.00% [18000/18000 00:39&lt;00:00 Sampling chain 1, 0 divergences]\n",
       "    </div>\n",
       "    "
      ],
      "text/plain": [
       "<IPython.core.display.HTML object>"
      ]
     },
     "metadata": {},
     "output_type": "display_data"
    },
    {
     "data": {
      "text/html": [
       "\n",
       "<style>\n",
       "    /* Turns off some styling */\n",
       "    progress {\n",
       "        /* gets rid of default border in Firefox and Opera. */\n",
       "        border: none;\n",
       "        /* Needs to be in here for Safari polyfill so background images work as expected. */\n",
       "        background-size: auto;\n",
       "    }\n",
       "    progress:not([value]), progress:not([value])::-webkit-progress-bar {\n",
       "        background: repeating-linear-gradient(45deg, #7e7e7e, #7e7e7e 10px, #5c5c5c 10px, #5c5c5c 20px);\n",
       "    }\n",
       "    .progress-bar-interrupted, .progress-bar-interrupted::-webkit-progress-bar {\n",
       "        background: #F44336;\n",
       "    }\n",
       "</style>\n"
      ],
      "text/plain": [
       "<IPython.core.display.HTML object>"
      ]
     },
     "metadata": {},
     "output_type": "display_data"
    },
    {
     "data": {
      "text/html": [
       "\n",
       "    <div>\n",
       "      <progress value='18000' class='' max='18000' style='width:300px; height:20px; vertical-align: middle;'></progress>\n",
       "      100.00% [18000/18000 00:24&lt;00:00 Sampling chain 2, 0 divergences]\n",
       "    </div>\n",
       "    "
      ],
      "text/plain": [
       "<IPython.core.display.HTML object>"
      ]
     },
     "metadata": {},
     "output_type": "display_data"
    },
    {
     "data": {
      "text/html": [
       "\n",
       "<style>\n",
       "    /* Turns off some styling */\n",
       "    progress {\n",
       "        /* gets rid of default border in Firefox and Opera. */\n",
       "        border: none;\n",
       "        /* Needs to be in here for Safari polyfill so background images work as expected. */\n",
       "        background-size: auto;\n",
       "    }\n",
       "    progress:not([value]), progress:not([value])::-webkit-progress-bar {\n",
       "        background: repeating-linear-gradient(45deg, #7e7e7e, #7e7e7e 10px, #5c5c5c 10px, #5c5c5c 20px);\n",
       "    }\n",
       "    .progress-bar-interrupted, .progress-bar-interrupted::-webkit-progress-bar {\n",
       "        background: #F44336;\n",
       "    }\n",
       "</style>\n"
      ],
      "text/plain": [
       "<IPython.core.display.HTML object>"
      ]
     },
     "metadata": {},
     "output_type": "display_data"
    },
    {
     "data": {
      "text/html": [
       "\n",
       "    <div>\n",
       "      <progress value='18000' class='' max='18000' style='width:300px; height:20px; vertical-align: middle;'></progress>\n",
       "      100.00% [18000/18000 00:24&lt;00:00 Sampling chain 3, 0 divergences]\n",
       "    </div>\n",
       "    "
      ],
      "text/plain": [
       "<IPython.core.display.HTML object>"
      ]
     },
     "metadata": {},
     "output_type": "display_data"
    },
    {
     "name": "stderr",
     "output_type": "stream",
     "text": [
      "Sampling 4 chains for 3_000 tune and 15_000 draw iterations (12_000 + 60_000 draws total) took 120 seconds.\n",
      "The rhat statistic is larger than 1.01 for some parameters. This indicates problems during sampling. See https://arxiv.org/abs/1903.08008 for details\n",
      "The effective sample size per chain is smaller than 100 for some parameters.  A higher number is needed for reliable rhat and ess computation. See https://arxiv.org/abs/1903.08008 for details\n"
     ]
    },
    {
     "data": {
      "image/png": "[encoded data removed]",
      "text/plain": [
       "<Figure size 640x480 with 1 Axes>"
      ]
     },
     "metadata": {},
     "output_type": "display_data"
    },
    {
     "name": "stdout",
     "output_type": "stream",
     "text": [
      "HGM1 done\n",
      "Processing ICU1\n"
     ]
    },
    {
     "name": "stderr",
     "output_type": "stream",
     "text": [
      "Sequential sampling (4 chains in 1 job)\n",
      "CompoundStep\n",
      ">Metropolis: [m1]\n",
      ">Metropolis: [m2]\n",
      ">Metropolis: [xinter]\n",
      ">Metropolis: [sigma]\n"
     ]
    },
    {
     "data": {
      "text/html": [
       "\n",
       "<style>\n",
       "    /* Turns off some styling */\n",
       "    progress {\n",
       "        /* gets rid of default border in Firefox and Opera. */\n",
       "        border: none;\n",
       "        /* Needs to be in here for Safari polyfill so background images work as expected. */\n",
       "        background-size: auto;\n",
       "    }\n",
       "    progress:not([value]), progress:not([value])::-webkit-progress-bar {\n",
       "        background: repeating-linear-gradient(45deg, #7e7e7e, #7e7e7e 10px, #5c5c5c 10px, #5c5c5c 20px);\n",
       "    }\n",
       "    .progress-bar-interrupted, .progress-bar-interrupted::-webkit-progress-bar {\n",
       "        background: #F44336;\n",
       "    }\n",
       "</style>\n"
      ],
      "text/plain": [
       "<IPython.core.display.HTML object>"
      ]
     },
     "metadata": {},
     "output_type": "display_data"
    },
    {
     "data": {
      "text/html": [
       "\n",
       "    <div>\n",
       "      <progress value='18000' class='' max='18000' style='width:300px; height:20px; vertical-align: middle;'></progress>\n",
       "      100.00% [18000/18000 00:32&lt;00:00 Sampling chain 0, 0 divergences]\n",
       "    </div>\n",
       "    "
      ],
      "text/plain": [
       "<IPython.core.display.HTML object>"
      ]
     },
     "metadata": {},
     "output_type": "display_data"
    },
    {
     "name": "stderr",
     "output_type": "stream",
     "text": [
      "/Users/sydneydybing/opt/anaconda3/envs/pymc_env/lib/python3.11/site-packages/pymc/step_methods/metropolis.py:285: RuntimeWarning: overflow encountered in exp\n",
      "  \"accept\": np.mean(np.exp(self.accept_rate_iter)),\n"
     ]
    },
    {
     "data": {
      "text/html": [
       "\n",
       "<style>\n",
       "    /* Turns off some styling */\n",
       "    progress {\n",
       "        /* gets rid of default border in Firefox and Opera. */\n",
       "        border: none;\n",
       "        /* Needs to be in here for Safari polyfill so background images work as expected. */\n",
       "        background-size: auto;\n",
       "    }\n",
       "    progress:not([value]), progress:not([value])::-webkit-progress-bar {\n",
       "        background: repeating-linear-gradient(45deg, #7e7e7e, #7e7e7e 10px, #5c5c5c 10px, #5c5c5c 20px);\n",
       "    }\n",
       "    .progress-bar-interrupted, .progress-bar-interrupted::-webkit-progress-bar {\n",
       "        background: #F44336;\n",
       "    }\n",
       "</style>\n"
      ],
      "text/plain": [
       "<IPython.core.display.HTML object>"
      ]
     },
     "metadata": {},
     "output_type": "display_data"
    },
    {
     "data": {
      "text/html": [
       "\n",
       "    <div>\n",
       "      <progress value='18000' class='' max='18000' style='width:300px; height:20px; vertical-align: middle;'></progress>\n",
       "      100.00% [18000/18000 00:26&lt;00:00 Sampling chain 1, 0 divergences]\n",
       "    </div>\n",
       "    "
      ],
      "text/plain": [
       "<IPython.core.display.HTML object>"
      ]
     },
     "metadata": {},
     "output_type": "display_data"
    },
    {
     "data": {
      "text/html": [
       "\n",
       "<style>\n",
       "    /* Turns off some styling */\n",
       "    progress {\n",
       "        /* gets rid of default border in Firefox and Opera. */\n",
       "        border: none;\n",
       "        /* Needs to be in here for Safari polyfill so background images work as expected. */\n",
       "        background-size: auto;\n",
       "    }\n",
       "    progress:not([value]), progress:not([value])::-webkit-progress-bar {\n",
       "        background: repeating-linear-gradient(45deg, #7e7e7e, #7e7e7e 10px, #5c5c5c 10px, #5c5c5c 20px);\n",
       "    }\n",
       "    .progress-bar-interrupted, .progress-bar-interrupted::-webkit-progress-bar {\n",
       "        background: #F44336;\n",
       "    }\n",
       "</style>\n"
      ],
      "text/plain": [
       "<IPython.core.display.HTML object>"
      ]
     },
     "metadata": {},
     "output_type": "display_data"
    },
    {
     "data": {
      "text/html": [
       "\n",
       "    <div>\n",
       "      <progress value='18000' class='' max='18000' style='width:300px; height:20px; vertical-align: middle;'></progress>\n",
       "      100.00% [18000/18000 00:25&lt;00:00 Sampling chain 2, 0 divergences]\n",
       "    </div>\n",
       "    "
      ],
      "text/plain": [
       "<IPython.core.display.HTML object>"
      ]
     },
     "metadata": {},
     "output_type": "display_data"
    },
    {
     "data": {
      "text/html": [
       "\n",
       "<style>\n",
       "    /* Turns off some styling */\n",
       "    progress {\n",
       "        /* gets rid of default border in Firefox and Opera. */\n",
       "        border: none;\n",
       "        /* Needs to be in here for Safari polyfill so background images work as expected. */\n",
       "        background-size: auto;\n",
       "    }\n",
       "    progress:not([value]), progress:not([value])::-webkit-progress-bar {\n",
       "        background: repeating-linear-gradient(45deg, #7e7e7e, #7e7e7e 10px, #5c5c5c 10px, #5c5c5c 20px);\n",
       "    }\n",
       "    .progress-bar-interrupted, .progress-bar-interrupted::-webkit-progress-bar {\n",
       "        background: #F44336;\n",
       "    }\n",
       "</style>\n"
      ],
      "text/plain": [
       "<IPython.core.display.HTML object>"
      ]
     },
     "metadata": {},
     "output_type": "display_data"
    },
    {
     "data": {
      "text/html": [
       "\n",
       "    <div>\n",
       "      <progress value='18000' class='' max='18000' style='width:300px; height:20px; vertical-align: middle;'></progress>\n",
       "      100.00% [18000/18000 00:24&lt;00:00 Sampling chain 3, 0 divergences]\n",
       "    </div>\n",
       "    "
      ],
      "text/plain": [
       "<IPython.core.display.HTML object>"
      ]
     },
     "metadata": {},
     "output_type": "display_data"
    },
    {
     "name": "stderr",
     "output_type": "stream",
     "text": [
      "Sampling 4 chains for 3_000 tune and 15_000 draw iterations (12_000 + 60_000 draws total) took 110 seconds.\n",
      "The rhat statistic is larger than 1.01 for some parameters. This indicates problems during sampling. See https://arxiv.org/abs/1903.08008 for details\n",
      "The effective sample size per chain is smaller than 100 for some parameters.  A higher number is needed for reliable rhat and ess computation. See https://arxiv.org/abs/1903.08008 for details\n"
     ]
    },
    {
     "data": {
      "image/png": "[encoded data removed]",
      "text/plain": [
       "<Figure size 640x480 with 1 Axes>"
      ]
     },
     "metadata": {},
     "output_type": "display_data"
    },
    {
     "name": "stdout",
     "output_type": "stream",
     "text": [
      "ICU1 done\n",
      "Processing ANO1\n"
     ]
    },
    {
     "name": "stderr",
     "output_type": "stream",
     "text": [
      "Sequential sampling (4 chains in 1 job)\n",
      "CompoundStep\n",
      ">Metropolis: [m1]\n",
      ">Metropolis: [m2]\n",
      ">Metropolis: [xinter]\n",
      ">Metropolis: [sigma]\n"
     ]
    },
    {
     "data": {
      "text/html": [
       "\n",
       "<style>\n",
       "    /* Turns off some styling */\n",
       "    progress {\n",
       "        /* gets rid of default border in Firefox and Opera. */\n",
       "        border: none;\n",
       "        /* Needs to be in here for Safari polyfill so background images work as expected. */\n",
       "        background-size: auto;\n",
       "    }\n",
       "    progress:not([value]), progress:not([value])::-webkit-progress-bar {\n",
       "        background: repeating-linear-gradient(45deg, #7e7e7e, #7e7e7e 10px, #5c5c5c 10px, #5c5c5c 20px);\n",
       "    }\n",
       "    .progress-bar-interrupted, .progress-bar-interrupted::-webkit-progress-bar {\n",
       "        background: #F44336;\n",
       "    }\n",
       "</style>\n"
      ],
      "text/plain": [
       "<IPython.core.display.HTML object>"
      ]
     },
     "metadata": {},
     "output_type": "display_data"
    },
    {
     "data": {
      "text/html": [
       "\n",
       "    <div>\n",
       "      <progress value='18000' class='' max='18000' style='width:300px; height:20px; vertical-align: middle;'></progress>\n",
       "      100.00% [18000/18000 00:24&lt;00:00 Sampling chain 0, 0 divergences]\n",
       "    </div>\n",
       "    "
      ],
      "text/plain": [
       "<IPython.core.display.HTML object>"
      ]
     },
     "metadata": {},
     "output_type": "display_data"
    },
    {
     "name": "stderr",
     "output_type": "stream",
     "text": [
      "/Users/sydneydybing/opt/anaconda3/envs/pymc_env/lib/python3.11/site-packages/pymc/step_methods/metropolis.py:285: RuntimeWarning: overflow encountered in exp\n",
      "  \"accept\": np.mean(np.exp(self.accept_rate_iter)),\n"
     ]
    },
    {
     "data": {
      "text/html": [
       "\n",
       "<style>\n",
       "    /* Turns off some styling */\n",
       "    progress {\n",
       "        /* gets rid of default border in Firefox and Opera. */\n",
       "        border: none;\n",
       "        /* Needs to be in here for Safari polyfill so background images work as expected. */\n",
       "        background-size: auto;\n",
       "    }\n",
       "    progress:not([value]), progress:not([value])::-webkit-progress-bar {\n",
       "        background: repeating-linear-gradient(45deg, #7e7e7e, #7e7e7e 10px, #5c5c5c 10px, #5c5c5c 20px);\n",
       "    }\n",
       "    .progress-bar-interrupted, .progress-bar-interrupted::-webkit-progress-bar {\n",
       "        background: #F44336;\n",
       "    }\n",
       "</style>\n"
      ],
      "text/plain": [
       "<IPython.core.display.HTML object>"
      ]
     },
     "metadata": {},
     "output_type": "display_data"
    },
    {
     "data": {
      "text/html": [
       "\n",
       "    <div>\n",
       "      <progress value='18000' class='' max='18000' style='width:300px; height:20px; vertical-align: middle;'></progress>\n",
       "      100.00% [18000/18000 00:23&lt;00:00 Sampling chain 1, 0 divergences]\n",
       "    </div>\n",
       "    "
      ],
      "text/plain": [
       "<IPython.core.display.HTML object>"
      ]
     },
     "metadata": {},
     "output_type": "display_data"
    },
    {
     "data": {
      "text/html": [
       "\n",
       "<style>\n",
       "    /* Turns off some styling */\n",
       "    progress {\n",
       "        /* gets rid of default border in Firefox and Opera. */\n",
       "        border: none;\n",
       "        /* Needs to be in here for Safari polyfill so background images work as expected. */\n",
       "        background-size: auto;\n",
       "    }\n",
       "    progress:not([value]), progress:not([value])::-webkit-progress-bar {\n",
       "        background: repeating-linear-gradient(45deg, #7e7e7e, #7e7e7e 10px, #5c5c5c 10px, #5c5c5c 20px);\n",
       "    }\n",
       "    .progress-bar-interrupted, .progress-bar-interrupted::-webkit-progress-bar {\n",
       "        background: #F44336;\n",
       "    }\n",
       "</style>\n"
      ],
      "text/plain": [
       "<IPython.core.display.HTML object>"
      ]
     },
     "metadata": {},
     "output_type": "display_data"
    },
    {
     "data": {
      "text/html": [
       "\n",
       "    <div>\n",
       "      <progress value='18000' class='' max='18000' style='width:300px; height:20px; vertical-align: middle;'></progress>\n",
       "      100.00% [18000/18000 00:23&lt;00:00 Sampling chain 2, 0 divergences]\n",
       "    </div>\n",
       "    "
      ],
      "text/plain": [
       "<IPython.core.display.HTML object>"
      ]
     },
     "metadata": {},
     "output_type": "display_data"
    },
    {
     "data": {
      "text/html": [
       "\n",
       "<style>\n",
       "    /* Turns off some styling */\n",
       "    progress {\n",
       "        /* gets rid of default border in Firefox and Opera. */\n",
       "        border: none;\n",
       "        /* Needs to be in here for Safari polyfill so background images work as expected. */\n",
       "        background-size: auto;\n",
       "    }\n",
       "    progress:not([value]), progress:not([value])::-webkit-progress-bar {\n",
       "        background: repeating-linear-gradient(45deg, #7e7e7e, #7e7e7e 10px, #5c5c5c 10px, #5c5c5c 20px);\n",
       "    }\n",
       "    .progress-bar-interrupted, .progress-bar-interrupted::-webkit-progress-bar {\n",
       "        background: #F44336;\n",
       "    }\n",
       "</style>\n"
      ],
      "text/plain": [
       "<IPython.core.display.HTML object>"
      ]
     },
     "metadata": {},
     "output_type": "display_data"
    },
    {
     "data": {
      "text/html": [
       "\n",
       "    <div>\n",
       "      <progress value='18000' class='' max='18000' style='width:300px; height:20px; vertical-align: middle;'></progress>\n",
       "      100.00% [18000/18000 00:23&lt;00:00 Sampling chain 3, 0 divergences]\n",
       "    </div>\n",
       "    "
      ],
      "text/plain": [
       "<IPython.core.display.HTML object>"
      ]
     },
     "metadata": {},
     "output_type": "display_data"
    },
    {
     "name": "stderr",
     "output_type": "stream",
     "text": [
      "Sampling 4 chains for 3_000 tune and 15_000 draw iterations (12_000 + 60_000 draws total) took 96 seconds.\n",
      "The rhat statistic is larger than 1.01 for some parameters. This indicates problems during sampling. See https://arxiv.org/abs/1903.08008 for details\n",
      "The effective sample size per chain is smaller than 100 for some parameters.  A higher number is needed for reliable rhat and ess computation. See https://arxiv.org/abs/1903.08008 for details\n"
     ]
    },
    {
     "data": {
      "image/png": "[encoded data removed]",
      "text/plain": [
       "<Figure size 640x480 with 1 Axes>"
      ]
     },
     "metadata": {},
     "output_type": "display_data"
    },
    {
     "name": "stdout",
     "output_type": "stream",
     "text": [
      "ANO1 done\n",
      "Processing SSK1\n"
     ]
    },
    {
     "name": "stderr",
     "output_type": "stream",
     "text": [
      "Sequential sampling (4 chains in 1 job)\n",
      "CompoundStep\n",
      ">Metropolis: [m1]\n",
      ">Metropolis: [m2]\n",
      ">Metropolis: [xinter]\n",
      ">Metropolis: [sigma]\n"
     ]
    },
    {
     "data": {
      "text/html": [
       "\n",
       "<style>\n",
       "    /* Turns off some styling */\n",
       "    progress {\n",
       "        /* gets rid of default border in Firefox and Opera. */\n",
       "        border: none;\n",
       "        /* Needs to be in here for Safari polyfill so background images work as expected. */\n",
       "        background-size: auto;\n",
       "    }\n",
       "    progress:not([value]), progress:not([value])::-webkit-progress-bar {\n",
       "        background: repeating-linear-gradient(45deg, #7e7e7e, #7e7e7e 10px, #5c5c5c 10px, #5c5c5c 20px);\n",
       "    }\n",
       "    .progress-bar-interrupted, .progress-bar-interrupted::-webkit-progress-bar {\n",
       "        background: #F44336;\n",
       "    }\n",
       "</style>\n"
      ],
      "text/plain": [
       "<IPython.core.display.HTML object>"
      ]
     },
     "metadata": {},
     "output_type": "display_data"
    },
    {
     "data": {
      "text/html": [
       "\n",
       "    <div>\n",
       "      <progress value='18000' class='' max='18000' style='width:300px; height:20px; vertical-align: middle;'></progress>\n",
       "      100.00% [18000/18000 00:23&lt;00:00 Sampling chain 0, 0 divergences]\n",
       "    </div>\n",
       "    "
      ],
      "text/plain": [
       "<IPython.core.display.HTML object>"
      ]
     },
     "metadata": {},
     "output_type": "display_data"
    },
    {
     "name": "stderr",
     "output_type": "stream",
     "text": [
      "/Users/sydneydybing/opt/anaconda3/envs/pymc_env/lib/python3.11/site-packages/pymc/step_methods/metropolis.py:285: RuntimeWarning: overflow encountered in exp\n",
      "  \"accept\": np.mean(np.exp(self.accept_rate_iter)),\n"
     ]
    },
    {
     "data": {
      "text/html": [
       "\n",
       "<style>\n",
       "    /* Turns off some styling */\n",
       "    progress {\n",
       "        /* gets rid of default border in Firefox and Opera. */\n",
       "        border: none;\n",
       "        /* Needs to be in here for Safari polyfill so background images work as expected. */\n",
       "        background-size: auto;\n",
       "    }\n",
       "    progress:not([value]), progress:not([value])::-webkit-progress-bar {\n",
       "        background: repeating-linear-gradient(45deg, #7e7e7e, #7e7e7e 10px, #5c5c5c 10px, #5c5c5c 20px);\n",
       "    }\n",
       "    .progress-bar-interrupted, .progress-bar-interrupted::-webkit-progress-bar {\n",
       "        background: #F44336;\n",
       "    }\n",
       "</style>\n"
      ],
      "text/plain": [
       "<IPython.core.display.HTML object>"
      ]
     },
     "metadata": {},
     "output_type": "display_data"
    },
    {
     "data": {
      "text/html": [
       "\n",
       "    <div>\n",
       "      <progress value='18000' class='' max='18000' style='width:300px; height:20px; vertical-align: middle;'></progress>\n",
       "      100.00% [18000/18000 00:23&lt;00:00 Sampling chain 1, 0 divergences]\n",
       "    </div>\n",
       "    "
      ],
      "text/plain": [
       "<IPython.core.display.HTML object>"
      ]
     },
     "metadata": {},
     "output_type": "display_data"
    },
    {
     "data": {
      "text/html": [
       "\n",
       "<style>\n",
       "    /* Turns off some styling */\n",
       "    progress {\n",
       "        /* gets rid of default border in Firefox and Opera. */\n",
       "        border: none;\n",
       "        /* Needs to be in here for Safari polyfill so background images work as expected. */\n",
       "        background-size: auto;\n",
       "    }\n",
       "    progress:not([value]), progress:not([value])::-webkit-progress-bar {\n",
       "        background: repeating-linear-gradient(45deg, #7e7e7e, #7e7e7e 10px, #5c5c5c 10px, #5c5c5c 20px);\n",
       "    }\n",
       "    .progress-bar-interrupted, .progress-bar-interrupted::-webkit-progress-bar {\n",
       "        background: #F44336;\n",
       "    }\n",
       "</style>\n"
      ],
      "text/plain": [
       "<IPython.core.display.HTML object>"
      ]
     },
     "metadata": {},
     "output_type": "display_data"
    },
    {
     "data": {
      "text/html": [
       "\n",
       "    <div>\n",
       "      <progress value='18000' class='' max='18000' style='width:300px; height:20px; vertical-align: middle;'></progress>\n",
       "      100.00% [18000/18000 00:25&lt;00:00 Sampling chain 2, 0 divergences]\n",
       "    </div>\n",
       "    "
      ],
      "text/plain": [
       "<IPython.core.display.HTML object>"
      ]
     },
     "metadata": {},
     "output_type": "display_data"
    },
    {
     "data": {
      "text/html": [
       "\n",
       "<style>\n",
       "    /* Turns off some styling */\n",
       "    progress {\n",
       "        /* gets rid of default border in Firefox and Opera. */\n",
       "        border: none;\n",
       "        /* Needs to be in here for Safari polyfill so background images work as expected. */\n",
       "        background-size: auto;\n",
       "    }\n",
       "    progress:not([value]), progress:not([value])::-webkit-progress-bar {\n",
       "        background: repeating-linear-gradient(45deg, #7e7e7e, #7e7e7e 10px, #5c5c5c 10px, #5c5c5c 20px);\n",
       "    }\n",
       "    .progress-bar-interrupted, .progress-bar-interrupted::-webkit-progress-bar {\n",
       "        background: #F44336;\n",
       "    }\n",
       "</style>\n"
      ],
      "text/plain": [
       "<IPython.core.display.HTML object>"
      ]
     },
     "metadata": {},
     "output_type": "display_data"
    },
    {
     "data": {
      "text/html": [
       "\n",
       "    <div>\n",
       "      <progress value='18000' class='' max='18000' style='width:300px; height:20px; vertical-align: middle;'></progress>\n",
       "      100.00% [18000/18000 00:26&lt;00:00 Sampling chain 3, 0 divergences]\n",
       "    </div>\n",
       "    "
      ],
      "text/plain": [
       "<IPython.core.display.HTML object>"
      ]
     },
     "metadata": {},
     "output_type": "display_data"
    },
    {
     "name": "stderr",
     "output_type": "stream",
     "text": [
      "Sampling 4 chains for 3_000 tune and 15_000 draw iterations (12_000 + 60_000 draws total) took 100 seconds.\n",
      "The rhat statistic is larger than 1.01 for some parameters. This indicates problems during sampling. See https://arxiv.org/abs/1903.08008 for details\n",
      "The effective sample size per chain is smaller than 100 for some parameters.  A higher number is needed for reliable rhat and ess computation. See https://arxiv.org/abs/1903.08008 for details\n"
     ]
    },
    {
     "data": {
      "image/png": "[encoded data removed]",
      "text/plain": [
       "<Figure size 640x480 with 1 Axes>"
      ]
     },
     "metadata": {},
     "output_type": "display_data"
    },
    {
     "name": "stdout",
     "output_type": "stream",
     "text": [
      "SSK1 done\n",
      "Processing UWA1\n"
     ]
    },
    {
     "name": "stderr",
     "output_type": "stream",
     "text": [
      "Sequential sampling (4 chains in 1 job)\n",
      "CompoundStep\n",
      ">Metropolis: [m1]\n",
      ">Metropolis: [m2]\n",
      ">Metropolis: [xinter]\n",
      ">Metropolis: [sigma]\n"
     ]
    },
    {
     "data": {
      "text/html": [
       "\n",
       "<style>\n",
       "    /* Turns off some styling */\n",
       "    progress {\n",
       "        /* gets rid of default border in Firefox and Opera. */\n",
       "        border: none;\n",
       "        /* Needs to be in here for Safari polyfill so background images work as expected. */\n",
       "        background-size: auto;\n",
       "    }\n",
       "    progress:not([value]), progress:not([value])::-webkit-progress-bar {\n",
       "        background: repeating-linear-gradient(45deg, #7e7e7e, #7e7e7e 10px, #5c5c5c 10px, #5c5c5c 20px);\n",
       "    }\n",
       "    .progress-bar-interrupted, .progress-bar-interrupted::-webkit-progress-bar {\n",
       "        background: #F44336;\n",
       "    }\n",
       "</style>\n"
      ],
      "text/plain": [
       "<IPython.core.display.HTML object>"
      ]
     },
     "metadata": {},
     "output_type": "display_data"
    },
    {
     "data": {
      "text/html": [
       "\n",
       "    <div>\n",
       "      <progress value='18000' class='' max='18000' style='width:300px; height:20px; vertical-align: middle;'></progress>\n",
       "      100.00% [18000/18000 00:23&lt;00:00 Sampling chain 0, 0 divergences]\n",
       "    </div>\n",
       "    "
      ],
      "text/plain": [
       "<IPython.core.display.HTML object>"
      ]
     },
     "metadata": {},
     "output_type": "display_data"
    },
    {
     "name": "stderr",
     "output_type": "stream",
     "text": [
      "/Users/sydneydybing/opt/anaconda3/envs/pymc_env/lib/python3.11/site-packages/pymc/step_methods/metropolis.py:285: RuntimeWarning: overflow encountered in exp\n",
      "  \"accept\": np.mean(np.exp(self.accept_rate_iter)),\n"
     ]
    },
    {
     "data": {
      "text/html": [
       "\n",
       "<style>\n",
       "    /* Turns off some styling */\n",
       "    progress {\n",
       "        /* gets rid of default border in Firefox and Opera. */\n",
       "        border: none;\n",
       "        /* Needs to be in here for Safari polyfill so background images work as expected. */\n",
       "        background-size: auto;\n",
       "    }\n",
       "    progress:not([value]), progress:not([value])::-webkit-progress-bar {\n",
       "        background: repeating-linear-gradient(45deg, #7e7e7e, #7e7e7e 10px, #5c5c5c 10px, #5c5c5c 20px);\n",
       "    }\n",
       "    .progress-bar-interrupted, .progress-bar-interrupted::-webkit-progress-bar {\n",
       "        background: #F44336;\n",
       "    }\n",
       "</style>\n"
      ],
      "text/plain": [
       "<IPython.core.display.HTML object>"
      ]
     },
     "metadata": {},
     "output_type": "display_data"
    },
    {
     "data": {
      "text/html": [
       "\n",
       "    <div>\n",
       "      <progress value='18000' class='' max='18000' style='width:300px; height:20px; vertical-align: middle;'></progress>\n",
       "      100.00% [18000/18000 00:24&lt;00:00 Sampling chain 1, 0 divergences]\n",
       "    </div>\n",
       "    "
      ],
      "text/plain": [
       "<IPython.core.display.HTML object>"
      ]
     },
     "metadata": {},
     "output_type": "display_data"
    },
    {
     "data": {
      "text/html": [
       "\n",
       "<style>\n",
       "    /* Turns off some styling */\n",
       "    progress {\n",
       "        /* gets rid of default border in Firefox and Opera. */\n",
       "        border: none;\n",
       "        /* Needs to be in here for Safari polyfill so background images work as expected. */\n",
       "        background-size: auto;\n",
       "    }\n",
       "    progress:not([value]), progress:not([value])::-webkit-progress-bar {\n",
       "        background: repeating-linear-gradient(45deg, #7e7e7e, #7e7e7e 10px, #5c5c5c 10px, #5c5c5c 20px);\n",
       "    }\n",
       "    .progress-bar-interrupted, .progress-bar-interrupted::-webkit-progress-bar {\n",
       "        background: #F44336;\n",
       "    }\n",
       "</style>\n"
      ],
      "text/plain": [
       "<IPython.core.display.HTML object>"
      ]
     },
     "metadata": {},
     "output_type": "display_data"
    },
    {
     "data": {
      "text/html": [
       "\n",
       "    <div>\n",
       "      <progress value='18000' class='' max='18000' style='width:300px; height:20px; vertical-align: middle;'></progress>\n",
       "      100.00% [18000/18000 00:23&lt;00:00 Sampling chain 2, 0 divergences]\n",
       "    </div>\n",
       "    "
      ],
      "text/plain": [
       "<IPython.core.display.HTML object>"
      ]
     },
     "metadata": {},
     "output_type": "display_data"
    },
    {
     "data": {
      "text/html": [
       "\n",
       "<style>\n",
       "    /* Turns off some styling */\n",
       "    progress {\n",
       "        /* gets rid of default border in Firefox and Opera. */\n",
       "        border: none;\n",
       "        /* Needs to be in here for Safari polyfill so background images work as expected. */\n",
       "        background-size: auto;\n",
       "    }\n",
       "    progress:not([value]), progress:not([value])::-webkit-progress-bar {\n",
       "        background: repeating-linear-gradient(45deg, #7e7e7e, #7e7e7e 10px, #5c5c5c 10px, #5c5c5c 20px);\n",
       "    }\n",
       "    .progress-bar-interrupted, .progress-bar-interrupted::-webkit-progress-bar {\n",
       "        background: #F44336;\n",
       "    }\n",
       "</style>\n"
      ],
      "text/plain": [
       "<IPython.core.display.HTML object>"
      ]
     },
     "metadata": {},
     "output_type": "display_data"
    },
    {
     "data": {
      "text/html": [
       "\n",
       "    <div>\n",
       "      <progress value='18000' class='' max='18000' style='width:300px; height:20px; vertical-align: middle;'></progress>\n",
       "      100.00% [18000/18000 00:23&lt;00:00 Sampling chain 3, 0 divergences]\n",
       "    </div>\n",
       "    "
      ],
      "text/plain": [
       "<IPython.core.display.HTML object>"
      ]
     },
     "metadata": {},
     "output_type": "display_data"
    },
    {
     "name": "stderr",
     "output_type": "stream",
     "text": [
      "Sampling 4 chains for 3_000 tune and 15_000 draw iterations (12_000 + 60_000 draws total) took 97 seconds.\n",
      "The rhat statistic is larger than 1.01 for some parameters. This indicates problems during sampling. See https://arxiv.org/abs/1903.08008 for details\n",
      "The effective sample size per chain is smaller than 100 for some parameters.  A higher number is needed for reliable rhat and ess computation. See https://arxiv.org/abs/1903.08008 for details\n"
     ]
    },
    {
     "data": {
      "image/png": "[encoded data removed]",
      "text/plain": [
       "<Figure size 640x480 with 1 Axes>"
      ]
     },
     "metadata": {},
     "output_type": "display_data"
    },
    {
     "name": "stdout",
     "output_type": "stream",
     "text": [
      "UWA1 done\n",
      "Processing MUR1\n"
     ]
    },
    {
     "name": "stderr",
     "output_type": "stream",
     "text": [
      "Sequential sampling (4 chains in 1 job)\n",
      "CompoundStep\n",
      ">Metropolis: [m1]\n",
      ">Metropolis: [m2]\n",
      ">Metropolis: [xinter]\n",
      ">Metropolis: [sigma]\n"
     ]
    },
    {
     "data": {
      "text/html": [
       "\n",
       "<style>\n",
       "    /* Turns off some styling */\n",
       "    progress {\n",
       "        /* gets rid of default border in Firefox and Opera. */\n",
       "        border: none;\n",
       "        /* Needs to be in here for Safari polyfill so background images work as expected. */\n",
       "        background-size: auto;\n",
       "    }\n",
       "    progress:not([value]), progress:not([value])::-webkit-progress-bar {\n",
       "        background: repeating-linear-gradient(45deg, #7e7e7e, #7e7e7e 10px, #5c5c5c 10px, #5c5c5c 20px);\n",
       "    }\n",
       "    .progress-bar-interrupted, .progress-bar-interrupted::-webkit-progress-bar {\n",
       "        background: #F44336;\n",
       "    }\n",
       "</style>\n"
      ],
      "text/plain": [
       "<IPython.core.display.HTML object>"
      ]
     },
     "metadata": {},
     "output_type": "display_data"
    },
    {
     "data": {
      "text/html": [
       "\n",
       "    <div>\n",
       "      <progress value='18000' class='' max='18000' style='width:300px; height:20px; vertical-align: middle;'></progress>\n",
       "      100.00% [18000/18000 00:23&lt;00:00 Sampling chain 0, 0 divergences]\n",
       "    </div>\n",
       "    "
      ],
      "text/plain": [
       "<IPython.core.display.HTML object>"
      ]
     },
     "metadata": {},
     "output_type": "display_data"
    },
    {
     "name": "stderr",
     "output_type": "stream",
     "text": [
      "/Users/sydneydybing/opt/anaconda3/envs/pymc_env/lib/python3.11/site-packages/pymc/step_methods/metropolis.py:285: RuntimeWarning: overflow encountered in exp\n",
      "  \"accept\": np.mean(np.exp(self.accept_rate_iter)),\n"
     ]
    },
    {
     "data": {
      "text/html": [
       "\n",
       "<style>\n",
       "    /* Turns off some styling */\n",
       "    progress {\n",
       "        /* gets rid of default border in Firefox and Opera. */\n",
       "        border: none;\n",
       "        /* Needs to be in here for Safari polyfill so background images work as expected. */\n",
       "        background-size: auto;\n",
       "    }\n",
       "    progress:not([value]), progress:not([value])::-webkit-progress-bar {\n",
       "        background: repeating-linear-gradient(45deg, #7e7e7e, #7e7e7e 10px, #5c5c5c 10px, #5c5c5c 20px);\n",
       "    }\n",
       "    .progress-bar-interrupted, .progress-bar-interrupted::-webkit-progress-bar {\n",
       "        background: #F44336;\n",
       "    }\n",
       "</style>\n"
      ],
      "text/plain": [
       "<IPython.core.display.HTML object>"
      ]
     },
     "metadata": {},
     "output_type": "display_data"
    },
    {
     "data": {
      "text/html": [
       "\n",
       "    <div>\n",
       "      <progress value='18000' class='' max='18000' style='width:300px; height:20px; vertical-align: middle;'></progress>\n",
       "      100.00% [18000/18000 00:23&lt;00:00 Sampling chain 1, 0 divergences]\n",
       "    </div>\n",
       "    "
      ],
      "text/plain": [
       "<IPython.core.display.HTML object>"
      ]
     },
     "metadata": {},
     "output_type": "display_data"
    },
    {
     "data": {
      "text/html": [
       "\n",
       "<style>\n",
       "    /* Turns off some styling */\n",
       "    progress {\n",
       "        /* gets rid of default border in Firefox and Opera. */\n",
       "        border: none;\n",
       "        /* Needs to be in here for Safari polyfill so background images work as expected. */\n",
       "        background-size: auto;\n",
       "    }\n",
       "    progress:not([value]), progress:not([value])::-webkit-progress-bar {\n",
       "        background: repeating-linear-gradient(45deg, #7e7e7e, #7e7e7e 10px, #5c5c5c 10px, #5c5c5c 20px);\n",
       "    }\n",
       "    .progress-bar-interrupted, .progress-bar-interrupted::-webkit-progress-bar {\n",
       "        background: #F44336;\n",
       "    }\n",
       "</style>\n"
      ],
      "text/plain": [
       "<IPython.core.display.HTML object>"
      ]
     },
     "metadata": {},
     "output_type": "display_data"
    },
    {
     "data": {
      "text/html": [
       "\n",
       "    <div>\n",
       "      <progress value='18000' class='' max='18000' style='width:300px; height:20px; vertical-align: middle;'></progress>\n",
       "      100.00% [18000/18000 00:23&lt;00:00 Sampling chain 2, 0 divergences]\n",
       "    </div>\n",
       "    "
      ],
      "text/plain": [
       "<IPython.core.display.HTML object>"
      ]
     },
     "metadata": {},
     "output_type": "display_data"
    },
    {
     "data": {
      "text/html": [
       "\n",
       "<style>\n",
       "    /* Turns off some styling */\n",
       "    progress {\n",
       "        /* gets rid of default border in Firefox and Opera. */\n",
       "        border: none;\n",
       "        /* Needs to be in here for Safari polyfill so background images work as expected. */\n",
       "        background-size: auto;\n",
       "    }\n",
       "    progress:not([value]), progress:not([value])::-webkit-progress-bar {\n",
       "        background: repeating-linear-gradient(45deg, #7e7e7e, #7e7e7e 10px, #5c5c5c 10px, #5c5c5c 20px);\n",
       "    }\n",
       "    .progress-bar-interrupted, .progress-bar-interrupted::-webkit-progress-bar {\n",
       "        background: #F44336;\n",
       "    }\n",
       "</style>\n"
      ],
      "text/plain": [
       "<IPython.core.display.HTML object>"
      ]
     },
     "metadata": {},
     "output_type": "display_data"
    },
    {
     "data": {
      "text/html": [
       "\n",
       "    <div>\n",
       "      <progress value='18000' class='' max='18000' style='width:300px; height:20px; vertical-align: middle;'></progress>\n",
       "      100.00% [18000/18000 00:23&lt;00:00 Sampling chain 3, 0 divergences]\n",
       "    </div>\n",
       "    "
      ],
      "text/plain": [
       "<IPython.core.display.HTML object>"
      ]
     },
     "metadata": {},
     "output_type": "display_data"
    },
    {
     "name": "stderr",
     "output_type": "stream",
     "text": [
      "Sampling 4 chains for 3_000 tune and 15_000 draw iterations (12_000 + 60_000 draws total) took 96 seconds.\n",
      "The rhat statistic is larger than 1.01 for some parameters. This indicates problems during sampling. See https://arxiv.org/abs/1903.08008 for details\n",
      "The effective sample size per chain is smaller than 100 for some parameters.  A higher number is needed for reliable rhat and ess computation. See https://arxiv.org/abs/1903.08008 for details\n"
     ]
    },
    {
     "data": {
      "image/png": "[encoded data removed]",
      "text/plain": [
       "<Figure size 640x480 with 1 Axes>"
      ]
     },
     "metadata": {},
     "output_type": "display_data"
    },
    {
     "name": "stdout",
     "output_type": "stream",
     "text": [
      "MUR1 done\n",
      "Processing MYM1\n"
     ]
    },
    {
     "name": "stderr",
     "output_type": "stream",
     "text": [
      "Sequential sampling (4 chains in 1 job)\n",
      "CompoundStep\n",
      ">Metropolis: [m1]\n",
      ">Metropolis: [m2]\n",
      ">Metropolis: [xinter]\n",
      ">Metropolis: [sigma]\n"
     ]
    },
    {
     "data": {
      "text/html": [
       "\n",
       "<style>\n",
       "    /* Turns off some styling */\n",
       "    progress {\n",
       "        /* gets rid of default border in Firefox and Opera. */\n",
       "        border: none;\n",
       "        /* Needs to be in here for Safari polyfill so background images work as expected. */\n",
       "        background-size: auto;\n",
       "    }\n",
       "    progress:not([value]), progress:not([value])::-webkit-progress-bar {\n",
       "        background: repeating-linear-gradient(45deg, #7e7e7e, #7e7e7e 10px, #5c5c5c 10px, #5c5c5c 20px);\n",
       "    }\n",
       "    .progress-bar-interrupted, .progress-bar-interrupted::-webkit-progress-bar {\n",
       "        background: #F44336;\n",
       "    }\n",
       "</style>\n"
      ],
      "text/plain": [
       "<IPython.core.display.HTML object>"
      ]
     },
     "metadata": {},
     "output_type": "display_data"
    },
    {
     "data": {
      "text/html": [
       "\n",
       "    <div>\n",
       "      <progress value='18000' class='' max='18000' style='width:300px; height:20px; vertical-align: middle;'></progress>\n",
       "      100.00% [18000/18000 00:23&lt;00:00 Sampling chain 0, 0 divergences]\n",
       "    </div>\n",
       "    "
      ],
      "text/plain": [
       "<IPython.core.display.HTML object>"
      ]
     },
     "metadata": {},
     "output_type": "display_data"
    },
    {
     "name": "stderr",
     "output_type": "stream",
     "text": [
      "/Users/sydneydybing/opt/anaconda3/envs/pymc_env/lib/python3.11/site-packages/pymc/step_methods/metropolis.py:285: RuntimeWarning: overflow encountered in exp\n",
      "  \"accept\": np.mean(np.exp(self.accept_rate_iter)),\n"
     ]
    },
    {
     "data": {
      "text/html": [
       "\n",
       "<style>\n",
       "    /* Turns off some styling */\n",
       "    progress {\n",
       "        /* gets rid of default border in Firefox and Opera. */\n",
       "        border: none;\n",
       "        /* Needs to be in here for Safari polyfill so background images work as expected. */\n",
       "        background-size: auto;\n",
       "    }\n",
       "    progress:not([value]), progress:not([value])::-webkit-progress-bar {\n",
       "        background: repeating-linear-gradient(45deg, #7e7e7e, #7e7e7e 10px, #5c5c5c 10px, #5c5c5c 20px);\n",
       "    }\n",
       "    .progress-bar-interrupted, .progress-bar-interrupted::-webkit-progress-bar {\n",
       "        background: #F44336;\n",
       "    }\n",
       "</style>\n"
      ],
      "text/plain": [
       "<IPython.core.display.HTML object>"
      ]
     },
     "metadata": {},
     "output_type": "display_data"
    },
    {
     "data": {
      "text/html": [
       "\n",
       "    <div>\n",
       "      <progress value='18000' class='' max='18000' style='width:300px; height:20px; vertical-align: middle;'></progress>\n",
       "      100.00% [18000/18000 00:24&lt;00:00 Sampling chain 1, 0 divergences]\n",
       "    </div>\n",
       "    "
      ],
      "text/plain": [
       "<IPython.core.display.HTML object>"
      ]
     },
     "metadata": {},
     "output_type": "display_data"
    },
    {
     "data": {
      "text/html": [
       "\n",
       "<style>\n",
       "    /* Turns off some styling */\n",
       "    progress {\n",
       "        /* gets rid of default border in Firefox and Opera. */\n",
       "        border: none;\n",
       "        /* Needs to be in here for Safari polyfill so background images work as expected. */\n",
       "        background-size: auto;\n",
       "    }\n",
       "    progress:not([value]), progress:not([value])::-webkit-progress-bar {\n",
       "        background: repeating-linear-gradient(45deg, #7e7e7e, #7e7e7e 10px, #5c5c5c 10px, #5c5c5c 20px);\n",
       "    }\n",
       "    .progress-bar-interrupted, .progress-bar-interrupted::-webkit-progress-bar {\n",
       "        background: #F44336;\n",
       "    }\n",
       "</style>\n"
      ],
      "text/plain": [
       "<IPython.core.display.HTML object>"
      ]
     },
     "metadata": {},
     "output_type": "display_data"
    },
    {
     "data": {
      "text/html": [
       "\n",
       "    <div>\n",
       "      <progress value='18000' class='' max='18000' style='width:300px; height:20px; vertical-align: middle;'></progress>\n",
       "      100.00% [18000/18000 00:23&lt;00:00 Sampling chain 2, 0 divergences]\n",
       "    </div>\n",
       "    "
      ],
      "text/plain": [
       "<IPython.core.display.HTML object>"
      ]
     },
     "metadata": {},
     "output_type": "display_data"
    },
    {
     "data": {
      "text/html": [
       "\n",
       "<style>\n",
       "    /* Turns off some styling */\n",
       "    progress {\n",
       "        /* gets rid of default border in Firefox and Opera. */\n",
       "        border: none;\n",
       "        /* Needs to be in here for Safari polyfill so background images work as expected. */\n",
       "        background-size: auto;\n",
       "    }\n",
       "    progress:not([value]), progress:not([value])::-webkit-progress-bar {\n",
       "        background: repeating-linear-gradient(45deg, #7e7e7e, #7e7e7e 10px, #5c5c5c 10px, #5c5c5c 20px);\n",
       "    }\n",
       "    .progress-bar-interrupted, .progress-bar-interrupted::-webkit-progress-bar {\n",
       "        background: #F44336;\n",
       "    }\n",
       "</style>\n"
      ],
      "text/plain": [
       "<IPython.core.display.HTML object>"
      ]
     },
     "metadata": {},
     "output_type": "display_data"
    },
    {
     "data": {
      "text/html": [
       "\n",
       "    <div>\n",
       "      <progress value='18000' class='' max='18000' style='width:300px; height:20px; vertical-align: middle;'></progress>\n",
       "      100.00% [18000/18000 00:23&lt;00:00 Sampling chain 3, 0 divergences]\n",
       "    </div>\n",
       "    "
      ],
      "text/plain": [
       "<IPython.core.display.HTML object>"
      ]
     },
     "metadata": {},
     "output_type": "display_data"
    },
    {
     "name": "stderr",
     "output_type": "stream",
     "text": [
      "Sampling 4 chains for 3_000 tune and 15_000 draw iterations (12_000 + 60_000 draws total) took 95 seconds.\n",
      "The rhat statistic is larger than 1.01 for some parameters. This indicates problems during sampling. See https://arxiv.org/abs/1903.08008 for details\n",
      "The effective sample size per chain is smaller than 100 for some parameters.  A higher number is needed for reliable rhat and ess computation. See https://arxiv.org/abs/1903.08008 for details\n"
     ]
    },
    {
     "data": {
      "image/png": "[encoded data removed]",
      "text/plain": [
       "<Figure size 640x480 with 1 Axes>"
      ]
     },
     "metadata": {},
     "output_type": "display_data"
    },
    {
     "name": "stdout",
     "output_type": "stream",
     "text": [
      "MYM1 done\n"
     ]
    }
   ],
   "source": [
    "stas_list = []\n",
    "hypdist_list = []\n",
    "xhighs_list = []\n",
    "m1s_list = []\n",
    "m2s_list = []\n",
    "xinters_list = []\n",
    "sigmas_list = []\n",
    "trans_time_list = []\n",
    "\n",
    "counter = 0\n",
    "\n",
    "for i in range(len(snr_array)):\n",
    "    \n",
    "    sta = snr_array['Station_name'][i]\n",
    "    hypdist = float(snr_array['hyp_dist_km'][i])\n",
    "    int_hypdist = int(hypdist)\n",
    "    snr = float(snr_array['rms_snr'][i])\n",
    "    \n",
    "    # print(eq_id, sta)\n",
    "\n",
    "    # Figure out the bounds for the MCMC based on the event and hypocentral distance (rainbow plots)\n",
    "\n",
    "    xhigh = 30 # For Tohoku, based on plot in code #5\n",
    "        \n",
    "    pst = read(path + 'filtered_peak_post_p/' + str(sta) + '.mseed')\n",
    "    counter += 1\n",
    "    # print(counter)\n",
    "    # pst.plot()\n",
    "    # plt.plot(pst[0].times(), pst[0].data)\n",
    "    # plt.semilogy()\n",
    "\n",
    "    print('Processing ' + str(sta))\n",
    "\n",
    "    times = pst[0].times()\n",
    "    data = pst[0].data\n",
    "    log10_data = np.log10(data)\n",
    "    samp_rate = pst[0].stats.sampling_rate\n",
    "\n",
    "#         print(times)\n",
    "#         print(data)\n",
    "\n",
    "#         plt.plot(times, data)\n",
    "\n",
    "    xlow = 10\n",
    "\n",
    "    # print('MCMC bounds:')\n",
    "    # print(xlow, xhigh)\n",
    "\n",
    "    vec_start = int(xlow*samp_rate)\n",
    "    vec_end = int(xhigh*samp_rate)\n",
    "\n",
    "    # Split into x and y vectors\n",
    "    xobserved = times[vec_start:vec_end]\n",
    "    # print(xobserved.shape)\n",
    "\n",
    "    yobserved = log10_data[vec_start:vec_end]\n",
    "    # print(yobserved.shape)\n",
    "\n",
    "    # plt.plot(xobserved, yobserved)\n",
    "\n",
    "    x0 = xobserved[0]\n",
    "    y0 = yobserved[0]\n",
    "\n",
    "    # in order to pass the x variable into the target function it needs to be \n",
    "    # converted to a Theano \"shared\" variable\n",
    "    pt_xobserved = pytensor.shared(xobserved)\n",
    "    pt_x0 = pytensor.shared(x0)\n",
    "    pt_y0 = pytensor.shared(y0)\n",
    "\n",
    "    # MCMC run parameters, these are good numbers for a \"production\" run. If you are\n",
    "    # fooling arund these can be lower to iterate faster\n",
    "    Nburn = 3000 # burn in samples that get discarded\n",
    "    Nmcmc = 15000 # bump to at least 5-10k - increase this after ficing the uniform part \n",
    "    Nchains = 4\n",
    "    Ncores = 1\n",
    "\n",
    "    # Bounds for the prior distributions - expect this, but not enforce\n",
    "    m1_low = 0 ; m1_high = 100 # lowest slope 0, highest 10\n",
    "    m2_low = 0 ; m2_high = 100\n",
    "    # b1_low = -50 ; b1_high = 0 # lowest y-intercept -20, highest 0\n",
    "    xinter_low = 10 ; xinter_high = 25 # location of the line slope change\n",
    "\n",
    "    # Define the Bayesian model\n",
    "    with pm.Model()as model:\n",
    "\n",
    "        # Use normal distributions as priors\n",
    "        # m1 = pm.Normal('m1', mu=0.5, sigma=1) # change mu (mean), could also make uniform (pm.uniform) for random sampling. Uninformative prior\n",
    "        # m2 = pm.Normal('m2', mu=-0.1,sigma=5)\n",
    "        m1 = pm.Uniform('m1', lower = m1_low, upper = m1_high) # change mu (mean), could also make uniform (pm.uniform) for random sampling. Uninformative prior\n",
    "        m2 = pm.Uniform('m2', lower = m2_low, upper = m2_high)\n",
    "        # b1 = pm.Normal('b1', mu=-5, sigma=5)\n",
    "        xinter = pm.Uniform('xinter', lower = xinter_low, upper = xinter_high)\n",
    "        sigma = pm.HalfCauchy('sigma', beta = 10, initval = 1.)\n",
    "\n",
    "        # This is the model\n",
    "        likelihood = pm.Normal('y', mu = two_straight_lines(pt_xobserved,m1,m2,xinter,pt_x0,pt_y0),\n",
    "                                observed = yobserved, sigma = sigma)\n",
    "    #    likelihood = pm.Normal('y', mu=one_straight_line(xobserved,m1,b1),observed=yobserved,\n",
    "    #                           sigma=sigma)\n",
    "\n",
    "        # NUTS sampler (default) is gradient based and won't work, use metropolis\n",
    "        step = pm.Metropolis() # Check out Diego's book - condition for accepting new sample as \"better\" than last\n",
    "\n",
    "        # This runs the mcmc sampler\n",
    "        mcmc = pm.sample(Nmcmc, tune = Nburn, chains = Nchains, cores = Ncores, step = step)\n",
    "\n",
    "    # Done, now is post-processing to get the data out of the sampler\n",
    "\n",
    "    posterior = az.extract(mcmc)\n",
    "\n",
    "    # Unwrap coeficients - WRITE LINES TO SAVE THE ARRAYS!!!\n",
    "    m1_array = posterior.m1.values\n",
    "    m1 = np.mean(m1_array)\n",
    "    # print('m1 mean: ' + str(round(m1,2)))\n",
    "\n",
    "    m2_array = posterior.m2.values\n",
    "    m2 = np.mean(m2_array)\n",
    "    # print('m2 mean: ' + str(round(m2,2)))\n",
    "\n",
    "    xinter_array = posterior.xinter.values\n",
    "    xinter = np.mean(xinter_array)\n",
    "    # print('xinter Mean: ' + str(round(xinter,2)))\n",
    "\n",
    "    sigma_array = posterior.sigma.values\n",
    "    sigma = np.mean(sigma_array)\n",
    "\n",
    "    # Lines!\n",
    "    b1 = y0 - m1*x0\n",
    "    b2 = m1*xinter + b1 - m2*xinter\n",
    "\n",
    "    # Make plot to check stuff\n",
    "    xpredicted = np.arange(xobserved.min(), xobserved.max()+0.1, 0.1)\n",
    "    # ypredicted = np.ones(len(xpredicted))\n",
    "    ypredicted = m1*xpredicted + b1\n",
    "    i = np.where(xpredicted > xinter)[0]\n",
    "    ypredicted[i] = m2*xpredicted[i] + b2\n",
    "\n",
    "    # Get one-sigma region (need to obtain a ton of forward models and get stats)\n",
    "    N = len(posterior.m1.values)\n",
    "\n",
    "    yfit = np.zeros((len(xpredicted), N))\n",
    "    for k in range(N):\n",
    "        yfit[:,k] = non_pytensor_two_straight_lines(xpredicted,m1_array[k],m2_array[k],xinter_array[k],x0,y0)\n",
    "    mu = yfit.mean(1)\n",
    "    sig = yfit.std(1) * 1.95 #for 95% confidence\n",
    "    mu_plus = mu + sig\n",
    "    mu_minus = mu - sig\n",
    "\n",
    "    # Least squares\n",
    "    mls, bls = np.polyfit(xobserved, yobserved, 1)\n",
    "\n",
    "    # Find the transition point in ypredicted\n",
    "    diff = np.round(np.diff(ypredicted), decimals = 5)\n",
    "    # print(diff)\n",
    "    first_slope = diff[0]\n",
    "    second_slope = diff[-1]\n",
    "    trans_idx = np.where((diff != first_slope) & (diff != second_slope))[0][0] + 1\n",
    "\n",
    "    # Get the transition point\n",
    "    mcmc_trans_x = xpredicted[trans_idx] # Number\n",
    "    mcmc_trans_y = ypredicted[trans_idx]\n",
    "\n",
    "    # Append things\n",
    "    stas_list.append(sta)\n",
    "    hypdist_list.append(int_hypdist)\n",
    "    xhighs_list.append(xhigh)\n",
    "    m1s_list.append(m1)\n",
    "    m2s_list.append(m2)\n",
    "    xinters_list.append(xinter)\n",
    "    sigmas_list.append(sigma)\n",
    "    trans_time_list.append(mcmc_trans_x)\n",
    "\n",
    "    # Plot all solutions\n",
    "    fig = plt.figure(dpi = 100)\n",
    "    ax = fig.add_subplot(111)\n",
    "    ax.set_title(str(sta))\n",
    "\n",
    "    ax.plot(xobserved, yobserved, color = 'blue', label = 'Observed (log peak strain)')\n",
    "    ax.plot(xpredicted, ypredicted, color = 'red', label = 'Predicted (MCMC)')\n",
    "    # ax.plot(xpredicted, mu, color = 'green', linestyle = '--', label = 'yfit')\n",
    "    # ax.plot(xpredicted, xpredicted * mls + bls, color = 'orange', label = 'np.polyfit least squares')\n",
    "    ax.scatter(xpredicted[trans_idx], ypredicted[trans_idx], marker = 'o', color = 'black', label = 'Transition at ' + str(round(xpredicted[trans_idx],2)) + ' sec')\n",
    "    # ax.scatter(closest_trans_x, closest_trans_y, marker = 'o', color = 'green', label = 'Adjusted transition at ' + str(round(closest_trans_x,2)) + ' sec')\n",
    "    # ax2 = ax.twinx()\n",
    "    # ax2.plot(xobserved, pythags_arr, color = 'violet')\n",
    "    # ax2.axhline(closest_trans_x, color = 'violet', linestyle = '--')\n",
    "    ax.fill_between(xpredicted, mu_plus, mu_minus, color = 'gray', alpha = 0.2, label = '95% confidence') # 95% confidence interval\n",
    "    ax.set_xlabel('Time (s) - p-wave at 10s')\n",
    "    ax.set_ylabel('log10 of peak strain')\n",
    "    # ax.set_xlim(10,13)\n",
    "    ax.legend()\n",
    "\n",
    "    plt.show()\n",
    "\n",
    "    # Create folder for the event\n",
    "    array_save_dir = path + 'filtered_mcmc_arrays/' + str(sta) + '/'\n",
    "    if os.path.isdir(array_save_dir):\n",
    "        pass\n",
    "    else:\n",
    "        os.makedirs(array_save_dir)\n",
    "\n",
    "    # Save arrays\n",
    "    np.save(array_save_dir + 'xobserved.npy', xobserved)\n",
    "    np.save(array_save_dir + 'yobserved.npy', yobserved)\n",
    "    np.save(array_save_dir + 'xpredicted.npy', xpredicted)\n",
    "    np.save(array_save_dir + 'ypredicted.npy', ypredicted)\n",
    "    np.save(array_save_dir + 'forward_mus.npy', mu)\n",
    "    np.save(array_save_dir + 'foward_sigs.npy', sig)\n",
    "\n",
    "    # Save posterior\n",
    "    summary = az.summary(mcmc)\n",
    "    summary.to_csv(array_save_dir + 'summary.csv')\n",
    "    # posterior = az.extract(mcmc)\n",
    "    # posterior.to_netcdf(path = array_save_dir + 'posterior.nc', mode = 'w') # Doesn't work right now\n",
    "\n",
    "    # Save figure\n",
    "    fig_save_dir = path + 'figures/filtered_mcmc_plots/'\n",
    "    if os.path.isdir(fig_save_dir):\n",
    "        pass\n",
    "    else:\n",
    "        os.makedirs(fig_save_dir)\n",
    "\n",
    "    plt.savefig(fig_save_dir + sta + '.png', format = 'PNG', dpi = 400)\n",
    "    plt.close()\n",
    "\n",
    "    print(str(sta) + ' done')"
   ]
  },
  {
   "cell_type": "code",
   "execution_count": null,
   "id": "8079827c-7fc2-4df4-a1c8-f68e82a8d53e",
   "metadata": {},
   "outputs": [],
   "source": [
    "counter"
   ]
  },
  {
   "cell_type": "code",
   "execution_count": null,
   "id": "20fec9fa-b02d-4374-9fd0-64047de8c330",
   "metadata": {},
   "outputs": [],
   "source": [
    "mcmc_array = np.column_stack((np.array(events_list), np.array(mags_list), np.array(stas_list), np.array(hypdist_list),\n",
    "                             np.array(xhighs_list), np.array(m1s_list), np.array(m2s_list), np.array(xinters_list),\n",
    "                             np.array(sigmas_list), np.round(np.array(trans_time_list),2)))\n",
    "\n",
    "np.save(path_to_files + 'filtered_mcmc_arrays/summary_array.npy', mcmc_array)"
   ]
  },
  {
   "cell_type": "code",
   "execution_count": null,
   "id": "4573f5ee-b8e6-4ec8-a7cc-621865e07aca",
   "metadata": {},
   "outputs": [],
   "source": [
    "mcmc_array.shape"
   ]
  },
  {
   "cell_type": "code",
   "execution_count": null,
   "id": "e34872c0-e0c1-43df-a8a9-165af87583f9",
   "metadata": {},
   "outputs": [],
   "source": [
    "mcmc_array = np.load(path_to_files + 'filtered_mcmc_arrays/summary_array.npy')\n",
    "mcmc_array[0]\n",
    "\n",
    "# Columns:\n",
    "# 0. Event name\n",
    "# 1. Magnitude\n",
    "# 2. Station name\n",
    "# 3. Hypocentral distance (km)\n",
    "# 4. xhigh\n",
    "# 5. m1 slope\n",
    "# 6. m2 slope\n",
    "# 7. intersection point\n",
    "# 8. sigma\n",
    "# 9. transition time"
   ]
  },
  {
   "cell_type": "code",
   "execution_count": null,
   "id": "70999ad6-7de3-4ac6-98d4-56172879aff0",
   "metadata": {},
   "outputs": [],
   "source": [
    "# Calculate earthquake source durations\n",
    "\n",
    "# Get M0 from Mw, then use relation in Melgar and Hayes, 2017 to get duration\n",
    "\n",
    "mags_for_relation = np.arange(6,7.25,0.05)\n",
    "# print(mags_for_dur)\n",
    "\n",
    "# Preferred params for source duration\n",
    "apref_sd = -6.407\n",
    "bpref_sd = 0.385\n",
    "\n",
    "apref_rt = -5.323\n",
    "bpref_rt = 0.293\n",
    "\n",
    "source_durs = []\n",
    "rise_times = []\n",
    "\n",
    "for Mw in mags_for_relation:\n",
    "    \n",
    "    M0 = 10**(1.5*Mw + 9.05)\n",
    "    # print(M0)\n",
    "    \n",
    "    log_sd = apref_sd + bpref_sd * np.log10(M0)\n",
    "    source_dur = 10**log_sd\n",
    "    source_durs.append(source_dur)\n",
    "    \n",
    "    log_rt = apref_rt + bpref_rt * np.log10(M0)\n",
    "    rise_time = 10**log_rt\n",
    "    rise_times.append(rise_time)\n",
    "    "
   ]
  },
  {
   "cell_type": "code",
   "execution_count": null,
   "id": "9af2bbbd-e506-47ca-b3e3-aab004675b66",
   "metadata": {
    "tags": []
   },
   "outputs": [],
   "source": [
    "# Get mean transition time by event\n",
    "\n",
    "unique_eventids = np.unique(mcmc_array[:,0])\n",
    "unique_eventids\n",
    "\n",
    "mags = []\n",
    "mean_trans_times = []\n",
    "\n",
    "for uni_id in unique_eventids:\n",
    "    \n",
    "    print(uni_id)\n",
    "    i = np.where(uni_id == mcmc_array[:,0])[0]\n",
    "    # print(i)\n",
    "    \n",
    "    trans_times = mcmc_array[i,9].astype(float)-10\n",
    "    mag = mcmc_array[i,1].astype(float)[0]\n",
    "    # print(mags)\n",
    "    print(trans_times)\n",
    "    \n",
    "    mean_trans_time = np.mean(trans_times)\n",
    "    # print(mean_trans_time)\n",
    "    \n",
    "    mags.append(mag)\n",
    "    mean_trans_times.append(mean_trans_time)\n",
    "    \n",
    "mags = np.array(mags)\n",
    "mean_trans_times = np.array(mean_trans_times)"
   ]
  },
  {
   "cell_type": "code",
   "execution_count": null,
   "id": "6662ba45-1a52-4a19-8962-60c8ee56a261",
   "metadata": {},
   "outputs": [],
   "source": [
    "m, b = np.polyfit(mags, np.log10(mean_trans_times), 1)\n",
    "ma, ba = np.polyfit(mcmc_array[:,1].astype(float), np.log10(mcmc_array[:,9].astype(float)-10), 1)"
   ]
  },
  {
   "cell_type": "code",
   "execution_count": null,
   "id": "1d5cc45d-e087-4d73-9182-14909aa58022",
   "metadata": {},
   "outputs": [],
   "source": [
    "# plt.scatter(mcmc_array[:,3].astype(float), mcmc_array[:,9].astype(float)-10)\n",
    "# plt.xlabel('Hypocentral distance (km)')\n",
    "# plt.ylabel('Transition time (s)')\n",
    "# plt.show()\n",
    "\n",
    "\n",
    "\n",
    "plt.scatter(mcmc_array[:,1].astype(float), np.log10(mcmc_array[:,9].astype(float)-10))\n",
    "plt.scatter(mags, np.log10(mean_trans_times), marker = '+', color = 'red', label = 'Mean transition time by event')\n",
    "plt.plot(mags, mags * m + b, color = 'red', lw = 1)\n",
    "plt.plot(mcmc_array[:,1].astype(float), mcmc_array[:,1].astype(float) * ma + ba, color = 'C0', lw = 1)\n",
    "plt.plot(mags_for_relation, np.log10(source_durs), color = 'lime', label = 'Source duration scaling')\n",
    "plt.plot(mags_for_relation, np.log10(rise_times), color = 'turquoise', label = 'Rise time scaling')\n",
    "plt.xlabel('Earthquake magnitude')\n",
    "plt.ylabel('Log10 of transition time (s)')\n",
    "# plt.semilogy()\n",
    "plt.legend()\n",
    "plt.show()\n",
    "\n",
    "plt.scatter(mcmc_array[:,1].astype(float), mcmc_array[:,5].astype(float))\n",
    "plt.xlabel('Earthquake magnitude')\n",
    "plt.ylabel('Line 1 slope')\n",
    "plt.show()\n",
    "\n",
    "plt.scatter(mcmc_array[:,1].astype(float), mcmc_array[:,6].astype(float))\n",
    "plt.xlabel('Earthquake magnitude')\n",
    "plt.ylabel('Line 2 slope')\n",
    "plt.show()"
   ]
  },
  {
   "cell_type": "code",
   "execution_count": null,
   "id": "8e2c46b1-87f8-4969-aeeb-3f6fb9097aaf",
   "metadata": {},
   "outputs": [],
   "source": [
    "# mcmc_array = np.column_stack((np.array(events_list), np.array(mags_list), np.array(stas_list), np.array(hypdist_list),\n",
    "#                              np.array(xhighs_list), np.array(m1s_list), np.array(m2s_list), np.array(xinters_list),\n",
    "#                              np.array(sigmas_list), np.array(trans_time_list)))\n",
    "\n",
    "pd_mcmc = pd.DataFrame(mcmc_array, columns = ['eq_id', 'mag', 'sta', 'hypdist', 'xhigh', 'm1', 'm2', 'xinter', 'sigma', 'trans_time'])\n",
    "pd_mcmc.to_csv(path_to_files + 'filtered_mcmc_arrays/mcmc_results_summary.csv', index = False)"
   ]
  },
  {
   "cell_type": "code",
   "execution_count": null,
   "id": "5e8194a5-928a-4c75-aed3-a95cfc0e2d14",
   "metadata": {},
   "outputs": [
    {
     "data": {
      "text/html": [
       "<div>\n",
       "<style scoped>\n",
       "    .dataframe tbody tr th:only-of-type {\n",
       "        vertical-align: middle;\n",
       "    }\n",
       "\n",
       "    .dataframe tbody tr th {\n",
       "        vertical-align: top;\n",
       "    }\n",
       "\n",
       "    .dataframe thead th {\n",
       "        text-align: right;\n",
       "    }\n",
       "</style>\n",
       "<table border=\"1\" class=\"dataframe\">\n",
       "  <thead>\n",
       "    <tr style=\"text-align: right;\">\n",
       "      <th></th>\n",
       "      <th>eq_id</th>\n",
       "      <th>mag</th>\n",
       "      <th>sta</th>\n",
       "      <th>hypdist</th>\n",
       "      <th>xhigh</th>\n",
       "      <th>m1</th>\n",
       "      <th>m2</th>\n",
       "      <th>xinter</th>\n",
       "      <th>sigma</th>\n",
       "      <th>trans_time</th>\n",
       "    </tr>\n",
       "  </thead>\n",
       "  <tbody>\n",
       "    <tr>\n",
       "      <th>0</th>\n",
       "      <td>2023-04-13_M6</td>\n",
       "      <td>6.0</td>\n",
       "      <td>B012</td>\n",
       "      <td>299</td>\n",
       "      <td>60</td>\n",
       "      <td>0.237385</td>\n",
       "      <td>0.014034</td>\n",
       "      <td>13.037766</td>\n",
       "      <td>0.106723</td>\n",
       "      <td>13.1</td>\n",
       "    </tr>\n",
       "    <tr>\n",
       "      <th>1</th>\n",
       "      <td>2023-04-13_M6</td>\n",
       "      <td>6.0</td>\n",
       "      <td>B927</td>\n",
       "      <td>349</td>\n",
       "      <td>60</td>\n",
       "      <td>0.520998</td>\n",
       "      <td>0.006502</td>\n",
       "      <td>13.746085</td>\n",
       "      <td>0.151608</td>\n",
       "      <td>13.8</td>\n",
       "    </tr>\n",
       "    <tr>\n",
       "      <th>2</th>\n",
       "      <td>2023-04-13_M6</td>\n",
       "      <td>6.0</td>\n",
       "      <td>B928</td>\n",
       "      <td>330</td>\n",
       "      <td>60</td>\n",
       "      <td>0.473223</td>\n",
       "      <td>0.010361</td>\n",
       "      <td>12.366934</td>\n",
       "      <td>0.085590</td>\n",
       "      <td>12.4</td>\n",
       "    </tr>\n",
       "    <tr>\n",
       "      <th>3</th>\n",
       "      <td>2022-12-20_M6.4</td>\n",
       "      <td>6.4</td>\n",
       "      <td>B030</td>\n",
       "      <td>406</td>\n",
       "      <td>40</td>\n",
       "      <td>0.169725</td>\n",
       "      <td>0.031976</td>\n",
       "      <td>13.733588</td>\n",
       "      <td>0.111113</td>\n",
       "      <td>13.8</td>\n",
       "    </tr>\n",
       "    <tr>\n",
       "      <th>4</th>\n",
       "      <td>2022-12-20_M6.4</td>\n",
       "      <td>6.4</td>\n",
       "      <td>B032</td>\n",
       "      <td>359</td>\n",
       "      <td>40</td>\n",
       "      <td>0.143660</td>\n",
       "      <td>0.033170</td>\n",
       "      <td>14.465866</td>\n",
       "      <td>0.101163</td>\n",
       "      <td>14.5</td>\n",
       "    </tr>\n",
       "    <tr>\n",
       "      <th>...</th>\n",
       "      <td>...</td>\n",
       "      <td>...</td>\n",
       "      <td>...</td>\n",
       "      <td>...</td>\n",
       "      <td>...</td>\n",
       "      <td>...</td>\n",
       "      <td>...</td>\n",
       "      <td>...</td>\n",
       "      <td>...</td>\n",
       "      <td>...</td>\n",
       "    </tr>\n",
       "    <tr>\n",
       "      <th>195</th>\n",
       "      <td>2010-01-10_M6.5</td>\n",
       "      <td>6.5</td>\n",
       "      <td>B035</td>\n",
       "      <td>232</td>\n",
       "      <td>35</td>\n",
       "      <td>0.519965</td>\n",
       "      <td>0.025339</td>\n",
       "      <td>13.499214</td>\n",
       "      <td>0.170624</td>\n",
       "      <td>13.5</td>\n",
       "    </tr>\n",
       "    <tr>\n",
       "      <th>196</th>\n",
       "      <td>2010-01-10_M6.5</td>\n",
       "      <td>6.5</td>\n",
       "      <td>B036</td>\n",
       "      <td>233</td>\n",
       "      <td>35</td>\n",
       "      <td>0.515825</td>\n",
       "      <td>0.026782</td>\n",
       "      <td>13.503401</td>\n",
       "      <td>0.170778</td>\n",
       "      <td>13.6</td>\n",
       "    </tr>\n",
       "    <tr>\n",
       "      <th>197</th>\n",
       "      <td>2010-01-10_M6.5</td>\n",
       "      <td>6.5</td>\n",
       "      <td>B057</td>\n",
       "      <td>344</td>\n",
       "      <td>35</td>\n",
       "      <td>0.123378</td>\n",
       "      <td>0.020024</td>\n",
       "      <td>15.241258</td>\n",
       "      <td>0.067794</td>\n",
       "      <td>15.3</td>\n",
       "    </tr>\n",
       "    <tr>\n",
       "      <th>198</th>\n",
       "      <td>2010-01-10_M6.5</td>\n",
       "      <td>6.5</td>\n",
       "      <td>B933</td>\n",
       "      <td>89</td>\n",
       "      <td>35</td>\n",
       "      <td>0.740438</td>\n",
       "      <td>0.048036</td>\n",
       "      <td>13.192635</td>\n",
       "      <td>0.155758</td>\n",
       "      <td>13.2</td>\n",
       "    </tr>\n",
       "    <tr>\n",
       "      <th>199</th>\n",
       "      <td>2010-01-10_M6.5</td>\n",
       "      <td>6.5</td>\n",
       "      <td>B935</td>\n",
       "      <td>96</td>\n",
       "      <td>35</td>\n",
       "      <td>0.880834</td>\n",
       "      <td>0.023594</td>\n",
       "      <td>12.761871</td>\n",
       "      <td>0.150690</td>\n",
       "      <td>12.8</td>\n",
       "    </tr>\n",
       "  </tbody>\n",
       "</table>\n",
       "<p>200 rows × 10 columns</p>\n",
       "</div>"
      ],
      "text/plain": [
       "               eq_id  mag   sta  hypdist  xhigh        m1        m2  \\\n",
       "0      2023-04-13_M6  6.0  B012      299     60  0.237385  0.014034   \n",
       "1      2023-04-13_M6  6.0  B927      349     60  0.520998  0.006502   \n",
       "2      2023-04-13_M6  6.0  B928      330     60  0.473223  0.010361   \n",
       "3    2022-12-20_M6.4  6.4  B030      406     40  0.169725  0.031976   \n",
       "4    2022-12-20_M6.4  6.4  B032      359     40  0.143660  0.033170   \n",
       "..               ...  ...   ...      ...    ...       ...       ...   \n",
       "195  2010-01-10_M6.5  6.5  B035      232     35  0.519965  0.025339   \n",
       "196  2010-01-10_M6.5  6.5  B036      233     35  0.515825  0.026782   \n",
       "197  2010-01-10_M6.5  6.5  B057      344     35  0.123378  0.020024   \n",
       "198  2010-01-10_M6.5  6.5  B933       89     35  0.740438  0.048036   \n",
       "199  2010-01-10_M6.5  6.5  B935       96     35  0.880834  0.023594   \n",
       "\n",
       "        xinter     sigma  trans_time  \n",
       "0    13.037766  0.106723        13.1  \n",
       "1    13.746085  0.151608        13.8  \n",
       "2    12.366934  0.085590        12.4  \n",
       "3    13.733588  0.111113        13.8  \n",
       "4    14.465866  0.101163        14.5  \n",
       "..         ...       ...         ...  \n",
       "195  13.499214  0.170624        13.5  \n",
       "196  13.503401  0.170778        13.6  \n",
       "197  15.241258  0.067794        15.3  \n",
       "198  13.192635  0.155758        13.2  \n",
       "199  12.761871  0.150690        12.8  \n",
       "\n",
       "[200 rows x 10 columns]"
      ]
     },
     "execution_count": 90,
     "metadata": {},
     "output_type": "execute_result"
    }
   ],
   "source": [
    "# Figure out the \"good\" and \"bad\" performing waveforms using an L2 norm\n",
    "\n",
    "mcmc_results = pd.read_csv(path_to_files + 'filtered_mcmc_arrays/mcmc_results_summary.csv')\n",
    "mcmc_results"
   ]
  },
  {
   "cell_type": "code",
   "execution_count": null,
   "id": "a88037f7-e7e7-4927-a8ff-35d5ea5aeb81",
   "metadata": {},
   "outputs": [],
   "source": []
  },
  {
   "cell_type": "code",
   "execution_count": null,
   "id": "8a6d37f1-1c04-4c1b-b8cd-43d5ba3c7095",
   "metadata": {},
   "outputs": [],
   "source": []
  },
  {
   "cell_type": "code",
   "execution_count": null,
   "id": "e893722a-888c-4861-9374-7b002f87407e",
   "metadata": {},
   "outputs": [],
   "source": []
  },
  {
   "cell_type": "code",
   "execution_count": null,
   "id": "3fa22d61-ce9f-44b5-84c8-f22525c2503c",
   "metadata": {},
   "outputs": [],
   "source": []
  },
  {
   "cell_type": "code",
   "execution_count": 31,
   "id": "5cbf0dd1-ece1-4834-a491-88b28d048629",
   "metadata": {},
   "outputs": [
    {
     "data": {
      "text/html": [
       "<div>\n",
       "<style scoped>\n",
       "    .dataframe tbody tr th:only-of-type {\n",
       "        vertical-align: middle;\n",
       "    }\n",
       "\n",
       "    .dataframe tbody tr th {\n",
       "        vertical-align: top;\n",
       "    }\n",
       "\n",
       "    .dataframe thead th {\n",
       "        text-align: right;\n",
       "    }\n",
       "</style>\n",
       "<table border=\"1\" class=\"dataframe\">\n",
       "  <thead>\n",
       "    <tr style=\"text-align: right;\">\n",
       "      <th></th>\n",
       "      <th>eq_id</th>\n",
       "      <th>mag</th>\n",
       "      <th>sta</th>\n",
       "      <th>hypdist</th>\n",
       "      <th>xhigh</th>\n",
       "      <th>m1</th>\n",
       "      <th>m2</th>\n",
       "      <th>xinter</th>\n",
       "      <th>sigma</th>\n",
       "      <th>trans_time</th>\n",
       "      <th>behavior</th>\n",
       "    </tr>\n",
       "  </thead>\n",
       "  <tbody>\n",
       "    <tr>\n",
       "      <th>0</th>\n",
       "      <td>2023-04-13_M6</td>\n",
       "      <td>6.0</td>\n",
       "      <td>B003</td>\n",
       "      <td>423</td>\n",
       "      <td>60</td>\n",
       "      <td>0.276567</td>\n",
       "      <td>0.012251</td>\n",
       "      <td>14.075615</td>\n",
       "      <td>0.141517</td>\n",
       "      <td>14.1</td>\n",
       "      <td>b</td>\n",
       "    </tr>\n",
       "    <tr>\n",
       "      <th>1</th>\n",
       "      <td>2023-04-13_M6</td>\n",
       "      <td>6.0</td>\n",
       "      <td>B004</td>\n",
       "      <td>398</td>\n",
       "      <td>60</td>\n",
       "      <td>0.523278</td>\n",
       "      <td>0.010967</td>\n",
       "      <td>12.877702</td>\n",
       "      <td>0.101206</td>\n",
       "      <td>12.9</td>\n",
       "      <td>g</td>\n",
       "    </tr>\n",
       "    <tr>\n",
       "      <th>2</th>\n",
       "      <td>2023-04-13_M6</td>\n",
       "      <td>6.0</td>\n",
       "      <td>B005</td>\n",
       "      <td>468</td>\n",
       "      <td>60</td>\n",
       "      <td>0.392836</td>\n",
       "      <td>0.009337</td>\n",
       "      <td>12.057298</td>\n",
       "      <td>0.075473</td>\n",
       "      <td>12.1</td>\n",
       "      <td>g</td>\n",
       "    </tr>\n",
       "    <tr>\n",
       "      <th>3</th>\n",
       "      <td>2023-04-13_M6</td>\n",
       "      <td>6.0</td>\n",
       "      <td>B009</td>\n",
       "      <td>456</td>\n",
       "      <td>60</td>\n",
       "      <td>0.428682</td>\n",
       "      <td>0.000518</td>\n",
       "      <td>12.471551</td>\n",
       "      <td>0.079256</td>\n",
       "      <td>12.5</td>\n",
       "      <td>g</td>\n",
       "    </tr>\n",
       "    <tr>\n",
       "      <th>4</th>\n",
       "      <td>2023-04-13_M6</td>\n",
       "      <td>6.0</td>\n",
       "      <td>B012</td>\n",
       "      <td>299</td>\n",
       "      <td>60</td>\n",
       "      <td>0.420404</td>\n",
       "      <td>0.013704</td>\n",
       "      <td>13.220529</td>\n",
       "      <td>0.112984</td>\n",
       "      <td>13.3</td>\n",
       "      <td>g</td>\n",
       "    </tr>\n",
       "    <tr>\n",
       "      <th>...</th>\n",
       "      <td>...</td>\n",
       "      <td>...</td>\n",
       "      <td>...</td>\n",
       "      <td>...</td>\n",
       "      <td>...</td>\n",
       "      <td>...</td>\n",
       "      <td>...</td>\n",
       "      <td>...</td>\n",
       "      <td>...</td>\n",
       "      <td>...</td>\n",
       "      <td>...</td>\n",
       "    </tr>\n",
       "    <tr>\n",
       "      <th>321</th>\n",
       "      <td>2010-01-10_M6.5</td>\n",
       "      <td>6.5</td>\n",
       "      <td>B066</td>\n",
       "      <td>499</td>\n",
       "      <td>35</td>\n",
       "      <td>0.228458</td>\n",
       "      <td>0.026041</td>\n",
       "      <td>15.608228</td>\n",
       "      <td>0.096790</td>\n",
       "      <td>15.7</td>\n",
       "      <td>g</td>\n",
       "    </tr>\n",
       "    <tr>\n",
       "      <th>322</th>\n",
       "      <td>2010-01-10_M6.5</td>\n",
       "      <td>6.5</td>\n",
       "      <td>B933</td>\n",
       "      <td>89</td>\n",
       "      <td>35</td>\n",
       "      <td>1.205989</td>\n",
       "      <td>0.046212</td>\n",
       "      <td>12.710480</td>\n",
       "      <td>0.220511</td>\n",
       "      <td>12.8</td>\n",
       "      <td>g</td>\n",
       "    </tr>\n",
       "    <tr>\n",
       "      <th>323</th>\n",
       "      <td>2010-01-10_M6.5</td>\n",
       "      <td>6.5</td>\n",
       "      <td>B934</td>\n",
       "      <td>123</td>\n",
       "      <td>35</td>\n",
       "      <td>0.258354</td>\n",
       "      <td>0.063122</td>\n",
       "      <td>12.957077</td>\n",
       "      <td>0.087686</td>\n",
       "      <td>13.0</td>\n",
       "      <td>b</td>\n",
       "    </tr>\n",
       "    <tr>\n",
       "      <th>324</th>\n",
       "      <td>2010-01-10_M6.5</td>\n",
       "      <td>6.5</td>\n",
       "      <td>B935</td>\n",
       "      <td>96</td>\n",
       "      <td>35</td>\n",
       "      <td>1.338175</td>\n",
       "      <td>0.021897</td>\n",
       "      <td>12.540953</td>\n",
       "      <td>0.210012</td>\n",
       "      <td>12.6</td>\n",
       "      <td>g</td>\n",
       "    </tr>\n",
       "    <tr>\n",
       "      <th>325</th>\n",
       "      <td>2008-01-10_M6.3</td>\n",
       "      <td>6.3</td>\n",
       "      <td>B026</td>\n",
       "      <td>321</td>\n",
       "      <td>24</td>\n",
       "      <td>0.442317</td>\n",
       "      <td>0.052398</td>\n",
       "      <td>11.868874</td>\n",
       "      <td>0.089392</td>\n",
       "      <td>11.9</td>\n",
       "      <td>b</td>\n",
       "    </tr>\n",
       "  </tbody>\n",
       "</table>\n",
       "<p>326 rows × 11 columns</p>\n",
       "</div>"
      ],
      "text/plain": [
       "               eq_id  mag   sta  hypdist  xhigh        m1        m2  \\\n",
       "0      2023-04-13_M6  6.0  B003      423     60  0.276567  0.012251   \n",
       "1      2023-04-13_M6  6.0  B004      398     60  0.523278  0.010967   \n",
       "2      2023-04-13_M6  6.0  B005      468     60  0.392836  0.009337   \n",
       "3      2023-04-13_M6  6.0  B009      456     60  0.428682  0.000518   \n",
       "4      2023-04-13_M6  6.0  B012      299     60  0.420404  0.013704   \n",
       "..               ...  ...   ...      ...    ...       ...       ...   \n",
       "321  2010-01-10_M6.5  6.5  B066      499     35  0.228458  0.026041   \n",
       "322  2010-01-10_M6.5  6.5  B933       89     35  1.205989  0.046212   \n",
       "323  2010-01-10_M6.5  6.5  B934      123     35  0.258354  0.063122   \n",
       "324  2010-01-10_M6.5  6.5  B935       96     35  1.338175  0.021897   \n",
       "325  2008-01-10_M6.3  6.3  B026      321     24  0.442317  0.052398   \n",
       "\n",
       "        xinter     sigma  trans_time behavior  \n",
       "0    14.075615  0.141517        14.1        b  \n",
       "1    12.877702  0.101206        12.9        g  \n",
       "2    12.057298  0.075473        12.1        g  \n",
       "3    12.471551  0.079256        12.5        g  \n",
       "4    13.220529  0.112984        13.3        g  \n",
       "..         ...       ...         ...      ...  \n",
       "321  15.608228  0.096790        15.7        g  \n",
       "322  12.710480  0.220511        12.8        g  \n",
       "323  12.957077  0.087686        13.0        b  \n",
       "324  12.540953  0.210012        12.6        g  \n",
       "325  11.868874  0.089392        11.9        b  \n",
       "\n",
       "[326 rows x 11 columns]"
      ]
     },
     "execution_count": 31,
     "metadata": {},
     "output_type": "execute_result"
    }
   ],
   "source": [
    "# mcmc_results_class_by_eye = pd.read_csv(path_to_files + 'mcmc_results_summary.csv', usecols = [1, 2, 3, 4, 5, 6, 7, 8, 9, 10, 11])\n",
    "# mcmc_results_class_by_eye"
   ]
  },
  {
   "cell_type": "code",
   "execution_count": 41,
   "id": "08eba809-c74d-4f87-a57a-63e3cf16c08f",
   "metadata": {},
   "outputs": [
    {
     "data": {
      "text/html": [
       "<div>\n",
       "<style scoped>\n",
       "    .dataframe tbody tr th:only-of-type {\n",
       "        vertical-align: middle;\n",
       "    }\n",
       "\n",
       "    .dataframe tbody tr th {\n",
       "        vertical-align: top;\n",
       "    }\n",
       "\n",
       "    .dataframe thead th {\n",
       "        text-align: right;\n",
       "    }\n",
       "</style>\n",
       "<table border=\"1\" class=\"dataframe\">\n",
       "  <thead>\n",
       "    <tr style=\"text-align: right;\">\n",
       "      <th></th>\n",
       "      <th>eq_id</th>\n",
       "      <th>mag</th>\n",
       "      <th>sta</th>\n",
       "      <th>hypdist</th>\n",
       "      <th>xhigh</th>\n",
       "      <th>m1</th>\n",
       "      <th>m2</th>\n",
       "      <th>xinter</th>\n",
       "      <th>sigma</th>\n",
       "      <th>trans_time</th>\n",
       "      <th>behavior</th>\n",
       "    </tr>\n",
       "  </thead>\n",
       "  <tbody>\n",
       "    <tr>\n",
       "      <th>1</th>\n",
       "      <td>2023-04-13_M6</td>\n",
       "      <td>6.0</td>\n",
       "      <td>B004</td>\n",
       "      <td>398</td>\n",
       "      <td>60</td>\n",
       "      <td>0.523278</td>\n",
       "      <td>0.010967</td>\n",
       "      <td>12.877702</td>\n",
       "      <td>0.101206</td>\n",
       "      <td>12.9</td>\n",
       "      <td>g</td>\n",
       "    </tr>\n",
       "    <tr>\n",
       "      <th>2</th>\n",
       "      <td>2023-04-13_M6</td>\n",
       "      <td>6.0</td>\n",
       "      <td>B005</td>\n",
       "      <td>468</td>\n",
       "      <td>60</td>\n",
       "      <td>0.392836</td>\n",
       "      <td>0.009337</td>\n",
       "      <td>12.057298</td>\n",
       "      <td>0.075473</td>\n",
       "      <td>12.1</td>\n",
       "      <td>g</td>\n",
       "    </tr>\n",
       "    <tr>\n",
       "      <th>3</th>\n",
       "      <td>2023-04-13_M6</td>\n",
       "      <td>6.0</td>\n",
       "      <td>B009</td>\n",
       "      <td>456</td>\n",
       "      <td>60</td>\n",
       "      <td>0.428682</td>\n",
       "      <td>0.000518</td>\n",
       "      <td>12.471551</td>\n",
       "      <td>0.079256</td>\n",
       "      <td>12.5</td>\n",
       "      <td>g</td>\n",
       "    </tr>\n",
       "    <tr>\n",
       "      <th>4</th>\n",
       "      <td>2023-04-13_M6</td>\n",
       "      <td>6.0</td>\n",
       "      <td>B012</td>\n",
       "      <td>299</td>\n",
       "      <td>60</td>\n",
       "      <td>0.420404</td>\n",
       "      <td>0.013704</td>\n",
       "      <td>13.220529</td>\n",
       "      <td>0.112984</td>\n",
       "      <td>13.3</td>\n",
       "      <td>g</td>\n",
       "    </tr>\n",
       "    <tr>\n",
       "      <th>5</th>\n",
       "      <td>2023-04-13_M6</td>\n",
       "      <td>6.0</td>\n",
       "      <td>B927</td>\n",
       "      <td>349</td>\n",
       "      <td>60</td>\n",
       "      <td>0.644048</td>\n",
       "      <td>0.006067</td>\n",
       "      <td>12.064490</td>\n",
       "      <td>0.108054</td>\n",
       "      <td>12.1</td>\n",
       "      <td>g</td>\n",
       "    </tr>\n",
       "    <tr>\n",
       "      <th>...</th>\n",
       "      <td>...</td>\n",
       "      <td>...</td>\n",
       "      <td>...</td>\n",
       "      <td>...</td>\n",
       "      <td>...</td>\n",
       "      <td>...</td>\n",
       "      <td>...</td>\n",
       "      <td>...</td>\n",
       "      <td>...</td>\n",
       "      <td>...</td>\n",
       "      <td>...</td>\n",
       "    </tr>\n",
       "    <tr>\n",
       "      <th>319</th>\n",
       "      <td>2010-01-10_M6.5</td>\n",
       "      <td>6.5</td>\n",
       "      <td>B054</td>\n",
       "      <td>377</td>\n",
       "      <td>35</td>\n",
       "      <td>0.474619</td>\n",
       "      <td>0.001973</td>\n",
       "      <td>13.653904</td>\n",
       "      <td>0.078392</td>\n",
       "      <td>13.7</td>\n",
       "      <td>g</td>\n",
       "    </tr>\n",
       "    <tr>\n",
       "      <th>320</th>\n",
       "      <td>2010-01-10_M6.5</td>\n",
       "      <td>6.5</td>\n",
       "      <td>B057</td>\n",
       "      <td>344</td>\n",
       "      <td>35</td>\n",
       "      <td>0.379983</td>\n",
       "      <td>0.023154</td>\n",
       "      <td>14.384422</td>\n",
       "      <td>0.117667</td>\n",
       "      <td>14.4</td>\n",
       "      <td>g</td>\n",
       "    </tr>\n",
       "    <tr>\n",
       "      <th>321</th>\n",
       "      <td>2010-01-10_M6.5</td>\n",
       "      <td>6.5</td>\n",
       "      <td>B066</td>\n",
       "      <td>499</td>\n",
       "      <td>35</td>\n",
       "      <td>0.228458</td>\n",
       "      <td>0.026041</td>\n",
       "      <td>15.608228</td>\n",
       "      <td>0.096790</td>\n",
       "      <td>15.7</td>\n",
       "      <td>g</td>\n",
       "    </tr>\n",
       "    <tr>\n",
       "      <th>322</th>\n",
       "      <td>2010-01-10_M6.5</td>\n",
       "      <td>6.5</td>\n",
       "      <td>B933</td>\n",
       "      <td>89</td>\n",
       "      <td>35</td>\n",
       "      <td>1.205989</td>\n",
       "      <td>0.046212</td>\n",
       "      <td>12.710480</td>\n",
       "      <td>0.220511</td>\n",
       "      <td>12.8</td>\n",
       "      <td>g</td>\n",
       "    </tr>\n",
       "    <tr>\n",
       "      <th>324</th>\n",
       "      <td>2010-01-10_M6.5</td>\n",
       "      <td>6.5</td>\n",
       "      <td>B935</td>\n",
       "      <td>96</td>\n",
       "      <td>35</td>\n",
       "      <td>1.338175</td>\n",
       "      <td>0.021897</td>\n",
       "      <td>12.540953</td>\n",
       "      <td>0.210012</td>\n",
       "      <td>12.6</td>\n",
       "      <td>g</td>\n",
       "    </tr>\n",
       "  </tbody>\n",
       "</table>\n",
       "<p>210 rows × 11 columns</p>\n",
       "</div>"
      ],
      "text/plain": [
       "               eq_id  mag   sta  hypdist  xhigh        m1        m2  \\\n",
       "1      2023-04-13_M6  6.0  B004      398     60  0.523278  0.010967   \n",
       "2      2023-04-13_M6  6.0  B005      468     60  0.392836  0.009337   \n",
       "3      2023-04-13_M6  6.0  B009      456     60  0.428682  0.000518   \n",
       "4      2023-04-13_M6  6.0  B012      299     60  0.420404  0.013704   \n",
       "5      2023-04-13_M6  6.0  B927      349     60  0.644048  0.006067   \n",
       "..               ...  ...   ...      ...    ...       ...       ...   \n",
       "319  2010-01-10_M6.5  6.5  B054      377     35  0.474619  0.001973   \n",
       "320  2010-01-10_M6.5  6.5  B057      344     35  0.379983  0.023154   \n",
       "321  2010-01-10_M6.5  6.5  B066      499     35  0.228458  0.026041   \n",
       "322  2010-01-10_M6.5  6.5  B933       89     35  1.205989  0.046212   \n",
       "324  2010-01-10_M6.5  6.5  B935       96     35  1.338175  0.021897   \n",
       "\n",
       "        xinter     sigma  trans_time behavior  \n",
       "1    12.877702  0.101206        12.9        g  \n",
       "2    12.057298  0.075473        12.1        g  \n",
       "3    12.471551  0.079256        12.5        g  \n",
       "4    13.220529  0.112984        13.3        g  \n",
       "5    12.064490  0.108054        12.1        g  \n",
       "..         ...       ...         ...      ...  \n",
       "319  13.653904  0.078392        13.7        g  \n",
       "320  14.384422  0.117667        14.4        g  \n",
       "321  15.608228  0.096790        15.7        g  \n",
       "322  12.710480  0.220511        12.8        g  \n",
       "324  12.540953  0.210012        12.6        g  \n",
       "\n",
       "[210 rows x 11 columns]"
      ]
     },
     "execution_count": 41,
     "metadata": {},
     "output_type": "execute_result"
    }
   ],
   "source": [
    "# good_results = mcmc_results_class_by_eye[mcmc_results_class_by_eye['behavior'] == 'g']\n",
    "# bad_results = mcmc_results_class_by_eye[mcmc_results_class_by_eye['behavior'] == 'b']\n",
    "# good_results"
   ]
  },
  {
   "cell_type": "code",
   "execution_count": 51,
   "id": "70ed3bf6-4f0b-4543-b377-3a19ef889fa2",
   "metadata": {},
   "outputs": [],
   "source": [
    "# plt.figure(dpi = 400)\n",
    "# plt.scatter(bad_results.hypdist.values, bad_results.xinter.values, marker = 'x', color = '#E9072B', label = '\"Poorly-behaved\" waveforms')\n",
    "# plt.scatter(good_results.hypdist.values, good_results.xinter.values, marker = 'o', color = '#355464', alpha = 0.6, label = '\"Well-behaved\" waveforms')\n",
    "# plt.xlabel('Hypocentral distance (km)')\n",
    "# plt.ylabel('Transition time (s)')\n",
    "# plt.legend()\n",
    "# # plt.show()\n",
    "# plt.savefig(path_to_files + 'figures/filtered_mcmc_plots/summary_hypdist_vs_transtime.png', format = 'PNG')\n",
    "# plt.close()\n",
    "\n",
    "# plt.figure(dpi = 400)\n",
    "# plt.scatter(bad_results.mag.values, bad_results.xinter.values, marker = 'x', color = '#E9072B', label = '\"Poorly-behaved\" waveforms')\n",
    "# plt.scatter(good_results.mag.values, good_results.xinter.values, marker = 'o', color = '#355464', alpha = 0.6, label = '\"Well-behaved\" waveforms')\n",
    "# plt.xlabel('Earthquake magnitude')\n",
    "# plt.ylabel('Transition time (s)')\n",
    "# plt.legend()\n",
    "# # plt.show()\n",
    "# plt.savefig(path_to_files + 'figures/filtered_mcmc_plots/summary_mag_vs_transtime.png', format = 'PNG')\n",
    "# plt.close()\n",
    "\n",
    "# plt.figure(dpi = 400)\n",
    "# plt.scatter(bad_results.mag.values, bad_results.m1.values, marker = 'x', color = '#E9072B', label = '\"Poorly-behaved\" waveforms')\n",
    "# plt.scatter(good_results.mag.values, good_results.m1.values, marker = 'o', color = '#355464', alpha = 0.6, label = '\"Well-behaved\" waveforms')\n",
    "# plt.xlabel('Earthquake magnitude')\n",
    "# plt.ylabel('Line 1 slope')\n",
    "# plt.legend()\n",
    "# # plt.show()\n",
    "# plt.savefig(path_to_files + 'figures/filtered_mcmc_plots/summary_mag_vs_m1.png', format = 'PNG')\n",
    "# plt.close()\n",
    "\n",
    "# plt.figure(dpi = 400)\n",
    "# plt.scatter(bad_results.mag.values, bad_results.m2.values, marker = 'x', color = '#E9072B', label = '\"Poorly-behaved\" waveforms')\n",
    "# plt.scatter(good_results.mag.values, good_results.m2.values, marker = 'o', color = '#355464', alpha = 0.6, label = '\"Well-behaved\" waveforms')\n",
    "# plt.xlabel('Earthquake magnitude')\n",
    "# plt.ylabel('Line 2 slope')\n",
    "# plt.legend()\n",
    "# # plt.show()\n",
    "# plt.savefig(path_to_files + 'figures/filtered_mcmc_plots/summary_mag_vs_m2.png', format = 'PNG')\n",
    "# plt.close()"
   ]
  },
  {
   "cell_type": "code",
   "execution_count": null,
   "id": "8d3b5193-9729-44c3-af9c-a7df14a5e2eb",
   "metadata": {},
   "outputs": [],
   "source": []
  },
  {
   "cell_type": "code",
   "execution_count": 93,
   "id": "5cb75627-ca26-4ec1-a6c0-d2a95f627306",
   "metadata": {},
   "outputs": [],
   "source": [
    "summary = az.summary(mcmc)"
   ]
  },
  {
   "cell_type": "code",
   "execution_count": 94,
   "id": "49cb76ce-6220-4c53-a434-a62b7f35e3ad",
   "metadata": {},
   "outputs": [
    {
     "data": {
      "text/html": [
       "<div>\n",
       "<style scoped>\n",
       "    .dataframe tbody tr th:only-of-type {\n",
       "        vertical-align: middle;\n",
       "    }\n",
       "\n",
       "    .dataframe tbody tr th {\n",
       "        vertical-align: top;\n",
       "    }\n",
       "\n",
       "    .dataframe thead th {\n",
       "        text-align: right;\n",
       "    }\n",
       "</style>\n",
       "<table border=\"1\" class=\"dataframe\">\n",
       "  <thead>\n",
       "    <tr style=\"text-align: right;\">\n",
       "      <th></th>\n",
       "      <th>mean</th>\n",
       "      <th>sd</th>\n",
       "      <th>hdi_3%</th>\n",
       "      <th>hdi_97%</th>\n",
       "      <th>mcse_mean</th>\n",
       "      <th>mcse_sd</th>\n",
       "      <th>ess_bulk</th>\n",
       "      <th>ess_tail</th>\n",
       "      <th>r_hat</th>\n",
       "    </tr>\n",
       "  </thead>\n",
       "  <tbody>\n",
       "    <tr>\n",
       "      <th>m1</th>\n",
       "      <td>1.608</td>\n",
       "      <td>0.390</td>\n",
       "      <td>1.130</td>\n",
       "      <td>2.124</td>\n",
       "      <td>0.274</td>\n",
       "      <td>0.231</td>\n",
       "      <td>2.0</td>\n",
       "      <td>11.0</td>\n",
       "      <td>2.84</td>\n",
       "    </tr>\n",
       "    <tr>\n",
       "      <th>m2</th>\n",
       "      <td>0.013</td>\n",
       "      <td>0.003</td>\n",
       "      <td>0.011</td>\n",
       "      <td>0.019</td>\n",
       "      <td>0.002</td>\n",
       "      <td>0.001</td>\n",
       "      <td>3.0</td>\n",
       "      <td>21.0</td>\n",
       "      <td>2.24</td>\n",
       "    </tr>\n",
       "    <tr>\n",
       "      <th>xinter</th>\n",
       "      <td>11.131</td>\n",
       "      <td>0.335</td>\n",
       "      <td>10.699</td>\n",
       "      <td>11.574</td>\n",
       "      <td>0.235</td>\n",
       "      <td>0.198</td>\n",
       "      <td>2.0</td>\n",
       "      <td>10.0</td>\n",
       "      <td>2.69</td>\n",
       "    </tr>\n",
       "    <tr>\n",
       "      <th>sigma</th>\n",
       "      <td>0.106</td>\n",
       "      <td>0.037</td>\n",
       "      <td>0.067</td>\n",
       "      <td>0.177</td>\n",
       "      <td>0.024</td>\n",
       "      <td>0.020</td>\n",
       "      <td>2.0</td>\n",
       "      <td>13.0</td>\n",
       "      <td>2.32</td>\n",
       "    </tr>\n",
       "  </tbody>\n",
       "</table>\n",
       "</div>"
      ],
      "text/plain": [
       "          mean     sd  hdi_3%  hdi_97%  mcse_mean  mcse_sd  ess_bulk  \\\n",
       "m1       1.608  0.390   1.130    2.124      0.274    0.231       2.0   \n",
       "m2       0.013  0.003   0.011    0.019      0.002    0.001       3.0   \n",
       "xinter  11.131  0.335  10.699   11.574      0.235    0.198       2.0   \n",
       "sigma    0.106  0.037   0.067    0.177      0.024    0.020       2.0   \n",
       "\n",
       "        ess_tail  r_hat  \n",
       "m1          11.0   2.84  \n",
       "m2          21.0   2.24  \n",
       "xinter      10.0   2.69  \n",
       "sigma       13.0   2.32  "
      ]
     },
     "execution_count": 94,
     "metadata": {},
     "output_type": "execute_result"
    }
   ],
   "source": [
    "summary"
   ]
  },
  {
   "cell_type": "code",
   "execution_count": 77,
   "id": "c9e499dc-f173-40cd-8932-4c51ba67cb46",
   "metadata": {},
   "outputs": [
    {
     "data": {
      "text/plain": [
       "m1         0.302\n",
       "m2         0.039\n",
       "xinter    12.971\n",
       "sigma      0.163\n",
       "Name: mean, dtype: float64"
      ]
     },
     "execution_count": 77,
     "metadata": {},
     "output_type": "execute_result"
    }
   ],
   "source": [
    "summary['mean']"
   ]
  },
  {
   "cell_type": "code",
   "execution_count": 82,
   "id": "bb2d69f5-0e1c-4915-be03-48ee04c78963",
   "metadata": {},
   "outputs": [],
   "source": [
    "m1 = summary['mean'].iloc[0]\n",
    "m2 = summary['mean'].iloc[1]\n",
    "xinter = summary['mean'].iloc[2]\n",
    "sigma = summary['mean'].iloc[3]"
   ]
  },
  {
   "cell_type": "code",
   "execution_count": 85,
   "id": "88f4410f-8b2d-499a-aa2c-cc3bf2a66131",
   "metadata": {},
   "outputs": [
    {
     "name": "stdout",
     "output_type": "stream",
     "text": [
      "0.163\n"
     ]
    }
   ],
   "source": [
    "print(sigma)"
   ]
  },
  {
   "cell_type": "code",
   "execution_count": 87,
   "id": "2da1d4fa-e061-4c75-99fd-cc1145f03a08",
   "metadata": {},
   "outputs": [],
   "source": [
    "# Done, now is post-processing to get the data out of the sampler\n",
    "\n",
    "summary = az.summary(mcmc)\n",
    "\n",
    "# Unwrap coeficients\n",
    "m1 = summary['mean'].iloc[0]\n",
    "m2 = summary['mean'].iloc[1]\n",
    "xinter = summary['mean'].iloc[2]\n",
    "sigma = summary['mean'].iloc[3]\n",
    "b1 = y0 - m1*x0\n",
    "b2 = m1*xinter + b1 - m2*xinter"
   ]
  },
  {
   "cell_type": "code",
   "execution_count": 88,
   "id": "5cde4e64-967b-4741-a9b3-c13bf2f756bc",
   "metadata": {},
   "outputs": [],
   "source": [
    "# Make plot to check stuff\n",
    "xpredicted = np.arange(xobserved.min(), xobserved.max()+0.1, 0.1)\n",
    "ypredicted = np.ones(len(xpredicted))\n",
    "ypredicted = m1*xpredicted + b1\n",
    "i = np.where(xpredicted > xinter)[0]\n",
    "ypredicted[i] = m2*xpredicted[i] + b2"
   ]
  },
  {
   "cell_type": "code",
   "execution_count": 90,
   "id": "e82376d4-515b-4085-8f1e-ef7eba7fc840",
   "metadata": {},
   "outputs": [],
   "source": [
    "posterior = az.extract(mcmc)"
   ]
  },
  {
   "cell_type": "code",
   "execution_count": 95,
   "id": "26b954bf-6253-47e1-8998-8db6e687c634",
   "metadata": {},
   "outputs": [
    {
     "data": {
      "text/html": [
       "<div><svg style=\"position: absolute; width: 0; height: 0; overflow: hidden\">\n",
       "<defs>\n",
       "<symbol id=\"icon-database\" viewBox=\"0 0 32 32\">\n",
       "<path d=\"M16 0c-8.837 0-16 2.239-16 5v4c0 2.761 7.163 5 16 5s16-2.239 16-5v-4c0-2.761-7.163-5-16-5z\"></path>\n",
       "<path d=\"M16 17c-8.837 0-16-2.239-16-5v6c0 2.761 7.163 5 16 5s16-2.239 16-5v-6c0 2.761-7.163 5-16 5z\"></path>\n",
       "<path d=\"M16 26c-8.837 0-16-2.239-16-5v6c0 2.761 7.163 5 16 5s16-2.239 16-5v-6c0 2.761-7.163 5-16 5z\"></path>\n",
       "</symbol>\n",
       "<symbol id=\"icon-file-text2\" viewBox=\"0 0 32 32\">\n",
       "<path d=\"M28.681 7.159c-0.694-0.947-1.662-2.053-2.724-3.116s-2.169-2.030-3.116-2.724c-1.612-1.182-2.393-1.319-2.841-1.319h-15.5c-1.378 0-2.5 1.121-2.5 2.5v27c0 1.378 1.122 2.5 2.5 2.5h23c1.378 0 2.5-1.122 2.5-2.5v-19.5c0-0.448-0.137-1.23-1.319-2.841zM24.543 5.457c0.959 0.959 1.712 1.825 2.268 2.543h-4.811v-4.811c0.718 0.556 1.584 1.309 2.543 2.268zM28 29.5c0 0.271-0.229 0.5-0.5 0.5h-23c-0.271 0-0.5-0.229-0.5-0.5v-27c0-0.271 0.229-0.5 0.5-0.5 0 0 15.499-0 15.5 0v7c0 0.552 0.448 1 1 1h7v19.5z\"></path>\n",
       "<path d=\"M23 26h-14c-0.552 0-1-0.448-1-1s0.448-1 1-1h14c0.552 0 1 0.448 1 1s-0.448 1-1 1z\"></path>\n",
       "<path d=\"M23 22h-14c-0.552 0-1-0.448-1-1s0.448-1 1-1h14c0.552 0 1 0.448 1 1s-0.448 1-1 1z\"></path>\n",
       "<path d=\"M23 18h-14c-0.552 0-1-0.448-1-1s0.448-1 1-1h14c0.552 0 1 0.448 1 1s-0.448 1-1 1z\"></path>\n",
       "</symbol>\n",
       "</defs>\n",
       "</svg>\n",
       "<style>/* CSS stylesheet for displaying xarray objects in jupyterlab.\n",
       " *\n",
       " */\n",
       "\n",
       ":root {\n",
       "  --xr-font-color0: var(--jp-content-font-color0, rgba(0, 0, 0, 1));\n",
       "  --xr-font-color2: var(--jp-content-font-color2, rgba(0, 0, 0, 0.54));\n",
       "  --xr-font-color3: var(--jp-content-font-color3, rgba(0, 0, 0, 0.38));\n",
       "  --xr-border-color: var(--jp-border-color2, #e0e0e0);\n",
       "  --xr-disabled-color: var(--jp-layout-color3, #bdbdbd);\n",
       "  --xr-background-color: var(--jp-layout-color0, white);\n",
       "  --xr-background-color-row-even: var(--jp-layout-color1, white);\n",
       "  --xr-background-color-row-odd: var(--jp-layout-color2, #eeeeee);\n",
       "}\n",
       "\n",
       "html[theme=dark],\n",
       "body[data-theme=dark],\n",
       "body.vscode-dark {\n",
       "  --xr-font-color0: rgba(255, 255, 255, 1);\n",
       "  --xr-font-color2: rgba(255, 255, 255, 0.54);\n",
       "  --xr-font-color3: rgba(255, 255, 255, 0.38);\n",
       "  --xr-border-color: #1F1F1F;\n",
       "  --xr-disabled-color: #515151;\n",
       "  --xr-background-color: #111111;\n",
       "  --xr-background-color-row-even: #111111;\n",
       "  --xr-background-color-row-odd: #313131;\n",
       "}\n",
       "\n",
       ".xr-wrap {\n",
       "  display: block !important;\n",
       "  min-width: 300px;\n",
       "  max-width: 700px;\n",
       "}\n",
       "\n",
       ".xr-text-repr-fallback {\n",
       "  /* fallback to plain text repr when CSS is not injected (untrusted notebook) */\n",
       "  display: none;\n",
       "}\n",
       "\n",
       ".xr-header {\n",
       "  padding-top: 6px;\n",
       "  padding-bottom: 6px;\n",
       "  margin-bottom: 4px;\n",
       "  border-bottom: solid 1px var(--xr-border-color);\n",
       "}\n",
       "\n",
       ".xr-header > div,\n",
       ".xr-header > ul {\n",
       "  display: inline;\n",
       "  margin-top: 0;\n",
       "  margin-bottom: 0;\n",
       "}\n",
       "\n",
       ".xr-obj-type,\n",
       ".xr-array-name {\n",
       "  margin-left: 2px;\n",
       "  margin-right: 10px;\n",
       "}\n",
       "\n",
       ".xr-obj-type {\n",
       "  color: var(--xr-font-color2);\n",
       "}\n",
       "\n",
       ".xr-sections {\n",
       "  padding-left: 0 !important;\n",
       "  display: grid;\n",
       "  grid-template-columns: 150px auto auto 1fr 20px 20px;\n",
       "}\n",
       "\n",
       ".xr-section-item {\n",
       "  display: contents;\n",
       "}\n",
       "\n",
       ".xr-section-item input {\n",
       "  display: none;\n",
       "}\n",
       "\n",
       ".xr-section-item input + label {\n",
       "  color: var(--xr-disabled-color);\n",
       "}\n",
       "\n",
       ".xr-section-item input:enabled + label {\n",
       "  cursor: pointer;\n",
       "  color: var(--xr-font-color2);\n",
       "}\n",
       "\n",
       ".xr-section-item input:enabled + label:hover {\n",
       "  color: var(--xr-font-color0);\n",
       "}\n",
       "\n",
       ".xr-section-summary {\n",
       "  grid-column: 1;\n",
       "  color: var(--xr-font-color2);\n",
       "  font-weight: 500;\n",
       "}\n",
       "\n",
       ".xr-section-summary > span {\n",
       "  display: inline-block;\n",
       "  padding-left: 0.5em;\n",
       "}\n",
       "\n",
       ".xr-section-summary-in:disabled + label {\n",
       "  color: var(--xr-font-color2);\n",
       "}\n",
       "\n",
       ".xr-section-summary-in + label:before {\n",
       "  display: inline-block;\n",
       "  content: '►';\n",
       "  font-size: 11px;\n",
       "  width: 15px;\n",
       "  text-align: center;\n",
       "}\n",
       "\n",
       ".xr-section-summary-in:disabled + label:before {\n",
       "  color: var(--xr-disabled-color);\n",
       "}\n",
       "\n",
       ".xr-section-summary-in:checked + label:before {\n",
       "  content: '▼';\n",
       "}\n",
       "\n",
       ".xr-section-summary-in:checked + label > span {\n",
       "  display: none;\n",
       "}\n",
       "\n",
       ".xr-section-summary,\n",
       ".xr-section-inline-details {\n",
       "  padding-top: 4px;\n",
       "  padding-bottom: 4px;\n",
       "}\n",
       "\n",
       ".xr-section-inline-details {\n",
       "  grid-column: 2 / -1;\n",
       "}\n",
       "\n",
       ".xr-section-details {\n",
       "  display: none;\n",
       "  grid-column: 1 / -1;\n",
       "  margin-bottom: 5px;\n",
       "}\n",
       "\n",
       ".xr-section-summary-in:checked ~ .xr-section-details {\n",
       "  display: contents;\n",
       "}\n",
       "\n",
       ".xr-array-wrap {\n",
       "  grid-column: 1 / -1;\n",
       "  display: grid;\n",
       "  grid-template-columns: 20px auto;\n",
       "}\n",
       "\n",
       ".xr-array-wrap > label {\n",
       "  grid-column: 1;\n",
       "  vertical-align: top;\n",
       "}\n",
       "\n",
       ".xr-preview {\n",
       "  color: var(--xr-font-color3);\n",
       "}\n",
       "\n",
       ".xr-array-preview,\n",
       ".xr-array-data {\n",
       "  padding: 0 5px !important;\n",
       "  grid-column: 2;\n",
       "}\n",
       "\n",
       ".xr-array-data,\n",
       ".xr-array-in:checked ~ .xr-array-preview {\n",
       "  display: none;\n",
       "}\n",
       "\n",
       ".xr-array-in:checked ~ .xr-array-data,\n",
       ".xr-array-preview {\n",
       "  display: inline-block;\n",
       "}\n",
       "\n",
       ".xr-dim-list {\n",
       "  display: inline-block !important;\n",
       "  list-style: none;\n",
       "  padding: 0 !important;\n",
       "  margin: 0;\n",
       "}\n",
       "\n",
       ".xr-dim-list li {\n",
       "  display: inline-block;\n",
       "  padding: 0;\n",
       "  margin: 0;\n",
       "}\n",
       "\n",
       ".xr-dim-list:before {\n",
       "  content: '(';\n",
       "}\n",
       "\n",
       ".xr-dim-list:after {\n",
       "  content: ')';\n",
       "}\n",
       "\n",
       ".xr-dim-list li:not(:last-child):after {\n",
       "  content: ',';\n",
       "  padding-right: 5px;\n",
       "}\n",
       "\n",
       ".xr-has-index {\n",
       "  font-weight: bold;\n",
       "}\n",
       "\n",
       ".xr-var-list,\n",
       ".xr-var-item {\n",
       "  display: contents;\n",
       "}\n",
       "\n",
       ".xr-var-item > div,\n",
       ".xr-var-item label,\n",
       ".xr-var-item > .xr-var-name span {\n",
       "  background-color: var(--xr-background-color-row-even);\n",
       "  margin-bottom: 0;\n",
       "}\n",
       "\n",
       ".xr-var-item > .xr-var-name:hover span {\n",
       "  padding-right: 5px;\n",
       "}\n",
       "\n",
       ".xr-var-list > li:nth-child(odd) > div,\n",
       ".xr-var-list > li:nth-child(odd) > label,\n",
       ".xr-var-list > li:nth-child(odd) > .xr-var-name span {\n",
       "  background-color: var(--xr-background-color-row-odd);\n",
       "}\n",
       "\n",
       ".xr-var-name {\n",
       "  grid-column: 1;\n",
       "}\n",
       "\n",
       ".xr-var-dims {\n",
       "  grid-column: 2;\n",
       "}\n",
       "\n",
       ".xr-var-dtype {\n",
       "  grid-column: 3;\n",
       "  text-align: right;\n",
       "  color: var(--xr-font-color2);\n",
       "}\n",
       "\n",
       ".xr-var-preview {\n",
       "  grid-column: 4;\n",
       "}\n",
       "\n",
       ".xr-index-preview {\n",
       "  grid-column: 2 / 5;\n",
       "  color: var(--xr-font-color2);\n",
       "}\n",
       "\n",
       ".xr-var-name,\n",
       ".xr-var-dims,\n",
       ".xr-var-dtype,\n",
       ".xr-preview,\n",
       ".xr-attrs dt {\n",
       "  white-space: nowrap;\n",
       "  overflow: hidden;\n",
       "  text-overflow: ellipsis;\n",
       "  padding-right: 10px;\n",
       "}\n",
       "\n",
       ".xr-var-name:hover,\n",
       ".xr-var-dims:hover,\n",
       ".xr-var-dtype:hover,\n",
       ".xr-attrs dt:hover {\n",
       "  overflow: visible;\n",
       "  width: auto;\n",
       "  z-index: 1;\n",
       "}\n",
       "\n",
       ".xr-var-attrs,\n",
       ".xr-var-data,\n",
       ".xr-index-data {\n",
       "  display: none;\n",
       "  background-color: var(--xr-background-color) !important;\n",
       "  padding-bottom: 5px !important;\n",
       "}\n",
       "\n",
       ".xr-var-attrs-in:checked ~ .xr-var-attrs,\n",
       ".xr-var-data-in:checked ~ .xr-var-data,\n",
       ".xr-index-data-in:checked ~ .xr-index-data {\n",
       "  display: block;\n",
       "}\n",
       "\n",
       ".xr-var-data > table {\n",
       "  float: right;\n",
       "}\n",
       "\n",
       ".xr-var-name span,\n",
       ".xr-var-data,\n",
       ".xr-index-name div,\n",
       ".xr-index-data,\n",
       ".xr-attrs {\n",
       "  padding-left: 25px !important;\n",
       "}\n",
       "\n",
       ".xr-attrs,\n",
       ".xr-var-attrs,\n",
       ".xr-var-data,\n",
       ".xr-index-data {\n",
       "  grid-column: 1 / -1;\n",
       "}\n",
       "\n",
       "dl.xr-attrs {\n",
       "  padding: 0;\n",
       "  margin: 0;\n",
       "  display: grid;\n",
       "  grid-template-columns: 125px auto;\n",
       "}\n",
       "\n",
       ".xr-attrs dt,\n",
       ".xr-attrs dd {\n",
       "  padding: 0;\n",
       "  margin: 0;\n",
       "  float: left;\n",
       "  padding-right: 10px;\n",
       "  width: auto;\n",
       "}\n",
       "\n",
       ".xr-attrs dt {\n",
       "  font-weight: normal;\n",
       "  grid-column: 1;\n",
       "}\n",
       "\n",
       ".xr-attrs dt:hover span {\n",
       "  display: inline-block;\n",
       "  background: var(--xr-background-color);\n",
       "  padding-right: 10px;\n",
       "}\n",
       "\n",
       ".xr-attrs dd {\n",
       "  grid-column: 2;\n",
       "  white-space: pre-wrap;\n",
       "  word-break: break-all;\n",
       "}\n",
       "\n",
       ".xr-icon-database,\n",
       ".xr-icon-file-text2,\n",
       ".xr-no-icon {\n",
       "  display: inline-block;\n",
       "  vertical-align: middle;\n",
       "  width: 1em;\n",
       "  height: 1.5em !important;\n",
       "  stroke-width: 0;\n",
       "  stroke: currentColor;\n",
       "  fill: currentColor;\n",
       "}\n",
       "</style><pre class='xr-text-repr-fallback'>&lt;xarray.Dataset&gt; Size: 224kB\n",
       "Dimensions:  (sample: 4000)\n",
       "Coordinates:\n",
       "  * sample   (sample) object 32kB MultiIndex\n",
       "  * chain    (sample) int64 32kB 0 0 0 0 0 0 0 0 0 0 0 ... 1 1 1 1 1 1 1 1 1 1 1\n",
       "  * draw     (sample) int64 32kB 0 1 2 3 4 5 6 ... 1994 1995 1996 1997 1998 1999\n",
       "Data variables:\n",
       "    m1       (sample) float64 32kB 0.2794 0.2794 0.2794 ... 0.3114 0.3114 0.3114\n",
       "    m2       (sample) float64 32kB 0.0466 0.0466 0.0466 ... 0.04077 0.04077\n",
       "    xinter   (sample) float64 32kB 12.98 12.98 12.99 12.99 ... 12.95 12.94 12.94\n",
       "    sigma    (sample) float64 32kB 0.1522 0.1522 0.1522 ... 0.1575 0.1575 0.1575\n",
       "Attributes:\n",
       "    created_at:                 2024-03-05T10:45:23.481163\n",
       "    arviz_version:              0.17.0\n",
       "    inference_library:          pymc\n",
       "    inference_library_version:  5.10.4\n",
       "    sampling_time:              8.208245038986206\n",
       "    tuning_steps:               1000</pre><div class='xr-wrap' style='display:none'><div class='xr-header'><div class='xr-obj-type'>xarray.Dataset</div></div><ul class='xr-sections'><li class='xr-section-item'><input id='section-8e72aae5-3093-4d82-9113-2aa39399fe9d' class='xr-section-summary-in' type='checkbox' disabled ><label for='section-8e72aae5-3093-4d82-9113-2aa39399fe9d' class='xr-section-summary'  title='Expand/collapse section'>Dimensions:</label><div class='xr-section-inline-details'><ul class='xr-dim-list'><li><span class='xr-has-index'>sample</span>: 4000</li></ul></div><div class='xr-section-details'></div></li><li class='xr-section-item'><input id='section-04eeb094-91ce-4160-bcd3-74f369b38b82' class='xr-section-summary-in' type='checkbox'  checked><label for='section-04eeb094-91ce-4160-bcd3-74f369b38b82' class='xr-section-summary' >Coordinates: <span>(3)</span></label><div class='xr-section-inline-details'></div><div class='xr-section-details'><ul class='xr-var-list'><li class='xr-var-item'><div class='xr-var-name'><span class='xr-has-index'>sample</span></div><div class='xr-var-dims'>(sample)</div><div class='xr-var-dtype'>object</div><div class='xr-var-preview xr-preview'>MultiIndex</div><input id='attrs-96c3783c-f25a-479b-aa38-d259cd00d711' class='xr-var-attrs-in' type='checkbox' disabled><label for='attrs-96c3783c-f25a-479b-aa38-d259cd00d711' title='Show/Hide attributes'><svg class='icon xr-icon-file-text2'><use xlink:href='#icon-file-text2'></use></svg></label><input id='data-eb3710b6-1f38-45a3-ae88-bdd65f196244' class='xr-var-data-in' type='checkbox'><label for='data-eb3710b6-1f38-45a3-ae88-bdd65f196244' title='Show/Hide data repr'><svg class='icon xr-icon-database'><use xlink:href='#icon-database'></use></svg></label><div class='xr-var-attrs'><dl class='xr-attrs'></dl></div><div class='xr-var-data'><pre>array([(0, 0), (0, 1), (0, 2), ..., (1, 1997), (1, 1998), (1, 1999)],\n",
       "      dtype=object)</pre></div></li><li class='xr-var-item'><div class='xr-var-name'><span class='xr-has-index'>chain</span></div><div class='xr-var-dims'>(sample)</div><div class='xr-var-dtype'>int64</div><div class='xr-var-preview xr-preview'>0 0 0 0 0 0 0 0 ... 1 1 1 1 1 1 1 1</div><input id='attrs-bac2452e-b157-4e58-8cbc-1150e7680f96' class='xr-var-attrs-in' type='checkbox' disabled><label for='attrs-bac2452e-b157-4e58-8cbc-1150e7680f96' title='Show/Hide attributes'><svg class='icon xr-icon-file-text2'><use xlink:href='#icon-file-text2'></use></svg></label><input id='data-cb0aa90c-c9e5-4843-a96b-5cfa6e3d595c' class='xr-var-data-in' type='checkbox'><label for='data-cb0aa90c-c9e5-4843-a96b-5cfa6e3d595c' title='Show/Hide data repr'><svg class='icon xr-icon-database'><use xlink:href='#icon-database'></use></svg></label><div class='xr-var-attrs'><dl class='xr-attrs'></dl></div><div class='xr-var-data'><pre>array([0, 0, 0, ..., 1, 1, 1])</pre></div></li><li class='xr-var-item'><div class='xr-var-name'><span class='xr-has-index'>draw</span></div><div class='xr-var-dims'>(sample)</div><div class='xr-var-dtype'>int64</div><div class='xr-var-preview xr-preview'>0 1 2 3 4 ... 1996 1997 1998 1999</div><input id='attrs-5aa3357b-d6e2-4e93-8434-a3cce31e1b59' class='xr-var-attrs-in' type='checkbox' disabled><label for='attrs-5aa3357b-d6e2-4e93-8434-a3cce31e1b59' title='Show/Hide attributes'><svg class='icon xr-icon-file-text2'><use xlink:href='#icon-file-text2'></use></svg></label><input id='data-2c8be069-76c2-4929-b01b-b5941e4570f1' class='xr-var-data-in' type='checkbox'><label for='data-2c8be069-76c2-4929-b01b-b5941e4570f1' title='Show/Hide data repr'><svg class='icon xr-icon-database'><use xlink:href='#icon-database'></use></svg></label><div class='xr-var-attrs'><dl class='xr-attrs'></dl></div><div class='xr-var-data'><pre>array([   0,    1,    2, ..., 1997, 1998, 1999])</pre></div></li></ul></div></li><li class='xr-section-item'><input id='section-53970d7a-e6e5-407f-bd9f-22e7cb4259a6' class='xr-section-summary-in' type='checkbox'  checked><label for='section-53970d7a-e6e5-407f-bd9f-22e7cb4259a6' class='xr-section-summary' >Data variables: <span>(4)</span></label><div class='xr-section-inline-details'></div><div class='xr-section-details'><ul class='xr-var-list'><li class='xr-var-item'><div class='xr-var-name'><span>m1</span></div><div class='xr-var-dims'>(sample)</div><div class='xr-var-dtype'>float64</div><div class='xr-var-preview xr-preview'>0.2794 0.2794 ... 0.3114 0.3114</div><input id='attrs-4105e3ec-4ffa-4bd8-8bff-d4ce302e8392' class='xr-var-attrs-in' type='checkbox' disabled><label for='attrs-4105e3ec-4ffa-4bd8-8bff-d4ce302e8392' title='Show/Hide attributes'><svg class='icon xr-icon-file-text2'><use xlink:href='#icon-file-text2'></use></svg></label><input id='data-eff50360-13e8-480f-a517-34e074bdf30a' class='xr-var-data-in' type='checkbox'><label for='data-eff50360-13e8-480f-a517-34e074bdf30a' title='Show/Hide data repr'><svg class='icon xr-icon-database'><use xlink:href='#icon-database'></use></svg></label><div class='xr-var-attrs'><dl class='xr-attrs'></dl></div><div class='xr-var-data'><pre>array([0.27936922, 0.27936922, 0.27936922, ..., 0.31142556, 0.31142556,\n",
       "       0.31142556])</pre></div></li><li class='xr-var-item'><div class='xr-var-name'><span>m2</span></div><div class='xr-var-dims'>(sample)</div><div class='xr-var-dtype'>float64</div><div class='xr-var-preview xr-preview'>0.0466 0.0466 ... 0.04077 0.04077</div><input id='attrs-7a155d0c-1600-4e80-870f-4468ec1646a4' class='xr-var-attrs-in' type='checkbox' disabled><label for='attrs-7a155d0c-1600-4e80-870f-4468ec1646a4' title='Show/Hide attributes'><svg class='icon xr-icon-file-text2'><use xlink:href='#icon-file-text2'></use></svg></label><input id='data-e4298cbc-d3c3-4b4a-b2f4-ef0de8785558' class='xr-var-data-in' type='checkbox'><label for='data-e4298cbc-d3c3-4b4a-b2f4-ef0de8785558' title='Show/Hide data repr'><svg class='icon xr-icon-database'><use xlink:href='#icon-database'></use></svg></label><div class='xr-var-attrs'><dl class='xr-attrs'></dl></div><div class='xr-var-data'><pre>array([0.04659606, 0.04659606, 0.04659606, ..., 0.04076757, 0.04076757,\n",
       "       0.04076757])</pre></div></li><li class='xr-var-item'><div class='xr-var-name'><span>xinter</span></div><div class='xr-var-dims'>(sample)</div><div class='xr-var-dtype'>float64</div><div class='xr-var-preview xr-preview'>12.98 12.98 12.99 ... 12.94 12.94</div><input id='attrs-80eebbbb-7c70-48b3-870d-57b91c79fcdd' class='xr-var-attrs-in' type='checkbox' disabled><label for='attrs-80eebbbb-7c70-48b3-870d-57b91c79fcdd' title='Show/Hide attributes'><svg class='icon xr-icon-file-text2'><use xlink:href='#icon-file-text2'></use></svg></label><input id='data-ae83ba5a-6bea-408f-a3eb-409c45896200' class='xr-var-data-in' type='checkbox'><label for='data-ae83ba5a-6bea-408f-a3eb-409c45896200' title='Show/Hide data repr'><svg class='icon xr-icon-database'><use xlink:href='#icon-database'></use></svg></label><div class='xr-var-attrs'><dl class='xr-attrs'></dl></div><div class='xr-var-data'><pre>array([12.9752028 , 12.9752028 , 12.98715808, ..., 12.95307719,\n",
       "       12.94301633, 12.94301633])</pre></div></li><li class='xr-var-item'><div class='xr-var-name'><span>sigma</span></div><div class='xr-var-dims'>(sample)</div><div class='xr-var-dtype'>float64</div><div class='xr-var-preview xr-preview'>0.1522 0.1522 ... 0.1575 0.1575</div><input id='attrs-5634e15f-7020-4334-8c59-86a51ddc13cb' class='xr-var-attrs-in' type='checkbox' disabled><label for='attrs-5634e15f-7020-4334-8c59-86a51ddc13cb' title='Show/Hide attributes'><svg class='icon xr-icon-file-text2'><use xlink:href='#icon-file-text2'></use></svg></label><input id='data-1c82b85c-6640-42bb-99b7-d2831ac0a8a1' class='xr-var-data-in' type='checkbox'><label for='data-1c82b85c-6640-42bb-99b7-d2831ac0a8a1' title='Show/Hide data repr'><svg class='icon xr-icon-database'><use xlink:href='#icon-database'></use></svg></label><div class='xr-var-attrs'><dl class='xr-attrs'></dl></div><div class='xr-var-data'><pre>array([0.15219366, 0.15219366, 0.15219366, ..., 0.15752334, 0.15752334,\n",
       "       0.15752334])</pre></div></li></ul></div></li><li class='xr-section-item'><input id='section-840457e6-2d1d-4587-b9d1-42d3f65cb42b' class='xr-section-summary-in' type='checkbox'  ><label for='section-840457e6-2d1d-4587-b9d1-42d3f65cb42b' class='xr-section-summary' >Indexes: <span>(1)</span></label><div class='xr-section-inline-details'></div><div class='xr-section-details'><ul class='xr-var-list'><li class='xr-var-item'><div class='xr-index-name'><div>sample<br>chain<br>draw</div></div><div class='xr-index-preview'>PandasMultiIndex</div><div></div><input id='index-41846660-7215-478c-95b7-3ccbf0fe577f' class='xr-index-data-in' type='checkbox'/><label for='index-41846660-7215-478c-95b7-3ccbf0fe577f' title='Show/Hide index repr'><svg class='icon xr-icon-database'><use xlink:href='#icon-database'></use></svg></label><div class='xr-index-data'><pre>PandasIndex(MultiIndex([(0,    0),\n",
       "            (0,    1),\n",
       "            (0,    2),\n",
       "            (0,    3),\n",
       "            (0,    4),\n",
       "            (0,    5),\n",
       "            (0,    6),\n",
       "            (0,    7),\n",
       "            (0,    8),\n",
       "            (0,    9),\n",
       "            ...\n",
       "            (1, 1990),\n",
       "            (1, 1991),\n",
       "            (1, 1992),\n",
       "            (1, 1993),\n",
       "            (1, 1994),\n",
       "            (1, 1995),\n",
       "            (1, 1996),\n",
       "            (1, 1997),\n",
       "            (1, 1998),\n",
       "            (1, 1999)],\n",
       "           name=&#x27;sample&#x27;, length=4000))</pre></div></li></ul></div></li><li class='xr-section-item'><input id='section-f0d59532-9d5d-4d17-8103-f07d8551d7db' class='xr-section-summary-in' type='checkbox'  checked><label for='section-f0d59532-9d5d-4d17-8103-f07d8551d7db' class='xr-section-summary' >Attributes: <span>(6)</span></label><div class='xr-section-inline-details'></div><div class='xr-section-details'><dl class='xr-attrs'><dt><span>created_at :</span></dt><dd>2024-03-05T10:45:23.481163</dd><dt><span>arviz_version :</span></dt><dd>0.17.0</dd><dt><span>inference_library :</span></dt><dd>pymc</dd><dt><span>inference_library_version :</span></dt><dd>5.10.4</dd><dt><span>sampling_time :</span></dt><dd>8.208245038986206</dd><dt><span>tuning_steps :</span></dt><dd>1000</dd></dl></div></li></ul></div></div>"
      ],
      "text/plain": [
       "<xarray.Dataset> Size: 224kB\n",
       "Dimensions:  (sample: 4000)\n",
       "Coordinates:\n",
       "  * sample   (sample) object 32kB MultiIndex\n",
       "  * chain    (sample) int64 32kB 0 0 0 0 0 0 0 0 0 0 0 ... 1 1 1 1 1 1 1 1 1 1 1\n",
       "  * draw     (sample) int64 32kB 0 1 2 3 4 5 6 ... 1994 1995 1996 1997 1998 1999\n",
       "Data variables:\n",
       "    m1       (sample) float64 32kB 0.2794 0.2794 0.2794 ... 0.3114 0.3114 0.3114\n",
       "    m2       (sample) float64 32kB 0.0466 0.0466 0.0466 ... 0.04077 0.04077\n",
       "    xinter   (sample) float64 32kB 12.98 12.98 12.99 12.99 ... 12.95 12.94 12.94\n",
       "    sigma    (sample) float64 32kB 0.1522 0.1522 0.1522 ... 0.1575 0.1575 0.1575\n",
       "Attributes:\n",
       "    created_at:                 2024-03-05T10:45:23.481163\n",
       "    arviz_version:              0.17.0\n",
       "    inference_library:          pymc\n",
       "    inference_library_version:  5.10.4\n",
       "    sampling_time:              8.208245038986206\n",
       "    tuning_steps:               1000"
      ]
     },
     "execution_count": 95,
     "metadata": {},
     "output_type": "execute_result"
    }
   ],
   "source": [
    "posterior"
   ]
  },
  {
   "cell_type": "code",
   "execution_count": 99,
   "id": "73f48df4-c607-41fc-9194-95e8b3f7d642",
   "metadata": {},
   "outputs": [
    {
     "data": {
      "text/plain": [
       "4000"
      ]
     },
     "execution_count": 99,
     "metadata": {},
     "output_type": "execute_result"
    }
   ],
   "source": [
    "len(posterior.m1.values)"
   ]
  },
  {
   "cell_type": "code",
   "execution_count": null,
   "id": "718338ed-4476-467d-b524-638be3f3c0f0",
   "metadata": {},
   "outputs": [],
   "source": []
  },
  {
   "cell_type": "code",
   "execution_count": null,
   "id": "4c649c49-a12f-474f-a6de-764e46563972",
   "metadata": {},
   "outputs": [],
   "source": []
  },
  {
   "cell_type": "code",
   "execution_count": null,
   "id": "b2107563-e7aa-4719-8b65-2c01de1f2204",
   "metadata": {},
   "outputs": [],
   "source": []
  }
 ],
 "metadata": {
  "kernelspec": {
   "display_name": "pymc_env",
   "language": "python",
   "name": "pymc_env"
  },
  "language_info": {
   "codemirror_mode": {
    "name": "ipython",
    "version": 3
   },
   "file_extension": ".py",
   "mimetype": "text/x-python",
   "name": "python",
   "nbconvert_exporter": "python",
   "pygments_lexer": "ipython3",
   "version": "3.11.8"
  }
 },
 "nbformat": 4,
 "nbformat_minor": 5
}
