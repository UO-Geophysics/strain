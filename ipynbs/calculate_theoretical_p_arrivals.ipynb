{
 "cells": [
  {
   "cell_type": "code",
   "execution_count": 1,
   "id": "8868cec3-6dc7-4e0c-8f00-b5d6fb4d0ef9",
   "metadata": {},
   "outputs": [],
   "source": [
    "from obspy.core import Stream, UTCDateTime\n",
    "from obspy.clients.fdsn import Client\n",
    "from obspy.taup import TauPyModel\n",
    "from obspy.geodetics import degrees2kilometers, kilometer2degrees, gps2dist_azimuth\n",
    "import numpy as np\n",
    "import pandas as pd\n",
    "import os.path\n",
    "import os"
   ]
  },
  {
   "cell_type": "code",
   "execution_count": 2,
   "id": "0756ce80-c08a-400d-9980-58ee0b5ecb11",
   "metadata": {},
   "outputs": [],
   "source": [
    "custom_model = TauPyModel(model =  '/Users/sydneydybing/SW4/strain/structure/mojave_noheader.npz')"
   ]
  },
  {
   "cell_type": "code",
   "execution_count": 3,
   "id": "a63b9d35-da4c-410d-aec1-7355a77f47d3",
   "metadata": {},
   "outputs": [],
   "source": [
    "path = '/Users/sydneydybing/StrainProject/2024/'"
   ]
  },
  {
   "cell_type": "code",
   "execution_count": 4,
   "id": "b3ef59cb-a37b-4b98-ac81-30c5c5815ad4",
   "metadata": {},
   "outputs": [],
   "source": [
    "small_test = False"
   ]
  },
  {
   "cell_type": "code",
   "execution_count": 5,
   "id": "5b65d699-e2ac-4dbd-a060-d0b279ed3b94",
   "metadata": {},
   "outputs": [],
   "source": [
    "# Events\n",
    "\n",
    "event_file = 'M6_catalog_2004-2024.csv'\n",
    "events = pd.read_csv(path + event_file)\n",
    "rows_for_extra_times = [8,9,14,16] # Events that need more identifying info because of duplicate dates\n",
    "if small_test:\n",
    "    events = events.iloc[[0,1,2]]\n",
    "# events"
   ]
  },
  {
   "cell_type": "code",
   "execution_count": 6,
   "id": "6a069849-de39-424b-8cf8-1765d286c60c",
   "metadata": {},
   "outputs": [],
   "source": [
    "# Stations\n",
    "\n",
    "bsm_mda = pd.read_csv('/Users/sydneydybing/StrainProject/2024/bsm_metadata.csv')\n",
    "stas = bsm_mda.loc[bsm_mda['LONG'] < -110] # North American stations only\n",
    "if small_test:\n",
    "    stas = stas.iloc[[0,1,2,3,4,5]]\n",
    "# stas"
   ]
  },
  {
   "cell_type": "code",
   "execution_count": 7,
   "id": "91eba036-eb9b-4999-addb-b26b6c77d96d",
   "metadata": {},
   "outputs": [
    {
     "data": {
      "text/plain": [
       "(35, 76)"
      ]
     },
     "execution_count": 7,
     "metadata": {},
     "output_type": "execute_result"
    }
   ],
   "source": [
    "init_array = np.zeros((len(events), len(stas)))\n",
    "init_array.shape"
   ]
  },
  {
   "cell_type": "code",
   "execution_count": 9,
   "id": "e906daa0-52ab-48e4-a44a-9c6853bb92e2",
   "metadata": {},
   "outputs": [
    {
     "name": "stdout",
     "output_type": "stream",
     "text": [
      "Event 2023-04-13M6.0\n",
      "Event 2022-12-20M6.4\n",
      "Event 2022-11-22M6.2\n",
      "Event 2021-12-20M6.2\n",
      "Event 2021-07-08M6.0\n",
      "Event 2020-05-15M6.5\n",
      "Event 2020-03-31M6.5\n",
      "Event 2019-12-25M6.3\n",
      "Event 2019-12-23T20M6.0\n",
      "Event 2019-12-23T19M6.0\n",
      "Event 2019-08-29M6.3\n",
      "Event 2019-07-06M7.1\n",
      "Event 2019-07-04M6.4\n",
      "Event 2019-07-04M6.2\n",
      "Event 2018-10-22T06M6.5\n",
      "Event 2018-10-22M6.8\n",
      "Event 2018-10-22T05M6.5\n",
      "Event 2018-08-22M6.2\n",
      "Event 2016-12-08M6.6\n",
      "Event 2014-08-24M6.02\n",
      "Event 2014-04-24M6.5\n",
      "Event 2014-03-10M6.8\n",
      "Event 2013-09-04M6.0\n",
      "Event 2013-09-03M6.1\n",
      "Event 2012-12-14M6.3\n",
      "Event 2012-11-08M6.1\n",
      "Event 2012-04-11M6.0\n",
      "Event 2011-09-09M6.4\n",
      "Event 2010-04-04M7.2\n",
      "Event 2010-01-10M6.5\n",
      "Event 2008-01-10M6.3\n",
      "Event 2005-06-17M6.6\n",
      "Event 2005-06-15M7.2\n",
      "Event 2004-11-02M6.7\n",
      "Event 2004-07-19M6.4\n"
     ]
    }
   ],
   "source": [
    "# Calculate theoretical P-wave arrival times for each event and each station in each event\n",
    "\n",
    "for i in range(len(events)):\n",
    "    \n",
    "    ot = events.time.values[i]\n",
    "    mag = events.mag.values[i]\n",
    "    \n",
    "    if i in rows_for_extra_times:\n",
    "        cut_ot = ot[:13]\n",
    "    else:\n",
    "        cut_ot = ot[:10]\n",
    "    \n",
    "    print('Event ' + str(cut_ot) + 'M' + str(mag))\n",
    "    \n",
    "    hypo_lat = events.latitude.values[i]\n",
    "    hypo_lon = events.longitude.values[i]\n",
    "    hypo_depth = events.depth.values[i] # km\n",
    "    \n",
    "    for i2 in range(len(stas)):\n",
    "        \n",
    "        # sta_name = stas.BNUM.values[i2]\n",
    "        # print(sta_name)\n",
    "        \n",
    "        sta_lat = stas.LAT.values[i2]\n",
    "        sta_lon = stas.LONG.values[i2]\n",
    "        dist_m, az, baz = gps2dist_azimuth(hypo_lat, hypo_lon, sta_lat, sta_lon) # dist in meters\n",
    "\n",
    "        arrivals = custom_model.get_travel_times(source_depth_in_km = hypo_depth, \n",
    "                                      distance_in_degree = kilometer2degrees(dist_m/1000), phase_list=['p', 'P'])\n",
    "        p_arr_time = arrivals[0].time\n",
    "        # print(p_arr_time)\n",
    "\n",
    "        # p_arr_times.append(p_arr_time)\n",
    "        init_array[i,i2] = p_arr_time\n",
    "    "
   ]
  },
  {
   "cell_type": "code",
   "execution_count": 10,
   "id": "a78bc2f2-18c8-4911-a45c-2dfe73f1600d",
   "metadata": {},
   "outputs": [
    {
     "data": {
      "text/plain": [
       "(35, 76)"
      ]
     },
     "execution_count": 10,
     "metadata": {},
     "output_type": "execute_result"
    }
   ],
   "source": [
    "init_array.shape"
   ]
  },
  {
   "cell_type": "code",
   "execution_count": 11,
   "id": "c3aac41d-cd61-4b74-b248-cdf5fa94add2",
   "metadata": {},
   "outputs": [],
   "source": [
    "np.save(path + 'theoretical_p_arrivals.npy', init_array)"
   ]
  },
  {
   "cell_type": "code",
   "execution_count": null,
   "id": "2d3c34bd-a25e-4097-ac38-df3170acf7ce",
   "metadata": {},
   "outputs": [],
   "source": []
  }
 ],
 "metadata": {
  "kernelspec": {
   "display_name": "Python 3 (ipykernel)",
   "language": "python",
   "name": "python3"
  },
  "language_info": {
   "codemirror_mode": {
    "name": "ipython",
    "version": 3
   },
   "file_extension": ".py",
   "mimetype": "text/x-python",
   "name": "python",
   "nbconvert_exporter": "python",
   "pygments_lexer": "ipython3",
   "version": "3.8.3"
  }
 },
 "nbformat": 4,
 "nbformat_minor": 5
}
