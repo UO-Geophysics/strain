{
 "cells": [
  {
   "cell_type": "code",
   "execution_count": 1,
   "id": "a36ced7b-2778-4edf-9a21-9bc81f331262",
   "metadata": {},
   "outputs": [],
   "source": [
    "import numpy as np\n",
    "import matplotlib.pyplot as plt"
   ]
  },
  {
   "cell_type": "code",
   "execution_count": 3,
   "id": "50b56e19-af0a-4158-93fb-ad18b0a40bc7",
   "metadata": {},
   "outputs": [],
   "source": [
    "unfiltered = np.load('/Users/sydneydybing/StrainProject/2024/NA_evt-sta_dist_array_less500km_withdata_withrmssnrs.npy')\n",
    "filtered = np.load('/Users/sydneydybing/StrainProject/2024/NA_evt-sta_dist_array_less500km_withdata_withrmssnrs_FILTERED.npy')\n",
    "\n",
    "# Array order:\n",
    "\n",
    "# 0. Earthquake identifier\n",
    "# 1. Earthquake origin time\n",
    "# 2. Earthquake latitude\n",
    "# 3. Earthquake longitude\n",
    "# 4. Earthquake magnitude\n",
    "# 5. Station name\n",
    "# 6. Station latitude\n",
    "# 7. Station longitude\n",
    "# 8. Hypocentral distance (km)\n",
    "# 9. RMS strain SNR"
   ]
  },
  {
   "cell_type": "code",
   "execution_count": 49,
   "id": "648f3fac-edfd-4ae9-90b2-3508dcf05609",
   "metadata": {},
   "outputs": [],
   "source": [
    "unfiltered_snrs = unfiltered[:,9].astype(float)\n",
    "filtered_snrs = filtered[:,9].astype(float)"
   ]
  },
  {
   "cell_type": "code",
   "execution_count": 59,
   "id": "536d6ec2-d24a-4ce4-a739-d8bd8b8186ba",
   "metadata": {},
   "outputs": [
    {
     "name": "stdout",
     "output_type": "stream",
     "text": [
      "342\n",
      "211\n"
     ]
    }
   ],
   "source": [
    "i = np.where((~np.isnan(unfiltered_snrs)) & (unfiltered_snrs > 2))[0]\n",
    "print(len(i))\n",
    "\n",
    "j = np.where((~np.isnan(filtered_snrs)) & (filtered_snrs > 2))[0]\n",
    "print(len(j))\n",
    "\n",
    "# (i == j).all() # The same ones are nans for both the filtered and unfiltered data"
   ]
  },
  {
   "cell_type": "code",
   "execution_count": 60,
   "id": "6c494713-063b-4130-9ccd-f8acffd65da9",
   "metadata": {},
   "outputs": [
    {
     "data": {
      "text/plain": [
       "(211, 10)"
      ]
     },
     "execution_count": 60,
     "metadata": {},
     "output_type": "execute_result"
    }
   ],
   "source": [
    "filtered[j].shape"
   ]
  },
  {
   "cell_type": "code",
   "execution_count": 61,
   "id": "58cb55f1-bdd0-4993-8ea5-446af1cbaf9f",
   "metadata": {},
   "outputs": [
    {
     "data": {
      "image/png": "[encoded data removed]",
      "text/plain": [
       "<Figure size 432x288 with 1 Axes>"
      ]
     },
     "metadata": {
      "needs_background": "light"
     },
     "output_type": "display_data"
    },
    {
     "data": {
      "image/png": "[encoded data removed]",
      "text/plain": [
       "<Figure size 432x288 with 1 Axes>"
      ]
     },
     "metadata": {
      "needs_background": "light"
     },
     "output_type": "display_data"
    }
   ],
   "source": [
    "plt.hist(unfiltered_snrs, bins = 50)\n",
    "plt.show()\n",
    "\n",
    "plt.hist(filtered_snrs, bins = 50)\n",
    "plt.show();"
   ]
  },
  {
   "cell_type": "code",
   "execution_count": null,
   "id": "bbe678ed-0f73-4d96-8791-b3fd7bce8abe",
   "metadata": {},
   "outputs": [],
   "source": []
  }
 ],
 "metadata": {
  "kernelspec": {
   "display_name": "Python 3 (ipykernel)",
   "language": "python",
   "name": "python3"
  },
  "language_info": {
   "codemirror_mode": {
    "name": "ipython",
    "version": 3
   },
   "file_extension": ".py",
   "mimetype": "text/x-python",
   "name": "python",
   "nbconvert_exporter": "python",
   "pygments_lexer": "ipython3",
   "version": "3.8.3"
  }
 },
 "nbformat": 4,
 "nbformat_minor": 5
}
