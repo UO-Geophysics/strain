{
 "cells": [
  {
   "cell_type": "code",
   "execution_count": 1,
   "id": "319fae08",
   "metadata": {},
   "outputs": [],
   "source": [
    "# Currently only set up to download North American events - copy script to get Turkey ones"
   ]
  },
  {
   "cell_type": "code",
   "execution_count": 2,
   "id": "36d3e64b",
   "metadata": {},
   "outputs": [],
   "source": [
    "from obspy.core import Stream, UTCDateTime\n",
    "from obspy.clients.fdsn import Client\n",
    "import numpy as np\n",
    "import pandas as pd\n",
    "import os.path\n",
    "import os"
   ]
  },
  {
   "cell_type": "code",
   "execution_count": 3,
   "id": "e635919f",
   "metadata": {},
   "outputs": [],
   "source": [
    "# Naming the client where the data will be coming from. Googling obspy fdsn will\n",
    "# list other options.\n",
    "\n",
    "client = Client('IRIS')\n",
    "\n",
    "# Reading in my info files - earthquakes is a list of the events I want to get data for,\n",
    "# which includes locations and origin times, and then stas is the list of stations I want\n",
    "# to pull data from. Chans is then the four strainmeter channels for these instruments.\n",
    "\n",
    "earthquakes = pd.read_csv('/Users/sydneydybing/StrainProject/2024/M6_catalog_2004-2024.csv', dtype = str)\n",
    "bsm_mda = pd.read_csv('/Users/sydneydybing/StrainProject/2024/bsm_metadata.csv')\n",
    "NA_only = bsm_mda.loc[bsm_mda['LONG'] < -110]\n",
    "stas = NA_only['BNUM'].values\n",
    "chans = ['BS1', 'BS2', 'BS3', 'BS4']\n"
   ]
  },
  {
   "cell_type": "code",
   "execution_count": 4,
   "id": "0c7b2066",
   "metadata": {},
   "outputs": [],
   "source": [
    "# This method of reading in data from IRIS uses origin times in the UTCDateTime format.\n",
    "# To get the origin times from my earthquakes file in this format, since in the CSV each\n",
    "# time unit is a separate column, I pulled each time unit out into its own variable.\n",
    "\n",
    "origin_times = earthquakes.time.values\n",
    "mags = earthquakes.mag.values"
   ]
  },
  {
   "cell_type": "code",
   "execution_count": null,
   "id": "e208dc9a",
   "metadata": {
    "scrolled": true
   },
   "outputs": [
    {
     "name": "stdout",
     "output_type": "stream",
     "text": [
      "Earthquake 1/35\n",
      "Earthquake 2/35\n",
      "Earthquake 3/35\n",
      "Earthquake 4/35\n",
      "Earthquake 5/35\n",
      "Earthquake 6/35\n",
      "Earthquake 7/35\n",
      "Earthquake 8/35\n",
      "Earthquake 9/35\n",
      "Earthquake 10/35\n",
      "Earthquake 11/35\n",
      "Earthquake 12/35\n",
      "Earthquake 13/35\n",
      "Earthquake 14/35\n",
      "Earthquake 15/35\n",
      "Earthquake 16/35\n",
      "Earthquake 17/35\n",
      "Earthquake 18/35\n",
      "Earthquake 19/35\n",
      "Earthquake 20/35\n",
      "Earthquake 21/35\n",
      "Earthquake 22/35\n",
      "Earthquake 23/35\n",
      "Earthquake 24/35\n",
      "Earthquake 25/35\n",
      "Earthquake 26/35\n",
      "Earthquake 27/35\n",
      "Earthquake 28/35\n",
      "Earthquake 29/35\n",
      "Earthquake 30/35\n"
     ]
    }
   ],
   "source": [
    "# I then started looping through my list of earthquakes, and putting together the origin\n",
    "# times for each one as the variable 'ot' in UTCDateTime format. stime and etime are the \n",
    "# start and end times of the data I want to pull from IRIS, so I made my stimes the origin\n",
    "# times of the earthquakes, and the etimes five minutes after the origin.\n",
    "\n",
    "for idx in range(len(earthquakes)):\n",
    "#     print('-----------------------------------------')\n",
    "    print('Earthquake ' + str(idx+1) + '/' + str(len(mags)))\n",
    "#     ot = str(ot_yr[idx]) + '-' + str(ot_mo[idx]) + '-' + str(ot_day[idx]) + 'T' + str(ot_hr[idx]) + ':' + str(ot_min[idx]) + ':' + str(ot_sec[idx])\n",
    "    ot = origin_times[idx]\n",
    "    stime = UTCDateTime(ot)\n",
    "#     print(ot)\n",
    "    etime = stime + 5.*60.\n",
    "#     print(stime)\n",
    "#     print(etime)\n",
    "    \n",
    "    # I then looped through my stations. All of the stations I want are in the 'PB' network,\n",
    "    # and the data has the location 'T0'. This information you'll probably have to look up on\n",
    "    # the IRIS Metadata Aggregator website. \n",
    "    \n",
    "    for sta in stas:\n",
    "        net = 'PB'\n",
    "        sta = sta\n",
    "        loc = 'T0'\n",
    "        \n",
    "        # My final loop was through my four channels so I could write individual miniSEED data\n",
    "        # files for each channel.\n",
    "        \n",
    "        for chan in chans:\n",
    "            chan = chan\n",
    "            \n",
    "            # I used this try-except condition so I didn't get errors if a station didn't have \n",
    "            # data for the time window I was looking at.\n",
    "            \n",
    "            try:\n",
    "                \n",
    "                # I use the function get_waveforms to get the data from the client (IRIS), and\n",
    "                # read it into an obpsy stream object using the network, stations, etc. info\n",
    "                # that I collected earlier. I printed some stats to make sure things were working.\n",
    "                # Then I wrote the stream into a miniSEED data file and saved it onto my laptop.\n",
    "                \n",
    "                st = client.get_waveforms(net, sta, loc, chan, stime, etime)\n",
    "#                 st.plot()\n",
    "                \n",
    "                # Create folder for the event\n",
    "                eq_sta_save_dir = '/Users/sydneydybing/StrainProject/2024/strain_data/raw/' + str(ot[:10]) + '_M' + str(mags[idx]) + '/' + str(sta) + '/'\n",
    "#                 print(eq_sta_save_dir)\n",
    "                if os.path.isdir(eq_sta_save_dir):\n",
    "                    pass\n",
    "                else:\n",
    "                    os.makedirs(eq_sta_save_dir)\n",
    "                \n",
    "                st.write(eq_sta_save_dir + chan + '.mseed', format = 'MSEED')\n",
    "            \n",
    "            # If that didn't work, my code prints out the station name and the earthquake number\n",
    "            # (a piece of information in the original earthquakes CSV that just identifies the\n",
    "            # event), and the phrase \"not found\" so I could tell what didn't work.\n",
    "            \n",
    "            except:\n",
    "                pass\n",
    "#                 print(idx, sta, chan, \"not found\")"
   ]
  }
 ],
 "metadata": {
  "kernelspec": {
   "display_name": "Python 3 (ipykernel)",
   "language": "python",
   "name": "python3"
  },
  "language_info": {
   "codemirror_mode": {
    "name": "ipython",
    "version": 3
   },
   "file_extension": ".py",
   "mimetype": "text/x-python",
   "name": "python",
   "nbconvert_exporter": "python",
   "pygments_lexer": "ipython3",
   "version": "3.8.3"
  }
 },
 "nbformat": 4,
 "nbformat_minor": 5
}
