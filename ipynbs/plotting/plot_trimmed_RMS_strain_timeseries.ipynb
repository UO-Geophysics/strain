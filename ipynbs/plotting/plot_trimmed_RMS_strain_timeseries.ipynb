{
 "cells": [
  {
   "cell_type": "code",
   "execution_count": null,
   "id": "b4721921",
   "metadata": {},
   "outputs": [],
   "source": [
    "from obspy.core import Stream, read\n",
    "import numpy as np\n",
    "import matplotlib.pyplot as plt"
   ]
  },
  {
   "cell_type": "code",
   "execution_count": null,
   "id": "6f2e1df0",
   "metadata": {},
   "outputs": [],
   "source": [
    "path_to_files = '/Users/sydneydybing/StrainProject/M6_500km_sel/StrainData_sel/Trimmed/'\n",
    "quake_folders = np.genfromtxt('/Users/sydneydybing/StrainProject/M6_500km_sel/quake_folders_sel.txt', dtype=str)\n",
    "stas = np.genfromtxt('/Users/sydneydybing/StrainProject/stations.txt', dtype=str)\n",
    "\n",
    "quake_folders_test = ['59_2008_6.3']\n",
    "stas_test = ['B017']"
   ]
  },
  {
   "cell_type": "code",
   "execution_count": null,
   "id": "e087aeaa",
   "metadata": {},
   "outputs": [],
   "source": [
    "for quake in quake_folders:\n",
    "    for sta in stas:        \n",
    "            \n",
    "        try:\n",
    "        \n",
    "            # Strain data\n",
    "        \n",
    "            tRMS = read(path_to_files + quake + '/' + sta + '_tRMS.mseed')\n",
    "            \n",
    "            #tRMS.plot()\n",
    "            tRMS_data = tRMS[0].data\n",
    "            \n",
    "            tRMS_times = range(tRMS[0].stats.npts)\n",
    "            tRMS_times = np.asarray(tRMS_times)/(tRMS[0].stats.sampling_rate)\n",
    "            \n",
    "            if quake == '59_2008_6.3':\n",
    "                plt.plot(tRMS_times, tRMS_data*10**6, color = 'green', label = quake, alpha = 0.3)\n",
    "            elif quake == '109_2010_6.5':\n",
    "                plt.plot(tRMS_times, tRMS_data*10**6, color = 'orange', label = quake, alpha = 0.3)\n",
    "            elif quake == '112_2010_7.2':\n",
    "                plt.plot(tRMS_times, tRMS_data*10**6, color = 'black', label = quake, alpha = 0.3)\n",
    "            elif quake == '145_2011_6.4':    \n",
    "                plt.plot(tRMS_times, tRMS_data*10**6, color = 'yellow', label = quake, alpha = 0.3)\n",
    "            elif quake == '152_2012_6.0':    \n",
    "                plt.plot(tRMS_times, tRMS_data*10**6, color = 'purple', label = quake, alpha = 0.3)\n",
    "            elif quake == '172_2012_6.1':    \n",
    "                plt.plot(tRMS_times, tRMS_data*10**6, color = 'blue', label = quake, alpha = 0.3)\n",
    "            else:\n",
    "                plt.plot(tRMS_times, tRMS_data*10**6, color = 'red', label = quake, alpha = 0.3)\n",
    "            \n",
    "            plt.xlim(0,120)\n",
    "            #plt.ylim(0,2.5)\n",
    "            plt.xlabel('Time (s)')\n",
    "            plt.ylabel('RMS Microstrain ($10^{-6}$ m/m)')\n",
    "            \n",
    "            plt.title(quake + ' Earthquake at PBO Station ' + sta)\n",
    "            #plt.xlim(0,25)\n",
    "            #plt.legend()\n",
    "            \n",
    "            #plt.show()\n",
    "            \n",
    "           \n",
    "            #plt.close()\n",
    "        \n",
    "        except:\n",
    "            \n",
    "            print(quake + \" no station \" + sta)\n"
   ]
  },
  {
   "cell_type": "code",
   "execution_count": null,
   "id": "9522ec5d",
   "metadata": {},
   "outputs": [],
   "source": [
    "plt.savefig('/Users/sydneydybing/StrainProject/M6_500km_sel/StrainData_sel/Trimmed/Trimmed_summary.jpg', format=\"JPEG\", dpi=400)"
   ]
  }
 ],
 "metadata": {
  "kernelspec": {
   "display_name": "Python 3 (ipykernel)",
   "language": "python",
   "name": "python3"
  },
  "language_info": {
   "codemirror_mode": {
    "name": "ipython",
    "version": 3
   },
   "file_extension": ".py",
   "mimetype": "text/x-python",
   "name": "python",
   "nbconvert_exporter": "python",
   "pygments_lexer": "ipython3",
   "version": "3.8.3"
  }
 },
 "nbformat": 4,
 "nbformat_minor": 5
}
