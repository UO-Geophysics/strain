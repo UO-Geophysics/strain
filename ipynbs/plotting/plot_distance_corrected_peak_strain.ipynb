{
 "cells": [
  {
   "cell_type": "code",
   "execution_count": null,
   "id": "5cb4240f",
   "metadata": {},
   "outputs": [],
   "source": [
    "from obspy.core import read\n",
    "import numpy as np\n",
    "import matplotlib.pyplot as plt"
   ]
  },
  {
   "cell_type": "code",
   "execution_count": null,
   "id": "ca056992",
   "metadata": {},
   "outputs": [],
   "source": [
    "path_to_files = '/Users/sydneydybing/StrainProject/M6_500km_sel/StrainData_sel/Trimmed/PeakStrains/Corrected/'\n",
    "quake_folders = np.genfromtxt('/Users/sydneydybing/StrainProject/M6_500km_sel/StrainData_sel/Trimmed/PeakStrains/grp1_folders.txt', dtype=str)\n",
    "stas = np.genfromtxt('/Users/sydneydybing/StrainProject/stations.txt', dtype=str)\n",
    "\n",
    "quake_folders_test = ['145_2011_6.4']\n",
    "stas_test = ['B928']"
   ]
  },
  {
   "cell_type": "code",
   "execution_count": null,
   "id": "2de4beb8",
   "metadata": {},
   "outputs": [],
   "source": [
    "for quake in quake_folders:\n",
    "    for sta in stas:        \n",
    "            \n",
    "        try:\n",
    "        \n",
    "            # Strain data\n",
    "        \n",
    "            PSTc = read(path_to_files + quake + '/' + sta + '_PSTc.mseed')\n",
    "            \n",
    "            #tRMS.plot()\n",
    "            PSTc_data = PSTc[0].data\n",
    "            \n",
    "            PSTc_times = range(PSTc[0].stats.npts)\n",
    "            PSTc_times = np.asarray(PSTc_times)/(PSTc[0].stats.sampling_rate)\n",
    "            \n",
    "            if quake == '109_2010_6.5':\n",
    "                plt.semilogy(PSTc_times, PSTc_data*10**6, color = 'green', label = quake)\n",
    "            elif quake == '112_2010_7.2':\n",
    "                plt.semilogy(PSTc_times, PSTc_data*10**6, color = 'red', label = quake)\n",
    "            elif quake == '145_2011_6.4':    \n",
    "                plt.semilogy(PSTc_times, PSTc_data*10**6, color = 'blue', label = quake)\n",
    "            else:\n",
    "                plt.semilogy(PSTc_times, PSTc_data*10**6, color = 'orange', label = quake)\n",
    "    #            \n",
    "               \n",
    "#            plt.plot(PSTc_times, PSTc_data*10**6, label = sta)\n",
    "            \n",
    "#            if quake == '145_2011_6.4':    \n",
    "#                plt.plot(PSTc_times, PSTc_data*10**6, label = sta)\n",
    "#            else:\n",
    "#                pass\n",
    "            \n",
    "            plt.xlim(0,120)\n",
    "            plt.ylim(0,25)\n",
    "            plt.xlabel('Time (s) (p-wave arrivals at 10s)')\n",
    "            plt.ylabel('Peak RMS Microstrain ($10^{-6}$ m/m)')\n",
    "            \n",
    "            plt.title('Peak Strain over Time (Selected Barbour Data)')\n",
    "            #plt.xlim(0,25)\n",
    "            #plt.legend()\n",
    "            \n",
    "            #plt.show()\n",
    "            \n",
    "           \n",
    "                #plt.close()\n",
    "        \n",
    "        except:\n",
    "            \n",
    "            print(quake + \" no station \" + sta)\n",
    "\n",
    "plt.show()\n",
    "\n",
    "#plt.savefig('/Users/sydneydybing/StrainProject/M6_500km_sel/StrainData_sel/Trimmed/PeakStrains/PeakStrains_semilog.jpg', format=\"JPEG\", dpi=400)"
   ]
  }
 ],
 "metadata": {
  "kernelspec": {
   "display_name": "Python 3 (ipykernel)",
   "language": "python",
   "name": "python3"
  },
  "language_info": {
   "codemirror_mode": {
    "name": "ipython",
    "version": 3
   },
   "file_extension": ".py",
   "mimetype": "text/x-python",
   "name": "python",
   "nbconvert_exporter": "python",
   "pygments_lexer": "ipython3",
   "version": "3.8.3"
  }
 },
 "nbformat": 4,
 "nbformat_minor": 5
}
