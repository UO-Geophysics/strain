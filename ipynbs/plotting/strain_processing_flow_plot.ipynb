{
 "cells": [
  {
   "cell_type": "code",
   "execution_count": null,
   "id": "201a6a02",
   "metadata": {},
   "outputs": [],
   "source": [
    "from obspy.core import read\n",
    "import numpy as np\n",
    "import matplotlib.pyplot as plt"
   ]
  },
  {
   "cell_type": "code",
   "execution_count": null,
   "id": "a788af97",
   "metadata": {},
   "outputs": [],
   "source": [
    "raw_data_files = '/Users/sydneydybing/StrainProject/StrainData/Processed/109_2010_6.5/'\n",
    "RMS_data_files = '/Users/sydneydybing/StrainProject/M6_500km_sel/StrainData_sel/Trimmed/109_2010_6.5/'\n",
    "PST_data_files = '/Users/sydneydybing/StrainProject/M6_500km_sel/StrainData_sel/Trimmed/PeakStrains/109_2010_6.5/'"
   ]
  },
  {
   "cell_type": "code",
   "execution_count": null,
   "id": "2b0e3801",
   "metadata": {},
   "outputs": [],
   "source": [
    "raw_BS1 = read(raw_data_files + 'B033_BS1.mseed')\n",
    "raw_data_BS1 = raw_BS1[0].data\n",
    "\n",
    "raw_BS2 = read(raw_data_files + 'B033_BS2.mseed')\n",
    "raw_data_BS2 = raw_BS2[0].data\n",
    "\n",
    "raw_BS3 = read(raw_data_files + 'B033_BS3.mseed')\n",
    "raw_data_BS3 = raw_BS3[0].data\n",
    "\n",
    "raw_BS4 = read(raw_data_files + 'B033_BS4.mseed')\n",
    "raw_data_BS4 = raw_BS4[0].data\n",
    "\n",
    "raw_times = raw_BS1[0].times()"
   ]
  },
  {
   "cell_type": "code",
   "execution_count": null,
   "id": "c449bc03",
   "metadata": {},
   "outputs": [],
   "source": [
    "# # BS1\n",
    "\n",
    "# plt.plot(raw_times,raw_data_BS1*10**6)\n",
    "# plt.title('M6.5, station B033, channel BS1')\n",
    "# plt.xlim(0,250)\n",
    "# plt.ylabel('Microstrain ($10^{-6}$ m/m)')\n",
    "# plt.xlabel('Time (s)')\n",
    "# plt.savefig('/Users/sydneydybing/Documents/AGU_Presentation/Figures/rawdata_BS1.jpg', format=\"JPEG\", dpi=400)\n",
    "# plt.close()\n",
    "\n",
    "# # BS2\n",
    "\n",
    "# plt.plot(raw_times,raw_data_BS2*10**6)\n",
    "# plt.title('M6.5, station B033, channel BS2')\n",
    "# plt.xlim(0,250)\n",
    "# plt.ylabel('Microstrain ($10^{-6}$ m/m)')\n",
    "# plt.xlabel('Time (s)')\n",
    "# plt.savefig('/Users/sydneydybing/Documents/AGU_Presentation/Figures/rawdata_BS2.jpg', format=\"JPEG\", dpi=400)\n",
    "# plt.close()\n",
    "\n",
    "# # BS3\n",
    "\n",
    "# plt.plot(raw_times,raw_data_BS3*10**6)\n",
    "# plt.title('M6.5, station B033, channel BS3')\n",
    "# plt.xlim(0,250)\n",
    "# plt.ylabel('Microstrain ($10^{-6}$ m/m)')\n",
    "# plt.xlabel('Time (s)')\n",
    "# plt.savefig('/Users/sydneydybing/Documents/AGU_Presentation/Figures/rawdata_BS3.jpg', format=\"JPEG\", dpi=400)\n",
    "# plt.close()\n",
    "\n",
    "# # BS4\n",
    "\n",
    "# plt.plot(raw_times,raw_data_BS4*10**6)\n",
    "# plt.title('M6.5, station B033, channel BS4')\n",
    "# plt.xlim(0,250)\n",
    "# plt.ylabel('Microstrain ($10^{-6}$ m/m)')\n",
    "# plt.xlabel('Time (s)')\n",
    "# plt.savefig('/Users/sydneydybing/Documents/AGU_Presentation/Figures/rawdata_BS4.jpg', format=\"JPEG\", dpi=400)\n",
    "# plt.close()"
   ]
  },
  {
   "cell_type": "code",
   "execution_count": null,
   "id": "ae6fd63e",
   "metadata": {},
   "outputs": [],
   "source": [
    "RMS = read(RMS_data_files + 'B033_tRMS.mseed')\n",
    "RMS_data = RMS[0].data\n",
    "RMS_times = RMS[0].times()\n",
    "\n",
    "PST = read(PST_data_files + 'B033_PST.mseed')\n",
    "PST_data = PST[0].data\n",
    "PST_times = PST[0].times()"
   ]
  },
  {
   "cell_type": "code",
   "execution_count": null,
   "id": "9b362a9b",
   "metadata": {},
   "outputs": [],
   "source": [
    "# # RMS\n",
    "\n",
    "# plt.plot(RMS_times,RMS_data*10**6)\n",
    "# plt.title('M6.5, station B033, RMS')\n",
    "# plt.xlim(0,250)\n",
    "# plt.ylabel('RMS Microstrain ($10^{-6}$ m/m)')\n",
    "# plt.xlabel('Time (s)')\n",
    "# plt.savefig('/Users/sydneydybing/Documents/AGU_Presentation/Figures/RMS_data.jpg', format=\"JPEG\", dpi=400)\n",
    "# plt.close()"
   ]
  },
  {
   "cell_type": "code",
   "execution_count": null,
   "id": "7c033c40",
   "metadata": {},
   "outputs": [],
   "source": [
    "# # PST\n",
    "\n",
    "# plt.plot(PST_times,PST_data*10**6)\n",
    "# plt.title('M6.5, station B033, RMS')\n",
    "# plt.xlim(0,250)\n",
    "# plt.ylabel('Peak RMS Microstrain ($10^{-6}$ m/m)')\n",
    "# plt.xlabel('Time (s)')\n",
    "# plt.savefig('/Users/sydneydybing/Documents/AGU_Presentation/Figures/PST_data.jpg', format=\"JPEG\", dpi=400)\n",
    "# plt.close()"
   ]
  },
  {
   "cell_type": "code",
   "execution_count": null,
   "id": "a58891fe",
   "metadata": {},
   "outputs": [],
   "source": [
    "# RMS and PST\n",
    "\n",
    "fig = plt.figure(1, figsize=(6,4),dpi=300)\n",
    "plt.plot(RMS_times,RMS_data*10**6, label='RMS strain')\n",
    "plt.plot(PST_times,PST_data*10**6, label='Peak strain')\n",
    "plt.title('M6.5, station B033, RMS Strain + Peak Strain')\n",
    "# plt.xlim(0,250)\n",
    "plt.xlim(5,35)\n",
    "plt.ylim(-0.01,0.11)\n",
    "plt.ylabel('Peak RMS Microstrain ($10^{-6}$ m/m)')\n",
    "plt.xlabel('Time (s)')\n",
    "plt.legend(loc = 2, fontsize = 12)\n",
    "\n",
    "plt.savefig('/Users/sydneydybing/Documents/Comps/Figures/RMS_and_PST_zoom.png', format = 'PNG')\n",
    "plt.close()"
   ]
  }
 ],
 "metadata": {
  "kernelspec": {
   "display_name": "Python 3 (ipykernel)",
   "language": "python",
   "name": "python3"
  },
  "language_info": {
   "codemirror_mode": {
    "name": "ipython",
    "version": 3
   },
   "file_extension": ".py",
   "mimetype": "text/x-python",
   "name": "python",
   "nbconvert_exporter": "python",
   "pygments_lexer": "ipython3",
   "version": "3.8.3"
  }
 },
 "nbformat": 4,
 "nbformat_minor": 5
}
