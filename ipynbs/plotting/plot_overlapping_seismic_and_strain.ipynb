{
 "cells": [
  {
   "cell_type": "code",
   "execution_count": null,
   "id": "3f8e4cec",
   "metadata": {},
   "outputs": [],
   "source": [
    "from obspy.core import Stream, read\n",
    "import numpy as np\n",
    "import matplotlib.pyplot as plt"
   ]
  },
  {
   "cell_type": "code",
   "execution_count": null,
   "id": "1bf1b15f",
   "metadata": {},
   "outputs": [],
   "source": [
    "path_to_files = '/Users/sydneydybing/StrainProject/M6_500km_sel/'\n",
    "quake_folders = np.genfromtxt('/Users/sydneydybing/StrainProject/quake_folders.txt', dtype=str)\n",
    "stas = np.genfromtxt('/Users/sydneydybing/StrainProject/stations.txt', dtype=str)\n",
    "\n",
    "quake_folders_test = ['59_2008_6.3']\n",
    "stas_test = ['B017']"
   ]
  },
  {
   "cell_type": "code",
   "execution_count": null,
   "id": "d300c04a",
   "metadata": {},
   "outputs": [],
   "source": [
    "for quake in quake_folders_test:\n",
    "    for sta in stas_test:        \n",
    "            \n",
    "        #try:\n",
    "        \n",
    "        # Strain data\n",
    "    \n",
    "        strain_data = Stream()\n",
    "        strain_data = read(path_to_files + 'StrainData_sel/' + quake + '/' + sta + '_RMS.mseed')\n",
    "        \n",
    "        #strain_data.plot()\n",
    "        strain_data_array = strain_data[0].data\n",
    "        \n",
    "        strain_times = range(strain_data[0].stats.npts)\n",
    "        strain_times = np.asarray(strain_times)/(strain_data[0].stats.sampling_rate)\n",
    "    \n",
    "        # Seismic data\n",
    "    \n",
    "        seismic_data = Stream()\n",
    "        seismic_data = read(path_to_files + 'SeismicData_sel/' + quake + '/' + sta + '_EHZ.mseed')\n",
    "                        \n",
    "        #seismic_data.plot()\n",
    "        seismic_data_array = seismic_data[0].data\n",
    "        \n",
    "        seismic_times = range(seismic_data[0].stats.npts)\n",
    "        seismic_times = np.asarray(seismic_times)/(seismic_data[0].stats.sampling_rate)\n",
    "        \n",
    "        # Plotting strain data\n",
    "        \n",
    "        ax1 = plt.subplot(1,1,1)\n",
    "        \n",
    "        ax1.set_xlabel('Times (s) from Earthquake Origin')\n",
    "        ax1.set_ylabel('RMS Microstrain ($10^{-6}$ m/m)')\n",
    "        ax1.plot(strain_times, strain_data_array*10**6, color = 'C0', label = 'Strain')\n",
    "        #ax1.set_ylim(0,1)\n",
    "        \n",
    "        # Plotting seismic data\n",
    "        \n",
    "        ax2 = ax1.twinx()\n",
    "        ax2.set_ylabel('Normalized Counts', rotation = 270)\n",
    "        ax2.plot(seismic_times, seismic_data_array, color = 'C1', label = 'Seismic')\n",
    "        ax2.plot(0,0, color = 'C0', label = 'Strain')\n",
    "        ax2.set_ylim(-1000000,750000)\n",
    "        \n",
    "        plt.title(quake + ' Earthquake at PBO Station ' + sta)\n",
    "        #plt.xlim(0,25)\n",
    "        plt.legend()\n",
    "        \n",
    "        plt.show()\n",
    "        #plt.savefig('/Users/sydneydybing/IRIS_pbo_data/Sel4_comp_figs/Limited/' + quake + '/' + sta + '.jpg', format=\"JPEG\", dpi=400)\n",
    "       \n",
    "        plt.close()\n",
    "        \n",
    "        #except:\n",
    "            \n",
    "            #print(quake + \" no station \" + sta)"
   ]
  }
 ],
 "metadata": {
  "kernelspec": {
   "display_name": "Python 3 (ipykernel)",
   "language": "python",
   "name": "python3"
  },
  "language_info": {
   "codemirror_mode": {
    "name": "ipython",
    "version": 3
   },
   "file_extension": ".py",
   "mimetype": "text/x-python",
   "name": "python",
   "nbconvert_exporter": "python",
   "pygments_lexer": "ipython3",
   "version": "3.8.3"
  }
 },
 "nbformat": 4,
 "nbformat_minor": 5
}
