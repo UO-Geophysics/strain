{
 "cells": [
  {
   "cell_type": "code",
   "execution_count": null,
   "id": "e0a8d3ca",
   "metadata": {},
   "outputs": [],
   "source": [
    "import pandas as pd\n",
    "import matplotlib.pyplot as plt"
   ]
  },
  {
   "cell_type": "code",
   "execution_count": null,
   "id": "8da88cda",
   "metadata": {},
   "outputs": [],
   "source": [
    "good_eq_sta_distances = pd.read_csv('/Users/sydneydybing/IRIS_pbo_data/evt-sta_distances_clean_pythag.csv')\n",
    "bad_eq_sta_distances = pd.read_csv('/Users/sydneydybing/IRIS_pbo_data/ID_useful_eq-sta_pairs.csv')\n",
    "#print(eq_sta_distances)\n",
    "\n",
    "good_dist = good_eq_sta_distances.r_hyp.values\n",
    "good_mag = good_eq_sta_distances.mag.values\n",
    "bad_dist = bad_eq_sta_distances.distaz_m.values\n",
    "bad_mag = bad_eq_sta_distances.mag.values"
   ]
  },
  {
   "cell_type": "code",
   "execution_count": null,
   "id": "15b20953",
   "metadata": {},
   "outputs": [],
   "source": [
    "plt.scatter(good_dist/1000, good_mag, s = 6, alpha = 0.9, color = 'C0', label = 'Cleaned')\n",
    "plt.scatter(bad_dist/1000, bad_mag, s = 6, alpha = 0.1, color = 'C1', label = 'Uncleaned')\n",
    "plt.legend(loc = 1)\n",
    "plt.xlabel('Event-Station Distance (km)')\n",
    "plt.ylabel('Earthquake Magnitude')\n",
    "plt.title('Event-Station Distances for Strain Dataset (uncleaned vs. cleaned with depth)')\n",
    "\n",
    "plt.savefig('/Users/sydneydybing/IRIS_pbo_data/Event-Station Distances for Strain Dataset (uncleaned vs. cleaned).jpg', format=\"JPEG\", dpi=400)"
   ]
  }
 ],
 "metadata": {
  "kernelspec": {
   "display_name": "Python 3 (ipykernel)",
   "language": "python",
   "name": "python3"
  },
  "language_info": {
   "codemirror_mode": {
    "name": "ipython",
    "version": 3
   },
   "file_extension": ".py",
   "mimetype": "text/x-python",
   "name": "python",
   "nbconvert_exporter": "python",
   "pygments_lexer": "ipython3",
   "version": "3.8.3"
  }
 },
 "nbformat": 4,
 "nbformat_minor": 5
}
