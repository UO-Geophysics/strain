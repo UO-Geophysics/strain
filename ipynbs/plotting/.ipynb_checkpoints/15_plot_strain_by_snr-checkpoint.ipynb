{
 "cells": [
  {
   "cell_type": "code",
   "execution_count": 48,
   "id": "eadbc20f",
   "metadata": {},
   "outputs": [],
   "source": [
    "from obspy.core import Stream, read\n",
    "import numpy as np\n",
    "import matplotlib.pyplot as plt\n",
    "import matplotlib as mpl \n",
    "from matplotlib.colors import Normalize\n",
    "import pandas as pd\n",
    "import os \n",
    "import os.path"
   ]
  },
  {
   "cell_type": "code",
   "execution_count": 144,
   "id": "e32f87ff",
   "metadata": {},
   "outputs": [],
   "source": [
    "path_to_files = '/Users/sydneydybing/StrainProject/2024/'\n",
    "\n",
    "earthquakes = pd.read_csv(path_to_files + 'M6_catalog_2004-2024.csv', dtype = str)\n",
    "\n",
    "weird_events_only = False\n",
    "if weird_events_only:\n",
    "    earthquakes = earthquakes.iloc[[4,15]]\n",
    "\n",
    "small_test = False\n",
    "if small_test:\n",
    "    earthquakes = earthquakes[5:7]\n",
    "    \n",
    "one_at_a_time = True\n",
    "if one_at_a_time:\n",
    "    earthquakes = earthquakes[:1]\n",
    "\n",
    "origin_times = earthquakes.time.values\n",
    "mags = earthquakes.mag.values\n",
    "\n",
    "bsm_mda = pd.read_csv(path_to_files + 'bsm_metadata.csv')\n",
    "NA_only = bsm_mda.loc[bsm_mda['LONG'] < -110]\n",
    "stas = NA_only['BNUM'].values\n",
    "\n",
    "eqs_test = earthquakes[4:5]\n",
    "ots_test = origin_times[4:5]\n",
    "mags_test = mags[4:5]\n",
    "rows_for_extra_times = [8,9,14,16]\n",
    "\n",
    "snr_array = np.load(path_to_files + 'NA_evt-sta_dist_array_less500km_withdata_withrmssnrs.npy')\n",
    "\n",
    "# Array order:\n",
    "\n",
    "# 0. Earthquake identifier\n",
    "# 1. Earthquake origin time\n",
    "# 2. Earthquake latitude\n",
    "# 3. Earthquake longitude\n",
    "# 4. Earthquake magnitude\n",
    "# 5. Station name\n",
    "# 6. Station latitude\n",
    "# 7. Station longitude\n",
    "# 8. Hypocentral distance (km)\n",
    "# 9. RMS strain SNR"
   ]
  },
  {
   "cell_type": "code",
   "execution_count": 145,
   "id": "87ebd626",
   "metadata": {},
   "outputs": [
    {
     "name": "stdout",
     "output_type": "stream",
     "text": [
      "0.693740119902\n",
      "1164.86406239\n",
      "61\n"
     ]
    },
    {
     "data": {
      "image/png": "[encoded data removed]",
      "text/plain": [
       "<Figure size 432x288 with 1 Axes>"
      ]
     },
     "metadata": {
      "needs_background": "light"
     },
     "output_type": "display_data"
    }
   ],
   "source": [
    "snrs = snr_array[:,9]\n",
    "snrs_nonan = []\n",
    "\n",
    "for snr in snrs:\n",
    "#     print(snr)\n",
    "    if snr != 'nan':\n",
    "        snrs_nonan.append(float(snr))\n",
    "        \n",
    "print(min(snrs_nonan))\n",
    "print(max(snrs_nonan))\n",
    "\n",
    "m = np.where(np.array(snrs_nonan) <= 2)[0]\n",
    "print(len(m))\n",
    "\n",
    "plt.hist(np.array(snrs_nonan)[m], bins = 10)\n",
    "plt.xlim(0, 2);"
   ]
  },
  {
   "cell_type": "code",
   "execution_count": 139,
   "id": "8091e883",
   "metadata": {},
   "outputs": [],
   "source": [
    "bad_snr_is = []\n",
    "\n",
    "for i in range(len(snr_array)):\n",
    "    \n",
    "    eq_id = snr_array[i,0]\n",
    "    sta = snr_array[i,5]\n",
    "    hypdist = float(snr_array[i,8])\n",
    "    \n",
    "#     print(eq_id, sta)\n",
    "    snr = snr_array[i,9]\n",
    "#     print(snr)\n",
    "    \n",
    "    if snr != 'nan':\n",
    "        strain_waves = read(path_to_files + 'strain_data/trimmed/' + str(eq_id) + '/' + str(sta) + '.mseed')\n",
    "    else:\n",
    "        continue\n",
    "    \n",
    "    times = strain_waves[0].times()\n",
    "    data = strain_waves[0].data\n",
    "    \n",
    "    pst = read(path_to_files + 'strain_data/peak/' + str(eq_id) + '/' + str(sta) + '.mseed')   \n",
    "    pst_times = pst[0].times()\n",
    "    pst_data = pst[0].data\n",
    "    \n",
    "    seis = read(path_to_files + 'seismic_data/trimmed/' + str(eq_id) + '/' + str(sta) + '.mseed')\n",
    "    seis_times = seis[0].times()\n",
    "    seis_data = seis[0].data\n",
    "    \n",
    "    snr = round(float(snr),1)\n",
    "    \n",
    "#     if hypdist <= 100:\n",
    "#         close_snrs.append(snr)\n",
    "        \n",
    "    if snr < 2:\n",
    "        bad_snr_is.append(i)\n",
    "#         fig = plt.figure(facecolor = 'white', num = 1, clear = True)\n",
    "#         ax = fig.add_subplot(111)\n",
    "#         ax.grid()\n",
    "#         ax.set_title(str(eq_id) + ', ' + str(sta) + '\\n' + str(snr) + ', ' + str(round(hypdist,1)) + ' km')\n",
    "#         ax.plot(pst_times, pst_data, color = 'red', label = 'Peak strain')\n",
    "#         ax.plot(times, data, color = 'blue', label = 'RMS strain')\n",
    "#         ax2 = ax.twinx()\n",
    "#         ax2.plot(seis_times, seis_data, color = 'green', alpha = 0.5, label = 'Seismic data')\n",
    "#         ax.set_yscale('log')\n",
    "#     #     ax.set_ylabel('Log of peak extensional\\nmicrostrain ($10^{-6}$)', fontsize = 15)\n",
    "#         ax.set_xlabel('Time (s)')\n",
    "#         ax.set_xlim(1,20)\n",
    "#     #     ax.set_xticks([0,1,2,3,4,5,6,7,8,9,10,11,12,13,14,15,16,17,18,19,20])\n",
    "#         ax.axvline(x = 10, color = 'gray', linestyle = '--')\n",
    "# #             ax.tick_params(labelsize = 13)\n",
    "#         ax.legend(loc = 'upper left')\n",
    "#         ax2.legend(loc = 'lower right')\n",
    "#         plt.show()"
   ]
  },
  {
   "cell_type": "code",
   "execution_count": 140,
   "id": "d735c9cc",
   "metadata": {},
   "outputs": [
    {
     "data": {
      "text/plain": [
       "[0,\n",
       " 4,\n",
       " 5,\n",
       " 7,\n",
       " 31,\n",
       " 32,\n",
       " 33,\n",
       " 38,\n",
       " 41,\n",
       " 50,\n",
       " 67,\n",
       " 68,\n",
       " 69,\n",
       " 78,\n",
       " 81,\n",
       " 85,\n",
       " 88,\n",
       " 96,\n",
       " 99,\n",
       " 107,\n",
       " 108,\n",
       " 110,\n",
       " 112,\n",
       " 113,\n",
       " 145,\n",
       " 148,\n",
       " 167,\n",
       " 170,\n",
       " 183,\n",
       " 186,\n",
       " 187,\n",
       " 188,\n",
       " 189,\n",
       " 190,\n",
       " 191,\n",
       " 192,\n",
       " 193,\n",
       " 194,\n",
       " 195,\n",
       " 196,\n",
       " 197,\n",
       " 205,\n",
       " 207,\n",
       " 209,\n",
       " 212,\n",
       " 213,\n",
       " 221,\n",
       " 326,\n",
       " 328,\n",
       " 330,\n",
       " 359,\n",
       " 371,\n",
       " 375,\n",
       " 380,\n",
       " 392,\n",
       " 409,\n",
       " 427,\n",
       " 436,\n",
       " 437,\n",
       " 438]"
      ]
     },
     "execution_count": 140,
     "metadata": {},
     "output_type": "execute_result"
    }
   ],
   "source": [
    "bad_snr_is"
   ]
  },
  {
   "cell_type": "code",
   "execution_count": 141,
   "id": "21ee41e9",
   "metadata": {},
   "outputs": [
    {
     "data": {
      "text/plain": [
       "(439, 10)"
      ]
     },
     "execution_count": 141,
     "metadata": {},
     "output_type": "execute_result"
    }
   ],
   "source": [
    "snr_array.shape"
   ]
  },
  {
   "cell_type": "code",
   "execution_count": 143,
   "id": "a792ea62",
   "metadata": {},
   "outputs": [
    {
     "data": {
      "text/plain": [
       "(379, 10)"
      ]
     },
     "execution_count": 143,
     "metadata": {},
     "output_type": "execute_result"
    }
   ],
   "source": [
    "snr_above_2 = np.delete(snr_array, bad_snr_is, axis = 0)\n",
    "snr_above_2.shape"
   ]
  },
  {
   "cell_type": "code",
   "execution_count": null,
   "id": "e30c353f",
   "metadata": {},
   "outputs": [],
   "source": [
    "# path_to_files + 'NA_evt-sta_dist_array_less500km_withdata_withrmssnrs_only.npy'"
   ]
  },
  {
   "cell_type": "code",
   "execution_count": 112,
   "id": "65d8beb5",
   "metadata": {},
   "outputs": [
    {
     "name": "stdout",
     "output_type": "stream",
     "text": [
      "[  614   615   616 ..., 11998 11999 12000]\n",
      "6.14\n",
      "2.86 seconds of data\n",
      "[ 123  124  125 ..., 2398 2399 2400]\n",
      "6.15\n",
      "2.85 seconds of data\n"
     ]
    }
   ],
   "source": [
    "# Hypdist <100, SNR 5-10\n",
    "\n",
    "pair1 = '2021-12-20_M6.2/B933'\n",
    "pair2 = '2021-12-20_M6.2/B934'\n",
    "pair3 = '2021-12-20_M6.2/B935'\n",
    "pair4 = '2014-08-24_M6.02/B057'\n",
    "pair5 = '2021-12-20_M6.2/B045' # Other close station, but not in above 4\n",
    "\n",
    "seis1 = read(path_to_files + 'seismic_data/trimmed/' + pair5 + '.mseed')\n",
    "times1 = seis1[0].times()\n",
    "data1 = seis1[0].data\n",
    "\n",
    "i = np.where(data1 != 0)[0]\n",
    "print(i)\n",
    "print(times1[i[0]])\n",
    "print(str(9 - times1[i[0]]) + ' seconds of data')\n",
    "\n",
    "strain2 = read(path_to_files + 'strain_data/trimmed/' + pair5 + '.mseed')\n",
    "times2 = strain2[0].times()\n",
    "data2 = strain2[0].data\n",
    "\n",
    "p = np.where(data2 != 0)[0]\n",
    "print(p)\n",
    "print(times2[p[0]])\n",
    "print(str(9 - times2[p[0]]) + ' seconds of data')\n"
   ]
  },
  {
   "cell_type": "code",
   "execution_count": null,
   "id": "11f6d340",
   "metadata": {},
   "outputs": [],
   "source": []
  }
 ],
 "metadata": {
  "kernelspec": {
   "display_name": "Python 3 (ipykernel)",
   "language": "python",
   "name": "python3"
  },
  "language_info": {
   "codemirror_mode": {
    "name": "ipython",
    "version": 3
   },
   "file_extension": ".py",
   "mimetype": "text/x-python",
   "name": "python",
   "nbconvert_exporter": "python",
   "pygments_lexer": "ipython3",
   "version": "3.8.3"
  }
 },
 "nbformat": 4,
 "nbformat_minor": 5
}
