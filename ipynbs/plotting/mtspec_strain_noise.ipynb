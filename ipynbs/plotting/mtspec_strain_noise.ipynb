{
 "cells": [
  {
   "cell_type": "code",
   "execution_count": null,
   "id": "8d2b6008",
   "metadata": {},
   "outputs": [],
   "source": [
    "from obspy.core import read, Stream\n",
    "import numpy as np\n",
    "import matplotlib.pyplot as plt\n",
    "from mtspec import mtspec"
   ]
  },
  {
   "cell_type": "code",
   "execution_count": null,
   "id": "fd0869c9",
   "metadata": {},
   "outputs": [],
   "source": [
    "path_to_files = '/Users/sydneydybing/IRIS_pbo_data/Data_noise/'\n",
    "quake_folders = np.genfromtxt(path_to_files + 'quake_folders_sel4.txt', dtype=str)\n",
    "stas = np.genfromtxt(path_to_files + 'stations_sel4.txt', dtype=str)\n",
    "\n",
    "quake1 = ['152_2012_6.0']\n",
    "sta1 = ['B022']"
   ]
  },
  {
   "cell_type": "code",
   "execution_count": null,
   "id": "7374d521",
   "metadata": {},
   "outputs": [],
   "source": [
    "for quake in quake1:   \n",
    "    for sta in stas:\n",
    "        \n",
    "        try:\n",
    "        \n",
    "            path_to_files = '/Users/sydneydybing/IRIS_pbo_data/Data_noise/Processed/RMS/'\n",
    "                \n",
    "            RMS_strain = Stream()\n",
    "            RMS_strain = read(path_to_files + quake + '/' + sta + '_' + 'RMS.mseed')\n",
    "            \n",
    "            sampling_rate = RMS_strain[0].stats.sampling_rate\n",
    "            RMS_data = RMS_strain[0].data\n",
    "            \n",
    "            delta = 1/sampling_rate\n",
    "            time_bandwidth = 5\n",
    "            nfft = len(RMS_data)\n",
    "            number_of_tapers = 6\n",
    "            \n",
    "            spec, freq = mtspec(data=RMS_data, delta=delta, time_bandwidth=time_bandwidth, nfft=nfft, number_of_tapers=number_of_tapers)\n",
    "            \n",
    "            period=1/freq\n",
    "            \n",
    "            plt.semilogx(period, spec)\n",
    "            plt.xlim(0.5, 50)\n",
    "            #plt.ylim(-0.05, 0.4)\n",
    "            plt.xlabel('Period (s)')\n",
    "            plt.ylabel('Power Spectral Density')\n",
    "            plt.title('Noise before event ' + quake + ', station ' + sta)\n",
    "            \n",
    "            plt.savefig('/Users/sydneydybing/IRIS_pbo_data/Data_noise/mtspec_plots/' + quake + '/' + sta + '.jpg', format=\"JPEG\", dpi=400)\n",
    "            \n",
    "            plt.close()\n",
    "        \n",
    "        except:\n",
    "            \n",
    "            print(quake + \" no station \" + sta)\n",
    "       "
   ]
  }
 ],
 "metadata": {
  "kernelspec": {
   "display_name": "Python 3 (ipykernel)",
   "language": "python",
   "name": "python3"
  },
  "language_info": {
   "codemirror_mode": {
    "name": "ipython",
    "version": 3
   },
   "file_extension": ".py",
   "mimetype": "text/x-python",
   "name": "python",
   "nbconvert_exporter": "python",
   "pygments_lexer": "ipython3",
   "version": "3.8.3"
  }
 },
 "nbformat": 4,
 "nbformat_minor": 5
}
