{
 "cells": [
  {
   "cell_type": "code",
   "execution_count": 1,
   "id": "96aa7e63-aad9-4a50-8f14-bc796c47c74a",
   "metadata": {},
   "outputs": [
    {
     "name": "stdout",
     "output_type": "stream",
     "text": [
      "0.002298850574712644\n",
      "0.001149425287356322\n"
     ]
    }
   ],
   "source": [
    "R1 = 2*10**(-4) / 0.087\n",
    "print(R1)\n",
    "R2 = 10**(-4) / 0.087\n",
    "print(R2)"
   ]
  },
  {
   "cell_type": "code",
   "execution_count": 3,
   "id": "373c565f-e67b-46ec-9afd-1ff943e12cdc",
   "metadata": {},
   "outputs": [
    {
     "data": {
      "text/plain": [
       "0.00022299000000000003"
      ]
     },
     "execution_count": 3,
     "metadata": {},
     "output_type": "execute_result"
    }
   ],
   "source": [
    "2.2299*10**-4"
   ]
  },
  {
   "cell_type": "code",
   "execution_count": null,
   "id": "b2dca425-82f3-4052-855b-cdb7ed22b5c5",
   "metadata": {},
   "outputs": [],
   "source": []
  }
 ],
 "metadata": {
  "kernelspec": {
   "display_name": "Python 3 (ipykernel)",
   "language": "python",
   "name": "python3"
  },
  "language_info": {
   "codemirror_mode": {
    "name": "ipython",
    "version": 3
   },
   "file_extension": ".py",
   "mimetype": "text/x-python",
   "name": "python",
   "nbconvert_exporter": "python",
   "pygments_lexer": "ipython3",
   "version": "3.8.3"
  }
 },
 "nbformat": 4,
 "nbformat_minor": 5
}
