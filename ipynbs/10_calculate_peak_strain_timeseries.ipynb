{
 "cells": [
  {
   "cell_type": "code",
   "execution_count": 1,
   "id": "eadbc20f",
   "metadata": {},
   "outputs": [],
   "source": [
    "from obspy.core import Stream, read\n",
    "import numpy as np\n",
    "import matplotlib.pyplot as plt\n",
    "import pandas as pd\n",
    "import os \n",
    "import os.path"
   ]
  },
  {
   "cell_type": "code",
   "execution_count": 2,
   "id": "e32f87ff",
   "metadata": {},
   "outputs": [],
   "source": [
    "path_to_files = '/Users/sydneydybing/StrainProject/2024/'\n",
    "\n",
    "earthquakes = pd.read_csv(path_to_files + 'M6_catalog_2004-2024.csv', dtype = str)\n",
    "\n",
    "weird_events_only = False\n",
    "if weird_events_only:\n",
    "    earthquakes = earthquakes.iloc[[4,15]]\n",
    "\n",
    "small_test = False\n",
    "if small_test:\n",
    "    earthquakes = earthquakes[5:7]\n",
    "    \n",
    "redo_picks = True\n",
    "if redo_picks:\n",
    "    earthquakes = earthquakes.iloc[[3,5,6,8,10,17,19,20,21,24,25,26,27,29]]\n",
    "\n",
    "origin_times = earthquakes.time.values\n",
    "mags = earthquakes.mag.values\n",
    "\n",
    "bsm_mda = pd.read_csv(path_to_files + 'bsm_metadata.csv')\n",
    "NA_only = bsm_mda.loc[bsm_mda['LONG'] < -110]\n",
    "stas = NA_only['BNUM'].values\n",
    "\n",
    "eqs_test = earthquakes[4:5]\n",
    "ots_test = origin_times[4:5]\n",
    "mags_test = mags[4:5]\n",
    "rows_for_extra_times = [8,9,14,16]"
   ]
  },
  {
   "cell_type": "code",
   "execution_count": 3,
   "id": "b4224258",
   "metadata": {
    "scrolled": true
   },
   "outputs": [
    {
     "name": "stdout",
     "output_type": "stream",
     "text": [
      "Earthquake 1/14\n",
      "Earthquake 2/14\n",
      "Earthquake 3/14\n"
     ]
    },
    {
     "name": "stderr",
     "output_type": "stream",
     "text": [
      "No artists with labels found to put in legend.  Note that artists whose label start with an underscore are ignored when legend() is called with no argument.\n"
     ]
    },
    {
     "name": "stdout",
     "output_type": "stream",
     "text": [
      "Earthquake 4/14\n",
      "Earthquake 5/14\n",
      "Earthquake 6/14\n",
      "Earthquake 7/14\n",
      "Skipping 2014-08-24 B076\n",
      "Earthquake 8/14\n"
     ]
    },
    {
     "name": "stderr",
     "output_type": "stream",
     "text": [
      "No artists with labels found to put in legend.  Note that artists whose label start with an underscore are ignored when legend() is called with no argument.\n"
     ]
    },
    {
     "name": "stdout",
     "output_type": "stream",
     "text": [
      "Earthquake 9/14\n"
     ]
    },
    {
     "name": "stderr",
     "output_type": "stream",
     "text": [
      "No artists with labels found to put in legend.  Note that artists whose label start with an underscore are ignored when legend() is called with no argument.\n"
     ]
    },
    {
     "name": "stdout",
     "output_type": "stream",
     "text": [
      "Earthquake 10/14\n",
      "Earthquake 11/14\n",
      "Earthquake 12/14\n",
      "Earthquake 13/14\n",
      "Earthquake 14/14\n"
     ]
    }
   ],
   "source": [
    "for idx in range(len(earthquakes)):\n",
    "    \n",
    "    no_data = False\n",
    "    \n",
    "    if idx >= 31: # No data available for 4 earliest earthquakes\n",
    "        no_data = True\n",
    "        \n",
    "    if no_data == False:\n",
    "        plt.figure(figsize = (10,6), dpi = 300, facecolor = 'white', num = 1, clear = True)\n",
    "        \n",
    "    ot = origin_times[idx]\n",
    "    print('Earthquake ' + str(idx+1) + '/' + str(len(mags)))\n",
    "    \n",
    "    if idx in rows_for_extra_times:\n",
    "        cut_ot = ot[:13]\n",
    "    else:\n",
    "        cut_ot = ot[:10]\n",
    "        \n",
    "    for sta in stas:\n",
    "        \n",
    "        try:\n",
    "            \n",
    "            # Strain data\n",
    "        \n",
    "            tRMS = read(path_to_files + 'strain_data/trimmed/' + str(cut_ot) + '_M' + str(mags[idx]) + '/' + str(sta) + '.mseed')\n",
    "#             print('Trimmed RMS data')\n",
    "#             tRMS.plot()\n",
    "            \n",
    "            #print(tRMS[0].stats)\n",
    "            \n",
    "            tRMS_data = tRMS[0].data # numpy array of strain values\n",
    "            \n",
    "            #tRMS_points = range(tRMS[0].stats.npts) # range of number of points in stream\n",
    "            #print(np.asarray(tRMS_times)) # prints list of sample numbers\n",
    "            #tRMS_times = np.asarray(tRMS_points)/(tRMS[0].stats.sampling_rate)\n",
    "            #print(tRMS_times) # numpy array of time steps\n",
    "            \n",
    "            #insitalize the outut stream\n",
    "            pst = tRMS.copy()\n",
    "            \n",
    "            # Loop over samples\n",
    "            for k in range(0,len(tRMS[0].data)): #avoid starting at zero\n",
    "\n",
    "                if k == 0:\n",
    "                    strain = tRMS[0].data[0]\n",
    "                    max_strain = strain\n",
    "\n",
    "                else:\n",
    "                    # Grab progressively longer windows and save the biggest strain\n",
    "                    strain = tRMS[0].data[:k+1] # Has to be k+1 because slicing doesn't include last one\n",
    "                    max_strain = max(strain)\n",
    "\n",
    "                # Put peak strain back into the output stream\n",
    "                pst[0].data[k] = max_strain \n",
    "            \n",
    "            pst_times = pst[0].times()\n",
    "            pst_data = pst[0].data\n",
    "            pst[0].stats.channel = 'PST' \n",
    "#             print('Peak strain data')\n",
    "#             pst.plot()\n",
    "            \n",
    "            # Plot stations, but avoid plotting the weird stations for the two problem earthquakes\n",
    "            \n",
    "            if idx == 4 and sta == 'B072' or sta == 'B076':\n",
    "                print('Skipping ' + str(cut_ot) + ' ' + str(sta))\n",
    "                \n",
    "            elif idx == 15 and sta == 'B928':\n",
    "                print('Skipping ' + str(cut_ot) + ' ' + str(sta))\n",
    "                \n",
    "            else:\n",
    "                plt.title('Earthquake ' + str(cut_ot) + '_M' + str(mags[idx]), fontsize = 18)\n",
    "                plt.plot(pst_times, pst_data*10**9, label = sta)\n",
    "                plt.yscale('log')\n",
    "                plt.ylabel('Log of peak extensional\\nmicrostrain ($10^{-6}$)', fontsize = 15)\n",
    "                plt.xlabel('Time (s)', fontsize = 15)\n",
    "                plt.xlim(0,120)\n",
    "                plt.tick_params(labelsize = 13)\n",
    "#             \n",
    "            # Create folder for the event\n",
    "            eq_sta_save_dir = path_to_files + 'strain_data/peak/' + str(cut_ot) + '_M' + str(mags[idx]) + '/'\n",
    "    #                 print(eq_sta_save_dir)\n",
    "            if os.path.isdir(eq_sta_save_dir):\n",
    "                pass\n",
    "            else:\n",
    "                os.makedirs(eq_sta_save_dir)\n",
    "\n",
    "            pst.write(eq_sta_save_dir + sta + '.mseed', format = 'MSEED')\n",
    "                 \n",
    "        except:\n",
    "            pass\n",
    "#             print(quake + \" no station \" + sta)\n",
    "            \n",
    "    # Plot after each earthquake\n",
    "    if no_data: \n",
    "        pass\n",
    "    else:\n",
    "        plt.legend(loc = 'lower right', ncol = 2, fontsize = 12)\n",
    "#         plt.show()\n",
    "        plt.savefig(path_to_files + 'figures/peak_strain_plots/NA_M6_500km/not_rainbow/' + str(cut_ot) + '_M' + str(mags[idx]) + '.png', format = 'PNG')\n",
    "        plt.close();\n"
   ]
  },
  {
   "cell_type": "code",
   "execution_count": null,
   "id": "d1706a74",
   "metadata": {},
   "outputs": [],
   "source": []
  }
 ],
 "metadata": {
  "kernelspec": {
   "display_name": "Python 3 (ipykernel)",
   "language": "python",
   "name": "python3"
  },
  "language_info": {
   "codemirror_mode": {
    "name": "ipython",
    "version": 3
   },
   "file_extension": ".py",
   "mimetype": "text/x-python",
   "name": "python",
   "nbconvert_exporter": "python",
   "pygments_lexer": "ipython3",
   "version": "3.8.3"
  }
 },
 "nbformat": 4,
 "nbformat_minor": 5
}
