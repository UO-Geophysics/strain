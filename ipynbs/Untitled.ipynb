{
 "cells": [
  {
   "cell_type": "code",
   "execution_count": 2,
   "id": "f906a9d6-2fe0-4cfa-9362-59a85cd6feeb",
   "metadata": {},
   "outputs": [],
   "source": [
    "import numpy as np\n",
    "import matplotlib.pyplot as plt\n",
    "from obspy.core import read, Stream, UTCDateTime\n",
    "\n"
   ]
  },
  {
   "cell_type": "code",
   "execution_count": 3,
   "id": "8f87e224-71a4-45af-bcf0-89a7d8d0104d",
   "metadata": {},
   "outputs": [],
   "source": [
    "path_to_files = '/Users/sydneydybing/StrainProject/2024/'\n",
    "strain_waves = read(path_to_files + 'strain_data/trimmed/2023-04-13_M6/B003.mseed')\n"
   ]
  },
  {
   "cell_type": "code",
   "execution_count": 4,
   "id": "a41b7c0d-def2-4832-a98a-1c11f76d4797",
   "metadata": {},
   "outputs": [
    {
     "data": {
      "text/plain": [
       "         network: PB\n",
       "         station: B003\n",
       "        location: T0\n",
       "         channel: tBS\n",
       "       starttime: 2023-04-13T15:55:36.600000Z\n",
       "         endtime: 2023-04-13T15:57:36.600000Z\n",
       "   sampling_rate: 20.0\n",
       "           delta: 0.05\n",
       "            npts: 2401\n",
       "           calib: 1.0\n",
       "         _format: MSEED\n",
       "           mseed: AttribDict({'dataquality': 'M', 'number_of_records': 43, 'encoding': 'FLOAT64', 'byteorder': '>', 'record_length': 512, 'filesize': 22016})"
      ]
     },
     "execution_count": 4,
     "metadata": {},
     "output_type": "execute_result"
    }
   ],
   "source": [
    "strain_waves[0].stats"
   ]
  },
  {
   "cell_type": "code",
   "execution_count": null,
   "id": "af1a7765-014b-4124-832e-05d261c6f452",
   "metadata": {},
   "outputs": [],
   "source": []
  }
 ],
 "metadata": {
  "kernelspec": {
   "display_name": "Python 3 (ipykernel)",
   "language": "python",
   "name": "python3"
  },
  "language_info": {
   "codemirror_mode": {
    "name": "ipython",
    "version": 3
   },
   "file_extension": ".py",
   "mimetype": "text/x-python",
   "name": "python",
   "nbconvert_exporter": "python",
   "pygments_lexer": "ipython3",
   "version": "3.8.3"
  }
 },
 "nbformat": 4,
 "nbformat_minor": 5
}
